{
  "nbformat": 4,
  "nbformat_minor": 0,
  "metadata": {
    "colab": {
      "provenance": []
    },
    "kernelspec": {
      "name": "python3",
      "display_name": "Python 3"
    },
    "language_info": {
      "name": "python"
    }
  },
  "cells": [
    {
      "cell_type": "markdown",
      "source": [
        "<center>\n",
        "<h1> INFB6073 - Machine Learning :: Actividad en clase 1 </h1>\n",
        "<h2> Depto. de Informática y Computación || Primer semestre 2023 </h2>\n",
        "</center>\n",
        "<br>"
      ],
      "metadata": {
        "id": "NDE18HlCg8Mi"
      }
    },
    {
      "cell_type": "markdown",
      "source": [
        "# Problema"
      ],
      "metadata": {
        "id": "XMpdMkPAwU7T"
      }
    },
    {
      "cell_type": "markdown",
      "source": [
        "Utilice la base de datos weather.csv para generar un modelo de regresión lineal para los casos mencionados abajo. En cada caso debe realizar las siguientes etapas\n",
        "\n",
        ">1. Utilice validación cruzada de 5 fold.\n",
        ">1. Obtenga el modelo desde la metodología de regresión teórica.\n",
        ">1. Obtenga el modelo desde la metodología de regresión desde sklearn.\n",
        " >1. Cree combinaciones de variables para mejorar su predicción.\n",
        "\n",
        "Los casos a analizar son:\n",
        "\n",
        "\n",
        "<center>\n",
        "<table width=\"50%\">\n",
        "  <tr>\n",
        "    <th scope=\"row\"> </th>\n",
        "    <th><font size=\"3\">Inputs</th>\n",
        "    <th><font size=\"3\">Output</th>\n",
        "  </tr>\n",
        "  <tr>\n",
        "    <td><strong> <font size=\"4\">Caso 1 </strong>  </td>\n",
        "    <td>MinTemp</td>\n",
        "    <td>MaxTem</td>\n",
        "  </tr>\n",
        "  <tr>\n",
        "    <td><strong> <font size=\"4\">Caso 2 </strong> </td>\n",
        "    <td>Rainfall<br> Evaporation<br>Pressure9am<br>Pressure3pm<br>Sunshine</td>\n",
        "    <td>MaxTem</td>\n",
        "  </tr>\n",
        "</table>\n",
        "</center>\n",
        "\n",
        "---"
      ],
      "metadata": {
        "id": "Hu9JT6gWwUvG"
      }
    },
    {
      "cell_type": "markdown",
      "source": [
        "# <center><font color='red'><strong>Solución y Explicación</strong></font></center>\n"
      ],
      "metadata": {
        "id": "crGpkP78k4Zf"
      }
    },
    {
      "cell_type": "markdown",
      "source": [
        "## Cargar librerías"
      ],
      "metadata": {
        "id": "5jF8SVPC9hcT"
      }
    },
    {
      "cell_type": "code",
      "execution_count": 4,
      "metadata": {
        "id": "YjDGqzWNKIqV"
      },
      "outputs": [],
      "source": [
        "import pandas as pd\n",
        "import io\n",
        "import numpy as np"
      ]
    },
    {
      "cell_type": "markdown",
      "source": [
        "## Cargar base de datos\n",
        "El archivo de datos se sube a colab con las librería ''files''. Luego se extraen los datos y se cargan en el entorno mediante la librería pandas."
      ],
      "metadata": {
        "id": "acQj6luX90Mo"
      }
    },
    {
      "cell_type": "code",
      "source": [
        "# decargar datos desde https://utem.instructure.com/courses/8437/files/179741?wrap=1\n",
        "\n",
        "from google.colab import files\n",
        "uploaded = files.upload()\n",
        "\n",
        "if list(uploaded.keys())[0].split('.')[-1] in ['csv','txt']: data = pd.read_csv(io.StringIO(uploaded['weather.csv'].decode(\"utf-8\")))\n",
        "else : print('data read problem')\n",
        "\n",
        "data"
      ],
      "metadata": {
        "id": "cHouYoLFLoxg",
        "colab": {
          "base_uri": "https://localhost:8080/",
          "height": 545
        },
        "outputId": "aa0d43a6-df0e-4aaf-984f-083a91d2b7b1"
      },
      "execution_count": 6,
      "outputs": [
        {
          "output_type": "display_data",
          "data": {
            "text/plain": [
              "<IPython.core.display.HTML object>"
            ],
            "text/html": [
              "\n",
              "     <input type=\"file\" id=\"files-d42a1af0-d017-4d2e-886e-395a5b6a3439\" name=\"files[]\" multiple disabled\n",
              "        style=\"border:none\" />\n",
              "     <output id=\"result-d42a1af0-d017-4d2e-886e-395a5b6a3439\">\n",
              "      Upload widget is only available when the cell has been executed in the\n",
              "      current browser session. Please rerun this cell to enable.\n",
              "      </output>\n",
              "      <script>// Copyright 2017 Google LLC\n",
              "//\n",
              "// Licensed under the Apache License, Version 2.0 (the \"License\");\n",
              "// you may not use this file except in compliance with the License.\n",
              "// You may obtain a copy of the License at\n",
              "//\n",
              "//      http://www.apache.org/licenses/LICENSE-2.0\n",
              "//\n",
              "// Unless required by applicable law or agreed to in writing, software\n",
              "// distributed under the License is distributed on an \"AS IS\" BASIS,\n",
              "// WITHOUT WARRANTIES OR CONDITIONS OF ANY KIND, either express or implied.\n",
              "// See the License for the specific language governing permissions and\n",
              "// limitations under the License.\n",
              "\n",
              "/**\n",
              " * @fileoverview Helpers for google.colab Python module.\n",
              " */\n",
              "(function(scope) {\n",
              "function span(text, styleAttributes = {}) {\n",
              "  const element = document.createElement('span');\n",
              "  element.textContent = text;\n",
              "  for (const key of Object.keys(styleAttributes)) {\n",
              "    element.style[key] = styleAttributes[key];\n",
              "  }\n",
              "  return element;\n",
              "}\n",
              "\n",
              "// Max number of bytes which will be uploaded at a time.\n",
              "const MAX_PAYLOAD_SIZE = 100 * 1024;\n",
              "\n",
              "function _uploadFiles(inputId, outputId) {\n",
              "  const steps = uploadFilesStep(inputId, outputId);\n",
              "  const outputElement = document.getElementById(outputId);\n",
              "  // Cache steps on the outputElement to make it available for the next call\n",
              "  // to uploadFilesContinue from Python.\n",
              "  outputElement.steps = steps;\n",
              "\n",
              "  return _uploadFilesContinue(outputId);\n",
              "}\n",
              "\n",
              "// This is roughly an async generator (not supported in the browser yet),\n",
              "// where there are multiple asynchronous steps and the Python side is going\n",
              "// to poll for completion of each step.\n",
              "// This uses a Promise to block the python side on completion of each step,\n",
              "// then passes the result of the previous step as the input to the next step.\n",
              "function _uploadFilesContinue(outputId) {\n",
              "  const outputElement = document.getElementById(outputId);\n",
              "  const steps = outputElement.steps;\n",
              "\n",
              "  const next = steps.next(outputElement.lastPromiseValue);\n",
              "  return Promise.resolve(next.value.promise).then((value) => {\n",
              "    // Cache the last promise value to make it available to the next\n",
              "    // step of the generator.\n",
              "    outputElement.lastPromiseValue = value;\n",
              "    return next.value.response;\n",
              "  });\n",
              "}\n",
              "\n",
              "/**\n",
              " * Generator function which is called between each async step of the upload\n",
              " * process.\n",
              " * @param {string} inputId Element ID of the input file picker element.\n",
              " * @param {string} outputId Element ID of the output display.\n",
              " * @return {!Iterable<!Object>} Iterable of next steps.\n",
              " */\n",
              "function* uploadFilesStep(inputId, outputId) {\n",
              "  const inputElement = document.getElementById(inputId);\n",
              "  inputElement.disabled = false;\n",
              "\n",
              "  const outputElement = document.getElementById(outputId);\n",
              "  outputElement.innerHTML = '';\n",
              "\n",
              "  const pickedPromise = new Promise((resolve) => {\n",
              "    inputElement.addEventListener('change', (e) => {\n",
              "      resolve(e.target.files);\n",
              "    });\n",
              "  });\n",
              "\n",
              "  const cancel = document.createElement('button');\n",
              "  inputElement.parentElement.appendChild(cancel);\n",
              "  cancel.textContent = 'Cancel upload';\n",
              "  const cancelPromise = new Promise((resolve) => {\n",
              "    cancel.onclick = () => {\n",
              "      resolve(null);\n",
              "    };\n",
              "  });\n",
              "\n",
              "  // Wait for the user to pick the files.\n",
              "  const files = yield {\n",
              "    promise: Promise.race([pickedPromise, cancelPromise]),\n",
              "    response: {\n",
              "      action: 'starting',\n",
              "    }\n",
              "  };\n",
              "\n",
              "  cancel.remove();\n",
              "\n",
              "  // Disable the input element since further picks are not allowed.\n",
              "  inputElement.disabled = true;\n",
              "\n",
              "  if (!files) {\n",
              "    return {\n",
              "      response: {\n",
              "        action: 'complete',\n",
              "      }\n",
              "    };\n",
              "  }\n",
              "\n",
              "  for (const file of files) {\n",
              "    const li = document.createElement('li');\n",
              "    li.append(span(file.name, {fontWeight: 'bold'}));\n",
              "    li.append(span(\n",
              "        `(${file.type || 'n/a'}) - ${file.size} bytes, ` +\n",
              "        `last modified: ${\n",
              "            file.lastModifiedDate ? file.lastModifiedDate.toLocaleDateString() :\n",
              "                                    'n/a'} - `));\n",
              "    const percent = span('0% done');\n",
              "    li.appendChild(percent);\n",
              "\n",
              "    outputElement.appendChild(li);\n",
              "\n",
              "    const fileDataPromise = new Promise((resolve) => {\n",
              "      const reader = new FileReader();\n",
              "      reader.onload = (e) => {\n",
              "        resolve(e.target.result);\n",
              "      };\n",
              "      reader.readAsArrayBuffer(file);\n",
              "    });\n",
              "    // Wait for the data to be ready.\n",
              "    let fileData = yield {\n",
              "      promise: fileDataPromise,\n",
              "      response: {\n",
              "        action: 'continue',\n",
              "      }\n",
              "    };\n",
              "\n",
              "    // Use a chunked sending to avoid message size limits. See b/62115660.\n",
              "    let position = 0;\n",
              "    do {\n",
              "      const length = Math.min(fileData.byteLength - position, MAX_PAYLOAD_SIZE);\n",
              "      const chunk = new Uint8Array(fileData, position, length);\n",
              "      position += length;\n",
              "\n",
              "      const base64 = btoa(String.fromCharCode.apply(null, chunk));\n",
              "      yield {\n",
              "        response: {\n",
              "          action: 'append',\n",
              "          file: file.name,\n",
              "          data: base64,\n",
              "        },\n",
              "      };\n",
              "\n",
              "      let percentDone = fileData.byteLength === 0 ?\n",
              "          100 :\n",
              "          Math.round((position / fileData.byteLength) * 100);\n",
              "      percent.textContent = `${percentDone}% done`;\n",
              "\n",
              "    } while (position < fileData.byteLength);\n",
              "  }\n",
              "\n",
              "  // All done.\n",
              "  yield {\n",
              "    response: {\n",
              "      action: 'complete',\n",
              "    }\n",
              "  };\n",
              "}\n",
              "\n",
              "scope.google = scope.google || {};\n",
              "scope.google.colab = scope.google.colab || {};\n",
              "scope.google.colab._files = {\n",
              "  _uploadFiles,\n",
              "  _uploadFilesContinue,\n",
              "};\n",
              "})(self);\n",
              "</script> "
            ]
          },
          "metadata": {}
        },
        {
          "output_type": "stream",
          "name": "stdout",
          "text": [
            "Saving weather.csv to weather.csv\n"
          ]
        },
        {
          "output_type": "execute_result",
          "data": {
            "text/plain": [
              "     MinTemp  MaxTemp  Rainfall  Evaporation  Sunshine WindGustDir  \\\n",
              "0        8.0     24.3       0.0          3.4       6.3          NW   \n",
              "1       14.0     26.9       3.6          4.4       9.7         ENE   \n",
              "2       13.7     23.4       3.6          5.8       3.3          NW   \n",
              "3       13.3     15.5      39.8          7.2       9.1          NW   \n",
              "4        7.6     16.1       2.8          5.6      10.6         SSE   \n",
              "..       ...      ...       ...          ...       ...         ...   \n",
              "361      9.0     30.7       0.0          7.6      12.1         NNW   \n",
              "362      7.1     28.4       0.0         11.6      12.7           N   \n",
              "363     12.5     19.9       0.0          8.4       5.3         ESE   \n",
              "364     12.5     26.9       0.0          5.0       7.1          NW   \n",
              "365     12.3     30.2       0.0          6.0      12.6          NW   \n",
              "\n",
              "     WindGustSpeed WindDir9am WindDir3pm  WindSpeed9am  ...  Humidity3pm  \\\n",
              "0             30.0         SW         NW           6.0  ...           29   \n",
              "1             39.0          E          W           4.0  ...           36   \n",
              "2             85.0          N        NNE           6.0  ...           69   \n",
              "3             54.0        WNW          W          30.0  ...           56   \n",
              "4             50.0        SSE        ESE          20.0  ...           49   \n",
              "..             ...        ...        ...           ...  ...          ...   \n",
              "361           76.0        SSE         NW           7.0  ...           15   \n",
              "362           48.0        NNW        NNW           2.0  ...           22   \n",
              "363           43.0        ENE        ENE          11.0  ...           47   \n",
              "364           46.0        SSW        WNW           6.0  ...           39   \n",
              "365           78.0         NW        WNW          31.0  ...           13   \n",
              "\n",
              "     Pressure9am  Pressure3pm  Cloud9am  Cloud3pm  Temp9am  Temp3pm  \\\n",
              "0         1019.7       1015.0         7         7     14.4     23.6   \n",
              "1         1012.4       1008.4         5         3     17.5     25.7   \n",
              "2         1009.5       1007.2         8         7     15.4     20.2   \n",
              "3         1005.5       1007.0         2         7     13.5     14.1   \n",
              "4         1018.3       1018.5         7         7     11.1     15.4   \n",
              "..           ...          ...       ...       ...      ...      ...   \n",
              "361       1016.1       1010.8         1         3     20.4     30.0   \n",
              "362       1020.0       1016.9         0         1     17.2     28.2   \n",
              "363       1024.0       1022.8         3         2     14.5     18.3   \n",
              "364       1021.0       1016.2         6         7     15.8     25.9   \n",
              "365       1009.6       1009.2         1         1     23.8     28.6   \n",
              "\n",
              "     RainToday  RISK_MM RainTomorrow  \n",
              "0           No      3.6          Yes  \n",
              "1          Yes      3.6          Yes  \n",
              "2          Yes     39.8          Yes  \n",
              "3          Yes      2.8          Yes  \n",
              "4          Yes      0.0           No  \n",
              "..         ...      ...          ...  \n",
              "361         No      0.0           No  \n",
              "362         No      0.0           No  \n",
              "363         No      0.0           No  \n",
              "364         No      0.0           No  \n",
              "365         No      0.0           No  \n",
              "\n",
              "[366 rows x 22 columns]"
            ],
            "text/html": [
              "\n",
              "  <div id=\"df-8128e932-a81d-41be-a0bc-a3e9bc7460dc\">\n",
              "    <div class=\"colab-df-container\">\n",
              "      <div>\n",
              "<style scoped>\n",
              "    .dataframe tbody tr th:only-of-type {\n",
              "        vertical-align: middle;\n",
              "    }\n",
              "\n",
              "    .dataframe tbody tr th {\n",
              "        vertical-align: top;\n",
              "    }\n",
              "\n",
              "    .dataframe thead th {\n",
              "        text-align: right;\n",
              "    }\n",
              "</style>\n",
              "<table border=\"1\" class=\"dataframe\">\n",
              "  <thead>\n",
              "    <tr style=\"text-align: right;\">\n",
              "      <th></th>\n",
              "      <th>MinTemp</th>\n",
              "      <th>MaxTemp</th>\n",
              "      <th>Rainfall</th>\n",
              "      <th>Evaporation</th>\n",
              "      <th>Sunshine</th>\n",
              "      <th>WindGustDir</th>\n",
              "      <th>WindGustSpeed</th>\n",
              "      <th>WindDir9am</th>\n",
              "      <th>WindDir3pm</th>\n",
              "      <th>WindSpeed9am</th>\n",
              "      <th>...</th>\n",
              "      <th>Humidity3pm</th>\n",
              "      <th>Pressure9am</th>\n",
              "      <th>Pressure3pm</th>\n",
              "      <th>Cloud9am</th>\n",
              "      <th>Cloud3pm</th>\n",
              "      <th>Temp9am</th>\n",
              "      <th>Temp3pm</th>\n",
              "      <th>RainToday</th>\n",
              "      <th>RISK_MM</th>\n",
              "      <th>RainTomorrow</th>\n",
              "    </tr>\n",
              "  </thead>\n",
              "  <tbody>\n",
              "    <tr>\n",
              "      <th>0</th>\n",
              "      <td>8.0</td>\n",
              "      <td>24.3</td>\n",
              "      <td>0.0</td>\n",
              "      <td>3.4</td>\n",
              "      <td>6.3</td>\n",
              "      <td>NW</td>\n",
              "      <td>30.0</td>\n",
              "      <td>SW</td>\n",
              "      <td>NW</td>\n",
              "      <td>6.0</td>\n",
              "      <td>...</td>\n",
              "      <td>29</td>\n",
              "      <td>1019.7</td>\n",
              "      <td>1015.0</td>\n",
              "      <td>7</td>\n",
              "      <td>7</td>\n",
              "      <td>14.4</td>\n",
              "      <td>23.6</td>\n",
              "      <td>No</td>\n",
              "      <td>3.6</td>\n",
              "      <td>Yes</td>\n",
              "    </tr>\n",
              "    <tr>\n",
              "      <th>1</th>\n",
              "      <td>14.0</td>\n",
              "      <td>26.9</td>\n",
              "      <td>3.6</td>\n",
              "      <td>4.4</td>\n",
              "      <td>9.7</td>\n",
              "      <td>ENE</td>\n",
              "      <td>39.0</td>\n",
              "      <td>E</td>\n",
              "      <td>W</td>\n",
              "      <td>4.0</td>\n",
              "      <td>...</td>\n",
              "      <td>36</td>\n",
              "      <td>1012.4</td>\n",
              "      <td>1008.4</td>\n",
              "      <td>5</td>\n",
              "      <td>3</td>\n",
              "      <td>17.5</td>\n",
              "      <td>25.7</td>\n",
              "      <td>Yes</td>\n",
              "      <td>3.6</td>\n",
              "      <td>Yes</td>\n",
              "    </tr>\n",
              "    <tr>\n",
              "      <th>2</th>\n",
              "      <td>13.7</td>\n",
              "      <td>23.4</td>\n",
              "      <td>3.6</td>\n",
              "      <td>5.8</td>\n",
              "      <td>3.3</td>\n",
              "      <td>NW</td>\n",
              "      <td>85.0</td>\n",
              "      <td>N</td>\n",
              "      <td>NNE</td>\n",
              "      <td>6.0</td>\n",
              "      <td>...</td>\n",
              "      <td>69</td>\n",
              "      <td>1009.5</td>\n",
              "      <td>1007.2</td>\n",
              "      <td>8</td>\n",
              "      <td>7</td>\n",
              "      <td>15.4</td>\n",
              "      <td>20.2</td>\n",
              "      <td>Yes</td>\n",
              "      <td>39.8</td>\n",
              "      <td>Yes</td>\n",
              "    </tr>\n",
              "    <tr>\n",
              "      <th>3</th>\n",
              "      <td>13.3</td>\n",
              "      <td>15.5</td>\n",
              "      <td>39.8</td>\n",
              "      <td>7.2</td>\n",
              "      <td>9.1</td>\n",
              "      <td>NW</td>\n",
              "      <td>54.0</td>\n",
              "      <td>WNW</td>\n",
              "      <td>W</td>\n",
              "      <td>30.0</td>\n",
              "      <td>...</td>\n",
              "      <td>56</td>\n",
              "      <td>1005.5</td>\n",
              "      <td>1007.0</td>\n",
              "      <td>2</td>\n",
              "      <td>7</td>\n",
              "      <td>13.5</td>\n",
              "      <td>14.1</td>\n",
              "      <td>Yes</td>\n",
              "      <td>2.8</td>\n",
              "      <td>Yes</td>\n",
              "    </tr>\n",
              "    <tr>\n",
              "      <th>4</th>\n",
              "      <td>7.6</td>\n",
              "      <td>16.1</td>\n",
              "      <td>2.8</td>\n",
              "      <td>5.6</td>\n",
              "      <td>10.6</td>\n",
              "      <td>SSE</td>\n",
              "      <td>50.0</td>\n",
              "      <td>SSE</td>\n",
              "      <td>ESE</td>\n",
              "      <td>20.0</td>\n",
              "      <td>...</td>\n",
              "      <td>49</td>\n",
              "      <td>1018.3</td>\n",
              "      <td>1018.5</td>\n",
              "      <td>7</td>\n",
              "      <td>7</td>\n",
              "      <td>11.1</td>\n",
              "      <td>15.4</td>\n",
              "      <td>Yes</td>\n",
              "      <td>0.0</td>\n",
              "      <td>No</td>\n",
              "    </tr>\n",
              "    <tr>\n",
              "      <th>...</th>\n",
              "      <td>...</td>\n",
              "      <td>...</td>\n",
              "      <td>...</td>\n",
              "      <td>...</td>\n",
              "      <td>...</td>\n",
              "      <td>...</td>\n",
              "      <td>...</td>\n",
              "      <td>...</td>\n",
              "      <td>...</td>\n",
              "      <td>...</td>\n",
              "      <td>...</td>\n",
              "      <td>...</td>\n",
              "      <td>...</td>\n",
              "      <td>...</td>\n",
              "      <td>...</td>\n",
              "      <td>...</td>\n",
              "      <td>...</td>\n",
              "      <td>...</td>\n",
              "      <td>...</td>\n",
              "      <td>...</td>\n",
              "      <td>...</td>\n",
              "    </tr>\n",
              "    <tr>\n",
              "      <th>361</th>\n",
              "      <td>9.0</td>\n",
              "      <td>30.7</td>\n",
              "      <td>0.0</td>\n",
              "      <td>7.6</td>\n",
              "      <td>12.1</td>\n",
              "      <td>NNW</td>\n",
              "      <td>76.0</td>\n",
              "      <td>SSE</td>\n",
              "      <td>NW</td>\n",
              "      <td>7.0</td>\n",
              "      <td>...</td>\n",
              "      <td>15</td>\n",
              "      <td>1016.1</td>\n",
              "      <td>1010.8</td>\n",
              "      <td>1</td>\n",
              "      <td>3</td>\n",
              "      <td>20.4</td>\n",
              "      <td>30.0</td>\n",
              "      <td>No</td>\n",
              "      <td>0.0</td>\n",
              "      <td>No</td>\n",
              "    </tr>\n",
              "    <tr>\n",
              "      <th>362</th>\n",
              "      <td>7.1</td>\n",
              "      <td>28.4</td>\n",
              "      <td>0.0</td>\n",
              "      <td>11.6</td>\n",
              "      <td>12.7</td>\n",
              "      <td>N</td>\n",
              "      <td>48.0</td>\n",
              "      <td>NNW</td>\n",
              "      <td>NNW</td>\n",
              "      <td>2.0</td>\n",
              "      <td>...</td>\n",
              "      <td>22</td>\n",
              "      <td>1020.0</td>\n",
              "      <td>1016.9</td>\n",
              "      <td>0</td>\n",
              "      <td>1</td>\n",
              "      <td>17.2</td>\n",
              "      <td>28.2</td>\n",
              "      <td>No</td>\n",
              "      <td>0.0</td>\n",
              "      <td>No</td>\n",
              "    </tr>\n",
              "    <tr>\n",
              "      <th>363</th>\n",
              "      <td>12.5</td>\n",
              "      <td>19.9</td>\n",
              "      <td>0.0</td>\n",
              "      <td>8.4</td>\n",
              "      <td>5.3</td>\n",
              "      <td>ESE</td>\n",
              "      <td>43.0</td>\n",
              "      <td>ENE</td>\n",
              "      <td>ENE</td>\n",
              "      <td>11.0</td>\n",
              "      <td>...</td>\n",
              "      <td>47</td>\n",
              "      <td>1024.0</td>\n",
              "      <td>1022.8</td>\n",
              "      <td>3</td>\n",
              "      <td>2</td>\n",
              "      <td>14.5</td>\n",
              "      <td>18.3</td>\n",
              "      <td>No</td>\n",
              "      <td>0.0</td>\n",
              "      <td>No</td>\n",
              "    </tr>\n",
              "    <tr>\n",
              "      <th>364</th>\n",
              "      <td>12.5</td>\n",
              "      <td>26.9</td>\n",
              "      <td>0.0</td>\n",
              "      <td>5.0</td>\n",
              "      <td>7.1</td>\n",
              "      <td>NW</td>\n",
              "      <td>46.0</td>\n",
              "      <td>SSW</td>\n",
              "      <td>WNW</td>\n",
              "      <td>6.0</td>\n",
              "      <td>...</td>\n",
              "      <td>39</td>\n",
              "      <td>1021.0</td>\n",
              "      <td>1016.2</td>\n",
              "      <td>6</td>\n",
              "      <td>7</td>\n",
              "      <td>15.8</td>\n",
              "      <td>25.9</td>\n",
              "      <td>No</td>\n",
              "      <td>0.0</td>\n",
              "      <td>No</td>\n",
              "    </tr>\n",
              "    <tr>\n",
              "      <th>365</th>\n",
              "      <td>12.3</td>\n",
              "      <td>30.2</td>\n",
              "      <td>0.0</td>\n",
              "      <td>6.0</td>\n",
              "      <td>12.6</td>\n",
              "      <td>NW</td>\n",
              "      <td>78.0</td>\n",
              "      <td>NW</td>\n",
              "      <td>WNW</td>\n",
              "      <td>31.0</td>\n",
              "      <td>...</td>\n",
              "      <td>13</td>\n",
              "      <td>1009.6</td>\n",
              "      <td>1009.2</td>\n",
              "      <td>1</td>\n",
              "      <td>1</td>\n",
              "      <td>23.8</td>\n",
              "      <td>28.6</td>\n",
              "      <td>No</td>\n",
              "      <td>0.0</td>\n",
              "      <td>No</td>\n",
              "    </tr>\n",
              "  </tbody>\n",
              "</table>\n",
              "<p>366 rows × 22 columns</p>\n",
              "</div>\n",
              "      <button class=\"colab-df-convert\" onclick=\"convertToInteractive('df-8128e932-a81d-41be-a0bc-a3e9bc7460dc')\"\n",
              "              title=\"Convert this dataframe to an interactive table.\"\n",
              "              style=\"display:none;\">\n",
              "        \n",
              "  <svg xmlns=\"http://www.w3.org/2000/svg\" height=\"24px\"viewBox=\"0 0 24 24\"\n",
              "       width=\"24px\">\n",
              "    <path d=\"M0 0h24v24H0V0z\" fill=\"none\"/>\n",
              "    <path d=\"M18.56 5.44l.94 2.06.94-2.06 2.06-.94-2.06-.94-.94-2.06-.94 2.06-2.06.94zm-11 1L8.5 8.5l.94-2.06 2.06-.94-2.06-.94L8.5 2.5l-.94 2.06-2.06.94zm10 10l.94 2.06.94-2.06 2.06-.94-2.06-.94-.94-2.06-.94 2.06-2.06.94z\"/><path d=\"M17.41 7.96l-1.37-1.37c-.4-.4-.92-.59-1.43-.59-.52 0-1.04.2-1.43.59L10.3 9.45l-7.72 7.72c-.78.78-.78 2.05 0 2.83L4 21.41c.39.39.9.59 1.41.59.51 0 1.02-.2 1.41-.59l7.78-7.78 2.81-2.81c.8-.78.8-2.07 0-2.86zM5.41 20L4 18.59l7.72-7.72 1.47 1.35L5.41 20z\"/>\n",
              "  </svg>\n",
              "      </button>\n",
              "      \n",
              "  <style>\n",
              "    .colab-df-container {\n",
              "      display:flex;\n",
              "      flex-wrap:wrap;\n",
              "      gap: 12px;\n",
              "    }\n",
              "\n",
              "    .colab-df-convert {\n",
              "      background-color: #E8F0FE;\n",
              "      border: none;\n",
              "      border-radius: 50%;\n",
              "      cursor: pointer;\n",
              "      display: none;\n",
              "      fill: #1967D2;\n",
              "      height: 32px;\n",
              "      padding: 0 0 0 0;\n",
              "      width: 32px;\n",
              "    }\n",
              "\n",
              "    .colab-df-convert:hover {\n",
              "      background-color: #E2EBFA;\n",
              "      box-shadow: 0px 1px 2px rgba(60, 64, 67, 0.3), 0px 1px 3px 1px rgba(60, 64, 67, 0.15);\n",
              "      fill: #174EA6;\n",
              "    }\n",
              "\n",
              "    [theme=dark] .colab-df-convert {\n",
              "      background-color: #3B4455;\n",
              "      fill: #D2E3FC;\n",
              "    }\n",
              "\n",
              "    [theme=dark] .colab-df-convert:hover {\n",
              "      background-color: #434B5C;\n",
              "      box-shadow: 0px 1px 3px 1px rgba(0, 0, 0, 0.15);\n",
              "      filter: drop-shadow(0px 1px 2px rgba(0, 0, 0, 0.3));\n",
              "      fill: #FFFFFF;\n",
              "    }\n",
              "  </style>\n",
              "\n",
              "      <script>\n",
              "        const buttonEl =\n",
              "          document.querySelector('#df-8128e932-a81d-41be-a0bc-a3e9bc7460dc button.colab-df-convert');\n",
              "        buttonEl.style.display =\n",
              "          google.colab.kernel.accessAllowed ? 'block' : 'none';\n",
              "\n",
              "        async function convertToInteractive(key) {\n",
              "          const element = document.querySelector('#df-8128e932-a81d-41be-a0bc-a3e9bc7460dc');\n",
              "          const dataTable =\n",
              "            await google.colab.kernel.invokeFunction('convertToInteractive',\n",
              "                                                     [key], {});\n",
              "          if (!dataTable) return;\n",
              "\n",
              "          const docLinkHtml = 'Like what you see? Visit the ' +\n",
              "            '<a target=\"_blank\" href=https://colab.research.google.com/notebooks/data_table.ipynb>data table notebook</a>'\n",
              "            + ' to learn more about interactive tables.';\n",
              "          element.innerHTML = '';\n",
              "          dataTable['output_type'] = 'display_data';\n",
              "          await google.colab.output.renderOutput(dataTable, element);\n",
              "          const docLink = document.createElement('div');\n",
              "          docLink.innerHTML = docLinkHtml;\n",
              "          element.appendChild(docLink);\n",
              "        }\n",
              "      </script>\n",
              "    </div>\n",
              "  </div>\n",
              "  "
            ]
          },
          "metadata": {},
          "execution_count": 6
        }
      ]
    },
    {
      "cell_type": "markdown",
      "source": [
        "# Repaso de contenidos"
      ],
      "metadata": {
        "id": "1Xja7kgxv22Z"
      }
    },
    {
      "cell_type": "markdown",
      "source": [
        "## Modelo de regresión teórico\n",
        "\n",
        "Un modelo de regresión posee la siguiente forma:\n",
        "$$ y = \\theta_{0} + \\theta_{1}x_{1} + \\theta_{2}x_{2} + \\cdots$$\n",
        "donde $\\theta_i,\\ i=\\{0,1,\\cdots\\}$ son los coeficientes que debemos buscar, y $x_{i},\\ i=\\{1,2,\\cdots\\}$ son las variables de nuestro problema. \n",
        "\n",
        "><mark><font color='green' face = \"Lucida Console\"><strong>NOTA</strong><br>Recuerde que $\\theta_{0}$ esta multiplicada por la variable $x_0$ que es $1$</font></mark> \n",
        "\n",
        "Primero es necesario ordenar los datos en matrices de entrada ($X$) de **n** muestras/filas y **m** variables/columnas y salida ($Y$) de **n** muestras/filas y **1** variable/columna. En el caso de las entradas, debemos incluir un vector columnas de 1's para estimar el término de bias/intersección, es decir\n",
        "\n",
        "`X = np.concatenate((np.ones(shape=X.shape[0],1), X), axis=1)`\n",
        "\n",
        "\n"
      ],
      "metadata": {
        "id": "EqeTRUZB9fF4"
      }
    },
    {
      "cell_type": "code",
      "source": [
        "n = data.shape[0] # Número de datos\n",
        "input_variable_name = ['MinTemp']\n",
        "output_variable_name = ['MaxTemp']\n",
        "X = np.c_[np.ones(shape=(n,1)), data[input_variable_name].values]\n",
        "Y = data[output_variable_name].values"
      ],
      "metadata": {
        "id": "5TjqkrHdNhj7"
      },
      "execution_count": 7,
      "outputs": []
    },
    {
      "cell_type": "markdown",
      "source": [
        "Considerando que tenemos los datos en matrices, para obtener el modelo de regresión debemos ordenar matricialmente la ecuación anterior como:\n",
        "\n",
        "\\begin{align*}\n",
        "y & =\\theta_{0}+\\theta_{1}x_{1}+\\theta_{2}x_{2}+\\cdots\\\\\n",
        "y & =\\left[1,x_{1},x_{2},\\cdots\\right]\\left[\\begin{array}{c}\n",
        "\\theta_{0}\\\\\n",
        "\\theta_{1}\\\\\n",
        "\\theta_{2}\\\\\n",
        "\\cdots\n",
        "\\end{array}\\right]\\\\\n",
        "Y & =X\\Theta\n",
        "\\end{align*}\n",
        "\n",
        "y para despejar $\\Theta$ de la ecuación anterior debemos realizar los siguientes pasos\n",
        "\n",
        "\\begin{align*}\n",
        "Y & =X\\Theta & \\longrightarrow & &\\text{Multiplicar $X^{T}$ por la izquierda}\\\\\n",
        "X^{T}Y & =X^{T}X\\Theta & \\longrightarrow & &\\text{Multiplicar el inverso de $X^{T}X$ por la izquierda}\\\\\n",
        "\\left(X^{T}X\\right)^{-1}\\left(X^{T}Y\\right) & =\\left(X^{T}X\\right)^{-1}\\left(X^{T}X\\right)\\Theta & \\longrightarrow & &\\text{La multiplicación de $X^{T}X$ y su inverso genera la matriz identidad $I$}\\\\\n",
        "\\left(X^{T}X\\right)^{-1}\\left(X^{T}Y\\right) & =I\\Theta & \\longrightarrow & &\\text{Resultado Final. Despejamos $\\Theta$}\n",
        "\\end{align*}\n",
        "\n",
        "Corroborando las dimensiones de las matrices de cada uno de los pasos anteriores tenemos:\n",
        "\n",
        "\\begin{align*}\n",
        "[n\\times1] & =[n\\times m][m\\times1]\\\\{}\n",
        "[m\\times n][n\\times1] & =[m\\times n][n\\times m][m\\times1]\\\\\n",
        "\\left([m\\times n][n\\times m]\\right)\\left([m\\times n][n\\times1]\\right) & =\\left([m\\times n][n\\times m]\\right)\\left([m\\times n][n\\times m]\\right)[m\\times1]\\\\\n",
        "\\left([m\\times m]\\right)\\left([m\\times1]\\right) & =[m\\times m][m\\times1]\n",
        "\\end{align*}\n"
      ],
      "metadata": {
        "id": "br4nMDVyPU3W"
      }
    },
    {
      "cell_type": "code",
      "source": [
        "theta_theoretical = np.linalg.inv(X.T@X) @ (X.T@Y)\n",
        "print(theta_theoretical)"
      ],
      "metadata": {
        "colab": {
          "base_uri": "https://localhost:8080/"
        },
        "id": "I0dirbSmO6hF",
        "outputId": "4d5749cd-25ea-41da-c905-6a3ec2d4b6ac"
      },
      "execution_count": 8,
      "outputs": [
        {
          "output_type": "stream",
          "name": "stdout",
          "text": [
            "[[14.48005288]\n",
            " [ 0.83547708]]\n"
          ]
        }
      ]
    },
    {
      "cell_type": "code",
      "source": [
        "text1 = 'La ecuación final de regresión es:'\n",
        "text2 = 'y_{%s} = %2.3f'%(output_variable_name[0], theta_theoretical[0])\n",
        "for i in range(1,len(theta_theoretical)):\n",
        "  text2 += ' + %2.3f X_{%s}'%(theta_theoretical[i],input_variable_name[i-1])\n",
        "print(text1,'\\n',text2)"
      ],
      "metadata": {
        "colab": {
          "base_uri": "https://localhost:8080/"
        },
        "id": "7x6JCIYm6-72",
        "outputId": "0522d9ae-2d1e-4fe6-be01-10796d33f0a8"
      },
      "execution_count": 9,
      "outputs": [
        {
          "output_type": "stream",
          "name": "stdout",
          "text": [
            "La ecuación final de regresión es: \n",
            " y_{MaxTemp} = 14.480 + 0.835 X_{MinTemp}\n"
          ]
        }
      ]
    },
    {
      "cell_type": "markdown",
      "source": [
        "Ahora creamos un muestreo regular entre los valores mínimo y máximo de la variable MinTemp para graficar el modelo obtenido.\n",
        "><mark><font color='green' face = \"Lucida Console\"><strong>NOTA</strong><br>Recuerde que una vez obtenido el muestreo regular debemos ordenar los datos como la matriz $X$, es decir [muestras $\\times$ columna] y concatenar el vector de 1's</font></mark> \n"
      ],
      "metadata": {
        "id": "Bej_TImw6g57"
      }
    },
    {
      "cell_type": "code",
      "source": [
        "Xtest = np.linspace(X[:,1].min(), X[:,1].max(), 1001).reshape(-1,1)\n",
        "Xtest = np.concatenate((np.ones(shape=(Xtest.shape[0],1)), Xtest),axis=1)"
      ],
      "metadata": {
        "id": "9gWAzQvW6gm6"
      },
      "execution_count": 10,
      "outputs": []
    },
    {
      "cell_type": "markdown",
      "source": [
        "Ahora evaluamos el modelo en el conjunto de test ($X_{test}$)\n",
        "$$ Y_{test} = X_{test} \\Theta$$"
      ],
      "metadata": {
        "id": "z8h5mFPe94Tl"
      }
    },
    {
      "cell_type": "code",
      "source": [
        "Ytest = Xtest @ theta_theoretical"
      ],
      "metadata": {
        "id": "ZexxaHVY93xQ"
      },
      "execution_count": 11,
      "outputs": []
    },
    {
      "cell_type": "markdown",
      "source": [
        "Ahora graficamos los datos originales y los datos de test."
      ],
      "metadata": {
        "id": "6w5TqI1K-fZ-"
      }
    },
    {
      "cell_type": "code",
      "source": [
        "import plotly.graph_objects as go\n",
        "text_title = '$ \\text{' + text1 + ' } \\\\' + text2 + '$'\n",
        "fig = go.Figure()\n",
        "fig.add_trace(go.Scatter(y=Y[:,0], x=X[:,1],mode='markers', name='Datos originales'))\n",
        "fig.add_trace(go.Scatter(y=Ytest[:,0], x=Xtest[:,1],mode='lines', name=r'Tendencia del modelo.<br>Datos test'))\n",
        "fig.update_layout(title=f\"{text_title!r}\", xaxis_title=input_variable_name[0], yaxis_title=output_variable_name[0])"
      ],
      "metadata": {
        "colab": {
          "base_uri": "https://localhost:8080/",
          "height": 542
        },
        "id": "npn6_O2mO24U",
        "outputId": "6b52429a-a314-4a14-972c-d59f395e34ca"
      },
      "execution_count": 12,
      "outputs": [
        {
          "output_type": "display_data",
          "data": {
            "text/html": [
              "<html>\n",
              "<head><meta charset=\"utf-8\" /></head>\n",
              "<body>\n",
              "    <div>            <script src=\"https://cdnjs.cloudflare.com/ajax/libs/mathjax/2.7.5/MathJax.js?config=TeX-AMS-MML_SVG\"></script><script type=\"text/javascript\">if (window.MathJax && window.MathJax.Hub && window.MathJax.Hub.Config) {window.MathJax.Hub.Config({SVG: {font: \"STIX-Web\"}});}</script>                <script type=\"text/javascript\">window.PlotlyConfig = {MathJaxConfig: 'local'};</script>\n",
              "        <script src=\"https://cdn.plot.ly/plotly-2.18.2.min.js\"></script>                <div id=\"c9930e4d-015d-4233-917e-e5bbb363b81c\" class=\"plotly-graph-div\" style=\"height:525px; width:100%;\"></div>            <script type=\"text/javascript\">                                    window.PLOTLYENV=window.PLOTLYENV || {};                                    if (document.getElementById(\"c9930e4d-015d-4233-917e-e5bbb363b81c\")) {                    Plotly.newPlot(                        \"c9930e4d-015d-4233-917e-e5bbb363b81c\",                        [{\"mode\":\"markers\",\"name\":\"Datos originales\",\"x\":[8.0,14.0,13.7,13.3,7.6,6.2,6.1,8.3,8.8,8.4,9.1,8.5,10.1,12.1,10.1,12.4,13.8,11.7,12.4,15.6,15.3,16.4,12.8,12.0,15.4,15.6,13.3,12.9,15.1,13.6,15.1,11.6,16.6,13.3,14.5,16.3,17.2,16.5,15.0,14.9,11.8,11.7,9.6,8.9,10.1,15.5,10.8,7.5,12.8,12.6,14.8,19.9,9.2,12.4,11.3,9.8,14.3,15.1,14.4,15.4,13.8,13.6,14.3,15.9,16.7,12.1,14.3,16.5,16.5,17.5,14.7,17.5,20.9,17.0,16.0,15.4,17.9,15.2,15.1,15.3,17.2,15.9,10.0,9.9,10.3,15.4,12.7,13.2,15.3,17.9,18.0,17.6,16.0,14.9,17.1,18.2,16.8,13.6,14.5,12.4,10.4,9.1,8.9,14.5,12.6,8.6,10.8,11.2,12.1,10.8,11.4,12.0,16.3,12.7,12.7,12.0,11.5,13.0,11.7,14.8,7.7,4.4,7.4,8.3,10.1,12.0,12.9,10.8,9.5,12.1,12.5,13.9,13.3,13.2,12.3,13.8,11.3,11.7,12.5,15.1,11.5,13.0,11.6,12.8,15.5,13.1,12.6,4.4,4.4,7.1,4.2,9.6,3.5,5.3,7.0,0.4,3.2,5.9,8.1,6.9,5.6,7.2,7.1,6.1,7.1,5.6,5.4,6.3,5.3,7.9,8.4,8.1,2.4,5.6,7.5,2.5,5.0,3.8,7.9,4.3,-2.1,-1.8,3.8,2.1,0.5,-0.9,0.4,7.5,8.3,-0.2,0.1,1.5,8.3,9.4,1.3,2.2,-0.4,4.5,7.9,4.3,-2.7,0.3,3.8,2.4,1.2,1.2,-0.3,4.7,4.9,1.4,2.2,-0.1,-0.9,0.6,4.6,9.8,10.6,7.8,4.4,-0.2,4.3,7.4,8.6,10.2,7.3,8.7,1.0,2.1,6.4,5.4,0.4,4.0,8.4,0.4,4.2,0.9,0.8,4.3,6.3,3.5,-1.5,1.2,0.5,5.3,6.6,-1.6,-3.1,-0.1,-0.6,3.0,2.9,-1.3,1.8,2.9,-2.6,0.5,2.7,-1.7,-0.9,-1.8,1.3,2.4,-1.1,2.3,-2.2,-3.5,-1.0,-2.1,-2.0,-2.3,-1.6,0.8,-2.8,-2.8,3.0,4.4,2.3,-2.0,-1.9,4.8,-0.6,3.1,-2.9,-3.5,-0.3,0.1,2.3,2.1,4.6,3.7,-1.3,-3.4,-5.3,0.0,2.4,-0.6,2.3,-3.7,-0.9,-1.5,-3.3,-0.1,-0.2,0.5,6.1,4.1,0.1,3.2,5.4,5.8,6.3,-0.9,0.2,-3.7,-2.7,-2.5,-0.5,9.0,13.1,8.7,3.9,0.7,1.1,5.1,7.5,4.7,3.2,7.8,2.4,3.2,2.5,6.5,14.4,4.9,2.3,1.4,5.6,16.8,14.4,10.3,11.2,0.3,0.5,0.5,4.6,8.2,4.5,6.7,11.9,9.2,4.4,5.0,6.7,8.3,11.3,9.0,3.4,3.2,0.9,3.3,7.9,9.0,7.1,12.5,12.5,12.3],\"y\":[24.3,26.9,23.4,15.5,16.1,16.9,18.2,17.0,19.5,22.8,25.2,27.3,27.9,30.9,31.2,32.1,31.2,30.0,32.3,33.4,33.4,19.4,18.5,24.3,28.4,26.9,22.2,28.0,24.3,24.1,20.4,26.3,24.2,26.5,21.8,26.8,25.8,28.2,29.4,24.8,18.5,21.5,20.3,27.1,29.9,21.1,21.7,20.9,21.0,23.1,29.5,22.0,20.4,24.4,21.7,26.3,26.7,28.3,31.6,35.0,33.5,34.2,35.0,23.4,25.3,27.5,34.1,33.9,30.3,29.9,34.2,35.8,35.7,33.8,22.8,33.8,33.2,25.1,20.4,19.6,24.7,19.9,22.5,24.4,27.8,25.7,28.8,31.3,33.2,33.9,34.9,27.8,23.8,28.8,29.6,22.6,22.8,27.4,24.2,19.9,20.9,23.1,26.0,24.2,18.2,24.2,25.2,26.1,24.1,25.8,27.1,28.9,24.8,28.6,25.1,23.8,25.9,28.2,27.6,17.3,18.4,21.8,24.4,27.3,28.2,27.6,31.8,29.2,27.4,27.8,31.7,34.7,31.7,33.1,33.8,35.2,32.3,30.2,29.9,26.2,29.3,14.8,19.6,24.9,22.4,17.4,20.2,18.3,18.2,18.5,18.9,18.8,21.8,23.3,14.3,18.9,21.4,21.8,20.5,18.9,19.5,22.9,23.4,24.1,19.8,18.0,20.7,19.3,21.0,19.7,16.1,18.7,20.6,18.9,19.0,21.2,20.9,21.7,18.7,11.3,13.8,14.8,13.8,17.3,17.1,16.7,19.0,16.8,17.6,18.1,21.0,20.9,17.4,19.2,19.0,18.6,17.9,16.0,12.3,14.1,18.1,17.0,17.4,14.7,14.8,14.5,17.5,18.5,18.1,16.8,17.5,18.0,18.5,14.0,15.7,14.4,15.1,15.1,16.7,15.5,14.5,16.3,13.7,15.0,16.4,13.0,11.8,14.7,16.9,15.5,15.5,15.9,11.7,13.9,14.0,12.9,13.0,12.6,11.8,14.3,14.8,16.0,15.4,11.7,13.1,11.5,12.0,14.2,14.0,11.1,9.5,8.8,8.7,8.4,11.1,11.0,16.5,13.6,12.8,11.5,10.6,11.6,11.0,11.6,11.6,11.2,12.2,12.9,11.3,9.7,10.7,12.2,12.2,14.1,9.7,11.5,12.8,12.3,10.9,14.1,11.1,12.5,9.6,7.6,9.3,10.4,12.2,10.7,14.7,14.2,11.6,12.5,13.1,14.0,14.1,12.2,11.6,14.4,14.2,17.3,15.1,14.7,16.2,16.3,17.2,14.8,16.7,12.1,11.3,12.4,16.1,16.7,15.5,14.7,15.2,16.6,21.6,25.5,19.4,19.7,13.2,14.1,18.0,23.3,23.3,19.5,21.9,16.2,17.3,18.7,20.9,25.7,24.3,18.9,16.8,20.6,27.6,28.9,20.7,21.3,18.0,16.0,17.9,20.0,22.0,22.4,23.9,26.1,21.1,19.6,21.0,24.1,24.7,28.5,27.4,20.6,15.0,18.0,20.7,25.5,26.1,30.7,28.4,19.9,26.9,30.2],\"type\":\"scatter\"},{\"mode\":\"lines\",\"name\":\"Tendencia del modelo.<br>Datos test\",\"x\":[-5.3,-5.2738,-5.2476,-5.2214,-5.1952,-5.169,-5.1428,-5.1166,-5.0904,-5.0642,-5.038,-5.0118,-4.9856,-4.9594,-4.9332,-4.907,-4.8808,-4.8546,-4.8284,-4.8022,-4.776,-4.7498,-4.7236,-4.6974,-4.6712,-4.645,-4.6188,-4.5926,-4.5664,-4.5402,-4.514,-4.4878,-4.4616,-4.4354,-4.4092,-4.383,-4.3568,-4.3306,-4.3044,-4.2782,-4.252,-4.2258,-4.1996,-4.1734,-4.1472,-4.121,-4.0948,-4.0686,-4.0424,-4.0161999999999995,-3.99,-3.9638,-3.9375999999999998,-3.9114,-3.8852,-3.859,-3.8327999999999998,-3.8066,-3.7804,-3.7542,-3.7279999999999998,-3.7018,-3.6756,-3.6494,-3.6231999999999998,-3.597,-3.5708,-3.5446,-3.5183999999999997,-3.4922,-3.466,-3.4398,-3.4135999999999997,-3.3874,-3.3612,-3.335,-3.3087999999999997,-3.2826,-3.2564,-3.2302,-3.204,-3.1778,-3.1516,-3.1254,-3.0992,-3.073,-3.0468,-3.0206,-2.9944,-2.9682,-2.942,-2.9158,-2.8896,-2.8634,-2.8372,-2.811,-2.7848,-2.7586,-2.7324,-2.7062,-2.68,-2.6538,-2.6276,-2.6014,-2.5752,-2.549,-2.5228,-2.4966,-2.4704,-2.4442,-2.418,-2.3918,-2.3656,-2.3394,-2.3132,-2.287,-2.2608,-2.2346,-2.2084,-2.1822,-2.156,-2.1298,-2.1036,-2.0774,-2.0512,-2.025,-1.9988000000000001,-1.9726,-1.9464000000000001,-1.9202000000000004,-1.8940000000000001,-1.8678000000000003,-1.8416000000000001,-1.8154000000000003,-1.7892000000000001,-1.7630000000000003,-1.7368000000000001,-1.7106000000000003,-1.6844000000000001,-1.6582000000000003,-1.6320000000000001,-1.6058000000000003,-1.5796000000000001,-1.5534000000000003,-1.5272000000000001,-1.5010000000000003,-1.4748,-1.4486000000000003,-1.4224,-1.3962000000000003,-1.37,-1.3438000000000003,-1.3176,-1.2914000000000003,-1.2652,-1.2389999999999999,-1.2128000000000005,-1.1866000000000003,-1.1604,-1.1341999999999999,-1.1080000000000005,-1.0818000000000003,-1.0556,-1.0293999999999999,-1.0032000000000005,-0.9770000000000003,-0.9508000000000001,-0.9245999999999999,-0.8984000000000005,-0.8722000000000003,-0.8460000000000001,-0.8197999999999999,-0.7936000000000005,-0.7674000000000003,-0.7412000000000001,-0.7149999999999999,-0.6888000000000005,-0.6626000000000003,-0.6364000000000001,-0.6101999999999999,-0.5840000000000005,-0.5578000000000003,-0.5316000000000001,-0.5053999999999998,-0.4792000000000005,-0.4530000000000003,-0.42680000000000007,-0.40059999999999985,-0.3744000000000005,-0.3482000000000003,-0.32200000000000006,-0.29579999999999984,-0.2696000000000005,-0.24340000000000028,-0.21720000000000006,-0.19100000000000072,-0.1648000000000005,-0.13860000000000028,-0.11240000000000006,-0.08620000000000072,-0.0600000000000005,-0.033800000000000274,-0.007600000000000051,0.018599999999999284,0.04479999999999951,0.07099999999999973,0.09719999999999995,0.12339999999999929,0.1495999999999995,0.17579999999999973,0.20199999999999996,0.2281999999999993,0.2543999999999995,0.28059999999999974,0.30679999999999996,0.3329999999999993,0.3591999999999995,0.38539999999999974,0.41159999999999997,0.4377999999999993,0.4639999999999995,0.49019999999999975,0.5164,0.5425999999999993,0.5687999999999995,0.5949999999999998,0.6212,0.6473999999999993,0.6735999999999995,0.6997999999999998,0.726,0.7521999999999993,0.7783999999999995,0.8045999999999998,0.8308,0.8569999999999993,0.8831999999999995,0.9093999999999998,0.9356,0.9617999999999993,0.9879999999999995,1.0141999999999998,1.0404,1.0665999999999993,1.0927999999999995,1.1189999999999998,1.1452,1.1713999999999993,1.1975999999999996,1.2237999999999998,1.25,1.2761999999999993,1.3023999999999996,1.3285999999999998,1.3548,1.3809999999999993,1.4071999999999996,1.4333999999999998,1.4595999999999991,1.4857999999999993,1.5119999999999996,1.5381999999999998,1.5643999999999991,1.5905999999999993,1.6167999999999996,1.6429999999999998,1.6691999999999991,1.6953999999999994,1.7215999999999996,1.7477999999999998,1.7739999999999991,1.8001999999999994,1.8263999999999996,1.8525999999999998,1.8787999999999991,1.9049999999999994,1.9311999999999996,1.9573999999999998,1.9835999999999991,2.0097999999999994,2.0359999999999996,2.0622,2.088399999999999,2.1145999999999994,2.1407999999999996,2.167,2.193199999999999,2.2193999999999994,2.2455999999999996,2.2718,2.297999999999999,2.3241999999999994,2.3503999999999996,2.3766,2.402799999999999,2.4289999999999994,2.4551999999999996,2.4814,2.507599999999999,2.5337999999999994,2.5599999999999996,2.5862,2.612399999999999,2.6385999999999994,2.6647999999999996,2.691,2.717199999999999,2.7434000000000003,2.7695999999999996,2.795799999999999,2.822,2.8481999999999994,2.8743999999999987,2.9006,2.926799999999999,2.9530000000000003,2.9791999999999996,3.005399999999999,3.0316,3.0577999999999994,3.0839999999999987,3.1102,3.136399999999999,3.1625999999999985,3.1887999999999996,3.214999999999999,3.2412,3.2673999999999994,3.2935999999999988,3.3198,3.345999999999999,3.3721999999999985,3.3983999999999996,3.424599999999999,3.4508,3.4769999999999994,3.5031999999999988,3.5294,3.555599999999999,3.5817999999999985,3.6079999999999997,3.634199999999999,3.6604,3.6865999999999994,3.7127999999999988,3.739,3.765199999999999,3.7913999999999985,3.8175999999999997,3.843799999999999,3.87,3.8961999999999994,3.9223999999999988,3.9486,3.9747999999999992,4.000999999999999,4.0272,4.053399999999999,4.0796,4.1057999999999995,4.131999999999999,4.1582,4.184399999999999,4.210599999999999,4.2368,4.262999999999999,4.2892,4.3153999999999995,4.341599999999999,4.3678,4.393999999999999,4.420199999999999,4.4464,4.472599999999999,4.4988,4.5249999999999995,4.551199999999999,4.5774,4.603599999999999,4.629799999999999,4.656,4.682199999999999,4.7084,4.7345999999999995,4.760799999999999,4.787,4.813199999999999,4.839399999999999,4.8656,4.891799999999999,4.917999999999998,4.9441999999999995,4.970399999999999,4.9966,5.022799999999999,5.048999999999999,5.0752,5.101399999999999,5.127599999999998,5.1537999999999995,5.179999999999999,5.2062,5.232399999999999,5.258599999999999,5.2848,5.310999999999999,5.337199999999998,5.3633999999999995,5.389599999999999,5.4158,5.441999999999999,5.468199999999999,5.4944,5.520599999999999,5.546799999999998,5.5729999999999995,5.599199999999999,5.6254,5.651599999999999,5.677799999999999,5.704,5.730199999999999,5.756399999999998,5.7825999999999995,5.808799999999999,5.835,5.861199999999999,5.887399999999999,5.9136,5.939799999999999,5.965999999999998,5.9921999999999995,6.018399999999999,6.0446,6.070799999999999,6.096999999999999,6.1232,6.149399999999999,6.175599999999998,6.2017999999999995,6.227999999999999,6.2542,6.280399999999999,6.306599999999999,6.3328,6.358999999999999,6.385199999999998,6.4113999999999995,6.437599999999999,6.463799999999998,6.489999999999999,6.516199999999999,6.5424,6.568599999999999,6.594799999999998,6.6209999999999996,6.647199999999999,6.673399999999998,6.699599999999999,6.725799999999999,6.752,6.778199999999999,6.8043999999999984,6.8306,6.856799999999999,6.882999999999998,6.909199999999999,6.935399999999999,6.9616,6.987799999999999,7.0139999999999985,7.0402,7.066399999999999,7.092599999999998,7.118799999999999,7.144999999999999,7.1712,7.197399999999999,7.2235999999999985,7.2498,7.275999999999999,7.302199999999998,7.328399999999999,7.354599999999999,7.3808,7.406999999999999,7.4331999999999985,7.4594,7.485599999999999,7.511799999999998,7.537999999999999,7.564199999999999,7.5904,7.616599999999999,7.6427999999999985,7.669,7.695199999999999,7.721399999999998,7.747599999999999,7.773799999999999,7.8,7.826199999999999,7.8523999999999985,7.8786,7.904799999999999,7.930999999999998,7.957199999999999,7.983399999999999,8.009599999999999,8.035799999999998,8.061999999999998,8.0882,8.1144,8.1406,8.166799999999999,8.192999999999998,8.219199999999997,8.2454,8.2716,8.297799999999999,8.323999999999998,8.350199999999997,8.3764,8.4026,8.428799999999999,8.454999999999998,8.481199999999998,8.5074,8.5336,8.5598,8.585999999999999,8.612199999999998,8.638399999999997,8.6646,8.6908,8.716999999999999,8.743199999999998,8.769399999999997,8.7956,8.8218,8.847999999999999,8.874199999999998,8.900399999999998,8.9266,8.9528,8.979,9.005199999999999,9.031399999999998,9.057599999999997,9.0838,9.11,9.136199999999999,9.162399999999998,9.188599999999997,9.2148,9.241,9.267199999999999,9.293399999999998,9.319599999999998,9.3458,9.372,9.3982,9.424399999999999,9.450599999999998,9.476799999999997,9.503,9.5292,9.555399999999999,9.581599999999998,9.607799999999997,9.634,9.6602,9.686399999999999,9.712599999999998,9.738799999999998,9.765,9.7912,9.8174,9.843599999999999,9.869799999999998,9.895999999999997,9.9222,9.9484,9.974599999999999,10.000799999999998,10.026999999999997,10.0532,10.0794,10.105599999999999,10.131799999999998,10.157999999999998,10.184199999999997,10.2104,10.2366,10.262799999999999,10.288999999999998,10.315199999999997,10.3414,10.3676,10.393799999999999,10.419999999999998,10.446199999999997,10.4724,10.4986,10.524799999999999,10.550999999999998,10.577199999999998,10.603399999999997,10.6296,10.6558,10.681999999999999,10.708199999999998,10.734399999999997,10.760599999999997,10.7868,10.812999999999999,10.839199999999998,10.865399999999998,10.891599999999997,10.917799999999996,10.943999999999999,10.970199999999998,10.996399999999998,11.022599999999997,11.048799999999996,11.075,11.101199999999999,11.127399999999998,11.153599999999997,11.179799999999997,11.206,11.232199999999999,11.258399999999998,11.284599999999998,11.310799999999997,11.336999999999996,11.363199999999999,11.389399999999998,11.415599999999998,11.441799999999997,11.467999999999996,11.4942,11.520399999999999,11.546599999999998,11.572799999999997,11.598999999999997,11.625199999999996,11.651399999999999,11.677599999999998,11.703799999999998,11.729999999999997,11.756199999999996,11.782399999999999,11.808599999999998,11.834799999999998,11.860999999999997,11.887199999999996,11.9134,11.939599999999999,11.965799999999998,11.991999999999997,12.018199999999997,12.044399999999996,12.070599999999999,12.096799999999998,12.122999999999998,12.149199999999997,12.175399999999996,12.2016,12.227799999999998,12.253999999999998,12.280199999999997,12.306399999999996,12.3326,12.358799999999999,12.384999999999998,12.411199999999997,12.437399999999997,12.463599999999996,12.489799999999999,12.515999999999998,12.542199999999998,12.568399999999997,12.594599999999996,12.6208,12.646999999999998,12.673199999999998,12.699399999999997,12.725599999999996,12.7518,12.777999999999999,12.804199999999998,12.830399999999997,12.856599999999997,12.882799999999996,12.908999999999999,12.935199999999998,12.961399999999998,12.987599999999997,13.013799999999996,13.04,13.066199999999998,13.092399999999998,13.118599999999997,13.144799999999996,13.170999999999996,13.197199999999999,13.223399999999998,13.249599999999997,13.275799999999997,13.301999999999996,13.328199999999999,13.354399999999998,13.380599999999998,13.406799999999997,13.432999999999996,13.4592,13.485399999999998,13.511599999999998,13.537799999999997,13.563999999999997,13.590199999999996,13.616399999999999,13.642599999999998,13.668799999999997,13.694999999999997,13.721199999999996,13.747399999999999,13.773599999999998,13.799799999999998,13.825999999999997,13.852199999999996,13.8784,13.904599999999999,13.930799999999998,13.956999999999997,13.983199999999997,14.009399999999996,14.035599999999999,14.061799999999998,14.087999999999997,14.114199999999997,14.140399999999996,14.166599999999999,14.192799999999998,14.218999999999998,14.245199999999997,14.271399999999996,14.2976,14.323799999999999,14.349999999999998,14.376199999999997,14.402399999999997,14.428599999999996,14.454799999999999,14.480999999999998,14.507199999999997,14.533399999999997,14.559599999999996,14.585799999999999,14.611999999999998,14.638199999999998,14.664399999999997,14.690599999999996,14.7168,14.742999999999999,14.769199999999998,14.795399999999997,14.821599999999997,14.847799999999996,14.873999999999999,14.900199999999998,14.926399999999997,14.952599999999997,14.978799999999996,15.004999999999999,15.031199999999998,15.057399999999998,15.083599999999997,15.109799999999996,15.135999999999996,15.162199999999999,15.188399999999998,15.214599999999997,15.240799999999997,15.266999999999996,15.293199999999999,15.319399999999998,15.345599999999997,15.371799999999997,15.397999999999996,15.424199999999999,15.450399999999998,15.476599999999998,15.502799999999997,15.528999999999996,15.555199999999996,15.581399999999999,15.607599999999998,15.633799999999997,15.659999999999997,15.686199999999996,15.712399999999999,15.738599999999998,15.764799999999997,15.790999999999997,15.817199999999996,15.843399999999999,15.869599999999998,15.895799999999998,15.921999999999997,15.948199999999996,15.974399999999996,16.0006,16.026799999999998,16.052999999999997,16.079199999999997,16.105399999999996,16.1316,16.157799999999998,16.183999999999997,16.210199999999997,16.236399999999996,16.2626,16.2888,16.314999999999998,16.341199999999997,16.367399999999996,16.393599999999996,16.4198,16.445999999999998,16.472199999999997,16.498399999999997,16.524599999999996,16.5508,16.576999999999998,16.603199999999998,16.629399999999997,16.655599999999996,16.681799999999996,16.708,16.734199999999998,16.760399999999997,16.786599999999996,16.812799999999996,16.839,16.865199999999998,16.891399999999997,16.917599999999997,16.943799999999996,16.97,16.996199999999998,17.022399999999998,17.048599999999997,17.074799999999996,17.100999999999996,17.1272,17.153399999999998,17.179599999999997,17.205799999999996,17.231999999999996,17.2582,17.284399999999998,17.310599999999997,17.336799999999997,17.362999999999996,17.3892,17.415399999999998,17.441599999999998,17.467799999999997,17.493999999999996,17.520199999999996,17.5464,17.572599999999998,17.598799999999997,17.624999999999996,17.651199999999996,17.6774,17.703599999999998,17.729799999999997,17.755999999999997,17.782199999999996,17.8084,17.8346,17.860799999999998,17.886999999999997,17.913199999999996,17.939399999999996,17.9656,17.991799999999998,18.017999999999997,18.044199999999996,18.070399999999996,18.0966,18.122799999999998,18.148999999999997,18.175199999999997,18.201399999999996,18.227599999999995,18.2538,18.279999999999998,18.306199999999997,18.332399999999996,18.358599999999996,18.3848,18.410999999999998,18.437199999999997,18.463399999999996,18.489599999999996,18.5158,18.541999999999998,18.568199999999997,18.594399999999997,18.620599999999996,18.646799999999995,18.673,18.699199999999998,18.725399999999997,18.751599999999996,18.777799999999996,18.804,18.830199999999998,18.856399999999997,18.882599999999996,18.908799999999996,18.935,18.961199999999998,18.987399999999997,19.013599999999997,19.039799999999996,19.065999999999995,19.0922,19.118399999999998,19.144599999999997,19.170799999999996,19.196999999999996,19.2232,19.249399999999998,19.275599999999997,19.301799999999997,19.327999999999996,19.3542,19.380399999999998,19.406599999999997,19.432799999999997,19.458999999999996,19.485199999999995,19.5114,19.537599999999998,19.563799999999997,19.589999999999996,19.616199999999996,19.6424,19.668599999999998,19.694799999999997,19.720999999999997,19.747199999999996,19.7734,19.799599999999998,19.825799999999997,19.851999999999997,19.878199999999996,19.904399999999995,19.9306,19.956799999999998,19.982999999999997,20.009199999999996,20.035399999999996,20.0616,20.087799999999998,20.113999999999997,20.140199999999997,20.166399999999996,20.192599999999995,20.218799999999998,20.244999999999997,20.271199999999997,20.297399999999996,20.323599999999995,20.3498,20.375999999999998,20.402199999999997,20.428399999999996,20.454599999999996,20.4808,20.506999999999998,20.533199999999997,20.559399999999997,20.585599999999996,20.611799999999995,20.637999999999998,20.664199999999997,20.690399999999997,20.716599999999996,20.742799999999995,20.769,20.795199999999998,20.821399999999997,20.847599999999996,20.873799999999996,20.9],\"y\":[10.05202435855642,10.073913858017375,10.09580335747833,10.117692856939286,10.13958235640024,10.161471855861194,10.183361355322148,10.205250854783104,10.227140354244058,10.249029853705014,10.270919353165969,10.292808852626923,10.314698352087877,10.336587851548833,10.358477351009787,10.380366850470743,10.402256349931697,10.424145849392652,10.446035348853606,10.46792484831456,10.489814347775516,10.51170384723647,10.533593346697424,10.55548284615838,10.577372345619334,10.599261845080289,10.621151344541243,10.643040844002199,10.664930343463155,10.686819842924109,10.708709342385063,10.730598841846017,10.752488341306973,10.774377840767928,10.796267340228882,10.818156839689838,10.840046339150792,10.861935838611746,10.8838253380727,10.905714837533656,10.92760433699461,10.949493836455567,10.97138333591652,10.993272835377475,11.015162334838429,11.037051834299383,11.05894133376034,11.080830833221293,11.10272033268225,11.124609832143204,11.146499331604158,11.168388831065112,11.190278330526068,11.212167829987022,11.234057329447976,11.255946828908932,11.277836328369887,11.29972582783084,11.321615327291795,11.343504826752751,11.365394326213707,11.387283825674661,11.409173325135615,11.43106282459657,11.452952324057526,11.47484182351848,11.496731322979434,11.51862082244039,11.540510321901344,11.562399821362298,11.584289320823252,11.606178820284208,11.628068319745163,11.649957819206117,11.671847318667073,11.693736818128027,11.715626317588981,11.737515817049935,11.759405316510891,11.781294815971846,11.803184315432802,11.825073814893756,11.84696331435471,11.868852813815664,11.89074231327662,11.912631812737574,11.934521312198529,11.956410811659484,11.978300311120439,12.000189810581393,12.022079310042347,12.043968809503303,12.065858308964257,12.087747808425213,12.109637307886167,12.131526807347122,12.153416306808076,12.175305806269032,12.197195305729986,12.219084805190942,12.240974304651896,12.26286380411285,12.284753303573805,12.30664280303476,12.328532302495715,12.350421801956669,12.372311301417625,12.39420080087858,12.416090300339533,12.437979799800488,12.459869299261443,12.481758798722398,12.503648298183352,12.525537797644308,12.547427297105262,12.569316796566216,12.591206296027172,12.613095795488126,12.63498529494908,12.656874794410037,12.67876429387099,12.700653793331945,12.7225432927929,12.744432792253855,12.76632229171481,12.788211791175765,12.81010129063672,12.831990790097674,12.853880289558628,12.875769789019584,12.897659288480538,12.919548787941492,12.941438287402448,12.963327786863402,12.985217286324357,13.00710678578531,13.028996285246267,13.050885784707221,13.072775284168177,13.094664783629131,13.116554283090085,13.13844378255104,13.160333282011996,13.18222278147295,13.204112280933904,13.22600178039486,13.247891279855814,13.269780779316768,13.291670278777724,13.313559778238679,13.335449277699633,13.357338777160589,13.379228276621543,13.401117776082497,13.423007275543451,13.444896775004407,13.466786274465361,13.488675773926316,13.510565273387272,13.532454772848226,13.55434427230918,13.576233771770136,13.59812327123109,13.620012770692044,13.641902270152999,13.663791769613955,13.685681269074909,13.707570768535865,13.729460267996819,13.751349767457773,13.77323926691873,13.795128766379683,13.817018265840638,13.838907765301592,13.860797264762548,13.882686764223502,13.904576263684456,13.926465763145412,13.948355262606366,13.97024476206732,13.992134261528275,14.01402376098923,14.035913260450185,14.05780275991114,14.079692259372095,14.10158175883305,14.123471258294003,14.14536075775496,14.167250257215914,14.189139756676868,14.211029256137824,14.232918755598778,14.254808255059732,14.276697754520688,14.298587253981642,14.320476753442597,14.34236625290355,14.364255752364507,14.386145251825461,14.408034751286415,14.429924250747371,14.451813750208325,14.47370324966928,14.495592749130234,14.51748224859119,14.539371748052144,14.5612612475131,14.583150746974054,14.605040246435008,14.626929745895964,14.648819245356918,14.670708744817873,14.692598244278827,14.714487743739783,14.736377243200737,14.758266742661691,14.780156242122647,14.802045741583601,14.823935241044556,14.84582474050551,14.867714239966466,14.88960373942742,14.911493238888376,14.93338273834933,14.955272237810284,14.977161737271238,14.999051236732194,15.020940736193149,15.042830235654103,15.064719735115059,15.086609234576013,15.108498734036967,15.130388233497923,15.152277732958877,15.174167232419832,15.196056731880786,15.217946231341742,15.239835730802696,15.261725230263652,15.283614729724606,15.30550422918556,15.327393728646516,15.34928322810747,15.371172727568425,15.393062227029379,15.414951726490335,15.436841225951289,15.458730725412243,15.4806202248732,15.502509724334153,15.524399223795108,15.546288723256062,15.568178222717018,15.590067722177972,15.611957221638928,15.633846721099882,15.655736220560836,15.67762572002179,15.699515219482745,15.7214047189437,15.743294218404655,15.765183717865611,15.787073217326565,15.80896271678752,15.830852216248473,15.85274171570943,15.874631215170384,15.896520714631338,15.918410214092294,15.940299713553248,15.962189213014202,15.984078712475158,16.005968211936114,16.02785771139707,16.049747210858023,16.071636710318977,16.09352620977993,16.115415709240885,16.13730520870184,16.159194708162797,16.18108420762375,16.202973707084706,16.22486320654566,16.246752706006614,16.268642205467568,16.290531704928526,16.31242120438948,16.334310703850434,16.35620020331139,16.378089702772343,16.399979202233297,16.42186870169425,16.44375820115521,16.465647700616163,16.487537200077117,16.50942669953807,16.531316198999026,16.553205698459983,16.575095197920938,16.59698469738189,16.618874196842846,16.6407636963038,16.662653195764754,16.68454269522571,16.706432194686663,16.72832169414762,16.750211193608575,16.77210069306953,16.793990192530483,16.815879691991437,16.837769191452395,16.85965869091335,16.881548190374303,16.903437689835258,16.925327189296212,16.947216688757166,16.96910618821812,16.990995687679074,17.012885187140032,17.034774686600986,17.05666418606194,17.078553685522895,17.10044318498385,17.122332684444803,17.14422218390576,17.166111683366715,17.18800118282767,17.209890682288624,17.231780181749578,17.253669681210532,17.275559180671486,17.29744868013244,17.319338179593398,17.341227679054352,17.363117178515306,17.38500667797626,17.406896177437215,17.428785676898173,17.450675176359127,17.47256467582008,17.494454175281035,17.51634367474199,17.538233174202944,17.560122673663898,17.582012173124852,17.60390167258581,17.625791172046764,17.647680671507718,17.669570170968672,17.691459670429627,17.713349169890584,17.73523866935154,17.757128168812493,17.779017668273447,17.8009071677344,17.822796667195355,17.844686166656313,17.866575666117267,17.88846516557822,17.910354665039176,17.93224416450013,17.954133663961088,17.97602316342204,17.997912662882996,18.01980216234395,18.041691661804904,18.06358116126586,18.085470660726813,18.107360160187767,18.129249659648725,18.15113915910968,18.173028658570633,18.194918158031587,18.21680765749254,18.2386971569535,18.260586656414453,18.282476155875408,18.304365655336362,18.326255154797316,18.34814465425827,18.370034153719224,18.39192365318018,18.413813152641136,18.43570265210209,18.457592151563045,18.479481651024,18.501371150484953,18.523260649945907,18.545150149406865,18.56703964886782,18.588929148328774,18.610818647789728,18.632708147250682,18.654597646711636,18.67648714617259,18.698376645633545,18.720266145094502,18.742155644555456,18.76404514401641,18.785934643477365,18.80782414293832,18.829713642399277,18.85160314186023,18.873492641321185,18.89538214078214,18.917271640243094,18.939161139704048,18.961050639165002,18.982940138625956,19.004829638086914,19.026719137547868,19.048608637008822,19.070498136469777,19.09238763593073,19.114277135391685,19.136166634852643,19.158056134313597,19.17994563377455,19.201835133235505,19.22372463269646,19.245614132157414,19.267503631618368,19.289393131079322,19.31128263054028,19.333172130001234,19.35506162946219,19.376951128923146,19.3988406283841,19.420730127845054,19.44261962730601,19.464509126766963,19.486398626227917,19.50828812568887,19.53017762514983,19.552067124610783,19.573956624071737,19.59584612353269,19.617735622993646,19.6396251224546,19.661514621915558,19.683404121376512,19.705293620837466,19.72718312029842,19.749072619759374,19.77096211922033,19.792851618681283,19.814741118142237,19.836630617603195,19.85852011706415,19.880409616525103,19.902299115986057,19.92418861544701,19.94607811490797,19.967967614368924,19.989857113829878,20.011746613290832,20.033636112751786,20.05552561221274,20.077415111673695,20.09930461113465,20.121194110595606,20.14308361005656,20.164973109517515,20.18686260897847,20.208752108439423,20.230641607900377,20.252531107361335,20.27442060682229,20.296310106283244,20.318199605744198,20.340089105205152,20.361978604666106,20.38386810412706,20.405757603588015,20.427647103048972,20.449536602509927,20.47142610197088,20.493315601431835,20.51520510089279,20.537094600353747,20.5589840998147,20.580873599275655,20.60276309873661,20.624652598197564,20.646542097658518,20.668431597119472,20.690321096580426,20.712210596041384,20.73410009550234,20.755989594963292,20.77787909442425,20.799768593885204,20.82165809334616,20.843547592807113,20.865437092268067,20.88732659172902,20.909216091189975,20.93110559065093,20.952995090111887,20.97488458957284,20.996774089033796,21.01866358849475,21.040553087955704,21.062442587416662,21.084332086877616,21.10622158633857,21.128111085799524,21.15000058526048,21.171890084721433,21.193779584182387,21.21566908364334,21.2375585831043,21.259448082565253,21.281337582026207,21.30322708148716,21.325116580948116,21.34700608040907,21.368895579870028,21.390785079330982,21.412674578791936,21.43456407825289,21.456453577713845,21.4783430771748,21.500232576635753,21.522122076096707,21.54401157555766,21.565901075018616,21.587790574479577,21.60968007394053,21.631569573401485,21.65345907286244,21.675348572323394,21.697238071784348,21.719127571245302,21.741017070706256,21.76290657016721,21.784796069628165,21.80668556908912,21.828575068550077,21.85046456801103,21.872354067471985,21.89424356693294,21.916133066393893,21.93802256585485,21.959912065315805,21.98180156477676,22.003691064237714,22.025580563698668,22.047470063159622,22.06935956262058,22.091249062081534,22.11313856154249,22.135028061003442,22.156917560464397,22.178807059925354,22.20069655938631,22.222586058847263,22.244475558308217,22.26636505776917,22.288254557230125,22.31014405669108,22.332033556152034,22.353923055612988,22.375812555073942,22.397702054534896,22.419591553995854,22.44148105345681,22.463370552917763,22.485260052378717,22.50714955183967,22.52903905130063,22.550928550761583,22.572818050222537,22.59470754968349,22.616597049144445,22.638486548605403,22.660376048066357,22.68226554752731,22.704155046988266,22.72604454644922,22.747934045910174,22.769823545371132,22.791713044832086,22.81360254429304,22.835492043753995,22.85738154321495,22.879271042675903,22.901160542136857,22.92305004159781,22.944939541058766,22.96682904051972,22.988718539980674,23.010608039441635,23.03249753890259,23.054387038363544,23.076276537824498,23.098166037285452,23.120055536746406,23.14194503620736,23.163834535668315,23.18572403512927,23.207613534590223,23.22950303405118,23.251392533512135,23.27328203297309,23.295171532434043,23.317061031894998,23.33895053135595,23.36084003081691,23.382729530277864,23.404619029738818,23.426508529199772,23.448398028660726,23.47028752812168,23.492177027582635,23.51406652704359,23.535956026504543,23.557845525965497,23.57973502542645,23.601624524887406,23.623514024348367,23.64540352380932,23.667293023270275,23.68918252273123,23.711072022192184,23.732961521653138,23.754851021114092,23.776740520575046,23.798630020036,23.820519519496955,23.842409018957913,23.864298518418867,23.88618801787982,23.908077517340775,23.92996701680173,23.951856516262684,23.97374601572364,23.995635515184595,24.01752501464555,24.039414514106504,24.061304013567458,24.083193513028416,24.10508301248937,24.126972511950324,24.14886201141128,24.170751510872233,24.192641010333187,24.214530509794145,24.2364200092551,24.258309508716053,24.280199008177007,24.30208850763796,24.323978007098916,24.34586750655987,24.367757006020824,24.389646505481778,24.411536004942732,24.433425504403694,24.455315003864648,24.477204503325602,24.499094002786556,24.52098350224751,24.542873001708465,24.56476250116942,24.586652000630373,24.608541500091327,24.63043099955228,24.652320499013236,24.674209998474193,24.696099497935148,24.717988997396102,24.739878496857056,24.76176799631801,24.783657495778968,24.805546995239922,24.827436494700876,24.84932599416183,24.871215493622785,24.89310499308374,24.914994492544693,24.936883992005647,24.9587734914666,24.980662990927556,25.00255249038851,25.02444198984947,25.046331489310425,25.06822098877138,25.090110488232334,25.111999987693288,25.133889487154242,25.155778986615196,25.17766848607615,25.199557985537105,25.22144748499806,25.243336984459013,25.26522648391997,25.287115983380925,25.30900548284188,25.330894982302834,25.352784481763788,25.374673981224745,25.3965634806857,25.418452980146654,25.440342479607608,25.462231979068562,25.484121478529516,25.506010977990474,25.52790047745143,25.549789976912383,25.571679476373337,25.59356897583429,25.61545847529525,25.637347974756203,25.659237474217157,25.68112697367811,25.703016473139066,25.72490597260002,25.746795472060974,25.768684971521928,25.790574470982882,25.812463970443837,25.83435346990479,25.856242969365752,25.878132468826706,25.90002196828766,25.921911467748615,25.94380096720957,25.965690466670523,25.987579966131477,26.00946946559243,26.031358965053386,26.05324846451434,26.075137963975298,26.097027463436252,26.118916962897206,26.14080646235816,26.162695961819114,26.18458546128007,26.206474960741026,26.22836446020198,26.250253959662935,26.27214345912389,26.294032958584843,26.315922458045797,26.33781195750675,26.359701456967706,26.38159095642866,26.403480455889614,26.425369955350575,26.44725945481153,26.469148954272484,26.491038453733438,26.512927953194392,26.534817452655346,26.5567069521163,26.578596451577255,26.60048595103821,26.622375450499163,26.644264949960117,26.666154449421075,26.68804394888203,26.709933448342984,26.731822947803938,26.753712447264892,26.77560194672585,26.797491446186804,26.819380945647758,26.841270445108712,26.863159944569666,26.88504944403062,26.90693894349158,26.928828442952533,26.950717942413487,26.97260744187444,26.994496941335395,27.016386440796353,27.038275940257307,27.06016543971826,27.082054939179216,27.10394443864017,27.125833938101124,27.147723437562078,27.169612937023032,27.191502436483987,27.21339193594494,27.235281435405895,27.257170934866856,27.27906043432781,27.300949933788765,27.32283943324972,27.344728932710673,27.366618432171627,27.38850793163258,27.410397431093536,27.43228693055449,27.454176430015444,27.4760659294764,27.497955428937356,27.51984492839831,27.541734427859264,27.56362392732022,27.585513426781173,27.60740292624213,27.629292425703085,27.65118192516404,27.673071424624993,27.694960924085947,27.7168504235469,27.738739923007856,27.76062942246881,27.782518921929764,27.80440842139072,27.826297920851673,27.848187420312634,27.870076919773588,27.891966419234542,27.913855918695496,27.93574541815645,27.957634917617405,27.97952441707836,28.001413916539313,28.023303416000267,28.04519291546122,28.06708241492218,28.088971914383134,28.110861413844088,28.132750913305042,28.154640412765996,28.17652991222695,28.198419411687908,28.220308911148862,28.242198410609817,28.26408791007077,28.285977409531725,28.307866908992683,28.329756408453637,28.35164590791459,28.373535407375545,28.3954249068365,28.417314406297454,28.43920390575841,28.461093405219366,28.48298290468032,28.504872404141274,28.526761903602228,28.548651403063182,28.570540902524137,28.59243040198509,28.614319901446045,28.636209400907,28.65809890036796,28.679988399828915,28.70187789928987,28.723767398750823,28.745656898211777,28.76754639767273,28.789435897133686,28.81132539659464,28.833214896055594,28.85510439551655,28.876993894977502,28.89888339443846,28.920772893899414,28.94266239336037,28.964551892821323,28.986441392282277,29.008330891743235,29.03022039120419,29.052109890665143,29.073999390126097,29.09588888958705,29.117778389048006,29.13966788850896,29.161557387969914,29.18344688743087,29.205336386891823,29.227225886352777,29.249115385813738,29.271004885274692,29.292894384735646,29.3147838841966,29.336673383657555,29.35856288311851,29.380452382579463,29.402341882040417,29.42423138150137,29.446120880962326,29.46801038042328,29.489899879884238,29.511789379345192,29.533678878806146,29.5555683782671,29.577457877728055,29.599347377189012,29.621236876649967,29.64312637611092,29.665015875571875,29.68690537503283,29.708794874493783,29.730684373954738,29.75257387341569,29.774463372876646,29.7963528723376,29.818242371798554,29.840131871259516,29.86202137072047,29.883910870181424,29.905800369642378,29.927689869103332,29.949579368564287,29.97146886802524,29.993358367486195,30.01524786694715,30.037137366408103,30.059026865869058,30.080916365330015,30.10280586479097,30.124695364251924,30.146584863712878,30.168474363173832,30.19036386263479,30.212253362095744,30.2341428615567,30.256032361017652,30.277921860478607,30.299811359939564,30.32170085940052,30.343590358861473,30.365479858322427,30.38736935778338,30.409258857244335,30.431148356705293,30.453037856166247,30.4749273556272,30.496816855088156,30.51870635454911,30.540595854010064,30.56248535347102,30.584374852931973,30.606264352392927,30.62815385185388,30.650043351314842,30.671932850775796,30.69382235023675,30.715711849697705,30.73760134915866,30.759490848619613,30.781380348080567,30.80326984754152,30.825159347002476,30.84704884646343,30.868938345924384,30.890827845385346,30.9127173448463,30.934606844307254,30.956496343768208,30.978385843229162,31.000275342690117,31.02216484215107,31.044054341612025,31.06594384107298,31.087833340533933,31.109722839994888,31.13161233945584,31.153501838916796,31.17539133837775,31.197280837838704,31.21917033729966,31.24105983676062,31.262949336221574,31.284838835682528,31.306728335143482,31.328617834604437,31.35050733406539,31.372396833526345,31.3942863329873,31.416175832448253,31.438065331909208,31.459954831370162,31.481844330831123,31.503733830292077,31.52562332975303,31.547512829213986,31.56940232867494,31.591291828135894,31.61318132759685,31.635070827057802,31.656960326518757,31.67884982597971,31.700739325440665,31.72262882490162,31.744518324362573,31.766407823823528,31.788297323284482,31.810186822745436,31.832076322206397,31.85396582166735,31.875855321128306,31.89774482058926,31.919634320050214,31.94152381951117],\"type\":\"scatter\"}],                        {\"template\":{\"data\":{\"histogram2dcontour\":[{\"type\":\"histogram2dcontour\",\"colorbar\":{\"outlinewidth\":0,\"ticks\":\"\"},\"colorscale\":[[0.0,\"#0d0887\"],[0.1111111111111111,\"#46039f\"],[0.2222222222222222,\"#7201a8\"],[0.3333333333333333,\"#9c179e\"],[0.4444444444444444,\"#bd3786\"],[0.5555555555555556,\"#d8576b\"],[0.6666666666666666,\"#ed7953\"],[0.7777777777777778,\"#fb9f3a\"],[0.8888888888888888,\"#fdca26\"],[1.0,\"#f0f921\"]]}],\"choropleth\":[{\"type\":\"choropleth\",\"colorbar\":{\"outlinewidth\":0,\"ticks\":\"\"}}],\"histogram2d\":[{\"type\":\"histogram2d\",\"colorbar\":{\"outlinewidth\":0,\"ticks\":\"\"},\"colorscale\":[[0.0,\"#0d0887\"],[0.1111111111111111,\"#46039f\"],[0.2222222222222222,\"#7201a8\"],[0.3333333333333333,\"#9c179e\"],[0.4444444444444444,\"#bd3786\"],[0.5555555555555556,\"#d8576b\"],[0.6666666666666666,\"#ed7953\"],[0.7777777777777778,\"#fb9f3a\"],[0.8888888888888888,\"#fdca26\"],[1.0,\"#f0f921\"]]}],\"heatmap\":[{\"type\":\"heatmap\",\"colorbar\":{\"outlinewidth\":0,\"ticks\":\"\"},\"colorscale\":[[0.0,\"#0d0887\"],[0.1111111111111111,\"#46039f\"],[0.2222222222222222,\"#7201a8\"],[0.3333333333333333,\"#9c179e\"],[0.4444444444444444,\"#bd3786\"],[0.5555555555555556,\"#d8576b\"],[0.6666666666666666,\"#ed7953\"],[0.7777777777777778,\"#fb9f3a\"],[0.8888888888888888,\"#fdca26\"],[1.0,\"#f0f921\"]]}],\"heatmapgl\":[{\"type\":\"heatmapgl\",\"colorbar\":{\"outlinewidth\":0,\"ticks\":\"\"},\"colorscale\":[[0.0,\"#0d0887\"],[0.1111111111111111,\"#46039f\"],[0.2222222222222222,\"#7201a8\"],[0.3333333333333333,\"#9c179e\"],[0.4444444444444444,\"#bd3786\"],[0.5555555555555556,\"#d8576b\"],[0.6666666666666666,\"#ed7953\"],[0.7777777777777778,\"#fb9f3a\"],[0.8888888888888888,\"#fdca26\"],[1.0,\"#f0f921\"]]}],\"contourcarpet\":[{\"type\":\"contourcarpet\",\"colorbar\":{\"outlinewidth\":0,\"ticks\":\"\"}}],\"contour\":[{\"type\":\"contour\",\"colorbar\":{\"outlinewidth\":0,\"ticks\":\"\"},\"colorscale\":[[0.0,\"#0d0887\"],[0.1111111111111111,\"#46039f\"],[0.2222222222222222,\"#7201a8\"],[0.3333333333333333,\"#9c179e\"],[0.4444444444444444,\"#bd3786\"],[0.5555555555555556,\"#d8576b\"],[0.6666666666666666,\"#ed7953\"],[0.7777777777777778,\"#fb9f3a\"],[0.8888888888888888,\"#fdca26\"],[1.0,\"#f0f921\"]]}],\"surface\":[{\"type\":\"surface\",\"colorbar\":{\"outlinewidth\":0,\"ticks\":\"\"},\"colorscale\":[[0.0,\"#0d0887\"],[0.1111111111111111,\"#46039f\"],[0.2222222222222222,\"#7201a8\"],[0.3333333333333333,\"#9c179e\"],[0.4444444444444444,\"#bd3786\"],[0.5555555555555556,\"#d8576b\"],[0.6666666666666666,\"#ed7953\"],[0.7777777777777778,\"#fb9f3a\"],[0.8888888888888888,\"#fdca26\"],[1.0,\"#f0f921\"]]}],\"mesh3d\":[{\"type\":\"mesh3d\",\"colorbar\":{\"outlinewidth\":0,\"ticks\":\"\"}}],\"scatter\":[{\"fillpattern\":{\"fillmode\":\"overlay\",\"size\":10,\"solidity\":0.2},\"type\":\"scatter\"}],\"parcoords\":[{\"type\":\"parcoords\",\"line\":{\"colorbar\":{\"outlinewidth\":0,\"ticks\":\"\"}}}],\"scatterpolargl\":[{\"type\":\"scatterpolargl\",\"marker\":{\"colorbar\":{\"outlinewidth\":0,\"ticks\":\"\"}}}],\"bar\":[{\"error_x\":{\"color\":\"#2a3f5f\"},\"error_y\":{\"color\":\"#2a3f5f\"},\"marker\":{\"line\":{\"color\":\"#E5ECF6\",\"width\":0.5},\"pattern\":{\"fillmode\":\"overlay\",\"size\":10,\"solidity\":0.2}},\"type\":\"bar\"}],\"scattergeo\":[{\"type\":\"scattergeo\",\"marker\":{\"colorbar\":{\"outlinewidth\":0,\"ticks\":\"\"}}}],\"scatterpolar\":[{\"type\":\"scatterpolar\",\"marker\":{\"colorbar\":{\"outlinewidth\":0,\"ticks\":\"\"}}}],\"histogram\":[{\"marker\":{\"pattern\":{\"fillmode\":\"overlay\",\"size\":10,\"solidity\":0.2}},\"type\":\"histogram\"}],\"scattergl\":[{\"type\":\"scattergl\",\"marker\":{\"colorbar\":{\"outlinewidth\":0,\"ticks\":\"\"}}}],\"scatter3d\":[{\"type\":\"scatter3d\",\"line\":{\"colorbar\":{\"outlinewidth\":0,\"ticks\":\"\"}},\"marker\":{\"colorbar\":{\"outlinewidth\":0,\"ticks\":\"\"}}}],\"scattermapbox\":[{\"type\":\"scattermapbox\",\"marker\":{\"colorbar\":{\"outlinewidth\":0,\"ticks\":\"\"}}}],\"scatterternary\":[{\"type\":\"scatterternary\",\"marker\":{\"colorbar\":{\"outlinewidth\":0,\"ticks\":\"\"}}}],\"scattercarpet\":[{\"type\":\"scattercarpet\",\"marker\":{\"colorbar\":{\"outlinewidth\":0,\"ticks\":\"\"}}}],\"carpet\":[{\"aaxis\":{\"endlinecolor\":\"#2a3f5f\",\"gridcolor\":\"white\",\"linecolor\":\"white\",\"minorgridcolor\":\"white\",\"startlinecolor\":\"#2a3f5f\"},\"baxis\":{\"endlinecolor\":\"#2a3f5f\",\"gridcolor\":\"white\",\"linecolor\":\"white\",\"minorgridcolor\":\"white\",\"startlinecolor\":\"#2a3f5f\"},\"type\":\"carpet\"}],\"table\":[{\"cells\":{\"fill\":{\"color\":\"#EBF0F8\"},\"line\":{\"color\":\"white\"}},\"header\":{\"fill\":{\"color\":\"#C8D4E3\"},\"line\":{\"color\":\"white\"}},\"type\":\"table\"}],\"barpolar\":[{\"marker\":{\"line\":{\"color\":\"#E5ECF6\",\"width\":0.5},\"pattern\":{\"fillmode\":\"overlay\",\"size\":10,\"solidity\":0.2}},\"type\":\"barpolar\"}],\"pie\":[{\"automargin\":true,\"type\":\"pie\"}]},\"layout\":{\"autotypenumbers\":\"strict\",\"colorway\":[\"#636efa\",\"#EF553B\",\"#00cc96\",\"#ab63fa\",\"#FFA15A\",\"#19d3f3\",\"#FF6692\",\"#B6E880\",\"#FF97FF\",\"#FECB52\"],\"font\":{\"color\":\"#2a3f5f\"},\"hovermode\":\"closest\",\"hoverlabel\":{\"align\":\"left\"},\"paper_bgcolor\":\"white\",\"plot_bgcolor\":\"#E5ECF6\",\"polar\":{\"bgcolor\":\"#E5ECF6\",\"angularaxis\":{\"gridcolor\":\"white\",\"linecolor\":\"white\",\"ticks\":\"\"},\"radialaxis\":{\"gridcolor\":\"white\",\"linecolor\":\"white\",\"ticks\":\"\"}},\"ternary\":{\"bgcolor\":\"#E5ECF6\",\"aaxis\":{\"gridcolor\":\"white\",\"linecolor\":\"white\",\"ticks\":\"\"},\"baxis\":{\"gridcolor\":\"white\",\"linecolor\":\"white\",\"ticks\":\"\"},\"caxis\":{\"gridcolor\":\"white\",\"linecolor\":\"white\",\"ticks\":\"\"}},\"coloraxis\":{\"colorbar\":{\"outlinewidth\":0,\"ticks\":\"\"}},\"colorscale\":{\"sequential\":[[0.0,\"#0d0887\"],[0.1111111111111111,\"#46039f\"],[0.2222222222222222,\"#7201a8\"],[0.3333333333333333,\"#9c179e\"],[0.4444444444444444,\"#bd3786\"],[0.5555555555555556,\"#d8576b\"],[0.6666666666666666,\"#ed7953\"],[0.7777777777777778,\"#fb9f3a\"],[0.8888888888888888,\"#fdca26\"],[1.0,\"#f0f921\"]],\"sequentialminus\":[[0.0,\"#0d0887\"],[0.1111111111111111,\"#46039f\"],[0.2222222222222222,\"#7201a8\"],[0.3333333333333333,\"#9c179e\"],[0.4444444444444444,\"#bd3786\"],[0.5555555555555556,\"#d8576b\"],[0.6666666666666666,\"#ed7953\"],[0.7777777777777778,\"#fb9f3a\"],[0.8888888888888888,\"#fdca26\"],[1.0,\"#f0f921\"]],\"diverging\":[[0,\"#8e0152\"],[0.1,\"#c51b7d\"],[0.2,\"#de77ae\"],[0.3,\"#f1b6da\"],[0.4,\"#fde0ef\"],[0.5,\"#f7f7f7\"],[0.6,\"#e6f5d0\"],[0.7,\"#b8e186\"],[0.8,\"#7fbc41\"],[0.9,\"#4d9221\"],[1,\"#276419\"]]},\"xaxis\":{\"gridcolor\":\"white\",\"linecolor\":\"white\",\"ticks\":\"\",\"title\":{\"standoff\":15},\"zerolinecolor\":\"white\",\"automargin\":true,\"zerolinewidth\":2},\"yaxis\":{\"gridcolor\":\"white\",\"linecolor\":\"white\",\"ticks\":\"\",\"title\":{\"standoff\":15},\"zerolinecolor\":\"white\",\"automargin\":true,\"zerolinewidth\":2},\"scene\":{\"xaxis\":{\"backgroundcolor\":\"#E5ECF6\",\"gridcolor\":\"white\",\"linecolor\":\"white\",\"showbackground\":true,\"ticks\":\"\",\"zerolinecolor\":\"white\",\"gridwidth\":2},\"yaxis\":{\"backgroundcolor\":\"#E5ECF6\",\"gridcolor\":\"white\",\"linecolor\":\"white\",\"showbackground\":true,\"ticks\":\"\",\"zerolinecolor\":\"white\",\"gridwidth\":2},\"zaxis\":{\"backgroundcolor\":\"#E5ECF6\",\"gridcolor\":\"white\",\"linecolor\":\"white\",\"showbackground\":true,\"ticks\":\"\",\"zerolinecolor\":\"white\",\"gridwidth\":2}},\"shapedefaults\":{\"line\":{\"color\":\"#2a3f5f\"}},\"annotationdefaults\":{\"arrowcolor\":\"#2a3f5f\",\"arrowhead\":0,\"arrowwidth\":1},\"geo\":{\"bgcolor\":\"white\",\"landcolor\":\"#E5ECF6\",\"subunitcolor\":\"white\",\"showland\":true,\"showlakes\":true,\"lakecolor\":\"white\"},\"title\":{\"x\":0.05},\"mapbox\":{\"style\":\"light\"}}},\"title\":{\"text\":\"'$ \\\\text{La ecuaci\\u00f3n final de regresi\\u00f3n es: } \\\\\\\\y_{MaxTemp} = 14.480 + 0.835 X_{MinTemp}$'\"},\"xaxis\":{\"title\":{\"text\":\"MinTemp\"}},\"yaxis\":{\"title\":{\"text\":\"MaxTemp\"}}},                        {\"responsive\": true}                    ).then(function(){\n",
              "                            \n",
              "var gd = document.getElementById('c9930e4d-015d-4233-917e-e5bbb363b81c');\n",
              "var x = new MutationObserver(function (mutations, observer) {{\n",
              "        var display = window.getComputedStyle(gd).display;\n",
              "        if (!display || display === 'none') {{\n",
              "            console.log([gd, 'removed!']);\n",
              "            Plotly.purge(gd);\n",
              "            observer.disconnect();\n",
              "        }}\n",
              "}});\n",
              "\n",
              "// Listen for the removal of the full notebook cells\n",
              "var notebookContainer = gd.closest('#notebook-container');\n",
              "if (notebookContainer) {{\n",
              "    x.observe(notebookContainer, {childList: true});\n",
              "}}\n",
              "\n",
              "// Listen for the clearing of the current output cell\n",
              "var outputEl = gd.closest('.output');\n",
              "if (outputEl) {{\n",
              "    x.observe(outputEl, {childList: true});\n",
              "}}\n",
              "\n",
              "                        })                };                            </script>        </div>\n",
              "</body>\n",
              "</html>"
            ]
          },
          "metadata": {}
        }
      ]
    },
    {
      "cell_type": "markdown",
      "source": [
        "## Validación cruzada\n",
        "Teniendo la metodología para obtener el modelo de regresión, ahora agreguemos la validación cruzada de 5 campos. \n",
        "\n",
        "><mark><font color='#00587C' face = \"Lucida Console\"><strong>NOTA</strong><br>Recuerde que la validación cruzada es utilizada para detectar el sobreajuste o la falta de generalización de un patrón. En general los datos de entrenamiento pueden estar sesgados antes nuevos datos, por lo que es necesario estimar el nivel de confianza de los modelos y sus predicciones.</font></mark> \n",
        "\n",
        "Una buena práctica en el análisis de datos es dividir el conjunto de datos en conjunto de entrenamiento (70%), validación (15%) y prueba (15%). El uso de cada conjunto de datos es el siguiente:\n",
        "* **Conjunto de entrenamiento:** Se utiliza para entrenar el modelo.\n",
        "* **Conjunto de validación:** Se utiliza para seleccionar hiper-parámetros del modelo.\n",
        "* **Conjunto de prueba:** Se utiliza para evaluar el desempeño del modelo analizado. También este conjunto sirve para comparar diferentes modelos.\n",
        "\n",
        "En el caso que los datos sean pocos, se utiliza la estrategia de validación cruzada.\n",
        "\n",
        "La validación cruzada de _N-Folds_ genera N subconjuntos de la misma cantidad de datos del total de muestras de la base de datos. Los datos de cada subconjunto son seleccionados aleatoriamente. Una función que realiza esta selección aleatoria es `sklearn.model_selection.KFold`\n",
        "\n",
        "><mark><font color='#00587C' face = \"Lucida Console\"><strong>NOTA</strong><br>`sklearn.model_selection.KFold` solo elige aleatoriamente las muestras si la opción `shuffle=True`, en caso contrario los _folds_ son elegidos en el orden de los datos originales. </font></mark>\n",
        "\n",
        "En este ejercicio sólo se nos solicitó utilizar validación cruzada, por lo que podemos obtener los índices de los diferentes _folds_ o subgrupos como:"
      ],
      "metadata": {
        "id": "sbE0rPJc_fY7"
      }
    },
    {
      "cell_type": "code",
      "source": [
        "from sklearn.model_selection import KFold\n",
        "import plotly.express as px\n",
        "mcolors = px.colors.qualitative.Plotly"
      ],
      "metadata": {
        "id": "PSd0j5wc_e61"
      },
      "execution_count": 13,
      "outputs": []
    },
    {
      "cell_type": "code",
      "source": [
        "kf = KFold(n_splits=5, shuffle=False)\n",
        "fig = go.Figure()\n",
        "index = np.arange(X.shape[0]) + 1\n",
        "for i, (train_index, test_index) in enumerate(kf.split(X)):\n",
        "  fig.add_trace(go.Scatter(x=train_index, y=(i-0.1)*np.ones((len(train_index))), mode='markers', marker=dict(color=mcolors[i], symbol=\"circle\"),            name='Fold %d train'%(i)))\n",
        "  fig.add_trace(go.Scatter(x=test_index,  y=(i+0.1)*np.ones((len(test_index))),  mode='markers', marker=dict(color=mcolors[i], symbol=\"diamond-tall-open\"), name='Fold %d test'%(i)))\n",
        "fig.update_layout(title=r'Índice de muestras pertenecientes a cada <i>fold</i> <br><b>(Selección SIN aleatoriedad shuffle=False)</b>', \n",
        "                  xaxis_title='Índice de las muestras', yaxis_title='Número de Fold')\n",
        "fig.update_yaxes(tickvals=np.arange(0,5))"
      ],
      "metadata": {
        "colab": {
          "base_uri": "https://localhost:8080/",
          "height": 542
        },
        "id": "WeSllsynDjuG",
        "outputId": "e85963fe-f8bc-4322-ddee-09393f7ee5cf"
      },
      "execution_count": 14,
      "outputs": [
        {
          "output_type": "display_data",
          "data": {
            "text/html": [
              "<html>\n",
              "<head><meta charset=\"utf-8\" /></head>\n",
              "<body>\n",
              "    <div>            <script src=\"https://cdnjs.cloudflare.com/ajax/libs/mathjax/2.7.5/MathJax.js?config=TeX-AMS-MML_SVG\"></script><script type=\"text/javascript\">if (window.MathJax && window.MathJax.Hub && window.MathJax.Hub.Config) {window.MathJax.Hub.Config({SVG: {font: \"STIX-Web\"}});}</script>                <script type=\"text/javascript\">window.PlotlyConfig = {MathJaxConfig: 'local'};</script>\n",
              "        <script src=\"https://cdn.plot.ly/plotly-2.18.2.min.js\"></script>                <div id=\"695e09a0-5a52-4a52-adbb-c36938a8ca71\" class=\"plotly-graph-div\" style=\"height:525px; width:100%;\"></div>            <script type=\"text/javascript\">                                    window.PLOTLYENV=window.PLOTLYENV || {};                                    if (document.getElementById(\"695e09a0-5a52-4a52-adbb-c36938a8ca71\")) {                    Plotly.newPlot(                        \"695e09a0-5a52-4a52-adbb-c36938a8ca71\",                        [{\"marker\":{\"color\":\"#636EFA\",\"symbol\":\"circle\"},\"mode\":\"markers\",\"name\":\"Fold 0 train\",\"x\":[74,75,76,77,78,79,80,81,82,83,84,85,86,87,88,89,90,91,92,93,94,95,96,97,98,99,100,101,102,103,104,105,106,107,108,109,110,111,112,113,114,115,116,117,118,119,120,121,122,123,124,125,126,127,128,129,130,131,132,133,134,135,136,137,138,139,140,141,142,143,144,145,146,147,148,149,150,151,152,153,154,155,156,157,158,159,160,161,162,163,164,165,166,167,168,169,170,171,172,173,174,175,176,177,178,179,180,181,182,183,184,185,186,187,188,189,190,191,192,193,194,195,196,197,198,199,200,201,202,203,204,205,206,207,208,209,210,211,212,213,214,215,216,217,218,219,220,221,222,223,224,225,226,227,228,229,230,231,232,233,234,235,236,237,238,239,240,241,242,243,244,245,246,247,248,249,250,251,252,253,254,255,256,257,258,259,260,261,262,263,264,265,266,267,268,269,270,271,272,273,274,275,276,277,278,279,280,281,282,283,284,285,286,287,288,289,290,291,292,293,294,295,296,297,298,299,300,301,302,303,304,305,306,307,308,309,310,311,312,313,314,315,316,317,318,319,320,321,322,323,324,325,326,327,328,329,330,331,332,333,334,335,336,337,338,339,340,341,342,343,344,345,346,347,348,349,350,351,352,353,354,355,356,357,358,359,360,361,362,363,364,365],\"y\":[-0.1,-0.1,-0.1,-0.1,-0.1,-0.1,-0.1,-0.1,-0.1,-0.1,-0.1,-0.1,-0.1,-0.1,-0.1,-0.1,-0.1,-0.1,-0.1,-0.1,-0.1,-0.1,-0.1,-0.1,-0.1,-0.1,-0.1,-0.1,-0.1,-0.1,-0.1,-0.1,-0.1,-0.1,-0.1,-0.1,-0.1,-0.1,-0.1,-0.1,-0.1,-0.1,-0.1,-0.1,-0.1,-0.1,-0.1,-0.1,-0.1,-0.1,-0.1,-0.1,-0.1,-0.1,-0.1,-0.1,-0.1,-0.1,-0.1,-0.1,-0.1,-0.1,-0.1,-0.1,-0.1,-0.1,-0.1,-0.1,-0.1,-0.1,-0.1,-0.1,-0.1,-0.1,-0.1,-0.1,-0.1,-0.1,-0.1,-0.1,-0.1,-0.1,-0.1,-0.1,-0.1,-0.1,-0.1,-0.1,-0.1,-0.1,-0.1,-0.1,-0.1,-0.1,-0.1,-0.1,-0.1,-0.1,-0.1,-0.1,-0.1,-0.1,-0.1,-0.1,-0.1,-0.1,-0.1,-0.1,-0.1,-0.1,-0.1,-0.1,-0.1,-0.1,-0.1,-0.1,-0.1,-0.1,-0.1,-0.1,-0.1,-0.1,-0.1,-0.1,-0.1,-0.1,-0.1,-0.1,-0.1,-0.1,-0.1,-0.1,-0.1,-0.1,-0.1,-0.1,-0.1,-0.1,-0.1,-0.1,-0.1,-0.1,-0.1,-0.1,-0.1,-0.1,-0.1,-0.1,-0.1,-0.1,-0.1,-0.1,-0.1,-0.1,-0.1,-0.1,-0.1,-0.1,-0.1,-0.1,-0.1,-0.1,-0.1,-0.1,-0.1,-0.1,-0.1,-0.1,-0.1,-0.1,-0.1,-0.1,-0.1,-0.1,-0.1,-0.1,-0.1,-0.1,-0.1,-0.1,-0.1,-0.1,-0.1,-0.1,-0.1,-0.1,-0.1,-0.1,-0.1,-0.1,-0.1,-0.1,-0.1,-0.1,-0.1,-0.1,-0.1,-0.1,-0.1,-0.1,-0.1,-0.1,-0.1,-0.1,-0.1,-0.1,-0.1,-0.1,-0.1,-0.1,-0.1,-0.1,-0.1,-0.1,-0.1,-0.1,-0.1,-0.1,-0.1,-0.1,-0.1,-0.1,-0.1,-0.1,-0.1,-0.1,-0.1,-0.1,-0.1,-0.1,-0.1,-0.1,-0.1,-0.1,-0.1,-0.1,-0.1,-0.1,-0.1,-0.1,-0.1,-0.1,-0.1,-0.1,-0.1,-0.1,-0.1,-0.1,-0.1,-0.1,-0.1,-0.1,-0.1,-0.1,-0.1,-0.1,-0.1,-0.1,-0.1,-0.1,-0.1,-0.1,-0.1,-0.1,-0.1,-0.1,-0.1,-0.1,-0.1,-0.1,-0.1,-0.1,-0.1,-0.1,-0.1,-0.1,-0.1,-0.1,-0.1,-0.1,-0.1,-0.1,-0.1,-0.1,-0.1,-0.1,-0.1,-0.1,-0.1,-0.1,-0.1,-0.1],\"type\":\"scatter\"},{\"marker\":{\"color\":\"#636EFA\",\"symbol\":\"diamond-tall-open\"},\"mode\":\"markers\",\"name\":\"Fold 0 test\",\"x\":[0,1,2,3,4,5,6,7,8,9,10,11,12,13,14,15,16,17,18,19,20,21,22,23,24,25,26,27,28,29,30,31,32,33,34,35,36,37,38,39,40,41,42,43,44,45,46,47,48,49,50,51,52,53,54,55,56,57,58,59,60,61,62,63,64,65,66,67,68,69,70,71,72,73],\"y\":[0.1,0.1,0.1,0.1,0.1,0.1,0.1,0.1,0.1,0.1,0.1,0.1,0.1,0.1,0.1,0.1,0.1,0.1,0.1,0.1,0.1,0.1,0.1,0.1,0.1,0.1,0.1,0.1,0.1,0.1,0.1,0.1,0.1,0.1,0.1,0.1,0.1,0.1,0.1,0.1,0.1,0.1,0.1,0.1,0.1,0.1,0.1,0.1,0.1,0.1,0.1,0.1,0.1,0.1,0.1,0.1,0.1,0.1,0.1,0.1,0.1,0.1,0.1,0.1,0.1,0.1,0.1,0.1,0.1,0.1,0.1,0.1,0.1,0.1],\"type\":\"scatter\"},{\"marker\":{\"color\":\"#EF553B\",\"symbol\":\"circle\"},\"mode\":\"markers\",\"name\":\"Fold 1 train\",\"x\":[0,1,2,3,4,5,6,7,8,9,10,11,12,13,14,15,16,17,18,19,20,21,22,23,24,25,26,27,28,29,30,31,32,33,34,35,36,37,38,39,40,41,42,43,44,45,46,47,48,49,50,51,52,53,54,55,56,57,58,59,60,61,62,63,64,65,66,67,68,69,70,71,72,73,147,148,149,150,151,152,153,154,155,156,157,158,159,160,161,162,163,164,165,166,167,168,169,170,171,172,173,174,175,176,177,178,179,180,181,182,183,184,185,186,187,188,189,190,191,192,193,194,195,196,197,198,199,200,201,202,203,204,205,206,207,208,209,210,211,212,213,214,215,216,217,218,219,220,221,222,223,224,225,226,227,228,229,230,231,232,233,234,235,236,237,238,239,240,241,242,243,244,245,246,247,248,249,250,251,252,253,254,255,256,257,258,259,260,261,262,263,264,265,266,267,268,269,270,271,272,273,274,275,276,277,278,279,280,281,282,283,284,285,286,287,288,289,290,291,292,293,294,295,296,297,298,299,300,301,302,303,304,305,306,307,308,309,310,311,312,313,314,315,316,317,318,319,320,321,322,323,324,325,326,327,328,329,330,331,332,333,334,335,336,337,338,339,340,341,342,343,344,345,346,347,348,349,350,351,352,353,354,355,356,357,358,359,360,361,362,363,364,365],\"y\":[0.9,0.9,0.9,0.9,0.9,0.9,0.9,0.9,0.9,0.9,0.9,0.9,0.9,0.9,0.9,0.9,0.9,0.9,0.9,0.9,0.9,0.9,0.9,0.9,0.9,0.9,0.9,0.9,0.9,0.9,0.9,0.9,0.9,0.9,0.9,0.9,0.9,0.9,0.9,0.9,0.9,0.9,0.9,0.9,0.9,0.9,0.9,0.9,0.9,0.9,0.9,0.9,0.9,0.9,0.9,0.9,0.9,0.9,0.9,0.9,0.9,0.9,0.9,0.9,0.9,0.9,0.9,0.9,0.9,0.9,0.9,0.9,0.9,0.9,0.9,0.9,0.9,0.9,0.9,0.9,0.9,0.9,0.9,0.9,0.9,0.9,0.9,0.9,0.9,0.9,0.9,0.9,0.9,0.9,0.9,0.9,0.9,0.9,0.9,0.9,0.9,0.9,0.9,0.9,0.9,0.9,0.9,0.9,0.9,0.9,0.9,0.9,0.9,0.9,0.9,0.9,0.9,0.9,0.9,0.9,0.9,0.9,0.9,0.9,0.9,0.9,0.9,0.9,0.9,0.9,0.9,0.9,0.9,0.9,0.9,0.9,0.9,0.9,0.9,0.9,0.9,0.9,0.9,0.9,0.9,0.9,0.9,0.9,0.9,0.9,0.9,0.9,0.9,0.9,0.9,0.9,0.9,0.9,0.9,0.9,0.9,0.9,0.9,0.9,0.9,0.9,0.9,0.9,0.9,0.9,0.9,0.9,0.9,0.9,0.9,0.9,0.9,0.9,0.9,0.9,0.9,0.9,0.9,0.9,0.9,0.9,0.9,0.9,0.9,0.9,0.9,0.9,0.9,0.9,0.9,0.9,0.9,0.9,0.9,0.9,0.9,0.9,0.9,0.9,0.9,0.9,0.9,0.9,0.9,0.9,0.9,0.9,0.9,0.9,0.9,0.9,0.9,0.9,0.9,0.9,0.9,0.9,0.9,0.9,0.9,0.9,0.9,0.9,0.9,0.9,0.9,0.9,0.9,0.9,0.9,0.9,0.9,0.9,0.9,0.9,0.9,0.9,0.9,0.9,0.9,0.9,0.9,0.9,0.9,0.9,0.9,0.9,0.9,0.9,0.9,0.9,0.9,0.9,0.9,0.9,0.9,0.9,0.9,0.9,0.9,0.9,0.9,0.9,0.9,0.9,0.9,0.9,0.9,0.9,0.9,0.9,0.9,0.9,0.9,0.9,0.9,0.9,0.9,0.9,0.9,0.9,0.9,0.9,0.9,0.9,0.9,0.9,0.9],\"type\":\"scatter\"},{\"marker\":{\"color\":\"#EF553B\",\"symbol\":\"diamond-tall-open\"},\"mode\":\"markers\",\"name\":\"Fold 1 test\",\"x\":[74,75,76,77,78,79,80,81,82,83,84,85,86,87,88,89,90,91,92,93,94,95,96,97,98,99,100,101,102,103,104,105,106,107,108,109,110,111,112,113,114,115,116,117,118,119,120,121,122,123,124,125,126,127,128,129,130,131,132,133,134,135,136,137,138,139,140,141,142,143,144,145,146],\"y\":[1.1,1.1,1.1,1.1,1.1,1.1,1.1,1.1,1.1,1.1,1.1,1.1,1.1,1.1,1.1,1.1,1.1,1.1,1.1,1.1,1.1,1.1,1.1,1.1,1.1,1.1,1.1,1.1,1.1,1.1,1.1,1.1,1.1,1.1,1.1,1.1,1.1,1.1,1.1,1.1,1.1,1.1,1.1,1.1,1.1,1.1,1.1,1.1,1.1,1.1,1.1,1.1,1.1,1.1,1.1,1.1,1.1,1.1,1.1,1.1,1.1,1.1,1.1,1.1,1.1,1.1,1.1,1.1,1.1,1.1,1.1,1.1,1.1],\"type\":\"scatter\"},{\"marker\":{\"color\":\"#00CC96\",\"symbol\":\"circle\"},\"mode\":\"markers\",\"name\":\"Fold 2 train\",\"x\":[0,1,2,3,4,5,6,7,8,9,10,11,12,13,14,15,16,17,18,19,20,21,22,23,24,25,26,27,28,29,30,31,32,33,34,35,36,37,38,39,40,41,42,43,44,45,46,47,48,49,50,51,52,53,54,55,56,57,58,59,60,61,62,63,64,65,66,67,68,69,70,71,72,73,74,75,76,77,78,79,80,81,82,83,84,85,86,87,88,89,90,91,92,93,94,95,96,97,98,99,100,101,102,103,104,105,106,107,108,109,110,111,112,113,114,115,116,117,118,119,120,121,122,123,124,125,126,127,128,129,130,131,132,133,134,135,136,137,138,139,140,141,142,143,144,145,146,220,221,222,223,224,225,226,227,228,229,230,231,232,233,234,235,236,237,238,239,240,241,242,243,244,245,246,247,248,249,250,251,252,253,254,255,256,257,258,259,260,261,262,263,264,265,266,267,268,269,270,271,272,273,274,275,276,277,278,279,280,281,282,283,284,285,286,287,288,289,290,291,292,293,294,295,296,297,298,299,300,301,302,303,304,305,306,307,308,309,310,311,312,313,314,315,316,317,318,319,320,321,322,323,324,325,326,327,328,329,330,331,332,333,334,335,336,337,338,339,340,341,342,343,344,345,346,347,348,349,350,351,352,353,354,355,356,357,358,359,360,361,362,363,364,365],\"y\":[1.9,1.9,1.9,1.9,1.9,1.9,1.9,1.9,1.9,1.9,1.9,1.9,1.9,1.9,1.9,1.9,1.9,1.9,1.9,1.9,1.9,1.9,1.9,1.9,1.9,1.9,1.9,1.9,1.9,1.9,1.9,1.9,1.9,1.9,1.9,1.9,1.9,1.9,1.9,1.9,1.9,1.9,1.9,1.9,1.9,1.9,1.9,1.9,1.9,1.9,1.9,1.9,1.9,1.9,1.9,1.9,1.9,1.9,1.9,1.9,1.9,1.9,1.9,1.9,1.9,1.9,1.9,1.9,1.9,1.9,1.9,1.9,1.9,1.9,1.9,1.9,1.9,1.9,1.9,1.9,1.9,1.9,1.9,1.9,1.9,1.9,1.9,1.9,1.9,1.9,1.9,1.9,1.9,1.9,1.9,1.9,1.9,1.9,1.9,1.9,1.9,1.9,1.9,1.9,1.9,1.9,1.9,1.9,1.9,1.9,1.9,1.9,1.9,1.9,1.9,1.9,1.9,1.9,1.9,1.9,1.9,1.9,1.9,1.9,1.9,1.9,1.9,1.9,1.9,1.9,1.9,1.9,1.9,1.9,1.9,1.9,1.9,1.9,1.9,1.9,1.9,1.9,1.9,1.9,1.9,1.9,1.9,1.9,1.9,1.9,1.9,1.9,1.9,1.9,1.9,1.9,1.9,1.9,1.9,1.9,1.9,1.9,1.9,1.9,1.9,1.9,1.9,1.9,1.9,1.9,1.9,1.9,1.9,1.9,1.9,1.9,1.9,1.9,1.9,1.9,1.9,1.9,1.9,1.9,1.9,1.9,1.9,1.9,1.9,1.9,1.9,1.9,1.9,1.9,1.9,1.9,1.9,1.9,1.9,1.9,1.9,1.9,1.9,1.9,1.9,1.9,1.9,1.9,1.9,1.9,1.9,1.9,1.9,1.9,1.9,1.9,1.9,1.9,1.9,1.9,1.9,1.9,1.9,1.9,1.9,1.9,1.9,1.9,1.9,1.9,1.9,1.9,1.9,1.9,1.9,1.9,1.9,1.9,1.9,1.9,1.9,1.9,1.9,1.9,1.9,1.9,1.9,1.9,1.9,1.9,1.9,1.9,1.9,1.9,1.9,1.9,1.9,1.9,1.9,1.9,1.9,1.9,1.9,1.9,1.9,1.9,1.9,1.9,1.9,1.9,1.9,1.9,1.9,1.9,1.9,1.9,1.9,1.9,1.9,1.9,1.9,1.9,1.9,1.9,1.9,1.9,1.9,1.9,1.9,1.9,1.9,1.9,1.9],\"type\":\"scatter\"},{\"marker\":{\"color\":\"#00CC96\",\"symbol\":\"diamond-tall-open\"},\"mode\":\"markers\",\"name\":\"Fold 2 test\",\"x\":[147,148,149,150,151,152,153,154,155,156,157,158,159,160,161,162,163,164,165,166,167,168,169,170,171,172,173,174,175,176,177,178,179,180,181,182,183,184,185,186,187,188,189,190,191,192,193,194,195,196,197,198,199,200,201,202,203,204,205,206,207,208,209,210,211,212,213,214,215,216,217,218,219],\"y\":[2.1,2.1,2.1,2.1,2.1,2.1,2.1,2.1,2.1,2.1,2.1,2.1,2.1,2.1,2.1,2.1,2.1,2.1,2.1,2.1,2.1,2.1,2.1,2.1,2.1,2.1,2.1,2.1,2.1,2.1,2.1,2.1,2.1,2.1,2.1,2.1,2.1,2.1,2.1,2.1,2.1,2.1,2.1,2.1,2.1,2.1,2.1,2.1,2.1,2.1,2.1,2.1,2.1,2.1,2.1,2.1,2.1,2.1,2.1,2.1,2.1,2.1,2.1,2.1,2.1,2.1,2.1,2.1,2.1,2.1,2.1,2.1,2.1],\"type\":\"scatter\"},{\"marker\":{\"color\":\"#AB63FA\",\"symbol\":\"circle\"},\"mode\":\"markers\",\"name\":\"Fold 3 train\",\"x\":[0,1,2,3,4,5,6,7,8,9,10,11,12,13,14,15,16,17,18,19,20,21,22,23,24,25,26,27,28,29,30,31,32,33,34,35,36,37,38,39,40,41,42,43,44,45,46,47,48,49,50,51,52,53,54,55,56,57,58,59,60,61,62,63,64,65,66,67,68,69,70,71,72,73,74,75,76,77,78,79,80,81,82,83,84,85,86,87,88,89,90,91,92,93,94,95,96,97,98,99,100,101,102,103,104,105,106,107,108,109,110,111,112,113,114,115,116,117,118,119,120,121,122,123,124,125,126,127,128,129,130,131,132,133,134,135,136,137,138,139,140,141,142,143,144,145,146,147,148,149,150,151,152,153,154,155,156,157,158,159,160,161,162,163,164,165,166,167,168,169,170,171,172,173,174,175,176,177,178,179,180,181,182,183,184,185,186,187,188,189,190,191,192,193,194,195,196,197,198,199,200,201,202,203,204,205,206,207,208,209,210,211,212,213,214,215,216,217,218,219,293,294,295,296,297,298,299,300,301,302,303,304,305,306,307,308,309,310,311,312,313,314,315,316,317,318,319,320,321,322,323,324,325,326,327,328,329,330,331,332,333,334,335,336,337,338,339,340,341,342,343,344,345,346,347,348,349,350,351,352,353,354,355,356,357,358,359,360,361,362,363,364,365],\"y\":[2.9,2.9,2.9,2.9,2.9,2.9,2.9,2.9,2.9,2.9,2.9,2.9,2.9,2.9,2.9,2.9,2.9,2.9,2.9,2.9,2.9,2.9,2.9,2.9,2.9,2.9,2.9,2.9,2.9,2.9,2.9,2.9,2.9,2.9,2.9,2.9,2.9,2.9,2.9,2.9,2.9,2.9,2.9,2.9,2.9,2.9,2.9,2.9,2.9,2.9,2.9,2.9,2.9,2.9,2.9,2.9,2.9,2.9,2.9,2.9,2.9,2.9,2.9,2.9,2.9,2.9,2.9,2.9,2.9,2.9,2.9,2.9,2.9,2.9,2.9,2.9,2.9,2.9,2.9,2.9,2.9,2.9,2.9,2.9,2.9,2.9,2.9,2.9,2.9,2.9,2.9,2.9,2.9,2.9,2.9,2.9,2.9,2.9,2.9,2.9,2.9,2.9,2.9,2.9,2.9,2.9,2.9,2.9,2.9,2.9,2.9,2.9,2.9,2.9,2.9,2.9,2.9,2.9,2.9,2.9,2.9,2.9,2.9,2.9,2.9,2.9,2.9,2.9,2.9,2.9,2.9,2.9,2.9,2.9,2.9,2.9,2.9,2.9,2.9,2.9,2.9,2.9,2.9,2.9,2.9,2.9,2.9,2.9,2.9,2.9,2.9,2.9,2.9,2.9,2.9,2.9,2.9,2.9,2.9,2.9,2.9,2.9,2.9,2.9,2.9,2.9,2.9,2.9,2.9,2.9,2.9,2.9,2.9,2.9,2.9,2.9,2.9,2.9,2.9,2.9,2.9,2.9,2.9,2.9,2.9,2.9,2.9,2.9,2.9,2.9,2.9,2.9,2.9,2.9,2.9,2.9,2.9,2.9,2.9,2.9,2.9,2.9,2.9,2.9,2.9,2.9,2.9,2.9,2.9,2.9,2.9,2.9,2.9,2.9,2.9,2.9,2.9,2.9,2.9,2.9,2.9,2.9,2.9,2.9,2.9,2.9,2.9,2.9,2.9,2.9,2.9,2.9,2.9,2.9,2.9,2.9,2.9,2.9,2.9,2.9,2.9,2.9,2.9,2.9,2.9,2.9,2.9,2.9,2.9,2.9,2.9,2.9,2.9,2.9,2.9,2.9,2.9,2.9,2.9,2.9,2.9,2.9,2.9,2.9,2.9,2.9,2.9,2.9,2.9,2.9,2.9,2.9,2.9,2.9,2.9,2.9,2.9,2.9,2.9,2.9,2.9,2.9,2.9,2.9,2.9,2.9,2.9,2.9,2.9,2.9,2.9,2.9,2.9],\"type\":\"scatter\"},{\"marker\":{\"color\":\"#AB63FA\",\"symbol\":\"diamond-tall-open\"},\"mode\":\"markers\",\"name\":\"Fold 3 test\",\"x\":[220,221,222,223,224,225,226,227,228,229,230,231,232,233,234,235,236,237,238,239,240,241,242,243,244,245,246,247,248,249,250,251,252,253,254,255,256,257,258,259,260,261,262,263,264,265,266,267,268,269,270,271,272,273,274,275,276,277,278,279,280,281,282,283,284,285,286,287,288,289,290,291,292],\"y\":[3.1,3.1,3.1,3.1,3.1,3.1,3.1,3.1,3.1,3.1,3.1,3.1,3.1,3.1,3.1,3.1,3.1,3.1,3.1,3.1,3.1,3.1,3.1,3.1,3.1,3.1,3.1,3.1,3.1,3.1,3.1,3.1,3.1,3.1,3.1,3.1,3.1,3.1,3.1,3.1,3.1,3.1,3.1,3.1,3.1,3.1,3.1,3.1,3.1,3.1,3.1,3.1,3.1,3.1,3.1,3.1,3.1,3.1,3.1,3.1,3.1,3.1,3.1,3.1,3.1,3.1,3.1,3.1,3.1,3.1,3.1,3.1,3.1],\"type\":\"scatter\"},{\"marker\":{\"color\":\"#FFA15A\",\"symbol\":\"circle\"},\"mode\":\"markers\",\"name\":\"Fold 4 train\",\"x\":[0,1,2,3,4,5,6,7,8,9,10,11,12,13,14,15,16,17,18,19,20,21,22,23,24,25,26,27,28,29,30,31,32,33,34,35,36,37,38,39,40,41,42,43,44,45,46,47,48,49,50,51,52,53,54,55,56,57,58,59,60,61,62,63,64,65,66,67,68,69,70,71,72,73,74,75,76,77,78,79,80,81,82,83,84,85,86,87,88,89,90,91,92,93,94,95,96,97,98,99,100,101,102,103,104,105,106,107,108,109,110,111,112,113,114,115,116,117,118,119,120,121,122,123,124,125,126,127,128,129,130,131,132,133,134,135,136,137,138,139,140,141,142,143,144,145,146,147,148,149,150,151,152,153,154,155,156,157,158,159,160,161,162,163,164,165,166,167,168,169,170,171,172,173,174,175,176,177,178,179,180,181,182,183,184,185,186,187,188,189,190,191,192,193,194,195,196,197,198,199,200,201,202,203,204,205,206,207,208,209,210,211,212,213,214,215,216,217,218,219,220,221,222,223,224,225,226,227,228,229,230,231,232,233,234,235,236,237,238,239,240,241,242,243,244,245,246,247,248,249,250,251,252,253,254,255,256,257,258,259,260,261,262,263,264,265,266,267,268,269,270,271,272,273,274,275,276,277,278,279,280,281,282,283,284,285,286,287,288,289,290,291,292],\"y\":[3.9,3.9,3.9,3.9,3.9,3.9,3.9,3.9,3.9,3.9,3.9,3.9,3.9,3.9,3.9,3.9,3.9,3.9,3.9,3.9,3.9,3.9,3.9,3.9,3.9,3.9,3.9,3.9,3.9,3.9,3.9,3.9,3.9,3.9,3.9,3.9,3.9,3.9,3.9,3.9,3.9,3.9,3.9,3.9,3.9,3.9,3.9,3.9,3.9,3.9,3.9,3.9,3.9,3.9,3.9,3.9,3.9,3.9,3.9,3.9,3.9,3.9,3.9,3.9,3.9,3.9,3.9,3.9,3.9,3.9,3.9,3.9,3.9,3.9,3.9,3.9,3.9,3.9,3.9,3.9,3.9,3.9,3.9,3.9,3.9,3.9,3.9,3.9,3.9,3.9,3.9,3.9,3.9,3.9,3.9,3.9,3.9,3.9,3.9,3.9,3.9,3.9,3.9,3.9,3.9,3.9,3.9,3.9,3.9,3.9,3.9,3.9,3.9,3.9,3.9,3.9,3.9,3.9,3.9,3.9,3.9,3.9,3.9,3.9,3.9,3.9,3.9,3.9,3.9,3.9,3.9,3.9,3.9,3.9,3.9,3.9,3.9,3.9,3.9,3.9,3.9,3.9,3.9,3.9,3.9,3.9,3.9,3.9,3.9,3.9,3.9,3.9,3.9,3.9,3.9,3.9,3.9,3.9,3.9,3.9,3.9,3.9,3.9,3.9,3.9,3.9,3.9,3.9,3.9,3.9,3.9,3.9,3.9,3.9,3.9,3.9,3.9,3.9,3.9,3.9,3.9,3.9,3.9,3.9,3.9,3.9,3.9,3.9,3.9,3.9,3.9,3.9,3.9,3.9,3.9,3.9,3.9,3.9,3.9,3.9,3.9,3.9,3.9,3.9,3.9,3.9,3.9,3.9,3.9,3.9,3.9,3.9,3.9,3.9,3.9,3.9,3.9,3.9,3.9,3.9,3.9,3.9,3.9,3.9,3.9,3.9,3.9,3.9,3.9,3.9,3.9,3.9,3.9,3.9,3.9,3.9,3.9,3.9,3.9,3.9,3.9,3.9,3.9,3.9,3.9,3.9,3.9,3.9,3.9,3.9,3.9,3.9,3.9,3.9,3.9,3.9,3.9,3.9,3.9,3.9,3.9,3.9,3.9,3.9,3.9,3.9,3.9,3.9,3.9,3.9,3.9,3.9,3.9,3.9,3.9,3.9,3.9,3.9,3.9,3.9,3.9,3.9,3.9,3.9,3.9,3.9,3.9,3.9,3.9,3.9,3.9,3.9,3.9],\"type\":\"scatter\"},{\"marker\":{\"color\":\"#FFA15A\",\"symbol\":\"diamond-tall-open\"},\"mode\":\"markers\",\"name\":\"Fold 4 test\",\"x\":[293,294,295,296,297,298,299,300,301,302,303,304,305,306,307,308,309,310,311,312,313,314,315,316,317,318,319,320,321,322,323,324,325,326,327,328,329,330,331,332,333,334,335,336,337,338,339,340,341,342,343,344,345,346,347,348,349,350,351,352,353,354,355,356,357,358,359,360,361,362,363,364,365],\"y\":[4.1,4.1,4.1,4.1,4.1,4.1,4.1,4.1,4.1,4.1,4.1,4.1,4.1,4.1,4.1,4.1,4.1,4.1,4.1,4.1,4.1,4.1,4.1,4.1,4.1,4.1,4.1,4.1,4.1,4.1,4.1,4.1,4.1,4.1,4.1,4.1,4.1,4.1,4.1,4.1,4.1,4.1,4.1,4.1,4.1,4.1,4.1,4.1,4.1,4.1,4.1,4.1,4.1,4.1,4.1,4.1,4.1,4.1,4.1,4.1,4.1,4.1,4.1,4.1,4.1,4.1,4.1,4.1,4.1,4.1,4.1,4.1,4.1],\"type\":\"scatter\"}],                        {\"template\":{\"data\":{\"histogram2dcontour\":[{\"type\":\"histogram2dcontour\",\"colorbar\":{\"outlinewidth\":0,\"ticks\":\"\"},\"colorscale\":[[0.0,\"#0d0887\"],[0.1111111111111111,\"#46039f\"],[0.2222222222222222,\"#7201a8\"],[0.3333333333333333,\"#9c179e\"],[0.4444444444444444,\"#bd3786\"],[0.5555555555555556,\"#d8576b\"],[0.6666666666666666,\"#ed7953\"],[0.7777777777777778,\"#fb9f3a\"],[0.8888888888888888,\"#fdca26\"],[1.0,\"#f0f921\"]]}],\"choropleth\":[{\"type\":\"choropleth\",\"colorbar\":{\"outlinewidth\":0,\"ticks\":\"\"}}],\"histogram2d\":[{\"type\":\"histogram2d\",\"colorbar\":{\"outlinewidth\":0,\"ticks\":\"\"},\"colorscale\":[[0.0,\"#0d0887\"],[0.1111111111111111,\"#46039f\"],[0.2222222222222222,\"#7201a8\"],[0.3333333333333333,\"#9c179e\"],[0.4444444444444444,\"#bd3786\"],[0.5555555555555556,\"#d8576b\"],[0.6666666666666666,\"#ed7953\"],[0.7777777777777778,\"#fb9f3a\"],[0.8888888888888888,\"#fdca26\"],[1.0,\"#f0f921\"]]}],\"heatmap\":[{\"type\":\"heatmap\",\"colorbar\":{\"outlinewidth\":0,\"ticks\":\"\"},\"colorscale\":[[0.0,\"#0d0887\"],[0.1111111111111111,\"#46039f\"],[0.2222222222222222,\"#7201a8\"],[0.3333333333333333,\"#9c179e\"],[0.4444444444444444,\"#bd3786\"],[0.5555555555555556,\"#d8576b\"],[0.6666666666666666,\"#ed7953\"],[0.7777777777777778,\"#fb9f3a\"],[0.8888888888888888,\"#fdca26\"],[1.0,\"#f0f921\"]]}],\"heatmapgl\":[{\"type\":\"heatmapgl\",\"colorbar\":{\"outlinewidth\":0,\"ticks\":\"\"},\"colorscale\":[[0.0,\"#0d0887\"],[0.1111111111111111,\"#46039f\"],[0.2222222222222222,\"#7201a8\"],[0.3333333333333333,\"#9c179e\"],[0.4444444444444444,\"#bd3786\"],[0.5555555555555556,\"#d8576b\"],[0.6666666666666666,\"#ed7953\"],[0.7777777777777778,\"#fb9f3a\"],[0.8888888888888888,\"#fdca26\"],[1.0,\"#f0f921\"]]}],\"contourcarpet\":[{\"type\":\"contourcarpet\",\"colorbar\":{\"outlinewidth\":0,\"ticks\":\"\"}}],\"contour\":[{\"type\":\"contour\",\"colorbar\":{\"outlinewidth\":0,\"ticks\":\"\"},\"colorscale\":[[0.0,\"#0d0887\"],[0.1111111111111111,\"#46039f\"],[0.2222222222222222,\"#7201a8\"],[0.3333333333333333,\"#9c179e\"],[0.4444444444444444,\"#bd3786\"],[0.5555555555555556,\"#d8576b\"],[0.6666666666666666,\"#ed7953\"],[0.7777777777777778,\"#fb9f3a\"],[0.8888888888888888,\"#fdca26\"],[1.0,\"#f0f921\"]]}],\"surface\":[{\"type\":\"surface\",\"colorbar\":{\"outlinewidth\":0,\"ticks\":\"\"},\"colorscale\":[[0.0,\"#0d0887\"],[0.1111111111111111,\"#46039f\"],[0.2222222222222222,\"#7201a8\"],[0.3333333333333333,\"#9c179e\"],[0.4444444444444444,\"#bd3786\"],[0.5555555555555556,\"#d8576b\"],[0.6666666666666666,\"#ed7953\"],[0.7777777777777778,\"#fb9f3a\"],[0.8888888888888888,\"#fdca26\"],[1.0,\"#f0f921\"]]}],\"mesh3d\":[{\"type\":\"mesh3d\",\"colorbar\":{\"outlinewidth\":0,\"ticks\":\"\"}}],\"scatter\":[{\"fillpattern\":{\"fillmode\":\"overlay\",\"size\":10,\"solidity\":0.2},\"type\":\"scatter\"}],\"parcoords\":[{\"type\":\"parcoords\",\"line\":{\"colorbar\":{\"outlinewidth\":0,\"ticks\":\"\"}}}],\"scatterpolargl\":[{\"type\":\"scatterpolargl\",\"marker\":{\"colorbar\":{\"outlinewidth\":0,\"ticks\":\"\"}}}],\"bar\":[{\"error_x\":{\"color\":\"#2a3f5f\"},\"error_y\":{\"color\":\"#2a3f5f\"},\"marker\":{\"line\":{\"color\":\"#E5ECF6\",\"width\":0.5},\"pattern\":{\"fillmode\":\"overlay\",\"size\":10,\"solidity\":0.2}},\"type\":\"bar\"}],\"scattergeo\":[{\"type\":\"scattergeo\",\"marker\":{\"colorbar\":{\"outlinewidth\":0,\"ticks\":\"\"}}}],\"scatterpolar\":[{\"type\":\"scatterpolar\",\"marker\":{\"colorbar\":{\"outlinewidth\":0,\"ticks\":\"\"}}}],\"histogram\":[{\"marker\":{\"pattern\":{\"fillmode\":\"overlay\",\"size\":10,\"solidity\":0.2}},\"type\":\"histogram\"}],\"scattergl\":[{\"type\":\"scattergl\",\"marker\":{\"colorbar\":{\"outlinewidth\":0,\"ticks\":\"\"}}}],\"scatter3d\":[{\"type\":\"scatter3d\",\"line\":{\"colorbar\":{\"outlinewidth\":0,\"ticks\":\"\"}},\"marker\":{\"colorbar\":{\"outlinewidth\":0,\"ticks\":\"\"}}}],\"scattermapbox\":[{\"type\":\"scattermapbox\",\"marker\":{\"colorbar\":{\"outlinewidth\":0,\"ticks\":\"\"}}}],\"scatterternary\":[{\"type\":\"scatterternary\",\"marker\":{\"colorbar\":{\"outlinewidth\":0,\"ticks\":\"\"}}}],\"scattercarpet\":[{\"type\":\"scattercarpet\",\"marker\":{\"colorbar\":{\"outlinewidth\":0,\"ticks\":\"\"}}}],\"carpet\":[{\"aaxis\":{\"endlinecolor\":\"#2a3f5f\",\"gridcolor\":\"white\",\"linecolor\":\"white\",\"minorgridcolor\":\"white\",\"startlinecolor\":\"#2a3f5f\"},\"baxis\":{\"endlinecolor\":\"#2a3f5f\",\"gridcolor\":\"white\",\"linecolor\":\"white\",\"minorgridcolor\":\"white\",\"startlinecolor\":\"#2a3f5f\"},\"type\":\"carpet\"}],\"table\":[{\"cells\":{\"fill\":{\"color\":\"#EBF0F8\"},\"line\":{\"color\":\"white\"}},\"header\":{\"fill\":{\"color\":\"#C8D4E3\"},\"line\":{\"color\":\"white\"}},\"type\":\"table\"}],\"barpolar\":[{\"marker\":{\"line\":{\"color\":\"#E5ECF6\",\"width\":0.5},\"pattern\":{\"fillmode\":\"overlay\",\"size\":10,\"solidity\":0.2}},\"type\":\"barpolar\"}],\"pie\":[{\"automargin\":true,\"type\":\"pie\"}]},\"layout\":{\"autotypenumbers\":\"strict\",\"colorway\":[\"#636efa\",\"#EF553B\",\"#00cc96\",\"#ab63fa\",\"#FFA15A\",\"#19d3f3\",\"#FF6692\",\"#B6E880\",\"#FF97FF\",\"#FECB52\"],\"font\":{\"color\":\"#2a3f5f\"},\"hovermode\":\"closest\",\"hoverlabel\":{\"align\":\"left\"},\"paper_bgcolor\":\"white\",\"plot_bgcolor\":\"#E5ECF6\",\"polar\":{\"bgcolor\":\"#E5ECF6\",\"angularaxis\":{\"gridcolor\":\"white\",\"linecolor\":\"white\",\"ticks\":\"\"},\"radialaxis\":{\"gridcolor\":\"white\",\"linecolor\":\"white\",\"ticks\":\"\"}},\"ternary\":{\"bgcolor\":\"#E5ECF6\",\"aaxis\":{\"gridcolor\":\"white\",\"linecolor\":\"white\",\"ticks\":\"\"},\"baxis\":{\"gridcolor\":\"white\",\"linecolor\":\"white\",\"ticks\":\"\"},\"caxis\":{\"gridcolor\":\"white\",\"linecolor\":\"white\",\"ticks\":\"\"}},\"coloraxis\":{\"colorbar\":{\"outlinewidth\":0,\"ticks\":\"\"}},\"colorscale\":{\"sequential\":[[0.0,\"#0d0887\"],[0.1111111111111111,\"#46039f\"],[0.2222222222222222,\"#7201a8\"],[0.3333333333333333,\"#9c179e\"],[0.4444444444444444,\"#bd3786\"],[0.5555555555555556,\"#d8576b\"],[0.6666666666666666,\"#ed7953\"],[0.7777777777777778,\"#fb9f3a\"],[0.8888888888888888,\"#fdca26\"],[1.0,\"#f0f921\"]],\"sequentialminus\":[[0.0,\"#0d0887\"],[0.1111111111111111,\"#46039f\"],[0.2222222222222222,\"#7201a8\"],[0.3333333333333333,\"#9c179e\"],[0.4444444444444444,\"#bd3786\"],[0.5555555555555556,\"#d8576b\"],[0.6666666666666666,\"#ed7953\"],[0.7777777777777778,\"#fb9f3a\"],[0.8888888888888888,\"#fdca26\"],[1.0,\"#f0f921\"]],\"diverging\":[[0,\"#8e0152\"],[0.1,\"#c51b7d\"],[0.2,\"#de77ae\"],[0.3,\"#f1b6da\"],[0.4,\"#fde0ef\"],[0.5,\"#f7f7f7\"],[0.6,\"#e6f5d0\"],[0.7,\"#b8e186\"],[0.8,\"#7fbc41\"],[0.9,\"#4d9221\"],[1,\"#276419\"]]},\"xaxis\":{\"gridcolor\":\"white\",\"linecolor\":\"white\",\"ticks\":\"\",\"title\":{\"standoff\":15},\"zerolinecolor\":\"white\",\"automargin\":true,\"zerolinewidth\":2},\"yaxis\":{\"gridcolor\":\"white\",\"linecolor\":\"white\",\"ticks\":\"\",\"title\":{\"standoff\":15},\"zerolinecolor\":\"white\",\"automargin\":true,\"zerolinewidth\":2},\"scene\":{\"xaxis\":{\"backgroundcolor\":\"#E5ECF6\",\"gridcolor\":\"white\",\"linecolor\":\"white\",\"showbackground\":true,\"ticks\":\"\",\"zerolinecolor\":\"white\",\"gridwidth\":2},\"yaxis\":{\"backgroundcolor\":\"#E5ECF6\",\"gridcolor\":\"white\",\"linecolor\":\"white\",\"showbackground\":true,\"ticks\":\"\",\"zerolinecolor\":\"white\",\"gridwidth\":2},\"zaxis\":{\"backgroundcolor\":\"#E5ECF6\",\"gridcolor\":\"white\",\"linecolor\":\"white\",\"showbackground\":true,\"ticks\":\"\",\"zerolinecolor\":\"white\",\"gridwidth\":2}},\"shapedefaults\":{\"line\":{\"color\":\"#2a3f5f\"}},\"annotationdefaults\":{\"arrowcolor\":\"#2a3f5f\",\"arrowhead\":0,\"arrowwidth\":1},\"geo\":{\"bgcolor\":\"white\",\"landcolor\":\"#E5ECF6\",\"subunitcolor\":\"white\",\"showland\":true,\"showlakes\":true,\"lakecolor\":\"white\"},\"title\":{\"x\":0.05},\"mapbox\":{\"style\":\"light\"}}},\"title\":{\"text\":\"\\u00cdndice de muestras pertenecientes a cada <i>fold</i> <br><b>(Selecci\\u00f3n SIN aleatoriedad shuffle=False)</b>\"},\"xaxis\":{\"title\":{\"text\":\"\\u00cdndice de las muestras\"}},\"yaxis\":{\"title\":{\"text\":\"N\\u00famero de Fold\"},\"tickvals\":[0,1,2,3,4]}},                        {\"responsive\": true}                    ).then(function(){\n",
              "                            \n",
              "var gd = document.getElementById('695e09a0-5a52-4a52-adbb-c36938a8ca71');\n",
              "var x = new MutationObserver(function (mutations, observer) {{\n",
              "        var display = window.getComputedStyle(gd).display;\n",
              "        if (!display || display === 'none') {{\n",
              "            console.log([gd, 'removed!']);\n",
              "            Plotly.purge(gd);\n",
              "            observer.disconnect();\n",
              "        }}\n",
              "}});\n",
              "\n",
              "// Listen for the removal of the full notebook cells\n",
              "var notebookContainer = gd.closest('#notebook-container');\n",
              "if (notebookContainer) {{\n",
              "    x.observe(notebookContainer, {childList: true});\n",
              "}}\n",
              "\n",
              "// Listen for the clearing of the current output cell\n",
              "var outputEl = gd.closest('.output');\n",
              "if (outputEl) {{\n",
              "    x.observe(outputEl, {childList: true});\n",
              "}}\n",
              "\n",
              "                        })                };                            </script>        </div>\n",
              "</body>\n",
              "</html>"
            ]
          },
          "metadata": {}
        }
      ]
    },
    {
      "cell_type": "code",
      "source": [
        "kf = KFold(n_splits=5, shuffle=True)\n",
        "fig = go.Figure()\n",
        "index = np.arange(X.shape[0]) + 1\n",
        "for i, (train_index, test_index) in enumerate(kf.split(X)):\n",
        "  fig.add_trace(go.Scatter(x=train_index, y=(i-0.1)*np.ones((len(train_index))), mode='markers', marker=dict(color=mcolors[i], symbol=\"circle\"),            name='Fold %d train'%(i)))\n",
        "  fig.add_trace(go.Scatter(x=test_index,  y=(i+0.1)*np.ones((len(test_index))),  mode='markers', marker=dict(color=mcolors[i], symbol=\"diamond-tall-open\"), name='Fold %d test'%(i)))\n",
        "fig.update_layout(title=r'Índice de muestras pertenecientes a cada <i>fold</i> <br><b>(Selección CON aleatoriedad shuffle=True)</b>', \n",
        "                  xaxis_title='Índice de las muestras', yaxis_title='Número de Fold')\n",
        "fig.update_yaxes(tickvals=np.arange(0,5))"
      ],
      "metadata": {
        "colab": {
          "base_uri": "https://localhost:8080/",
          "height": 542
        },
        "id": "f-WyWnhkn6oQ",
        "outputId": "64006e22-7b2a-41ec-dd01-25b4b154d9e7"
      },
      "execution_count": 15,
      "outputs": [
        {
          "output_type": "display_data",
          "data": {
            "text/html": [
              "<html>\n",
              "<head><meta charset=\"utf-8\" /></head>\n",
              "<body>\n",
              "    <div>            <script src=\"https://cdnjs.cloudflare.com/ajax/libs/mathjax/2.7.5/MathJax.js?config=TeX-AMS-MML_SVG\"></script><script type=\"text/javascript\">if (window.MathJax && window.MathJax.Hub && window.MathJax.Hub.Config) {window.MathJax.Hub.Config({SVG: {font: \"STIX-Web\"}});}</script>                <script type=\"text/javascript\">window.PlotlyConfig = {MathJaxConfig: 'local'};</script>\n",
              "        <script src=\"https://cdn.plot.ly/plotly-2.18.2.min.js\"></script>                <div id=\"46292e46-1718-4c58-9973-fc9e5e1a746a\" class=\"plotly-graph-div\" style=\"height:525px; width:100%;\"></div>            <script type=\"text/javascript\">                                    window.PLOTLYENV=window.PLOTLYENV || {};                                    if (document.getElementById(\"46292e46-1718-4c58-9973-fc9e5e1a746a\")) {                    Plotly.newPlot(                        \"46292e46-1718-4c58-9973-fc9e5e1a746a\",                        [{\"marker\":{\"color\":\"#636EFA\",\"symbol\":\"circle\"},\"mode\":\"markers\",\"name\":\"Fold 0 train\",\"x\":[0,1,2,4,5,6,9,10,11,13,14,15,16,18,20,21,23,24,25,26,27,28,29,31,33,34,35,36,37,39,40,41,42,44,45,46,47,48,51,52,54,55,57,58,59,60,61,62,63,64,66,67,68,69,72,73,74,75,76,77,78,80,82,84,85,87,88,89,90,92,93,94,95,96,97,98,101,102,103,104,105,106,107,108,109,110,111,112,113,114,115,117,118,119,120,121,122,123,124,125,126,127,128,129,130,132,134,136,137,138,140,141,142,143,144,145,146,147,148,149,150,151,152,153,154,155,156,158,159,160,161,162,163,164,165,166,167,168,169,170,171,172,173,174,175,177,178,179,180,182,183,184,187,188,189,192,193,194,195,196,197,198,199,200,201,204,205,206,207,208,210,211,212,216,217,218,219,220,221,222,223,224,225,226,228,230,231,233,234,235,236,237,238,239,240,241,243,244,246,247,248,249,250,252,253,254,255,256,257,258,259,260,261,262,265,267,269,270,271,272,273,274,275,277,279,280,281,282,284,285,286,287,290,291,292,294,295,296,297,298,300,301,302,303,304,305,307,308,309,310,312,314,315,316,318,319,320,321,322,323,324,325,326,328,329,330,331,333,334,335,336,337,338,339,341,342,343,347,349,350,351,352,354,356,358,359,360,361,362,363,364,365],\"y\":[-0.1,-0.1,-0.1,-0.1,-0.1,-0.1,-0.1,-0.1,-0.1,-0.1,-0.1,-0.1,-0.1,-0.1,-0.1,-0.1,-0.1,-0.1,-0.1,-0.1,-0.1,-0.1,-0.1,-0.1,-0.1,-0.1,-0.1,-0.1,-0.1,-0.1,-0.1,-0.1,-0.1,-0.1,-0.1,-0.1,-0.1,-0.1,-0.1,-0.1,-0.1,-0.1,-0.1,-0.1,-0.1,-0.1,-0.1,-0.1,-0.1,-0.1,-0.1,-0.1,-0.1,-0.1,-0.1,-0.1,-0.1,-0.1,-0.1,-0.1,-0.1,-0.1,-0.1,-0.1,-0.1,-0.1,-0.1,-0.1,-0.1,-0.1,-0.1,-0.1,-0.1,-0.1,-0.1,-0.1,-0.1,-0.1,-0.1,-0.1,-0.1,-0.1,-0.1,-0.1,-0.1,-0.1,-0.1,-0.1,-0.1,-0.1,-0.1,-0.1,-0.1,-0.1,-0.1,-0.1,-0.1,-0.1,-0.1,-0.1,-0.1,-0.1,-0.1,-0.1,-0.1,-0.1,-0.1,-0.1,-0.1,-0.1,-0.1,-0.1,-0.1,-0.1,-0.1,-0.1,-0.1,-0.1,-0.1,-0.1,-0.1,-0.1,-0.1,-0.1,-0.1,-0.1,-0.1,-0.1,-0.1,-0.1,-0.1,-0.1,-0.1,-0.1,-0.1,-0.1,-0.1,-0.1,-0.1,-0.1,-0.1,-0.1,-0.1,-0.1,-0.1,-0.1,-0.1,-0.1,-0.1,-0.1,-0.1,-0.1,-0.1,-0.1,-0.1,-0.1,-0.1,-0.1,-0.1,-0.1,-0.1,-0.1,-0.1,-0.1,-0.1,-0.1,-0.1,-0.1,-0.1,-0.1,-0.1,-0.1,-0.1,-0.1,-0.1,-0.1,-0.1,-0.1,-0.1,-0.1,-0.1,-0.1,-0.1,-0.1,-0.1,-0.1,-0.1,-0.1,-0.1,-0.1,-0.1,-0.1,-0.1,-0.1,-0.1,-0.1,-0.1,-0.1,-0.1,-0.1,-0.1,-0.1,-0.1,-0.1,-0.1,-0.1,-0.1,-0.1,-0.1,-0.1,-0.1,-0.1,-0.1,-0.1,-0.1,-0.1,-0.1,-0.1,-0.1,-0.1,-0.1,-0.1,-0.1,-0.1,-0.1,-0.1,-0.1,-0.1,-0.1,-0.1,-0.1,-0.1,-0.1,-0.1,-0.1,-0.1,-0.1,-0.1,-0.1,-0.1,-0.1,-0.1,-0.1,-0.1,-0.1,-0.1,-0.1,-0.1,-0.1,-0.1,-0.1,-0.1,-0.1,-0.1,-0.1,-0.1,-0.1,-0.1,-0.1,-0.1,-0.1,-0.1,-0.1,-0.1,-0.1,-0.1,-0.1,-0.1,-0.1,-0.1,-0.1,-0.1,-0.1,-0.1,-0.1,-0.1,-0.1,-0.1,-0.1,-0.1,-0.1,-0.1,-0.1,-0.1,-0.1,-0.1,-0.1,-0.1,-0.1,-0.1,-0.1,-0.1],\"type\":\"scatter\"},{\"marker\":{\"color\":\"#636EFA\",\"symbol\":\"diamond-tall-open\"},\"mode\":\"markers\",\"name\":\"Fold 0 test\",\"x\":[3,7,8,12,17,19,22,30,32,38,43,49,50,53,56,65,70,71,79,81,83,86,91,99,100,116,131,133,135,139,157,176,181,185,186,190,191,202,203,209,213,214,215,227,229,232,242,245,251,263,264,266,268,276,278,283,288,289,293,299,306,311,313,317,327,332,340,344,345,346,348,353,355,357],\"y\":[0.1,0.1,0.1,0.1,0.1,0.1,0.1,0.1,0.1,0.1,0.1,0.1,0.1,0.1,0.1,0.1,0.1,0.1,0.1,0.1,0.1,0.1,0.1,0.1,0.1,0.1,0.1,0.1,0.1,0.1,0.1,0.1,0.1,0.1,0.1,0.1,0.1,0.1,0.1,0.1,0.1,0.1,0.1,0.1,0.1,0.1,0.1,0.1,0.1,0.1,0.1,0.1,0.1,0.1,0.1,0.1,0.1,0.1,0.1,0.1,0.1,0.1,0.1,0.1,0.1,0.1,0.1,0.1,0.1,0.1,0.1,0.1,0.1,0.1],\"type\":\"scatter\"},{\"marker\":{\"color\":\"#EF553B\",\"symbol\":\"circle\"},\"mode\":\"markers\",\"name\":\"Fold 1 train\",\"x\":[1,2,3,4,5,6,7,8,9,10,12,13,15,16,17,18,19,20,21,22,23,24,27,28,29,30,31,32,33,35,36,38,42,43,44,45,46,47,48,49,50,52,53,54,56,57,58,59,60,61,65,67,68,69,70,71,72,73,75,76,78,79,81,82,83,84,86,87,89,90,91,92,94,96,98,99,100,101,103,104,105,106,107,108,109,110,112,113,114,115,116,118,119,120,123,124,125,126,127,129,130,131,132,133,134,135,137,138,139,140,141,143,146,147,148,149,150,151,152,153,155,157,158,159,160,161,163,164,166,168,170,171,172,173,174,175,176,177,178,179,180,181,182,183,185,186,187,188,189,190,191,193,194,195,196,197,199,201,202,203,204,205,207,208,209,211,212,213,214,215,216,217,218,219,220,221,222,224,225,226,227,228,229,232,233,234,236,237,238,240,241,242,243,245,246,247,248,250,251,252,254,258,259,261,263,264,265,266,268,269,270,271,272,273,274,275,276,277,278,279,280,281,282,283,284,285,288,289,290,291,292,293,294,295,297,298,299,301,302,303,304,305,306,307,308,309,310,311,312,313,314,315,317,318,319,320,321,323,324,325,327,328,329,330,331,332,334,335,336,337,338,339,340,342,343,344,345,346,347,348,351,352,353,354,355,356,357,358,359,361,362,363,364],\"y\":[0.9,0.9,0.9,0.9,0.9,0.9,0.9,0.9,0.9,0.9,0.9,0.9,0.9,0.9,0.9,0.9,0.9,0.9,0.9,0.9,0.9,0.9,0.9,0.9,0.9,0.9,0.9,0.9,0.9,0.9,0.9,0.9,0.9,0.9,0.9,0.9,0.9,0.9,0.9,0.9,0.9,0.9,0.9,0.9,0.9,0.9,0.9,0.9,0.9,0.9,0.9,0.9,0.9,0.9,0.9,0.9,0.9,0.9,0.9,0.9,0.9,0.9,0.9,0.9,0.9,0.9,0.9,0.9,0.9,0.9,0.9,0.9,0.9,0.9,0.9,0.9,0.9,0.9,0.9,0.9,0.9,0.9,0.9,0.9,0.9,0.9,0.9,0.9,0.9,0.9,0.9,0.9,0.9,0.9,0.9,0.9,0.9,0.9,0.9,0.9,0.9,0.9,0.9,0.9,0.9,0.9,0.9,0.9,0.9,0.9,0.9,0.9,0.9,0.9,0.9,0.9,0.9,0.9,0.9,0.9,0.9,0.9,0.9,0.9,0.9,0.9,0.9,0.9,0.9,0.9,0.9,0.9,0.9,0.9,0.9,0.9,0.9,0.9,0.9,0.9,0.9,0.9,0.9,0.9,0.9,0.9,0.9,0.9,0.9,0.9,0.9,0.9,0.9,0.9,0.9,0.9,0.9,0.9,0.9,0.9,0.9,0.9,0.9,0.9,0.9,0.9,0.9,0.9,0.9,0.9,0.9,0.9,0.9,0.9,0.9,0.9,0.9,0.9,0.9,0.9,0.9,0.9,0.9,0.9,0.9,0.9,0.9,0.9,0.9,0.9,0.9,0.9,0.9,0.9,0.9,0.9,0.9,0.9,0.9,0.9,0.9,0.9,0.9,0.9,0.9,0.9,0.9,0.9,0.9,0.9,0.9,0.9,0.9,0.9,0.9,0.9,0.9,0.9,0.9,0.9,0.9,0.9,0.9,0.9,0.9,0.9,0.9,0.9,0.9,0.9,0.9,0.9,0.9,0.9,0.9,0.9,0.9,0.9,0.9,0.9,0.9,0.9,0.9,0.9,0.9,0.9,0.9,0.9,0.9,0.9,0.9,0.9,0.9,0.9,0.9,0.9,0.9,0.9,0.9,0.9,0.9,0.9,0.9,0.9,0.9,0.9,0.9,0.9,0.9,0.9,0.9,0.9,0.9,0.9,0.9,0.9,0.9,0.9,0.9,0.9,0.9,0.9,0.9,0.9,0.9,0.9,0.9,0.9,0.9,0.9,0.9,0.9,0.9],\"type\":\"scatter\"},{\"marker\":{\"color\":\"#EF553B\",\"symbol\":\"diamond-tall-open\"},\"mode\":\"markers\",\"name\":\"Fold 1 test\",\"x\":[0,11,14,25,26,34,37,39,40,41,51,55,62,63,64,66,74,77,80,85,88,93,95,97,102,111,117,121,122,128,136,142,144,145,154,156,162,165,167,169,184,192,198,200,206,210,223,230,231,235,239,244,249,253,255,256,257,260,262,267,286,287,296,300,316,322,326,333,341,349,350,360,365],\"y\":[1.1,1.1,1.1,1.1,1.1,1.1,1.1,1.1,1.1,1.1,1.1,1.1,1.1,1.1,1.1,1.1,1.1,1.1,1.1,1.1,1.1,1.1,1.1,1.1,1.1,1.1,1.1,1.1,1.1,1.1,1.1,1.1,1.1,1.1,1.1,1.1,1.1,1.1,1.1,1.1,1.1,1.1,1.1,1.1,1.1,1.1,1.1,1.1,1.1,1.1,1.1,1.1,1.1,1.1,1.1,1.1,1.1,1.1,1.1,1.1,1.1,1.1,1.1,1.1,1.1,1.1,1.1,1.1,1.1,1.1,1.1,1.1,1.1],\"type\":\"scatter\"},{\"marker\":{\"color\":\"#00CC96\",\"symbol\":\"circle\"},\"mode\":\"markers\",\"name\":\"Fold 2 train\",\"x\":[0,1,2,3,4,6,7,8,9,10,11,12,13,14,16,17,19,20,22,25,26,30,31,32,34,35,36,37,38,39,40,41,42,43,44,45,47,49,50,51,53,54,55,56,58,59,61,62,63,64,65,66,67,68,69,70,71,72,73,74,75,76,77,79,80,81,83,84,85,86,88,89,90,91,92,93,94,95,97,98,99,100,101,102,104,106,108,110,111,115,116,117,118,120,121,122,123,125,126,127,128,130,131,133,134,135,136,137,138,139,140,142,143,144,145,146,147,148,151,152,153,154,156,157,158,159,160,162,163,164,165,167,168,169,170,171,172,175,176,177,178,181,184,185,186,187,188,189,190,191,192,193,194,195,196,198,199,200,201,202,203,204,205,206,207,208,209,210,211,213,214,215,217,218,219,220,221,222,223,224,227,228,229,230,231,232,234,235,236,239,241,242,243,244,245,246,248,249,250,251,252,253,254,255,256,257,260,261,262,263,264,265,266,267,268,270,271,272,274,275,276,277,278,280,281,282,283,284,285,286,287,288,289,290,292,293,294,295,296,299,300,301,302,304,306,307,308,309,310,311,312,313,314,316,317,318,319,322,323,324,326,327,328,330,332,333,334,335,336,337,338,339,340,341,343,344,345,346,347,348,349,350,351,352,353,355,356,357,358,360,361,363,365],\"y\":[1.9,1.9,1.9,1.9,1.9,1.9,1.9,1.9,1.9,1.9,1.9,1.9,1.9,1.9,1.9,1.9,1.9,1.9,1.9,1.9,1.9,1.9,1.9,1.9,1.9,1.9,1.9,1.9,1.9,1.9,1.9,1.9,1.9,1.9,1.9,1.9,1.9,1.9,1.9,1.9,1.9,1.9,1.9,1.9,1.9,1.9,1.9,1.9,1.9,1.9,1.9,1.9,1.9,1.9,1.9,1.9,1.9,1.9,1.9,1.9,1.9,1.9,1.9,1.9,1.9,1.9,1.9,1.9,1.9,1.9,1.9,1.9,1.9,1.9,1.9,1.9,1.9,1.9,1.9,1.9,1.9,1.9,1.9,1.9,1.9,1.9,1.9,1.9,1.9,1.9,1.9,1.9,1.9,1.9,1.9,1.9,1.9,1.9,1.9,1.9,1.9,1.9,1.9,1.9,1.9,1.9,1.9,1.9,1.9,1.9,1.9,1.9,1.9,1.9,1.9,1.9,1.9,1.9,1.9,1.9,1.9,1.9,1.9,1.9,1.9,1.9,1.9,1.9,1.9,1.9,1.9,1.9,1.9,1.9,1.9,1.9,1.9,1.9,1.9,1.9,1.9,1.9,1.9,1.9,1.9,1.9,1.9,1.9,1.9,1.9,1.9,1.9,1.9,1.9,1.9,1.9,1.9,1.9,1.9,1.9,1.9,1.9,1.9,1.9,1.9,1.9,1.9,1.9,1.9,1.9,1.9,1.9,1.9,1.9,1.9,1.9,1.9,1.9,1.9,1.9,1.9,1.9,1.9,1.9,1.9,1.9,1.9,1.9,1.9,1.9,1.9,1.9,1.9,1.9,1.9,1.9,1.9,1.9,1.9,1.9,1.9,1.9,1.9,1.9,1.9,1.9,1.9,1.9,1.9,1.9,1.9,1.9,1.9,1.9,1.9,1.9,1.9,1.9,1.9,1.9,1.9,1.9,1.9,1.9,1.9,1.9,1.9,1.9,1.9,1.9,1.9,1.9,1.9,1.9,1.9,1.9,1.9,1.9,1.9,1.9,1.9,1.9,1.9,1.9,1.9,1.9,1.9,1.9,1.9,1.9,1.9,1.9,1.9,1.9,1.9,1.9,1.9,1.9,1.9,1.9,1.9,1.9,1.9,1.9,1.9,1.9,1.9,1.9,1.9,1.9,1.9,1.9,1.9,1.9,1.9,1.9,1.9,1.9,1.9,1.9,1.9,1.9,1.9,1.9,1.9,1.9,1.9,1.9,1.9,1.9,1.9,1.9,1.9],\"type\":\"scatter\"},{\"marker\":{\"color\":\"#00CC96\",\"symbol\":\"diamond-tall-open\"},\"mode\":\"markers\",\"name\":\"Fold 2 test\",\"x\":[5,15,18,21,23,24,27,28,29,33,46,48,52,57,60,78,82,87,96,103,105,107,109,112,113,114,119,124,129,132,141,149,150,155,161,166,173,174,179,180,182,183,197,212,216,225,226,233,237,238,240,247,258,259,269,273,279,291,297,298,303,305,315,320,321,325,329,331,342,354,359,362,364],\"y\":[2.1,2.1,2.1,2.1,2.1,2.1,2.1,2.1,2.1,2.1,2.1,2.1,2.1,2.1,2.1,2.1,2.1,2.1,2.1,2.1,2.1,2.1,2.1,2.1,2.1,2.1,2.1,2.1,2.1,2.1,2.1,2.1,2.1,2.1,2.1,2.1,2.1,2.1,2.1,2.1,2.1,2.1,2.1,2.1,2.1,2.1,2.1,2.1,2.1,2.1,2.1,2.1,2.1,2.1,2.1,2.1,2.1,2.1,2.1,2.1,2.1,2.1,2.1,2.1,2.1,2.1,2.1,2.1,2.1,2.1,2.1,2.1,2.1],\"type\":\"scatter\"},{\"marker\":{\"color\":\"#AB63FA\",\"symbol\":\"circle\"},\"mode\":\"markers\",\"name\":\"Fold 3 train\",\"x\":[0,1,3,5,7,8,10,11,12,13,14,15,16,17,18,19,21,22,23,24,25,26,27,28,29,30,31,32,33,34,36,37,38,39,40,41,42,43,45,46,48,49,50,51,52,53,54,55,56,57,60,62,63,64,65,66,68,70,71,74,75,77,78,79,80,81,82,83,84,85,86,87,88,90,91,92,93,95,96,97,99,100,102,103,105,106,107,109,111,112,113,114,116,117,118,119,120,121,122,123,124,128,129,130,131,132,133,134,135,136,139,140,141,142,143,144,145,149,150,151,153,154,155,156,157,159,160,161,162,163,164,165,166,167,169,172,173,174,175,176,177,179,180,181,182,183,184,185,186,187,188,189,190,191,192,193,194,196,197,198,199,200,201,202,203,205,206,208,209,210,212,213,214,215,216,218,220,223,224,225,226,227,229,230,231,232,233,234,235,237,238,239,240,242,243,244,245,246,247,248,249,250,251,253,254,255,256,257,258,259,260,262,263,264,266,267,268,269,270,273,274,276,278,279,280,281,283,284,285,286,287,288,289,290,291,293,294,295,296,297,298,299,300,301,302,303,304,305,306,307,308,311,313,314,315,316,317,318,320,321,322,324,325,326,327,329,331,332,333,334,337,339,340,341,342,344,345,346,348,349,350,353,354,355,356,357,359,360,361,362,363,364,365],\"y\":[2.9,2.9,2.9,2.9,2.9,2.9,2.9,2.9,2.9,2.9,2.9,2.9,2.9,2.9,2.9,2.9,2.9,2.9,2.9,2.9,2.9,2.9,2.9,2.9,2.9,2.9,2.9,2.9,2.9,2.9,2.9,2.9,2.9,2.9,2.9,2.9,2.9,2.9,2.9,2.9,2.9,2.9,2.9,2.9,2.9,2.9,2.9,2.9,2.9,2.9,2.9,2.9,2.9,2.9,2.9,2.9,2.9,2.9,2.9,2.9,2.9,2.9,2.9,2.9,2.9,2.9,2.9,2.9,2.9,2.9,2.9,2.9,2.9,2.9,2.9,2.9,2.9,2.9,2.9,2.9,2.9,2.9,2.9,2.9,2.9,2.9,2.9,2.9,2.9,2.9,2.9,2.9,2.9,2.9,2.9,2.9,2.9,2.9,2.9,2.9,2.9,2.9,2.9,2.9,2.9,2.9,2.9,2.9,2.9,2.9,2.9,2.9,2.9,2.9,2.9,2.9,2.9,2.9,2.9,2.9,2.9,2.9,2.9,2.9,2.9,2.9,2.9,2.9,2.9,2.9,2.9,2.9,2.9,2.9,2.9,2.9,2.9,2.9,2.9,2.9,2.9,2.9,2.9,2.9,2.9,2.9,2.9,2.9,2.9,2.9,2.9,2.9,2.9,2.9,2.9,2.9,2.9,2.9,2.9,2.9,2.9,2.9,2.9,2.9,2.9,2.9,2.9,2.9,2.9,2.9,2.9,2.9,2.9,2.9,2.9,2.9,2.9,2.9,2.9,2.9,2.9,2.9,2.9,2.9,2.9,2.9,2.9,2.9,2.9,2.9,2.9,2.9,2.9,2.9,2.9,2.9,2.9,2.9,2.9,2.9,2.9,2.9,2.9,2.9,2.9,2.9,2.9,2.9,2.9,2.9,2.9,2.9,2.9,2.9,2.9,2.9,2.9,2.9,2.9,2.9,2.9,2.9,2.9,2.9,2.9,2.9,2.9,2.9,2.9,2.9,2.9,2.9,2.9,2.9,2.9,2.9,2.9,2.9,2.9,2.9,2.9,2.9,2.9,2.9,2.9,2.9,2.9,2.9,2.9,2.9,2.9,2.9,2.9,2.9,2.9,2.9,2.9,2.9,2.9,2.9,2.9,2.9,2.9,2.9,2.9,2.9,2.9,2.9,2.9,2.9,2.9,2.9,2.9,2.9,2.9,2.9,2.9,2.9,2.9,2.9,2.9,2.9,2.9,2.9,2.9,2.9,2.9,2.9,2.9,2.9,2.9,2.9,2.9],\"type\":\"scatter\"},{\"marker\":{\"color\":\"#AB63FA\",\"symbol\":\"diamond-tall-open\"},\"mode\":\"markers\",\"name\":\"Fold 3 test\",\"x\":[2,4,6,9,20,35,44,47,58,59,61,67,69,72,73,76,89,94,98,101,104,108,110,115,125,126,127,137,138,146,147,148,152,158,168,170,171,178,195,204,207,211,217,219,221,222,228,236,241,252,261,265,271,272,275,277,282,292,309,310,312,319,323,328,330,335,336,338,343,347,351,352,358],\"y\":[3.1,3.1,3.1,3.1,3.1,3.1,3.1,3.1,3.1,3.1,3.1,3.1,3.1,3.1,3.1,3.1,3.1,3.1,3.1,3.1,3.1,3.1,3.1,3.1,3.1,3.1,3.1,3.1,3.1,3.1,3.1,3.1,3.1,3.1,3.1,3.1,3.1,3.1,3.1,3.1,3.1,3.1,3.1,3.1,3.1,3.1,3.1,3.1,3.1,3.1,3.1,3.1,3.1,3.1,3.1,3.1,3.1,3.1,3.1,3.1,3.1,3.1,3.1,3.1,3.1,3.1,3.1,3.1,3.1,3.1,3.1,3.1,3.1],\"type\":\"scatter\"},{\"marker\":{\"color\":\"#FFA15A\",\"symbol\":\"circle\"},\"mode\":\"markers\",\"name\":\"Fold 4 train\",\"x\":[0,2,3,4,5,6,7,8,9,11,12,14,15,17,18,19,20,21,22,23,24,25,26,27,28,29,30,32,33,34,35,37,38,39,40,41,43,44,46,47,48,49,50,51,52,53,55,56,57,58,59,60,61,62,63,64,65,66,67,69,70,71,72,73,74,76,77,78,79,80,81,82,83,85,86,87,88,89,91,93,94,95,96,97,98,99,100,101,102,103,104,105,107,108,109,110,111,112,113,114,115,116,117,119,121,122,124,125,126,127,128,129,131,132,133,135,136,137,138,139,141,142,144,145,146,147,148,149,150,152,154,155,156,157,158,161,162,165,166,167,168,169,170,171,173,174,176,178,179,180,181,182,183,184,185,186,190,191,192,195,197,198,200,202,203,204,206,207,209,210,211,212,213,214,215,216,217,219,221,222,223,225,226,227,228,229,230,231,232,233,235,236,237,238,239,240,241,242,244,245,247,249,251,252,253,255,256,257,258,259,260,261,262,263,264,265,266,267,268,269,271,272,273,275,276,277,278,279,282,283,286,287,288,289,291,292,293,296,297,298,299,300,303,305,306,309,310,311,312,313,315,316,317,319,320,321,322,323,325,326,327,328,329,330,331,332,333,335,336,338,340,341,342,343,344,345,346,347,348,349,350,351,352,353,354,355,357,358,359,360,362,364,365],\"y\":[3.9,3.9,3.9,3.9,3.9,3.9,3.9,3.9,3.9,3.9,3.9,3.9,3.9,3.9,3.9,3.9,3.9,3.9,3.9,3.9,3.9,3.9,3.9,3.9,3.9,3.9,3.9,3.9,3.9,3.9,3.9,3.9,3.9,3.9,3.9,3.9,3.9,3.9,3.9,3.9,3.9,3.9,3.9,3.9,3.9,3.9,3.9,3.9,3.9,3.9,3.9,3.9,3.9,3.9,3.9,3.9,3.9,3.9,3.9,3.9,3.9,3.9,3.9,3.9,3.9,3.9,3.9,3.9,3.9,3.9,3.9,3.9,3.9,3.9,3.9,3.9,3.9,3.9,3.9,3.9,3.9,3.9,3.9,3.9,3.9,3.9,3.9,3.9,3.9,3.9,3.9,3.9,3.9,3.9,3.9,3.9,3.9,3.9,3.9,3.9,3.9,3.9,3.9,3.9,3.9,3.9,3.9,3.9,3.9,3.9,3.9,3.9,3.9,3.9,3.9,3.9,3.9,3.9,3.9,3.9,3.9,3.9,3.9,3.9,3.9,3.9,3.9,3.9,3.9,3.9,3.9,3.9,3.9,3.9,3.9,3.9,3.9,3.9,3.9,3.9,3.9,3.9,3.9,3.9,3.9,3.9,3.9,3.9,3.9,3.9,3.9,3.9,3.9,3.9,3.9,3.9,3.9,3.9,3.9,3.9,3.9,3.9,3.9,3.9,3.9,3.9,3.9,3.9,3.9,3.9,3.9,3.9,3.9,3.9,3.9,3.9,3.9,3.9,3.9,3.9,3.9,3.9,3.9,3.9,3.9,3.9,3.9,3.9,3.9,3.9,3.9,3.9,3.9,3.9,3.9,3.9,3.9,3.9,3.9,3.9,3.9,3.9,3.9,3.9,3.9,3.9,3.9,3.9,3.9,3.9,3.9,3.9,3.9,3.9,3.9,3.9,3.9,3.9,3.9,3.9,3.9,3.9,3.9,3.9,3.9,3.9,3.9,3.9,3.9,3.9,3.9,3.9,3.9,3.9,3.9,3.9,3.9,3.9,3.9,3.9,3.9,3.9,3.9,3.9,3.9,3.9,3.9,3.9,3.9,3.9,3.9,3.9,3.9,3.9,3.9,3.9,3.9,3.9,3.9,3.9,3.9,3.9,3.9,3.9,3.9,3.9,3.9,3.9,3.9,3.9,3.9,3.9,3.9,3.9,3.9,3.9,3.9,3.9,3.9,3.9,3.9,3.9,3.9,3.9,3.9,3.9,3.9,3.9,3.9,3.9,3.9,3.9,3.9],\"type\":\"scatter\"},{\"marker\":{\"color\":\"#FFA15A\",\"symbol\":\"diamond-tall-open\"},\"mode\":\"markers\",\"name\":\"Fold 4 test\",\"x\":[1,10,13,16,31,36,42,45,54,68,75,84,90,92,106,118,120,123,130,134,140,143,151,153,159,160,163,164,172,175,177,187,188,189,193,194,196,199,201,205,208,218,220,224,234,243,246,248,250,254,270,274,280,281,284,285,290,294,295,301,302,304,307,308,314,318,324,334,337,339,356,361,363],\"y\":[4.1,4.1,4.1,4.1,4.1,4.1,4.1,4.1,4.1,4.1,4.1,4.1,4.1,4.1,4.1,4.1,4.1,4.1,4.1,4.1,4.1,4.1,4.1,4.1,4.1,4.1,4.1,4.1,4.1,4.1,4.1,4.1,4.1,4.1,4.1,4.1,4.1,4.1,4.1,4.1,4.1,4.1,4.1,4.1,4.1,4.1,4.1,4.1,4.1,4.1,4.1,4.1,4.1,4.1,4.1,4.1,4.1,4.1,4.1,4.1,4.1,4.1,4.1,4.1,4.1,4.1,4.1,4.1,4.1,4.1,4.1,4.1,4.1],\"type\":\"scatter\"}],                        {\"template\":{\"data\":{\"histogram2dcontour\":[{\"type\":\"histogram2dcontour\",\"colorbar\":{\"outlinewidth\":0,\"ticks\":\"\"},\"colorscale\":[[0.0,\"#0d0887\"],[0.1111111111111111,\"#46039f\"],[0.2222222222222222,\"#7201a8\"],[0.3333333333333333,\"#9c179e\"],[0.4444444444444444,\"#bd3786\"],[0.5555555555555556,\"#d8576b\"],[0.6666666666666666,\"#ed7953\"],[0.7777777777777778,\"#fb9f3a\"],[0.8888888888888888,\"#fdca26\"],[1.0,\"#f0f921\"]]}],\"choropleth\":[{\"type\":\"choropleth\",\"colorbar\":{\"outlinewidth\":0,\"ticks\":\"\"}}],\"histogram2d\":[{\"type\":\"histogram2d\",\"colorbar\":{\"outlinewidth\":0,\"ticks\":\"\"},\"colorscale\":[[0.0,\"#0d0887\"],[0.1111111111111111,\"#46039f\"],[0.2222222222222222,\"#7201a8\"],[0.3333333333333333,\"#9c179e\"],[0.4444444444444444,\"#bd3786\"],[0.5555555555555556,\"#d8576b\"],[0.6666666666666666,\"#ed7953\"],[0.7777777777777778,\"#fb9f3a\"],[0.8888888888888888,\"#fdca26\"],[1.0,\"#f0f921\"]]}],\"heatmap\":[{\"type\":\"heatmap\",\"colorbar\":{\"outlinewidth\":0,\"ticks\":\"\"},\"colorscale\":[[0.0,\"#0d0887\"],[0.1111111111111111,\"#46039f\"],[0.2222222222222222,\"#7201a8\"],[0.3333333333333333,\"#9c179e\"],[0.4444444444444444,\"#bd3786\"],[0.5555555555555556,\"#d8576b\"],[0.6666666666666666,\"#ed7953\"],[0.7777777777777778,\"#fb9f3a\"],[0.8888888888888888,\"#fdca26\"],[1.0,\"#f0f921\"]]}],\"heatmapgl\":[{\"type\":\"heatmapgl\",\"colorbar\":{\"outlinewidth\":0,\"ticks\":\"\"},\"colorscale\":[[0.0,\"#0d0887\"],[0.1111111111111111,\"#46039f\"],[0.2222222222222222,\"#7201a8\"],[0.3333333333333333,\"#9c179e\"],[0.4444444444444444,\"#bd3786\"],[0.5555555555555556,\"#d8576b\"],[0.6666666666666666,\"#ed7953\"],[0.7777777777777778,\"#fb9f3a\"],[0.8888888888888888,\"#fdca26\"],[1.0,\"#f0f921\"]]}],\"contourcarpet\":[{\"type\":\"contourcarpet\",\"colorbar\":{\"outlinewidth\":0,\"ticks\":\"\"}}],\"contour\":[{\"type\":\"contour\",\"colorbar\":{\"outlinewidth\":0,\"ticks\":\"\"},\"colorscale\":[[0.0,\"#0d0887\"],[0.1111111111111111,\"#46039f\"],[0.2222222222222222,\"#7201a8\"],[0.3333333333333333,\"#9c179e\"],[0.4444444444444444,\"#bd3786\"],[0.5555555555555556,\"#d8576b\"],[0.6666666666666666,\"#ed7953\"],[0.7777777777777778,\"#fb9f3a\"],[0.8888888888888888,\"#fdca26\"],[1.0,\"#f0f921\"]]}],\"surface\":[{\"type\":\"surface\",\"colorbar\":{\"outlinewidth\":0,\"ticks\":\"\"},\"colorscale\":[[0.0,\"#0d0887\"],[0.1111111111111111,\"#46039f\"],[0.2222222222222222,\"#7201a8\"],[0.3333333333333333,\"#9c179e\"],[0.4444444444444444,\"#bd3786\"],[0.5555555555555556,\"#d8576b\"],[0.6666666666666666,\"#ed7953\"],[0.7777777777777778,\"#fb9f3a\"],[0.8888888888888888,\"#fdca26\"],[1.0,\"#f0f921\"]]}],\"mesh3d\":[{\"type\":\"mesh3d\",\"colorbar\":{\"outlinewidth\":0,\"ticks\":\"\"}}],\"scatter\":[{\"fillpattern\":{\"fillmode\":\"overlay\",\"size\":10,\"solidity\":0.2},\"type\":\"scatter\"}],\"parcoords\":[{\"type\":\"parcoords\",\"line\":{\"colorbar\":{\"outlinewidth\":0,\"ticks\":\"\"}}}],\"scatterpolargl\":[{\"type\":\"scatterpolargl\",\"marker\":{\"colorbar\":{\"outlinewidth\":0,\"ticks\":\"\"}}}],\"bar\":[{\"error_x\":{\"color\":\"#2a3f5f\"},\"error_y\":{\"color\":\"#2a3f5f\"},\"marker\":{\"line\":{\"color\":\"#E5ECF6\",\"width\":0.5},\"pattern\":{\"fillmode\":\"overlay\",\"size\":10,\"solidity\":0.2}},\"type\":\"bar\"}],\"scattergeo\":[{\"type\":\"scattergeo\",\"marker\":{\"colorbar\":{\"outlinewidth\":0,\"ticks\":\"\"}}}],\"scatterpolar\":[{\"type\":\"scatterpolar\",\"marker\":{\"colorbar\":{\"outlinewidth\":0,\"ticks\":\"\"}}}],\"histogram\":[{\"marker\":{\"pattern\":{\"fillmode\":\"overlay\",\"size\":10,\"solidity\":0.2}},\"type\":\"histogram\"}],\"scattergl\":[{\"type\":\"scattergl\",\"marker\":{\"colorbar\":{\"outlinewidth\":0,\"ticks\":\"\"}}}],\"scatter3d\":[{\"type\":\"scatter3d\",\"line\":{\"colorbar\":{\"outlinewidth\":0,\"ticks\":\"\"}},\"marker\":{\"colorbar\":{\"outlinewidth\":0,\"ticks\":\"\"}}}],\"scattermapbox\":[{\"type\":\"scattermapbox\",\"marker\":{\"colorbar\":{\"outlinewidth\":0,\"ticks\":\"\"}}}],\"scatterternary\":[{\"type\":\"scatterternary\",\"marker\":{\"colorbar\":{\"outlinewidth\":0,\"ticks\":\"\"}}}],\"scattercarpet\":[{\"type\":\"scattercarpet\",\"marker\":{\"colorbar\":{\"outlinewidth\":0,\"ticks\":\"\"}}}],\"carpet\":[{\"aaxis\":{\"endlinecolor\":\"#2a3f5f\",\"gridcolor\":\"white\",\"linecolor\":\"white\",\"minorgridcolor\":\"white\",\"startlinecolor\":\"#2a3f5f\"},\"baxis\":{\"endlinecolor\":\"#2a3f5f\",\"gridcolor\":\"white\",\"linecolor\":\"white\",\"minorgridcolor\":\"white\",\"startlinecolor\":\"#2a3f5f\"},\"type\":\"carpet\"}],\"table\":[{\"cells\":{\"fill\":{\"color\":\"#EBF0F8\"},\"line\":{\"color\":\"white\"}},\"header\":{\"fill\":{\"color\":\"#C8D4E3\"},\"line\":{\"color\":\"white\"}},\"type\":\"table\"}],\"barpolar\":[{\"marker\":{\"line\":{\"color\":\"#E5ECF6\",\"width\":0.5},\"pattern\":{\"fillmode\":\"overlay\",\"size\":10,\"solidity\":0.2}},\"type\":\"barpolar\"}],\"pie\":[{\"automargin\":true,\"type\":\"pie\"}]},\"layout\":{\"autotypenumbers\":\"strict\",\"colorway\":[\"#636efa\",\"#EF553B\",\"#00cc96\",\"#ab63fa\",\"#FFA15A\",\"#19d3f3\",\"#FF6692\",\"#B6E880\",\"#FF97FF\",\"#FECB52\"],\"font\":{\"color\":\"#2a3f5f\"},\"hovermode\":\"closest\",\"hoverlabel\":{\"align\":\"left\"},\"paper_bgcolor\":\"white\",\"plot_bgcolor\":\"#E5ECF6\",\"polar\":{\"bgcolor\":\"#E5ECF6\",\"angularaxis\":{\"gridcolor\":\"white\",\"linecolor\":\"white\",\"ticks\":\"\"},\"radialaxis\":{\"gridcolor\":\"white\",\"linecolor\":\"white\",\"ticks\":\"\"}},\"ternary\":{\"bgcolor\":\"#E5ECF6\",\"aaxis\":{\"gridcolor\":\"white\",\"linecolor\":\"white\",\"ticks\":\"\"},\"baxis\":{\"gridcolor\":\"white\",\"linecolor\":\"white\",\"ticks\":\"\"},\"caxis\":{\"gridcolor\":\"white\",\"linecolor\":\"white\",\"ticks\":\"\"}},\"coloraxis\":{\"colorbar\":{\"outlinewidth\":0,\"ticks\":\"\"}},\"colorscale\":{\"sequential\":[[0.0,\"#0d0887\"],[0.1111111111111111,\"#46039f\"],[0.2222222222222222,\"#7201a8\"],[0.3333333333333333,\"#9c179e\"],[0.4444444444444444,\"#bd3786\"],[0.5555555555555556,\"#d8576b\"],[0.6666666666666666,\"#ed7953\"],[0.7777777777777778,\"#fb9f3a\"],[0.8888888888888888,\"#fdca26\"],[1.0,\"#f0f921\"]],\"sequentialminus\":[[0.0,\"#0d0887\"],[0.1111111111111111,\"#46039f\"],[0.2222222222222222,\"#7201a8\"],[0.3333333333333333,\"#9c179e\"],[0.4444444444444444,\"#bd3786\"],[0.5555555555555556,\"#d8576b\"],[0.6666666666666666,\"#ed7953\"],[0.7777777777777778,\"#fb9f3a\"],[0.8888888888888888,\"#fdca26\"],[1.0,\"#f0f921\"]],\"diverging\":[[0,\"#8e0152\"],[0.1,\"#c51b7d\"],[0.2,\"#de77ae\"],[0.3,\"#f1b6da\"],[0.4,\"#fde0ef\"],[0.5,\"#f7f7f7\"],[0.6,\"#e6f5d0\"],[0.7,\"#b8e186\"],[0.8,\"#7fbc41\"],[0.9,\"#4d9221\"],[1,\"#276419\"]]},\"xaxis\":{\"gridcolor\":\"white\",\"linecolor\":\"white\",\"ticks\":\"\",\"title\":{\"standoff\":15},\"zerolinecolor\":\"white\",\"automargin\":true,\"zerolinewidth\":2},\"yaxis\":{\"gridcolor\":\"white\",\"linecolor\":\"white\",\"ticks\":\"\",\"title\":{\"standoff\":15},\"zerolinecolor\":\"white\",\"automargin\":true,\"zerolinewidth\":2},\"scene\":{\"xaxis\":{\"backgroundcolor\":\"#E5ECF6\",\"gridcolor\":\"white\",\"linecolor\":\"white\",\"showbackground\":true,\"ticks\":\"\",\"zerolinecolor\":\"white\",\"gridwidth\":2},\"yaxis\":{\"backgroundcolor\":\"#E5ECF6\",\"gridcolor\":\"white\",\"linecolor\":\"white\",\"showbackground\":true,\"ticks\":\"\",\"zerolinecolor\":\"white\",\"gridwidth\":2},\"zaxis\":{\"backgroundcolor\":\"#E5ECF6\",\"gridcolor\":\"white\",\"linecolor\":\"white\",\"showbackground\":true,\"ticks\":\"\",\"zerolinecolor\":\"white\",\"gridwidth\":2}},\"shapedefaults\":{\"line\":{\"color\":\"#2a3f5f\"}},\"annotationdefaults\":{\"arrowcolor\":\"#2a3f5f\",\"arrowhead\":0,\"arrowwidth\":1},\"geo\":{\"bgcolor\":\"white\",\"landcolor\":\"#E5ECF6\",\"subunitcolor\":\"white\",\"showland\":true,\"showlakes\":true,\"lakecolor\":\"white\"},\"title\":{\"x\":0.05},\"mapbox\":{\"style\":\"light\"}}},\"title\":{\"text\":\"\\u00cdndice de muestras pertenecientes a cada <i>fold</i> <br><b>(Selecci\\u00f3n CON aleatoriedad shuffle=True)</b>\"},\"xaxis\":{\"title\":{\"text\":\"\\u00cdndice de las muestras\"}},\"yaxis\":{\"title\":{\"text\":\"N\\u00famero de Fold\"},\"tickvals\":[0,1,2,3,4]}},                        {\"responsive\": true}                    ).then(function(){\n",
              "                            \n",
              "var gd = document.getElementById('46292e46-1718-4c58-9973-fc9e5e1a746a');\n",
              "var x = new MutationObserver(function (mutations, observer) {{\n",
              "        var display = window.getComputedStyle(gd).display;\n",
              "        if (!display || display === 'none') {{\n",
              "            console.log([gd, 'removed!']);\n",
              "            Plotly.purge(gd);\n",
              "            observer.disconnect();\n",
              "        }}\n",
              "}});\n",
              "\n",
              "// Listen for the removal of the full notebook cells\n",
              "var notebookContainer = gd.closest('#notebook-container');\n",
              "if (notebookContainer) {{\n",
              "    x.observe(notebookContainer, {childList: true});\n",
              "}}\n",
              "\n",
              "// Listen for the clearing of the current output cell\n",
              "var outputEl = gd.closest('.output');\n",
              "if (outputEl) {{\n",
              "    x.observe(outputEl, {childList: true});\n",
              "}}\n",
              "\n",
              "                        })                };                            </script>        </div>\n",
              "</body>\n",
              "</html>"
            ]
          },
          "metadata": {}
        }
      ]
    },
    {
      "cell_type": "markdown",
      "source": [
        "## Regresión usando libreria sklearn\n",
        "\n",
        "Para realizar el modelo de regresión usando esta librería sólo debemos ordenar los datos de entrada en una matriz de **n** muestras/filas y **m** columnas/variables. A diferencia del modelo de regresión teórico analizado arriba, acá no es necesario concatenar una columna de 1's para obtener el bias/offset/intersección, ya que sklearn lo incluye por defecto. La función que debemos utilizas es [`sklearn.linear_model.LinearRegression`](https://scikit-learn.org/stable/modules/generated/sklearn.linear_model.LinearRegression.html).\n",
        "\n",
        "Nuevamente generamos nuestras matrices $X$ e $Y$, pero sin incluir la columna de 1's en $X$."
      ],
      "metadata": {
        "id": "9bb3vuaZqq0A"
      }
    },
    {
      "cell_type": "code",
      "source": [
        "n = data.shape[0] # Número de datos\n",
        "input_variable_name = ['MinTemp']\n",
        "output_variable_name = ['MaxTemp']\n",
        "X = data[input_variable_name].values\n",
        "Y = data[output_variable_name].values"
      ],
      "metadata": {
        "id": "ZBAT-HAwRAFO"
      },
      "execution_count": 16,
      "outputs": []
    },
    {
      "cell_type": "markdown",
      "source": [
        "y ahora obtenemos nuestro modelo de regresión lineal usando `sklearn`"
      ],
      "metadata": {
        "id": "J_fFpILsTaOX"
      }
    },
    {
      "cell_type": "code",
      "source": [
        "from sklearn.linear_model import LinearRegression\n",
        "\n",
        "model = LinearRegression().fit(X, Y)\n",
        "\n",
        "theta_sklearn  = np.array([model.intercept_] + [temp for temp in model.coef_]).reshape(-1,1)\n",
        "theta_sklearn"
      ],
      "metadata": {
        "colab": {
          "base_uri": "https://localhost:8080/"
        },
        "id": "oeauRa66TUsm",
        "outputId": "13df6141-5aa4-444d-b1e3-3224fbf79f45"
      },
      "execution_count": 17,
      "outputs": [
        {
          "output_type": "execute_result",
          "data": {
            "text/plain": [
              "array([[14.48005288],\n",
              "       [ 0.83547708]])"
            ]
          },
          "metadata": {},
          "execution_count": 17
        }
      ]
    },
    {
      "cell_type": "code",
      "source": [
        "text1 = 'La ecuación final de regresión usando sklearn es:'\n",
        "text2 = 'y_{%s} = %2.3f'%(output_variable_name[0], theta_sklearn[0])\n",
        "for i in range(1,len(theta_theoretical)):\n",
        "  text2 += ' + %2.3f X_{%s}'%(theta_sklearn[i],input_variable_name[i-1])\n",
        "print(text1,'\\n',text2)"
      ],
      "metadata": {
        "colab": {
          "base_uri": "https://localhost:8080/"
        },
        "id": "zSPNOFVSXCDd",
        "outputId": "2994e46f-4945-41ee-da7a-c26740b2676d"
      },
      "execution_count": 18,
      "outputs": [
        {
          "output_type": "stream",
          "name": "stdout",
          "text": [
            "La ecuación final de regresión usando sklearn es: \n",
            " y_{MaxTemp} = 14.480 + 0.835 X_{MinTemp}\n"
          ]
        }
      ]
    },
    {
      "cell_type": "markdown",
      "source": [
        "Ahora evaluamos el modelo en el conjunto de test ($X_{test}$)\n",
        "\n",
        "$$ Y_{test} = model.predict(X_{test})$$\n",
        "\n"
      ],
      "metadata": {
        "id": "bPh5rGNEWAM-"
      }
    },
    {
      "cell_type": "code",
      "source": [
        "Xtest = np.linspace(X[:,0].min(), X[:,0].max(), 1001).reshape(-1,1)\n",
        "Ytest = model.predict(Xtest)"
      ],
      "metadata": {
        "id": "oyQnCKDRV-n3"
      },
      "execution_count": 19,
      "outputs": []
    },
    {
      "cell_type": "markdown",
      "source": [
        "Ahora graficamos los datos originales y los datos de test."
      ],
      "metadata": {
        "id": "wn0jeTMrYN08"
      }
    },
    {
      "cell_type": "code",
      "source": [
        "text_title = '$ \\text{' + text1 + ' } \\\\' + text2 + '$'\n",
        "fig = go.Figure()\n",
        "fig.add_trace(go.Scatter(y=Y[:,0], x=X[:,0],mode='markers', name='Datos originales'))\n",
        "fig.add_trace(go.Scatter(y=Ytest[:,0], x=Xtest[:,0],mode='lines', name=r'Tendencia del modelo.<br>Datos test'))\n",
        "fig.update_layout(title=f\"{text_title!r}\", xaxis_title=input_variable_name[0], yaxis_title=output_variable_name[0])"
      ],
      "metadata": {
        "colab": {
          "base_uri": "https://localhost:8080/",
          "height": 542
        },
        "id": "ozdyNtKvYQIl",
        "outputId": "b265159e-a81c-4d7c-9f62-439ff371d0a7"
      },
      "execution_count": 20,
      "outputs": [
        {
          "output_type": "display_data",
          "data": {
            "text/html": [
              "<html>\n",
              "<head><meta charset=\"utf-8\" /></head>\n",
              "<body>\n",
              "    <div>            <script src=\"https://cdnjs.cloudflare.com/ajax/libs/mathjax/2.7.5/MathJax.js?config=TeX-AMS-MML_SVG\"></script><script type=\"text/javascript\">if (window.MathJax && window.MathJax.Hub && window.MathJax.Hub.Config) {window.MathJax.Hub.Config({SVG: {font: \"STIX-Web\"}});}</script>                <script type=\"text/javascript\">window.PlotlyConfig = {MathJaxConfig: 'local'};</script>\n",
              "        <script src=\"https://cdn.plot.ly/plotly-2.18.2.min.js\"></script>                <div id=\"a1203516-fcae-4d06-9595-e1888720a395\" class=\"plotly-graph-div\" style=\"height:525px; width:100%;\"></div>            <script type=\"text/javascript\">                                    window.PLOTLYENV=window.PLOTLYENV || {};                                    if (document.getElementById(\"a1203516-fcae-4d06-9595-e1888720a395\")) {                    Plotly.newPlot(                        \"a1203516-fcae-4d06-9595-e1888720a395\",                        [{\"mode\":\"markers\",\"name\":\"Datos originales\",\"x\":[8.0,14.0,13.7,13.3,7.6,6.2,6.1,8.3,8.8,8.4,9.1,8.5,10.1,12.1,10.1,12.4,13.8,11.7,12.4,15.6,15.3,16.4,12.8,12.0,15.4,15.6,13.3,12.9,15.1,13.6,15.1,11.6,16.6,13.3,14.5,16.3,17.2,16.5,15.0,14.9,11.8,11.7,9.6,8.9,10.1,15.5,10.8,7.5,12.8,12.6,14.8,19.9,9.2,12.4,11.3,9.8,14.3,15.1,14.4,15.4,13.8,13.6,14.3,15.9,16.7,12.1,14.3,16.5,16.5,17.5,14.7,17.5,20.9,17.0,16.0,15.4,17.9,15.2,15.1,15.3,17.2,15.9,10.0,9.9,10.3,15.4,12.7,13.2,15.3,17.9,18.0,17.6,16.0,14.9,17.1,18.2,16.8,13.6,14.5,12.4,10.4,9.1,8.9,14.5,12.6,8.6,10.8,11.2,12.1,10.8,11.4,12.0,16.3,12.7,12.7,12.0,11.5,13.0,11.7,14.8,7.7,4.4,7.4,8.3,10.1,12.0,12.9,10.8,9.5,12.1,12.5,13.9,13.3,13.2,12.3,13.8,11.3,11.7,12.5,15.1,11.5,13.0,11.6,12.8,15.5,13.1,12.6,4.4,4.4,7.1,4.2,9.6,3.5,5.3,7.0,0.4,3.2,5.9,8.1,6.9,5.6,7.2,7.1,6.1,7.1,5.6,5.4,6.3,5.3,7.9,8.4,8.1,2.4,5.6,7.5,2.5,5.0,3.8,7.9,4.3,-2.1,-1.8,3.8,2.1,0.5,-0.9,0.4,7.5,8.3,-0.2,0.1,1.5,8.3,9.4,1.3,2.2,-0.4,4.5,7.9,4.3,-2.7,0.3,3.8,2.4,1.2,1.2,-0.3,4.7,4.9,1.4,2.2,-0.1,-0.9,0.6,4.6,9.8,10.6,7.8,4.4,-0.2,4.3,7.4,8.6,10.2,7.3,8.7,1.0,2.1,6.4,5.4,0.4,4.0,8.4,0.4,4.2,0.9,0.8,4.3,6.3,3.5,-1.5,1.2,0.5,5.3,6.6,-1.6,-3.1,-0.1,-0.6,3.0,2.9,-1.3,1.8,2.9,-2.6,0.5,2.7,-1.7,-0.9,-1.8,1.3,2.4,-1.1,2.3,-2.2,-3.5,-1.0,-2.1,-2.0,-2.3,-1.6,0.8,-2.8,-2.8,3.0,4.4,2.3,-2.0,-1.9,4.8,-0.6,3.1,-2.9,-3.5,-0.3,0.1,2.3,2.1,4.6,3.7,-1.3,-3.4,-5.3,0.0,2.4,-0.6,2.3,-3.7,-0.9,-1.5,-3.3,-0.1,-0.2,0.5,6.1,4.1,0.1,3.2,5.4,5.8,6.3,-0.9,0.2,-3.7,-2.7,-2.5,-0.5,9.0,13.1,8.7,3.9,0.7,1.1,5.1,7.5,4.7,3.2,7.8,2.4,3.2,2.5,6.5,14.4,4.9,2.3,1.4,5.6,16.8,14.4,10.3,11.2,0.3,0.5,0.5,4.6,8.2,4.5,6.7,11.9,9.2,4.4,5.0,6.7,8.3,11.3,9.0,3.4,3.2,0.9,3.3,7.9,9.0,7.1,12.5,12.5,12.3],\"y\":[24.3,26.9,23.4,15.5,16.1,16.9,18.2,17.0,19.5,22.8,25.2,27.3,27.9,30.9,31.2,32.1,31.2,30.0,32.3,33.4,33.4,19.4,18.5,24.3,28.4,26.9,22.2,28.0,24.3,24.1,20.4,26.3,24.2,26.5,21.8,26.8,25.8,28.2,29.4,24.8,18.5,21.5,20.3,27.1,29.9,21.1,21.7,20.9,21.0,23.1,29.5,22.0,20.4,24.4,21.7,26.3,26.7,28.3,31.6,35.0,33.5,34.2,35.0,23.4,25.3,27.5,34.1,33.9,30.3,29.9,34.2,35.8,35.7,33.8,22.8,33.8,33.2,25.1,20.4,19.6,24.7,19.9,22.5,24.4,27.8,25.7,28.8,31.3,33.2,33.9,34.9,27.8,23.8,28.8,29.6,22.6,22.8,27.4,24.2,19.9,20.9,23.1,26.0,24.2,18.2,24.2,25.2,26.1,24.1,25.8,27.1,28.9,24.8,28.6,25.1,23.8,25.9,28.2,27.6,17.3,18.4,21.8,24.4,27.3,28.2,27.6,31.8,29.2,27.4,27.8,31.7,34.7,31.7,33.1,33.8,35.2,32.3,30.2,29.9,26.2,29.3,14.8,19.6,24.9,22.4,17.4,20.2,18.3,18.2,18.5,18.9,18.8,21.8,23.3,14.3,18.9,21.4,21.8,20.5,18.9,19.5,22.9,23.4,24.1,19.8,18.0,20.7,19.3,21.0,19.7,16.1,18.7,20.6,18.9,19.0,21.2,20.9,21.7,18.7,11.3,13.8,14.8,13.8,17.3,17.1,16.7,19.0,16.8,17.6,18.1,21.0,20.9,17.4,19.2,19.0,18.6,17.9,16.0,12.3,14.1,18.1,17.0,17.4,14.7,14.8,14.5,17.5,18.5,18.1,16.8,17.5,18.0,18.5,14.0,15.7,14.4,15.1,15.1,16.7,15.5,14.5,16.3,13.7,15.0,16.4,13.0,11.8,14.7,16.9,15.5,15.5,15.9,11.7,13.9,14.0,12.9,13.0,12.6,11.8,14.3,14.8,16.0,15.4,11.7,13.1,11.5,12.0,14.2,14.0,11.1,9.5,8.8,8.7,8.4,11.1,11.0,16.5,13.6,12.8,11.5,10.6,11.6,11.0,11.6,11.6,11.2,12.2,12.9,11.3,9.7,10.7,12.2,12.2,14.1,9.7,11.5,12.8,12.3,10.9,14.1,11.1,12.5,9.6,7.6,9.3,10.4,12.2,10.7,14.7,14.2,11.6,12.5,13.1,14.0,14.1,12.2,11.6,14.4,14.2,17.3,15.1,14.7,16.2,16.3,17.2,14.8,16.7,12.1,11.3,12.4,16.1,16.7,15.5,14.7,15.2,16.6,21.6,25.5,19.4,19.7,13.2,14.1,18.0,23.3,23.3,19.5,21.9,16.2,17.3,18.7,20.9,25.7,24.3,18.9,16.8,20.6,27.6,28.9,20.7,21.3,18.0,16.0,17.9,20.0,22.0,22.4,23.9,26.1,21.1,19.6,21.0,24.1,24.7,28.5,27.4,20.6,15.0,18.0,20.7,25.5,26.1,30.7,28.4,19.9,26.9,30.2],\"type\":\"scatter\"},{\"mode\":\"lines\",\"name\":\"Tendencia del modelo.<br>Datos test\",\"x\":[-5.3,-5.2738,-5.2476,-5.2214,-5.1952,-5.169,-5.1428,-5.1166,-5.0904,-5.0642,-5.038,-5.0118,-4.9856,-4.9594,-4.9332,-4.907,-4.8808,-4.8546,-4.8284,-4.8022,-4.776,-4.7498,-4.7236,-4.6974,-4.6712,-4.645,-4.6188,-4.5926,-4.5664,-4.5402,-4.514,-4.4878,-4.4616,-4.4354,-4.4092,-4.383,-4.3568,-4.3306,-4.3044,-4.2782,-4.252,-4.2258,-4.1996,-4.1734,-4.1472,-4.121,-4.0948,-4.0686,-4.0424,-4.0161999999999995,-3.99,-3.9638,-3.9375999999999998,-3.9114,-3.8852,-3.859,-3.8327999999999998,-3.8066,-3.7804,-3.7542,-3.7279999999999998,-3.7018,-3.6756,-3.6494,-3.6231999999999998,-3.597,-3.5708,-3.5446,-3.5183999999999997,-3.4922,-3.466,-3.4398,-3.4135999999999997,-3.3874,-3.3612,-3.335,-3.3087999999999997,-3.2826,-3.2564,-3.2302,-3.204,-3.1778,-3.1516,-3.1254,-3.0992,-3.073,-3.0468,-3.0206,-2.9944,-2.9682,-2.942,-2.9158,-2.8896,-2.8634,-2.8372,-2.811,-2.7848,-2.7586,-2.7324,-2.7062,-2.68,-2.6538,-2.6276,-2.6014,-2.5752,-2.549,-2.5228,-2.4966,-2.4704,-2.4442,-2.418,-2.3918,-2.3656,-2.3394,-2.3132,-2.287,-2.2608,-2.2346,-2.2084,-2.1822,-2.156,-2.1298,-2.1036,-2.0774,-2.0512,-2.025,-1.9988000000000001,-1.9726,-1.9464000000000001,-1.9202000000000004,-1.8940000000000001,-1.8678000000000003,-1.8416000000000001,-1.8154000000000003,-1.7892000000000001,-1.7630000000000003,-1.7368000000000001,-1.7106000000000003,-1.6844000000000001,-1.6582000000000003,-1.6320000000000001,-1.6058000000000003,-1.5796000000000001,-1.5534000000000003,-1.5272000000000001,-1.5010000000000003,-1.4748,-1.4486000000000003,-1.4224,-1.3962000000000003,-1.37,-1.3438000000000003,-1.3176,-1.2914000000000003,-1.2652,-1.2389999999999999,-1.2128000000000005,-1.1866000000000003,-1.1604,-1.1341999999999999,-1.1080000000000005,-1.0818000000000003,-1.0556,-1.0293999999999999,-1.0032000000000005,-0.9770000000000003,-0.9508000000000001,-0.9245999999999999,-0.8984000000000005,-0.8722000000000003,-0.8460000000000001,-0.8197999999999999,-0.7936000000000005,-0.7674000000000003,-0.7412000000000001,-0.7149999999999999,-0.6888000000000005,-0.6626000000000003,-0.6364000000000001,-0.6101999999999999,-0.5840000000000005,-0.5578000000000003,-0.5316000000000001,-0.5053999999999998,-0.4792000000000005,-0.4530000000000003,-0.42680000000000007,-0.40059999999999985,-0.3744000000000005,-0.3482000000000003,-0.32200000000000006,-0.29579999999999984,-0.2696000000000005,-0.24340000000000028,-0.21720000000000006,-0.19100000000000072,-0.1648000000000005,-0.13860000000000028,-0.11240000000000006,-0.08620000000000072,-0.0600000000000005,-0.033800000000000274,-0.007600000000000051,0.018599999999999284,0.04479999999999951,0.07099999999999973,0.09719999999999995,0.12339999999999929,0.1495999999999995,0.17579999999999973,0.20199999999999996,0.2281999999999993,0.2543999999999995,0.28059999999999974,0.30679999999999996,0.3329999999999993,0.3591999999999995,0.38539999999999974,0.41159999999999997,0.4377999999999993,0.4639999999999995,0.49019999999999975,0.5164,0.5425999999999993,0.5687999999999995,0.5949999999999998,0.6212,0.6473999999999993,0.6735999999999995,0.6997999999999998,0.726,0.7521999999999993,0.7783999999999995,0.8045999999999998,0.8308,0.8569999999999993,0.8831999999999995,0.9093999999999998,0.9356,0.9617999999999993,0.9879999999999995,1.0141999999999998,1.0404,1.0665999999999993,1.0927999999999995,1.1189999999999998,1.1452,1.1713999999999993,1.1975999999999996,1.2237999999999998,1.25,1.2761999999999993,1.3023999999999996,1.3285999999999998,1.3548,1.3809999999999993,1.4071999999999996,1.4333999999999998,1.4595999999999991,1.4857999999999993,1.5119999999999996,1.5381999999999998,1.5643999999999991,1.5905999999999993,1.6167999999999996,1.6429999999999998,1.6691999999999991,1.6953999999999994,1.7215999999999996,1.7477999999999998,1.7739999999999991,1.8001999999999994,1.8263999999999996,1.8525999999999998,1.8787999999999991,1.9049999999999994,1.9311999999999996,1.9573999999999998,1.9835999999999991,2.0097999999999994,2.0359999999999996,2.0622,2.088399999999999,2.1145999999999994,2.1407999999999996,2.167,2.193199999999999,2.2193999999999994,2.2455999999999996,2.2718,2.297999999999999,2.3241999999999994,2.3503999999999996,2.3766,2.402799999999999,2.4289999999999994,2.4551999999999996,2.4814,2.507599999999999,2.5337999999999994,2.5599999999999996,2.5862,2.612399999999999,2.6385999999999994,2.6647999999999996,2.691,2.717199999999999,2.7434000000000003,2.7695999999999996,2.795799999999999,2.822,2.8481999999999994,2.8743999999999987,2.9006,2.926799999999999,2.9530000000000003,2.9791999999999996,3.005399999999999,3.0316,3.0577999999999994,3.0839999999999987,3.1102,3.136399999999999,3.1625999999999985,3.1887999999999996,3.214999999999999,3.2412,3.2673999999999994,3.2935999999999988,3.3198,3.345999999999999,3.3721999999999985,3.3983999999999996,3.424599999999999,3.4508,3.4769999999999994,3.5031999999999988,3.5294,3.555599999999999,3.5817999999999985,3.6079999999999997,3.634199999999999,3.6604,3.6865999999999994,3.7127999999999988,3.739,3.765199999999999,3.7913999999999985,3.8175999999999997,3.843799999999999,3.87,3.8961999999999994,3.9223999999999988,3.9486,3.9747999999999992,4.000999999999999,4.0272,4.053399999999999,4.0796,4.1057999999999995,4.131999999999999,4.1582,4.184399999999999,4.210599999999999,4.2368,4.262999999999999,4.2892,4.3153999999999995,4.341599999999999,4.3678,4.393999999999999,4.420199999999999,4.4464,4.472599999999999,4.4988,4.5249999999999995,4.551199999999999,4.5774,4.603599999999999,4.629799999999999,4.656,4.682199999999999,4.7084,4.7345999999999995,4.760799999999999,4.787,4.813199999999999,4.839399999999999,4.8656,4.891799999999999,4.917999999999998,4.9441999999999995,4.970399999999999,4.9966,5.022799999999999,5.048999999999999,5.0752,5.101399999999999,5.127599999999998,5.1537999999999995,5.179999999999999,5.2062,5.232399999999999,5.258599999999999,5.2848,5.310999999999999,5.337199999999998,5.3633999999999995,5.389599999999999,5.4158,5.441999999999999,5.468199999999999,5.4944,5.520599999999999,5.546799999999998,5.5729999999999995,5.599199999999999,5.6254,5.651599999999999,5.677799999999999,5.704,5.730199999999999,5.756399999999998,5.7825999999999995,5.808799999999999,5.835,5.861199999999999,5.887399999999999,5.9136,5.939799999999999,5.965999999999998,5.9921999999999995,6.018399999999999,6.0446,6.070799999999999,6.096999999999999,6.1232,6.149399999999999,6.175599999999998,6.2017999999999995,6.227999999999999,6.2542,6.280399999999999,6.306599999999999,6.3328,6.358999999999999,6.385199999999998,6.4113999999999995,6.437599999999999,6.463799999999998,6.489999999999999,6.516199999999999,6.5424,6.568599999999999,6.594799999999998,6.6209999999999996,6.647199999999999,6.673399999999998,6.699599999999999,6.725799999999999,6.752,6.778199999999999,6.8043999999999984,6.8306,6.856799999999999,6.882999999999998,6.909199999999999,6.935399999999999,6.9616,6.987799999999999,7.0139999999999985,7.0402,7.066399999999999,7.092599999999998,7.118799999999999,7.144999999999999,7.1712,7.197399999999999,7.2235999999999985,7.2498,7.275999999999999,7.302199999999998,7.328399999999999,7.354599999999999,7.3808,7.406999999999999,7.4331999999999985,7.4594,7.485599999999999,7.511799999999998,7.537999999999999,7.564199999999999,7.5904,7.616599999999999,7.6427999999999985,7.669,7.695199999999999,7.721399999999998,7.747599999999999,7.773799999999999,7.8,7.826199999999999,7.8523999999999985,7.8786,7.904799999999999,7.930999999999998,7.957199999999999,7.983399999999999,8.009599999999999,8.035799999999998,8.061999999999998,8.0882,8.1144,8.1406,8.166799999999999,8.192999999999998,8.219199999999997,8.2454,8.2716,8.297799999999999,8.323999999999998,8.350199999999997,8.3764,8.4026,8.428799999999999,8.454999999999998,8.481199999999998,8.5074,8.5336,8.5598,8.585999999999999,8.612199999999998,8.638399999999997,8.6646,8.6908,8.716999999999999,8.743199999999998,8.769399999999997,8.7956,8.8218,8.847999999999999,8.874199999999998,8.900399999999998,8.9266,8.9528,8.979,9.005199999999999,9.031399999999998,9.057599999999997,9.0838,9.11,9.136199999999999,9.162399999999998,9.188599999999997,9.2148,9.241,9.267199999999999,9.293399999999998,9.319599999999998,9.3458,9.372,9.3982,9.424399999999999,9.450599999999998,9.476799999999997,9.503,9.5292,9.555399999999999,9.581599999999998,9.607799999999997,9.634,9.6602,9.686399999999999,9.712599999999998,9.738799999999998,9.765,9.7912,9.8174,9.843599999999999,9.869799999999998,9.895999999999997,9.9222,9.9484,9.974599999999999,10.000799999999998,10.026999999999997,10.0532,10.0794,10.105599999999999,10.131799999999998,10.157999999999998,10.184199999999997,10.2104,10.2366,10.262799999999999,10.288999999999998,10.315199999999997,10.3414,10.3676,10.393799999999999,10.419999999999998,10.446199999999997,10.4724,10.4986,10.524799999999999,10.550999999999998,10.577199999999998,10.603399999999997,10.6296,10.6558,10.681999999999999,10.708199999999998,10.734399999999997,10.760599999999997,10.7868,10.812999999999999,10.839199999999998,10.865399999999998,10.891599999999997,10.917799999999996,10.943999999999999,10.970199999999998,10.996399999999998,11.022599999999997,11.048799999999996,11.075,11.101199999999999,11.127399999999998,11.153599999999997,11.179799999999997,11.206,11.232199999999999,11.258399999999998,11.284599999999998,11.310799999999997,11.336999999999996,11.363199999999999,11.389399999999998,11.415599999999998,11.441799999999997,11.467999999999996,11.4942,11.520399999999999,11.546599999999998,11.572799999999997,11.598999999999997,11.625199999999996,11.651399999999999,11.677599999999998,11.703799999999998,11.729999999999997,11.756199999999996,11.782399999999999,11.808599999999998,11.834799999999998,11.860999999999997,11.887199999999996,11.9134,11.939599999999999,11.965799999999998,11.991999999999997,12.018199999999997,12.044399999999996,12.070599999999999,12.096799999999998,12.122999999999998,12.149199999999997,12.175399999999996,12.2016,12.227799999999998,12.253999999999998,12.280199999999997,12.306399999999996,12.3326,12.358799999999999,12.384999999999998,12.411199999999997,12.437399999999997,12.463599999999996,12.489799999999999,12.515999999999998,12.542199999999998,12.568399999999997,12.594599999999996,12.6208,12.646999999999998,12.673199999999998,12.699399999999997,12.725599999999996,12.7518,12.777999999999999,12.804199999999998,12.830399999999997,12.856599999999997,12.882799999999996,12.908999999999999,12.935199999999998,12.961399999999998,12.987599999999997,13.013799999999996,13.04,13.066199999999998,13.092399999999998,13.118599999999997,13.144799999999996,13.170999999999996,13.197199999999999,13.223399999999998,13.249599999999997,13.275799999999997,13.301999999999996,13.328199999999999,13.354399999999998,13.380599999999998,13.406799999999997,13.432999999999996,13.4592,13.485399999999998,13.511599999999998,13.537799999999997,13.563999999999997,13.590199999999996,13.616399999999999,13.642599999999998,13.668799999999997,13.694999999999997,13.721199999999996,13.747399999999999,13.773599999999998,13.799799999999998,13.825999999999997,13.852199999999996,13.8784,13.904599999999999,13.930799999999998,13.956999999999997,13.983199999999997,14.009399999999996,14.035599999999999,14.061799999999998,14.087999999999997,14.114199999999997,14.140399999999996,14.166599999999999,14.192799999999998,14.218999999999998,14.245199999999997,14.271399999999996,14.2976,14.323799999999999,14.349999999999998,14.376199999999997,14.402399999999997,14.428599999999996,14.454799999999999,14.480999999999998,14.507199999999997,14.533399999999997,14.559599999999996,14.585799999999999,14.611999999999998,14.638199999999998,14.664399999999997,14.690599999999996,14.7168,14.742999999999999,14.769199999999998,14.795399999999997,14.821599999999997,14.847799999999996,14.873999999999999,14.900199999999998,14.926399999999997,14.952599999999997,14.978799999999996,15.004999999999999,15.031199999999998,15.057399999999998,15.083599999999997,15.109799999999996,15.135999999999996,15.162199999999999,15.188399999999998,15.214599999999997,15.240799999999997,15.266999999999996,15.293199999999999,15.319399999999998,15.345599999999997,15.371799999999997,15.397999999999996,15.424199999999999,15.450399999999998,15.476599999999998,15.502799999999997,15.528999999999996,15.555199999999996,15.581399999999999,15.607599999999998,15.633799999999997,15.659999999999997,15.686199999999996,15.712399999999999,15.738599999999998,15.764799999999997,15.790999999999997,15.817199999999996,15.843399999999999,15.869599999999998,15.895799999999998,15.921999999999997,15.948199999999996,15.974399999999996,16.0006,16.026799999999998,16.052999999999997,16.079199999999997,16.105399999999996,16.1316,16.157799999999998,16.183999999999997,16.210199999999997,16.236399999999996,16.2626,16.2888,16.314999999999998,16.341199999999997,16.367399999999996,16.393599999999996,16.4198,16.445999999999998,16.472199999999997,16.498399999999997,16.524599999999996,16.5508,16.576999999999998,16.603199999999998,16.629399999999997,16.655599999999996,16.681799999999996,16.708,16.734199999999998,16.760399999999997,16.786599999999996,16.812799999999996,16.839,16.865199999999998,16.891399999999997,16.917599999999997,16.943799999999996,16.97,16.996199999999998,17.022399999999998,17.048599999999997,17.074799999999996,17.100999999999996,17.1272,17.153399999999998,17.179599999999997,17.205799999999996,17.231999999999996,17.2582,17.284399999999998,17.310599999999997,17.336799999999997,17.362999999999996,17.3892,17.415399999999998,17.441599999999998,17.467799999999997,17.493999999999996,17.520199999999996,17.5464,17.572599999999998,17.598799999999997,17.624999999999996,17.651199999999996,17.6774,17.703599999999998,17.729799999999997,17.755999999999997,17.782199999999996,17.8084,17.8346,17.860799999999998,17.886999999999997,17.913199999999996,17.939399999999996,17.9656,17.991799999999998,18.017999999999997,18.044199999999996,18.070399999999996,18.0966,18.122799999999998,18.148999999999997,18.175199999999997,18.201399999999996,18.227599999999995,18.2538,18.279999999999998,18.306199999999997,18.332399999999996,18.358599999999996,18.3848,18.410999999999998,18.437199999999997,18.463399999999996,18.489599999999996,18.5158,18.541999999999998,18.568199999999997,18.594399999999997,18.620599999999996,18.646799999999995,18.673,18.699199999999998,18.725399999999997,18.751599999999996,18.777799999999996,18.804,18.830199999999998,18.856399999999997,18.882599999999996,18.908799999999996,18.935,18.961199999999998,18.987399999999997,19.013599999999997,19.039799999999996,19.065999999999995,19.0922,19.118399999999998,19.144599999999997,19.170799999999996,19.196999999999996,19.2232,19.249399999999998,19.275599999999997,19.301799999999997,19.327999999999996,19.3542,19.380399999999998,19.406599999999997,19.432799999999997,19.458999999999996,19.485199999999995,19.5114,19.537599999999998,19.563799999999997,19.589999999999996,19.616199999999996,19.6424,19.668599999999998,19.694799999999997,19.720999999999997,19.747199999999996,19.7734,19.799599999999998,19.825799999999997,19.851999999999997,19.878199999999996,19.904399999999995,19.9306,19.956799999999998,19.982999999999997,20.009199999999996,20.035399999999996,20.0616,20.087799999999998,20.113999999999997,20.140199999999997,20.166399999999996,20.192599999999995,20.218799999999998,20.244999999999997,20.271199999999997,20.297399999999996,20.323599999999995,20.3498,20.375999999999998,20.402199999999997,20.428399999999996,20.454599999999996,20.4808,20.506999999999998,20.533199999999997,20.559399999999997,20.585599999999996,20.611799999999995,20.637999999999998,20.664199999999997,20.690399999999997,20.716599999999996,20.742799999999995,20.769,20.795199999999998,20.821399999999997,20.847599999999996,20.873799999999996,20.9],\"y\":[10.052024358556361,10.073913858017317,10.095803357478271,10.117692856939225,10.13958235640018,10.161471855861135,10.18336135532209,10.205250854783046,10.227140354244,10.249029853704954,10.270919353165908,10.292808852626864,10.31469835208782,10.336587851548774,10.358477351009729,10.380366850470683,10.402256349931639,10.424145849392595,10.446035348853549,10.467924848314503,10.489814347775457,10.511703847236413,10.533593346697367,10.555482846158323,10.577372345619278,10.599261845080232,10.621151344541186,10.643040844002142,10.664930343463096,10.686819842924052,10.708709342385006,10.73059884184596,10.752488341306917,10.77437784076787,10.796267340228825,10.818156839689781,10.840046339150735,10.861935838611691,10.883825338072645,10.9057148375336,10.927604336994555,10.94949383645551,10.971383335916464,10.99327283537742,11.015162334838374,11.037051834299328,11.058941333760284,11.080830833221238,11.102720332682193,11.124609832143149,11.146499331604103,11.168388831065059,11.190278330526013,11.212167829986967,11.234057329447921,11.255946828908877,11.277836328369833,11.299725827830787,11.321615327291742,11.343504826752696,11.365394326213652,11.387283825674606,11.409173325135562,11.431062824596516,11.45295232405747,11.474841823518426,11.49673132297938,11.518620822440337,11.54051032190129,11.562399821362245,11.5842893208232,11.606178820284155,11.62806831974511,11.649957819206065,11.67184731866702,11.693736818127974,11.71562631758893,11.737515817049884,11.759405316510838,11.781294815971794,11.803184315432748,11.825073814893702,11.846963314354658,11.868852813815613,11.890742313276569,11.912631812737523,11.934521312198477,11.956410811659433,11.978300311120387,12.000189810581343,12.022079310042297,12.043968809503252,12.065858308964206,12.087747808425162,12.109637307886116,12.131526807347072,12.153416306808026,12.17530580626898,12.197195305729934,12.21908480519089,12.240974304651845,12.2628638041128,12.284753303573755,12.306642803034709,12.328532302495665,12.35042180195662,12.372311301417575,12.39420080087853,12.416090300339484,12.43797979980044,12.459869299261394,12.481758798722348,12.503648298183304,12.525537797644258,12.547427297105212,12.569316796566168,12.591206296027122,12.613095795488078,12.634985294949033,12.656874794409987,12.678764293870943,12.700653793331897,12.722543292792851,12.744432792253807,12.766322291714761,12.788211791175716,12.810101290636672,12.831990790097626,12.853880289558582,12.875769789019536,12.89765928848049,12.919548787941444,12.9414382874024,12.963327786863355,12.98521728632431,13.007106785785265,13.028996285246219,13.050885784707175,13.072775284168129,13.094664783629083,13.11655428309004,13.138443782550993,13.16033328201195,13.182222781472904,13.204112280933858,13.226001780394814,13.247891279855768,13.269780779316722,13.291670278777678,13.313559778238632,13.335449277699588,13.357338777160543,13.379228276621497,13.401117776082451,13.423007275543407,13.444896775004361,13.466786274465317,13.488675773926271,13.510565273387225,13.532454772848181,13.554344272309136,13.57623377177009,13.598123271231046,13.620012770692,13.641902270152954,13.66379176961391,13.685681269074864,13.70757076853582,13.729460267996775,13.751349767457729,13.773239266918685,13.795128766379639,13.817018265840593,13.838907765301549,13.860797264762503,13.88268676422346,13.904576263684413,13.926465763145368,13.948355262606324,13.970244762067278,13.992134261528232,14.014023760989188,14.035913260450142,14.057802759911098,14.079692259372052,14.101581758833007,14.123471258293963,14.145360757754917,14.167250257215871,14.189139756676827,14.211029256137781,14.232918755598737,14.254808255059691,14.276697754520645,14.298587253981601,14.320476753442556,14.34236625290351,14.364255752364466,14.38614525182542,14.408034751286374,14.42992425074733,14.451813750208284,14.473703249669239,14.495592749130193,14.517482248591149,14.539371748052103,14.561261247513059,14.583150746974013,14.605040246434967,14.626929745895923,14.648819245356878,14.670708744817832,14.692598244278788,14.714487743739742,14.736377243200698,14.758266742661652,14.780156242122606,14.802045741583562,14.823935241044516,14.84582474050547,14.867714239966427,14.88960373942738,14.911493238888337,14.933382738349291,14.955272237810245,14.977161737271201,14.999051236732155,15.02094073619311,15.042830235654066,15.06471973511502,15.086609234575976,15.10849873403693,15.130388233497884,15.15227773295884,15.174167232419794,15.196056731880748,15.217946231341704,15.239835730802659,15.261725230263615,15.283614729724569,15.305504229185523,15.327393728646477,15.349283228107433,15.371172727568387,15.393062227029343,15.414951726490298,15.436841225951252,15.458730725412206,15.480620224873162,15.502509724334118,15.524399223795072,15.546288723256026,15.56817822271698,15.590067722177936,15.61195722163889,15.633846721099845,15.6557362205608,15.677625720021755,15.69951521948271,15.721404718943665,15.74329421840462,15.765183717865575,15.78707321732653,15.808962716787484,15.83085221624844,15.852741715709394,15.874631215170348,15.896520714631304,15.918410214092258,15.940299713553214,15.962189213014168,15.984078712475123,16.00596821193608,16.027857711397033,16.049747210857987,16.07163671031894,16.0935262097799,16.115415709240853,16.137305208701807,16.15919470816276,16.181084207623716,16.202973707084674,16.224863206545628,16.246752706006582,16.268642205467536,16.29053170492849,16.312421204389445,16.3343107038504,16.356200203311356,16.37808970277231,16.399979202233265,16.42186870169422,16.443758201155177,16.46564770061613,16.487537200077085,16.50942669953804,16.531316198998994,16.553205698459948,16.575095197920902,16.59698469738186,16.618874196842814,16.640763696303768,16.662653195764722,16.68454269522568,16.706432194686634,16.72832169414759,16.750211193608543,16.772100693069497,16.79399019253045,16.815879691991405,16.837769191452363,16.859658690913317,16.88154819037427,16.903437689835226,16.92532718929618,16.947216688757138,16.969106188218092,16.990995687679046,17.01288518714,17.034774686600954,17.05666418606191,17.078553685522866,17.10044318498382,17.122332684444775,17.14422218390573,17.166111683366683,17.18800118282764,17.209890682288595,17.23178018174955,17.253669681210503,17.275559180671458,17.297448680132412,17.31933817959337,17.341227679054324,17.363117178515278,17.385006677976232,17.406896177437186,17.428785676898144,17.4506751763591,17.472564675820053,17.494454175281007,17.51634367474196,17.53823317420292,17.560122673663873,17.582012173124827,17.60390167258578,17.625791172046736,17.64768067150769,17.669570170968647,17.6914596704296,17.713349169890556,17.73523866935151,17.757128168812464,17.779017668273422,17.800907167734376,17.82279666719533,17.844686166656285,17.86657566611724,17.888465165578197,17.91035466503915,17.932244164500105,17.95413366396106,17.976023163422013,17.997912662882968,18.019802162343925,18.04169166180488,18.063581161265834,18.085470660726788,18.107360160187742,18.1292496596487,18.151139159109654,18.17302865857061,18.194918158031562,18.216807657492517,18.23869715695347,18.260586656414425,18.282476155875383,18.304365655336337,18.32625515479729,18.348144654258245,18.370034153719203,18.391923653180157,18.41381315264111,18.435702652102066,18.45759215156302,18.479481651023974,18.50137115048493,18.523260649945883,18.54515014940684,18.567039648867794,18.58892914832875,18.610818647789706,18.63270814725066,18.654597646711615,18.67648714617257,18.698376645633523,18.720266145094477,18.74215564455543,18.764045144016386,18.785934643477344,18.807824142938298,18.829713642399255,18.85160314186021,18.873492641321164,18.895382140782118,18.917271640243072,18.939161139704026,18.96105063916498,18.982940138625935,19.004829638086893,19.026719137547847,19.0486086370088,19.070498136469755,19.09238763593071,19.114277135391667,19.13616663485262,19.158056134313576,19.17994563377453,19.201835133235484,19.223724632696438,19.245614132157396,19.26750363161835,19.289393131079304,19.31128263054026,19.333172130001213,19.35506162946217,19.376951128923125,19.39884062838408,19.420730127845033,19.442619627305987,19.46450912676694,19.4863986262279,19.508288125688853,19.530177625149808,19.552067124610762,19.573956624071716,19.595846123532674,19.617735622993628,19.639625122454582,19.661514621915536,19.68340412137649,19.70529362083745,19.727183120298402,19.749072619759357,19.77096211922031,19.792851618681265,19.81474111814222,19.836630617603177,19.85852011706413,19.880409616525085,19.90229911598604,19.924188615446994,19.946078114907948,19.967967614368906,19.98985711382986,20.011746613290814,20.03363611275177,20.055525612212723,20.07741511167368,20.099304611134635,20.12119411059559,20.143083610056543,20.164973109517497,20.18686260897845,20.208752108439406,20.23064160790036,20.252531107361317,20.27442060682227,20.29631010628323,20.318199605744184,20.340089105205138,20.361978604666092,20.383868104127046,20.405757603588,20.427647103048955,20.44953660250991,20.471426101970867,20.49331560143182,20.515205100892775,20.537094600353733,20.558984099814687,20.58087359927564,20.602763098736595,20.62465259819755,20.646542097658504,20.668431597119458,20.690321096580412,20.71221059604137,20.734100095502324,20.755989594963278,20.777879094424236,20.79976859388519,20.821658093346144,20.8435475928071,20.865437092268053,20.887326591729007,20.90921609118996,20.931105590650915,20.952995090111873,20.974884589572827,20.99677408903378,21.018663588494736,21.040553087955693,21.062442587416648,21.084332086877602,21.106221586338556,21.12811108579951,21.150000585260464,21.17189008472142,21.193779584182373,21.21566908364333,21.23755858310429,21.259448082565243,21.281337582026197,21.30322708148715,21.325116580948105,21.34700608040906,21.368895579870014,21.390785079330968,21.412674578791922,21.434564078252876,21.45645357771383,21.47834307717479,21.500232576635746,21.5221220760967,21.544011575557654,21.56590107501861,21.587790574479563,21.609680073940517,21.63156957340147,21.653459072862425,21.67534857232338,21.697238071784334,21.719127571245295,21.74101707070625,21.762906570167203,21.784796069628158,21.80668556908911,21.828575068550066,21.85046456801102,21.872354067471974,21.89424356693293,21.916133066393883,21.93802256585484,21.959912065315795,21.981801564776752,22.003691064237707,22.02558056369866,22.047470063159615,22.06935956262057,22.091249062081523,22.113138561542478,22.135028061003432,22.156917560464386,22.178807059925344,22.200696559386298,22.222586058847252,22.244475558308206,22.266365057769164,22.28825455723012,22.310144056691072,22.332033556152027,22.35392305561298,22.375812555073935,22.39770205453489,22.419591553995847,22.4414810534568,22.463370552917755,22.485260052378713,22.507149551839667,22.52903905130062,22.550928550761576,22.57281805022253,22.594707549683484,22.61659704914444,22.638486548605396,22.66037604806635,22.682265547527305,22.70415504698826,22.726044546449216,22.74793404591017,22.769823545371125,22.79171304483208,22.813602544293033,22.835492043753987,22.85738154321494,22.8792710426759,22.901160542136854,22.923050041597808,22.944939541058762,22.966829040519716,22.98871853998067,23.010608039441628,23.032497538902582,23.054387038363537,23.07627653782449,23.098166037285445,23.120055536746403,23.141945036207357,23.16383453566831,23.185724035129265,23.20761353459022,23.229503034051177,23.25139253351213,23.273282032973086,23.29517153243404,23.317061031894994,23.338950531355948,23.360840030816906,23.38272953027786,23.404619029738814,23.42650852919977,23.448398028660723,23.470287528121677,23.492177027582635,23.51406652704359,23.535956026504543,23.557845525965497,23.57973502542645,23.601624524887406,23.623514024348363,23.645403523809318,23.667293023270272,23.689182522731226,23.71107202219218,23.732961521653138,23.754851021114092,23.776740520575046,23.798630020036,23.820519519496955,23.842409018957913,23.864298518418867,23.88618801787982,23.908077517340775,23.92996701680173,23.951856516262684,23.97374601572364,23.995635515184595,24.01752501464555,24.039414514106504,24.061304013567458,24.083193513028416,24.10508301248937,24.126972511950324,24.14886201141128,24.170751510872233,24.192641010333187,24.214530509794145,24.2364200092551,24.258309508716053,24.280199008177007,24.30208850763796,24.32397800709892,24.345867506559873,24.367757006020828,24.38964650548178,24.411536004942736,24.433425504403694,24.455315003864648,24.477204503325602,24.499094002786556,24.52098350224751,24.542873001708465,24.56476250116942,24.586652000630377,24.60854150009133,24.630430999552285,24.65232049901324,24.674209998474197,24.69609949793515,24.717988997396105,24.73987849685706,24.761767996318014,24.783657495778968,24.805546995239922,24.827436494700876,24.84932599416183,24.87121549362279,24.893104993083742,24.9149944925447,24.936883992005654,24.95877349146661,24.980662990927563,25.002552490388517,25.02444198984947,25.046331489310425,25.06822098877138,25.090110488232334,25.111999987693288,25.13388948715425,25.155778986615204,25.177668486076158,25.199557985537112,25.221447484998066,25.24333698445902,25.265226483919974,25.28711598338093,25.309005482841883,25.330894982302837,25.35278448176379,25.374673981224753,25.396563480685707,25.41845298014666,25.440342479607615,25.46223197906857,25.484121478529524,25.506010977990478,25.527900477451432,25.549789976912386,25.57167947637334,25.593568975834295,25.615458475295256,25.63734797475621,25.659237474217164,25.68112697367812,25.703016473139073,25.724905972600027,25.74679547206098,25.768684971521935,25.79057447098289,25.812463970443844,25.834353469904798,25.85624296936576,25.878132468826713,25.900021968287668,25.92191146774862,25.943800967209576,25.96569046667053,25.987579966131484,26.00946946559244,26.031358965053393,26.053248464514347,26.07513796397531,26.097027463436262,26.118916962897217,26.14080646235817,26.162695961819125,26.18458546128008,26.206474960741033,26.228364460201988,26.250253959662942,26.272143459123896,26.29403295858485,26.31592245804581,26.337811957506766,26.35970145696772,26.381590956428674,26.40348045588963,26.425369955350583,26.447259454811537,26.46914895427249,26.491038453733445,26.5129279531944,26.534817452655354,26.556706952116315,26.57859645157727,26.600485951038223,26.622375450499177,26.64426494996013,26.666154449421086,26.68804394888204,26.709933448342994,26.73182294780395,26.753712447264903,26.77560194672586,26.797491446186815,26.81938094564777,26.841270445108727,26.86315994456968,26.885049444030635,26.90693894349159,26.928828442952543,26.950717942413497,26.97260744187445,26.994496941335406,27.016386440796364,27.038275940257318,27.060165439718272,27.082054939179226,27.10394443864018,27.125833938101138,27.147723437562092,27.169612937023047,27.191502436484,27.213391935944955,27.23528143540591,27.257170934866867,27.27906043432782,27.300949933788775,27.32283943324973,27.344728932710684,27.36661843217164,27.388507931632596,27.41039743109355,27.432286930554504,27.45417643001546,27.476065929476412,27.49795542893737,27.519844928398324,27.54173442785928,27.563623927320233,27.585513426781187,27.607402926242145,27.6292924257031,27.651181925164053,27.673071424625007,27.69496092408596,27.71685042354692,27.738739923007874,27.760629422468828,27.782518921929782,27.804408421390736,27.82629792085169,27.848187420312648,27.870076919773602,27.891966419234556,27.91385591869551,27.935745418156465,27.957634917617423,27.979524417078377,28.00141391653933,28.023303416000285,28.04519291546124,28.067082414922197,28.08897191438315,28.110861413844106,28.13275091330506,28.154640412766014,28.176529912226968,28.198419411687926,28.22030891114888,28.242198410609834,28.26408791007079,28.285977409531743,28.3078669089927,28.329756408453655,28.35164590791461,28.373535407375563,28.395424906836517,28.41731440629747,28.43920390575843,28.461093405219383,28.482982904680338,28.50487240414129,28.526761903602246,28.548651403063204,28.570540902524158,28.592430401985112,28.614319901446066,28.63620940090702,28.658098900367975,28.679988399828932,28.701877899289887,28.72376739875084,28.745656898211795,28.76754639767275,28.789435897133707,28.81132539659466,28.833214896055615,28.85510439551657,28.876993894977524,28.898883394438478,28.920772893899432,28.942662393360386,28.964551892821344,28.9864413922823,29.008330891743256,29.03022039120421,29.052109890665164,29.07399939012612,29.095888889587073,29.117778389048027,29.13966788850898,29.161557387969935,29.18344688743089,29.205336386891844,29.227225886352798,29.24911538581376,29.271004885274714,29.292894384735668,29.314783884196622,29.336673383657576,29.35856288311853,29.380452382579485,29.40234188204044,29.424231381501393,29.446120880962347,29.4680103804233,29.489899879884263,29.511789379345217,29.53367887880617,29.555568378267125,29.57745787772808,29.599347377189034,29.621236876649988,29.643126376110942,29.665015875571896,29.68690537503285,29.708794874493805,29.730684373954766,29.75257387341572,29.774463372876674,29.79635287233763,29.818242371798583,29.840131871259537,29.86202137072049,29.883910870181445,29.9058003696424,29.927689869103354,29.949579368564315,29.97146886802527,29.993358367486223,30.015247866947178,30.037137366408132,30.059026865869086,30.08091636533004,30.102805864790994,30.12469536425195,30.146584863712903,30.168474363173857,30.19036386263482,30.212253362095773,30.234142861556727,30.25603236101768,30.277921860478635,30.29981135993959,30.321700859400543,30.343590358861498,30.365479858322452,30.387369357783406,30.40925885724436,30.43114835670532,30.453037856166276,30.47492735562723,30.49681685508818,30.518706354549135,30.540595854010093,30.562485353471047,30.584374852932,30.606264352392955,30.62815385185391,30.650043351314867,30.67193285077582,30.693822350236776,30.71571184969773,30.737601349158684,30.759490848619638,30.781380348080596,30.80326984754155,30.825159347002504,30.84704884646346,30.868938345924413,30.89082784538537,30.912717344846325,30.93460684430728,30.956496343768233,30.978385843229187,31.000275342690145,31.0221648421511,31.044054341612053,31.065943841073008,31.08783334053396,31.109722839994916,31.131612339455874,31.153501838916828,31.175391338377782,31.197280837838736,31.21917033729969,31.24105983676065,31.262949336221602,31.284838835682557,31.30672833514351,31.328617834604465,31.35050733406542,31.372396833526377,31.39428633298733,31.416175832448285,31.43806533190924,31.459954831370194,31.48184433083115,31.503733830292106,31.52562332975306,31.547512829214014,31.56940232867497,31.591291828135926,31.61318132759688,31.635070827057834,31.65696032651879,31.678849825979743,31.700739325440697,31.722628824901655,31.74451832436261,31.766407823823563,31.788297323284517,31.81018682274547,31.83207632220643,31.853965821667384,31.875855321128338,31.897744820589292,31.919634320050246,31.941523819511204],\"type\":\"scatter\"}],                        {\"template\":{\"data\":{\"histogram2dcontour\":[{\"type\":\"histogram2dcontour\",\"colorbar\":{\"outlinewidth\":0,\"ticks\":\"\"},\"colorscale\":[[0.0,\"#0d0887\"],[0.1111111111111111,\"#46039f\"],[0.2222222222222222,\"#7201a8\"],[0.3333333333333333,\"#9c179e\"],[0.4444444444444444,\"#bd3786\"],[0.5555555555555556,\"#d8576b\"],[0.6666666666666666,\"#ed7953\"],[0.7777777777777778,\"#fb9f3a\"],[0.8888888888888888,\"#fdca26\"],[1.0,\"#f0f921\"]]}],\"choropleth\":[{\"type\":\"choropleth\",\"colorbar\":{\"outlinewidth\":0,\"ticks\":\"\"}}],\"histogram2d\":[{\"type\":\"histogram2d\",\"colorbar\":{\"outlinewidth\":0,\"ticks\":\"\"},\"colorscale\":[[0.0,\"#0d0887\"],[0.1111111111111111,\"#46039f\"],[0.2222222222222222,\"#7201a8\"],[0.3333333333333333,\"#9c179e\"],[0.4444444444444444,\"#bd3786\"],[0.5555555555555556,\"#d8576b\"],[0.6666666666666666,\"#ed7953\"],[0.7777777777777778,\"#fb9f3a\"],[0.8888888888888888,\"#fdca26\"],[1.0,\"#f0f921\"]]}],\"heatmap\":[{\"type\":\"heatmap\",\"colorbar\":{\"outlinewidth\":0,\"ticks\":\"\"},\"colorscale\":[[0.0,\"#0d0887\"],[0.1111111111111111,\"#46039f\"],[0.2222222222222222,\"#7201a8\"],[0.3333333333333333,\"#9c179e\"],[0.4444444444444444,\"#bd3786\"],[0.5555555555555556,\"#d8576b\"],[0.6666666666666666,\"#ed7953\"],[0.7777777777777778,\"#fb9f3a\"],[0.8888888888888888,\"#fdca26\"],[1.0,\"#f0f921\"]]}],\"heatmapgl\":[{\"type\":\"heatmapgl\",\"colorbar\":{\"outlinewidth\":0,\"ticks\":\"\"},\"colorscale\":[[0.0,\"#0d0887\"],[0.1111111111111111,\"#46039f\"],[0.2222222222222222,\"#7201a8\"],[0.3333333333333333,\"#9c179e\"],[0.4444444444444444,\"#bd3786\"],[0.5555555555555556,\"#d8576b\"],[0.6666666666666666,\"#ed7953\"],[0.7777777777777778,\"#fb9f3a\"],[0.8888888888888888,\"#fdca26\"],[1.0,\"#f0f921\"]]}],\"contourcarpet\":[{\"type\":\"contourcarpet\",\"colorbar\":{\"outlinewidth\":0,\"ticks\":\"\"}}],\"contour\":[{\"type\":\"contour\",\"colorbar\":{\"outlinewidth\":0,\"ticks\":\"\"},\"colorscale\":[[0.0,\"#0d0887\"],[0.1111111111111111,\"#46039f\"],[0.2222222222222222,\"#7201a8\"],[0.3333333333333333,\"#9c179e\"],[0.4444444444444444,\"#bd3786\"],[0.5555555555555556,\"#d8576b\"],[0.6666666666666666,\"#ed7953\"],[0.7777777777777778,\"#fb9f3a\"],[0.8888888888888888,\"#fdca26\"],[1.0,\"#f0f921\"]]}],\"surface\":[{\"type\":\"surface\",\"colorbar\":{\"outlinewidth\":0,\"ticks\":\"\"},\"colorscale\":[[0.0,\"#0d0887\"],[0.1111111111111111,\"#46039f\"],[0.2222222222222222,\"#7201a8\"],[0.3333333333333333,\"#9c179e\"],[0.4444444444444444,\"#bd3786\"],[0.5555555555555556,\"#d8576b\"],[0.6666666666666666,\"#ed7953\"],[0.7777777777777778,\"#fb9f3a\"],[0.8888888888888888,\"#fdca26\"],[1.0,\"#f0f921\"]]}],\"mesh3d\":[{\"type\":\"mesh3d\",\"colorbar\":{\"outlinewidth\":0,\"ticks\":\"\"}}],\"scatter\":[{\"fillpattern\":{\"fillmode\":\"overlay\",\"size\":10,\"solidity\":0.2},\"type\":\"scatter\"}],\"parcoords\":[{\"type\":\"parcoords\",\"line\":{\"colorbar\":{\"outlinewidth\":0,\"ticks\":\"\"}}}],\"scatterpolargl\":[{\"type\":\"scatterpolargl\",\"marker\":{\"colorbar\":{\"outlinewidth\":0,\"ticks\":\"\"}}}],\"bar\":[{\"error_x\":{\"color\":\"#2a3f5f\"},\"error_y\":{\"color\":\"#2a3f5f\"},\"marker\":{\"line\":{\"color\":\"#E5ECF6\",\"width\":0.5},\"pattern\":{\"fillmode\":\"overlay\",\"size\":10,\"solidity\":0.2}},\"type\":\"bar\"}],\"scattergeo\":[{\"type\":\"scattergeo\",\"marker\":{\"colorbar\":{\"outlinewidth\":0,\"ticks\":\"\"}}}],\"scatterpolar\":[{\"type\":\"scatterpolar\",\"marker\":{\"colorbar\":{\"outlinewidth\":0,\"ticks\":\"\"}}}],\"histogram\":[{\"marker\":{\"pattern\":{\"fillmode\":\"overlay\",\"size\":10,\"solidity\":0.2}},\"type\":\"histogram\"}],\"scattergl\":[{\"type\":\"scattergl\",\"marker\":{\"colorbar\":{\"outlinewidth\":0,\"ticks\":\"\"}}}],\"scatter3d\":[{\"type\":\"scatter3d\",\"line\":{\"colorbar\":{\"outlinewidth\":0,\"ticks\":\"\"}},\"marker\":{\"colorbar\":{\"outlinewidth\":0,\"ticks\":\"\"}}}],\"scattermapbox\":[{\"type\":\"scattermapbox\",\"marker\":{\"colorbar\":{\"outlinewidth\":0,\"ticks\":\"\"}}}],\"scatterternary\":[{\"type\":\"scatterternary\",\"marker\":{\"colorbar\":{\"outlinewidth\":0,\"ticks\":\"\"}}}],\"scattercarpet\":[{\"type\":\"scattercarpet\",\"marker\":{\"colorbar\":{\"outlinewidth\":0,\"ticks\":\"\"}}}],\"carpet\":[{\"aaxis\":{\"endlinecolor\":\"#2a3f5f\",\"gridcolor\":\"white\",\"linecolor\":\"white\",\"minorgridcolor\":\"white\",\"startlinecolor\":\"#2a3f5f\"},\"baxis\":{\"endlinecolor\":\"#2a3f5f\",\"gridcolor\":\"white\",\"linecolor\":\"white\",\"minorgridcolor\":\"white\",\"startlinecolor\":\"#2a3f5f\"},\"type\":\"carpet\"}],\"table\":[{\"cells\":{\"fill\":{\"color\":\"#EBF0F8\"},\"line\":{\"color\":\"white\"}},\"header\":{\"fill\":{\"color\":\"#C8D4E3\"},\"line\":{\"color\":\"white\"}},\"type\":\"table\"}],\"barpolar\":[{\"marker\":{\"line\":{\"color\":\"#E5ECF6\",\"width\":0.5},\"pattern\":{\"fillmode\":\"overlay\",\"size\":10,\"solidity\":0.2}},\"type\":\"barpolar\"}],\"pie\":[{\"automargin\":true,\"type\":\"pie\"}]},\"layout\":{\"autotypenumbers\":\"strict\",\"colorway\":[\"#636efa\",\"#EF553B\",\"#00cc96\",\"#ab63fa\",\"#FFA15A\",\"#19d3f3\",\"#FF6692\",\"#B6E880\",\"#FF97FF\",\"#FECB52\"],\"font\":{\"color\":\"#2a3f5f\"},\"hovermode\":\"closest\",\"hoverlabel\":{\"align\":\"left\"},\"paper_bgcolor\":\"white\",\"plot_bgcolor\":\"#E5ECF6\",\"polar\":{\"bgcolor\":\"#E5ECF6\",\"angularaxis\":{\"gridcolor\":\"white\",\"linecolor\":\"white\",\"ticks\":\"\"},\"radialaxis\":{\"gridcolor\":\"white\",\"linecolor\":\"white\",\"ticks\":\"\"}},\"ternary\":{\"bgcolor\":\"#E5ECF6\",\"aaxis\":{\"gridcolor\":\"white\",\"linecolor\":\"white\",\"ticks\":\"\"},\"baxis\":{\"gridcolor\":\"white\",\"linecolor\":\"white\",\"ticks\":\"\"},\"caxis\":{\"gridcolor\":\"white\",\"linecolor\":\"white\",\"ticks\":\"\"}},\"coloraxis\":{\"colorbar\":{\"outlinewidth\":0,\"ticks\":\"\"}},\"colorscale\":{\"sequential\":[[0.0,\"#0d0887\"],[0.1111111111111111,\"#46039f\"],[0.2222222222222222,\"#7201a8\"],[0.3333333333333333,\"#9c179e\"],[0.4444444444444444,\"#bd3786\"],[0.5555555555555556,\"#d8576b\"],[0.6666666666666666,\"#ed7953\"],[0.7777777777777778,\"#fb9f3a\"],[0.8888888888888888,\"#fdca26\"],[1.0,\"#f0f921\"]],\"sequentialminus\":[[0.0,\"#0d0887\"],[0.1111111111111111,\"#46039f\"],[0.2222222222222222,\"#7201a8\"],[0.3333333333333333,\"#9c179e\"],[0.4444444444444444,\"#bd3786\"],[0.5555555555555556,\"#d8576b\"],[0.6666666666666666,\"#ed7953\"],[0.7777777777777778,\"#fb9f3a\"],[0.8888888888888888,\"#fdca26\"],[1.0,\"#f0f921\"]],\"diverging\":[[0,\"#8e0152\"],[0.1,\"#c51b7d\"],[0.2,\"#de77ae\"],[0.3,\"#f1b6da\"],[0.4,\"#fde0ef\"],[0.5,\"#f7f7f7\"],[0.6,\"#e6f5d0\"],[0.7,\"#b8e186\"],[0.8,\"#7fbc41\"],[0.9,\"#4d9221\"],[1,\"#276419\"]]},\"xaxis\":{\"gridcolor\":\"white\",\"linecolor\":\"white\",\"ticks\":\"\",\"title\":{\"standoff\":15},\"zerolinecolor\":\"white\",\"automargin\":true,\"zerolinewidth\":2},\"yaxis\":{\"gridcolor\":\"white\",\"linecolor\":\"white\",\"ticks\":\"\",\"title\":{\"standoff\":15},\"zerolinecolor\":\"white\",\"automargin\":true,\"zerolinewidth\":2},\"scene\":{\"xaxis\":{\"backgroundcolor\":\"#E5ECF6\",\"gridcolor\":\"white\",\"linecolor\":\"white\",\"showbackground\":true,\"ticks\":\"\",\"zerolinecolor\":\"white\",\"gridwidth\":2},\"yaxis\":{\"backgroundcolor\":\"#E5ECF6\",\"gridcolor\":\"white\",\"linecolor\":\"white\",\"showbackground\":true,\"ticks\":\"\",\"zerolinecolor\":\"white\",\"gridwidth\":2},\"zaxis\":{\"backgroundcolor\":\"#E5ECF6\",\"gridcolor\":\"white\",\"linecolor\":\"white\",\"showbackground\":true,\"ticks\":\"\",\"zerolinecolor\":\"white\",\"gridwidth\":2}},\"shapedefaults\":{\"line\":{\"color\":\"#2a3f5f\"}},\"annotationdefaults\":{\"arrowcolor\":\"#2a3f5f\",\"arrowhead\":0,\"arrowwidth\":1},\"geo\":{\"bgcolor\":\"white\",\"landcolor\":\"#E5ECF6\",\"subunitcolor\":\"white\",\"showland\":true,\"showlakes\":true,\"lakecolor\":\"white\"},\"title\":{\"x\":0.05},\"mapbox\":{\"style\":\"light\"}}},\"title\":{\"text\":\"'$ \\\\text{La ecuaci\\u00f3n final de regresi\\u00f3n usando sklearn es: } \\\\\\\\y_{MaxTemp} = 14.480 + 0.835 X_{MinTemp}$'\"},\"xaxis\":{\"title\":{\"text\":\"MinTemp\"}},\"yaxis\":{\"title\":{\"text\":\"MaxTemp\"}}},                        {\"responsive\": true}                    ).then(function(){\n",
              "                            \n",
              "var gd = document.getElementById('a1203516-fcae-4d06-9595-e1888720a395');\n",
              "var x = new MutationObserver(function (mutations, observer) {{\n",
              "        var display = window.getComputedStyle(gd).display;\n",
              "        if (!display || display === 'none') {{\n",
              "            console.log([gd, 'removed!']);\n",
              "            Plotly.purge(gd);\n",
              "            observer.disconnect();\n",
              "        }}\n",
              "}});\n",
              "\n",
              "// Listen for the removal of the full notebook cells\n",
              "var notebookContainer = gd.closest('#notebook-container');\n",
              "if (notebookContainer) {{\n",
              "    x.observe(notebookContainer, {childList: true});\n",
              "}}\n",
              "\n",
              "// Listen for the clearing of the current output cell\n",
              "var outputEl = gd.closest('.output');\n",
              "if (outputEl) {{\n",
              "    x.observe(outputEl, {childList: true});\n",
              "}}\n",
              "\n",
              "                        })                };                            </script>        </div>\n",
              "</body>\n",
              "</html>"
            ]
          },
          "metadata": {}
        }
      ]
    },
    {
      "cell_type": "code",
      "source": [
        "def funcionParaCrearStringLatexCombinacionesVariables(nvar=3, npol=2):\n",
        "  M=np.mgrid[[slice(0,npol+1) for _ in range(nvar)]].reshape(nvar,-1).T[:,nvar::-1]\n",
        "  dd='1'\n",
        "  for i in range(1,npol+1):\n",
        "    f=M[M.sum(1)==i,:]\n",
        "    for j in f:\n",
        "      ff=''\n",
        "      for idx_var, k in enumerate(j):\n",
        "        if k!=0:\n",
        "          if k==1:ff += 'X_{%d}'%(idx_var+1)\n",
        "          else:   ff += 'X_{%d}^{%d}'%(idx_var+1,k)\n",
        "      dd += ' + ' + ff\n",
        "  return dd"
      ],
      "metadata": {
        "id": "iJj_PV6nm-DQ"
      },
      "execution_count": 21,
      "outputs": []
    },
    {
      "cell_type": "markdown",
      "source": [
        "## Mejorar predicción usando combinación de variables\n",
        "\n",
        "El objetivo de cualquier modelo de regresión (u otro modelo que veamos en el curso) es predecir correctamente los puntos de la variable dependiente  (eje y) desde los puntos de la variable independiente (eje x). Como se observa en las grafica anterior, los puntos azules están muy alejados de la línea roja (predicción de nuestro modelo), por lo que es necesario mejorar nuestra predicción.\n",
        "\n",
        "Una estrategia utilizada es crear combinaciones de las variables existentes multiplicándolas entre ellas como la suma de polinomios (de las variables existentes) hasta orden $npol$. Si tenemos $m$ variables, matemáticamente podemos generar el conjunto de variables combinadas como:\n",
        "\n",
        "\\begin{align}\n",
        "X_{ext}=\\bigcup_{p=0}^{npol}\\bigcup_{k_{1}+k_{2}+\\cdots+k_{m}=p}\\left\\{ x_{1}^{k_{1}}x_{2}^{k_{2}}\\cdots x_{m}^{k_{m}}\\right\\} \n",
        "\\end{align}\n",
        "\n",
        "donde $k_{i}, \\forall i \\in {1,\\cdots, m}$ son los exponentes de cada variable $x_{i}$.\n",
        "\n",
        "Si consideramos $m=2$ variables y generamos combinaciones de estas hasta un polinomio de orden $npol=3$ tenemos:\n",
        "\n",
        "\\begin{align}\n",
        "X_{ext} & =\\left\\{ x_{1}^{0}x_{2}^{0},x_{1}^{1}x_{2}^{0},x_{1}^{0}x_{2}^{1},x_{1}^{2}x_{2}^{0},x_{1}^{1}x_{2}^{1},x_{1}^{0}x_{2}^{2},x_{1}^{3}x_{2}^{0},x_{1}^{2}x_{2}^{1},x_{1}^{1}x_{2}^{2},x_{1}^{0}x_{2}^{3}\\right\\} \\\\\n",
        " & =\\left\\{ 1,x_{1},x_{2},x_{1}^{2},x_{1}x_{2},x_{2}^{2},x_{1}^{3},x_{1}^{2}x_{2},x_{1}x_{2}^{2},x_{2}^{3}\\right\\} \n",
        "\\end{align}\n",
        "\n",
        "Es importante destacar que el polinomio $x_{1}^{0}x_{2}^{0}=1$, por lo que ya tenemos nuestro término de intersección de nuestra regresión lineal.\n",
        "\n",
        "Para generar polinomios utilizaremos la librería [`sklearn.preprocessing.PolynomialFeatures`](https://scikit-learn.org/stable/modules/generated/sklearn.preprocessing.PolynomialFeatures.html).\n",
        "\n",
        "Nuevamente generamos nuestras matrices $X$ e $Y$, pero sin incluir la columna de 1's en $X$.\n"
      ],
      "metadata": {
        "id": "Nz22IXPsYftz"
      }
    },
    {
      "cell_type": "code",
      "source": [
        "n = data.shape[0] # Número de datos\n",
        "input_variable_name = ['MinTemp']\n",
        "output_variable_name = ['MaxTemp']\n",
        "X = data[input_variable_name].values\n",
        "Y = data[output_variable_name].values"
      ],
      "metadata": {
        "id": "axwBqeLenY4R"
      },
      "execution_count": 22,
      "outputs": []
    },
    {
      "cell_type": "markdown",
      "source": [
        "y generamos una combinación de la variable *MinTemp* con un polinomio de orden $2$"
      ],
      "metadata": {
        "id": "iMdTlSwXo726"
      }
    },
    {
      "cell_type": "code",
      "source": [
        "from sklearn.preprocessing import PolynomialFeatures\n",
        "poly = PolynomialFeatures(2)\n",
        "X_ext = poly.fit_transform(X)"
      ],
      "metadata": {
        "id": "rOsWBKVoqqI9"
      },
      "execution_count": 23,
      "outputs": []
    },
    {
      "cell_type": "markdown",
      "source": [
        "La matriz extendida es de 3 variables, i.e., $ \\left\\{ 1, X \\left[ MinTemp \\right], X \\left[ MinTemp \\right] ^{2}\\right\\} $.\n",
        "\n",
        "Estimando nuevamente el modelo de regresión lineal con esta nueva base de datos tenemos:\n",
        "\n",
        "><mark><font color='#00587C' face = \"Lucida Console\"><strong>NOTA</strong><br>Si utilizamos la base de datos extendida desde `sklearn.preprocessing.PolynomialFeatures` debemos quitar el cálculo de la intersección en `sklearn.preprocessing.LinearRegression`, es decir, ` LinearRegression(fit_intercept=False)` </font></mark>"
      ],
      "metadata": {
        "id": "RqSVdCOppHr8"
      }
    },
    {
      "cell_type": "code",
      "source": [
        "model = LinearRegression(fit_intercept=False).fit(X_ext, Y)\n",
        "\n",
        "theta_sklearn_comb  = np.array([temp for temp in model.coef_]).reshape(-1,1)\n",
        "theta_sklearn_comb"
      ],
      "metadata": {
        "colab": {
          "base_uri": "https://localhost:8080/"
        },
        "id": "795SfQHIpGKy",
        "outputId": "9915ccd3-4671-4175-e9b3-5a0ecc4792bd"
      },
      "execution_count": 36,
      "outputs": [
        {
          "output_type": "execute_result",
          "data": {
            "text/plain": [
              "array([[1.45730320e+01],\n",
              "       [7.53280841e-01],\n",
              "       [5.66545943e-03]])"
            ]
          },
          "metadata": {},
          "execution_count": 36
        }
      ]
    },
    {
      "cell_type": "code",
      "source": [
        "text1 = 'La ecuación final de regresión usando sklearn con base extendida es:'\n",
        "text2 = 'y_{%s} = %2.3f'%(output_variable_name[0], theta_sklearn_comb[0])\n",
        "for i in range(1,len(theta_sklearn_comb)):\n",
        "  text2 += ' + %2.3f X_{%s}^{%d}'%(theta_sklearn_comb[i],input_variable_name[0],i)\n",
        "print(text1,'\\n',text2)"
      ],
      "metadata": {
        "colab": {
          "base_uri": "https://localhost:8080/"
        },
        "id": "PLD7J_7Eq4my",
        "outputId": "b1793796-85a8-489f-b6b9-86afa2acbfd4"
      },
      "execution_count": 43,
      "outputs": [
        {
          "output_type": "stream",
          "name": "stdout",
          "text": [
            "La ecuación final de regresión usando sklearn con base extendida es: \n",
            " y_{MaxTemp} = 14.573 + 0.753 X_{MinTemp}^{1} + 0.006 X_{MinTemp}^{2}\n"
          ]
        }
      ]
    },
    {
      "cell_type": "markdown",
      "source": [
        "Ahora evaluamos el modelo en el conjunto de test ($X_{test}$)\n",
        "\n",
        "$$ Y_{test} = model.predict(X_{test})$$\n"
      ],
      "metadata": {
        "id": "4knNXzhQsvH_"
      }
    },
    {
      "cell_type": "code",
      "source": [
        "ns = 1001\n",
        "Xtest_ext = np.c_[np.ones(shape=(ns,1)),\n",
        "              np.linspace(X_ext[:,0].min(), X_ext[:,0].max(), ns).reshape(-1,1),\n",
        "              np.linspace(X_ext[:,1].min(), X_ext[:,1].max(), ns).reshape(-1,1)]\n",
        "Ytest_ext = model.predict(Xtest_ext)"
      ],
      "metadata": {
        "id": "cHDGMEeZsu3K"
      },
      "execution_count": 49,
      "outputs": []
    },
    {
      "cell_type": "markdown",
      "source": [
        "Ahora graficamos los datos originales y los datos de test extendido."
      ],
      "metadata": {
        "id": "4BpkngsRtrsz"
      }
    },
    {
      "cell_type": "code",
      "source": [
        "text_title = '$ \\text{' + text1 + ' } \\\\' + text2 + '$'\n",
        "fig = go.Figure()\n",
        "fig.add_trace(go.Scatter3d(z=Y[:,0], x=X_ext[:,1],y=X_ext[:,2],mode='markers', name='Datos originales'))\n",
        "fig.add_trace(go.Scatter3d(z=Ytest_ext[:,0], x=Xtest_ext[:,1], y=Xtest_ext[:,2],line=dict(width=200),mode='lines', name=r'Tendencia del modelo.<br>Datos test'))\n",
        "fig.update_layout(title=f\"{text_title!r}\", xaxis_title=input_variable_name[0], yaxis_title=output_variable_name[0])\n"
      ],
      "metadata": {
        "colab": {
          "base_uri": "https://localhost:8080/",
          "height": 542
        },
        "id": "VjKhOVZLtwNF",
        "outputId": "3435226b-132b-49a7-f2df-3790249db849"
      },
      "execution_count": 65,
      "outputs": [
        {
          "output_type": "display_data",
          "data": {
            "text/html": [
              "<html>\n",
              "<head><meta charset=\"utf-8\" /></head>\n",
              "<body>\n",
              "    <div>            <script src=\"https://cdnjs.cloudflare.com/ajax/libs/mathjax/2.7.5/MathJax.js?config=TeX-AMS-MML_SVG\"></script><script type=\"text/javascript\">if (window.MathJax && window.MathJax.Hub && window.MathJax.Hub.Config) {window.MathJax.Hub.Config({SVG: {font: \"STIX-Web\"}});}</script>                <script type=\"text/javascript\">window.PlotlyConfig = {MathJaxConfig: 'local'};</script>\n",
              "        <script src=\"https://cdn.plot.ly/plotly-2.18.2.min.js\"></script>                <div id=\"94ddf9f7-96e5-4f6a-8557-29f1b639b03f\" class=\"plotly-graph-div\" style=\"height:525px; width:100%;\"></div>            <script type=\"text/javascript\">                                    window.PLOTLYENV=window.PLOTLYENV || {};                                    if (document.getElementById(\"94ddf9f7-96e5-4f6a-8557-29f1b639b03f\")) {                    Plotly.newPlot(                        \"94ddf9f7-96e5-4f6a-8557-29f1b639b03f\",                        [{\"mode\":\"markers\",\"name\":\"Datos originales\",\"x\":[8.0,14.0,13.7,13.3,7.6,6.2,6.1,8.3,8.8,8.4,9.1,8.5,10.1,12.1,10.1,12.4,13.8,11.7,12.4,15.6,15.3,16.4,12.8,12.0,15.4,15.6,13.3,12.9,15.1,13.6,15.1,11.6,16.6,13.3,14.5,16.3,17.2,16.5,15.0,14.9,11.8,11.7,9.6,8.9,10.1,15.5,10.8,7.5,12.8,12.6,14.8,19.9,9.2,12.4,11.3,9.8,14.3,15.1,14.4,15.4,13.8,13.6,14.3,15.9,16.7,12.1,14.3,16.5,16.5,17.5,14.7,17.5,20.9,17.0,16.0,15.4,17.9,15.2,15.1,15.3,17.2,15.9,10.0,9.9,10.3,15.4,12.7,13.2,15.3,17.9,18.0,17.6,16.0,14.9,17.1,18.2,16.8,13.6,14.5,12.4,10.4,9.1,8.9,14.5,12.6,8.6,10.8,11.2,12.1,10.8,11.4,12.0,16.3,12.7,12.7,12.0,11.5,13.0,11.7,14.8,7.7,4.4,7.4,8.3,10.1,12.0,12.9,10.8,9.5,12.1,12.5,13.9,13.3,13.2,12.3,13.8,11.3,11.7,12.5,15.1,11.5,13.0,11.6,12.8,15.5,13.1,12.6,4.4,4.4,7.1,4.2,9.6,3.5,5.3,7.0,0.4,3.2,5.9,8.1,6.9,5.6,7.2,7.1,6.1,7.1,5.6,5.4,6.3,5.3,7.9,8.4,8.1,2.4,5.6,7.5,2.5,5.0,3.8,7.9,4.3,-2.1,-1.8,3.8,2.1,0.5,-0.9,0.4,7.5,8.3,-0.2,0.1,1.5,8.3,9.4,1.3,2.2,-0.4,4.5,7.9,4.3,-2.7,0.3,3.8,2.4,1.2,1.2,-0.3,4.7,4.9,1.4,2.2,-0.1,-0.9,0.6,4.6,9.8,10.6,7.8,4.4,-0.2,4.3,7.4,8.6,10.2,7.3,8.7,1.0,2.1,6.4,5.4,0.4,4.0,8.4,0.4,4.2,0.9,0.8,4.3,6.3,3.5,-1.5,1.2,0.5,5.3,6.6,-1.6,-3.1,-0.1,-0.6,3.0,2.9,-1.3,1.8,2.9,-2.6,0.5,2.7,-1.7,-0.9,-1.8,1.3,2.4,-1.1,2.3,-2.2,-3.5,-1.0,-2.1,-2.0,-2.3,-1.6,0.8,-2.8,-2.8,3.0,4.4,2.3,-2.0,-1.9,4.8,-0.6,3.1,-2.9,-3.5,-0.3,0.1,2.3,2.1,4.6,3.7,-1.3,-3.4,-5.3,0.0,2.4,-0.6,2.3,-3.7,-0.9,-1.5,-3.3,-0.1,-0.2,0.5,6.1,4.1,0.1,3.2,5.4,5.8,6.3,-0.9,0.2,-3.7,-2.7,-2.5,-0.5,9.0,13.1,8.7,3.9,0.7,1.1,5.1,7.5,4.7,3.2,7.8,2.4,3.2,2.5,6.5,14.4,4.9,2.3,1.4,5.6,16.8,14.4,10.3,11.2,0.3,0.5,0.5,4.6,8.2,4.5,6.7,11.9,9.2,4.4,5.0,6.7,8.3,11.3,9.0,3.4,3.2,0.9,3.3,7.9,9.0,7.1,12.5,12.5,12.3],\"y\":[64.0,196.0,187.68999999999997,176.89000000000001,57.76,38.440000000000005,37.209999999999994,68.89000000000001,77.44000000000001,70.56,82.80999999999999,72.25,102.00999999999999,146.41,102.00999999999999,153.76000000000002,190.44000000000003,136.89,153.76000000000002,243.35999999999999,234.09000000000003,268.96,163.84000000000003,144.0,237.16000000000003,243.35999999999999,176.89000000000001,166.41,228.01,184.95999999999998,228.01,134.56,275.56000000000006,176.89000000000001,210.25,265.69,295.84,272.25,225.0,222.01000000000002,139.24,136.89,92.16,79.21000000000001,102.00999999999999,240.25,116.64000000000001,56.25,163.84000000000003,158.76,219.04000000000002,396.00999999999993,84.63999999999999,153.76000000000002,127.69000000000001,96.04000000000002,204.49,228.01,207.36,237.16000000000003,190.44000000000003,184.95999999999998,204.49,252.81,278.89,146.41,204.49,272.25,272.25,306.25,216.08999999999997,306.25,436.80999999999995,289.0,256.0,237.16000000000003,320.40999999999997,231.04,228.01,234.09000000000003,295.84,252.81,100.0,98.01,106.09000000000002,237.16000000000003,161.29,174.23999999999998,234.09000000000003,320.40999999999997,324.0,309.76000000000005,256.0,222.01000000000002,292.41,331.23999999999995,282.24,184.95999999999998,210.25,153.76000000000002,108.16000000000001,82.80999999999999,79.21000000000001,210.25,158.76,73.96,116.64000000000001,125.43999999999998,146.41,116.64000000000001,129.96,144.0,265.69,161.29,161.29,144.0,132.25,169.0,136.89,219.04000000000002,59.290000000000006,19.360000000000003,54.760000000000005,68.89000000000001,102.00999999999999,144.0,166.41,116.64000000000001,90.25,146.41,156.25,193.21,176.89000000000001,174.23999999999998,151.29000000000002,190.44000000000003,127.69000000000001,136.89,156.25,228.01,132.25,169.0,134.56,163.84000000000003,240.25,171.60999999999999,158.76,19.360000000000003,19.360000000000003,50.41,17.64,92.16,12.25,28.09,49.0,0.16000000000000003,10.240000000000002,34.81,65.61,47.61000000000001,31.359999999999996,51.84,50.41,37.209999999999994,50.41,31.359999999999996,29.160000000000004,39.69,28.09,62.410000000000004,70.56,65.61,5.76,31.359999999999996,56.25,6.25,25.0,14.44,62.410000000000004,18.49,4.41,3.24,14.44,4.41,0.25,0.81,0.16000000000000003,56.25,68.89000000000001,0.04000000000000001,0.010000000000000002,2.25,68.89000000000001,88.36000000000001,1.6900000000000002,4.840000000000001,0.16000000000000003,20.25,62.410000000000004,18.49,7.290000000000001,0.09,14.44,5.76,1.44,1.44,0.09,22.090000000000003,24.010000000000005,1.9599999999999997,4.840000000000001,0.010000000000000002,0.81,0.36,21.159999999999997,96.04000000000002,112.36,60.839999999999996,19.360000000000003,0.04000000000000001,18.49,54.760000000000005,73.96,104.03999999999999,53.29,75.68999999999998,1.0,4.41,40.96000000000001,29.160000000000004,0.16000000000000003,16.0,70.56,0.16000000000000003,17.64,0.81,0.6400000000000001,18.49,39.69,12.25,2.25,1.44,0.25,28.09,43.559999999999995,2.5600000000000005,9.610000000000001,0.010000000000000002,0.36,9.0,8.41,1.6900000000000002,3.24,8.41,6.760000000000001,0.25,7.290000000000001,2.8899999999999997,0.81,3.24,1.6900000000000002,5.76,1.2100000000000002,5.289999999999999,4.840000000000001,12.25,1.0,4.41,4.0,5.289999999999999,2.5600000000000005,0.6400000000000001,7.839999999999999,7.839999999999999,9.0,19.360000000000003,5.289999999999999,4.0,3.61,23.04,0.36,9.610000000000001,8.41,12.25,0.09,0.010000000000000002,5.289999999999999,4.41,21.159999999999997,13.690000000000001,1.6900000000000002,11.559999999999999,28.09,0.0,5.76,0.36,5.289999999999999,13.690000000000001,0.81,2.25,10.889999999999999,0.010000000000000002,0.04000000000000001,0.25,37.209999999999994,16.81,0.010000000000000002,10.240000000000002,29.160000000000004,33.64,39.69,0.81,0.04000000000000001,13.690000000000001,7.290000000000001,6.25,0.25,81.0,171.60999999999999,75.68999999999998,15.209999999999999,0.48999999999999994,1.2100000000000002,26.009999999999998,56.25,22.090000000000003,10.240000000000002,60.839999999999996,5.76,10.240000000000002,6.25,42.25,207.36,24.010000000000005,5.289999999999999,1.9599999999999997,31.359999999999996,282.24,207.36,106.09000000000002,125.43999999999998,0.09,0.25,0.25,21.159999999999997,67.24,20.25,44.89,141.61,84.63999999999999,19.360000000000003,25.0,44.89,68.89000000000001,127.69000000000001,81.0,11.559999999999999,10.240000000000002,0.81,10.889999999999999,62.410000000000004,81.0,50.41,156.25,156.25,151.29000000000002],\"z\":[24.3,26.9,23.4,15.5,16.1,16.9,18.2,17.0,19.5,22.8,25.2,27.3,27.9,30.9,31.2,32.1,31.2,30.0,32.3,33.4,33.4,19.4,18.5,24.3,28.4,26.9,22.2,28.0,24.3,24.1,20.4,26.3,24.2,26.5,21.8,26.8,25.8,28.2,29.4,24.8,18.5,21.5,20.3,27.1,29.9,21.1,21.7,20.9,21.0,23.1,29.5,22.0,20.4,24.4,21.7,26.3,26.7,28.3,31.6,35.0,33.5,34.2,35.0,23.4,25.3,27.5,34.1,33.9,30.3,29.9,34.2,35.8,35.7,33.8,22.8,33.8,33.2,25.1,20.4,19.6,24.7,19.9,22.5,24.4,27.8,25.7,28.8,31.3,33.2,33.9,34.9,27.8,23.8,28.8,29.6,22.6,22.8,27.4,24.2,19.9,20.9,23.1,26.0,24.2,18.2,24.2,25.2,26.1,24.1,25.8,27.1,28.9,24.8,28.6,25.1,23.8,25.9,28.2,27.6,17.3,18.4,21.8,24.4,27.3,28.2,27.6,31.8,29.2,27.4,27.8,31.7,34.7,31.7,33.1,33.8,35.2,32.3,30.2,29.9,26.2,29.3,14.8,19.6,24.9,22.4,17.4,20.2,18.3,18.2,18.5,18.9,18.8,21.8,23.3,14.3,18.9,21.4,21.8,20.5,18.9,19.5,22.9,23.4,24.1,19.8,18.0,20.7,19.3,21.0,19.7,16.1,18.7,20.6,18.9,19.0,21.2,20.9,21.7,18.7,11.3,13.8,14.8,13.8,17.3,17.1,16.7,19.0,16.8,17.6,18.1,21.0,20.9,17.4,19.2,19.0,18.6,17.9,16.0,12.3,14.1,18.1,17.0,17.4,14.7,14.8,14.5,17.5,18.5,18.1,16.8,17.5,18.0,18.5,14.0,15.7,14.4,15.1,15.1,16.7,15.5,14.5,16.3,13.7,15.0,16.4,13.0,11.8,14.7,16.9,15.5,15.5,15.9,11.7,13.9,14.0,12.9,13.0,12.6,11.8,14.3,14.8,16.0,15.4,11.7,13.1,11.5,12.0,14.2,14.0,11.1,9.5,8.8,8.7,8.4,11.1,11.0,16.5,13.6,12.8,11.5,10.6,11.6,11.0,11.6,11.6,11.2,12.2,12.9,11.3,9.7,10.7,12.2,12.2,14.1,9.7,11.5,12.8,12.3,10.9,14.1,11.1,12.5,9.6,7.6,9.3,10.4,12.2,10.7,14.7,14.2,11.6,12.5,13.1,14.0,14.1,12.2,11.6,14.4,14.2,17.3,15.1,14.7,16.2,16.3,17.2,14.8,16.7,12.1,11.3,12.4,16.1,16.7,15.5,14.7,15.2,16.6,21.6,25.5,19.4,19.7,13.2,14.1,18.0,23.3,23.3,19.5,21.9,16.2,17.3,18.7,20.9,25.7,24.3,18.9,16.8,20.6,27.6,28.9,20.7,21.3,18.0,16.0,17.9,20.0,22.0,22.4,23.9,26.1,21.1,19.6,21.0,24.1,24.7,28.5,27.4,20.6,15.0,18.0,20.7,25.5,26.1,30.7,28.4,19.9,26.9,30.2],\"type\":\"scatter3d\"},{\"line\":{\"width\":200},\"mode\":\"lines\",\"name\":\"Tendencia del modelo.<br>Datos test\",\"x\":[1.0,1.0,1.0,1.0,1.0,1.0,1.0,1.0,1.0,1.0,1.0,1.0,1.0,1.0,1.0,1.0,1.0,1.0,1.0,1.0,1.0,1.0,1.0,1.0,1.0,1.0,1.0,1.0,1.0,1.0,1.0,1.0,1.0,1.0,1.0,1.0,1.0,1.0,1.0,1.0,1.0,1.0,1.0,1.0,1.0,1.0,1.0,1.0,1.0,1.0,1.0,1.0,1.0,1.0,1.0,1.0,1.0,1.0,1.0,1.0,1.0,1.0,1.0,1.0,1.0,1.0,1.0,1.0,1.0,1.0,1.0,1.0,1.0,1.0,1.0,1.0,1.0,1.0,1.0,1.0,1.0,1.0,1.0,1.0,1.0,1.0,1.0,1.0,1.0,1.0,1.0,1.0,1.0,1.0,1.0,1.0,1.0,1.0,1.0,1.0,1.0,1.0,1.0,1.0,1.0,1.0,1.0,1.0,1.0,1.0,1.0,1.0,1.0,1.0,1.0,1.0,1.0,1.0,1.0,1.0,1.0,1.0,1.0,1.0,1.0,1.0,1.0,1.0,1.0,1.0,1.0,1.0,1.0,1.0,1.0,1.0,1.0,1.0,1.0,1.0,1.0,1.0,1.0,1.0,1.0,1.0,1.0,1.0,1.0,1.0,1.0,1.0,1.0,1.0,1.0,1.0,1.0,1.0,1.0,1.0,1.0,1.0,1.0,1.0,1.0,1.0,1.0,1.0,1.0,1.0,1.0,1.0,1.0,1.0,1.0,1.0,1.0,1.0,1.0,1.0,1.0,1.0,1.0,1.0,1.0,1.0,1.0,1.0,1.0,1.0,1.0,1.0,1.0,1.0,1.0,1.0,1.0,1.0,1.0,1.0,1.0,1.0,1.0,1.0,1.0,1.0,1.0,1.0,1.0,1.0,1.0,1.0,1.0,1.0,1.0,1.0,1.0,1.0,1.0,1.0,1.0,1.0,1.0,1.0,1.0,1.0,1.0,1.0,1.0,1.0,1.0,1.0,1.0,1.0,1.0,1.0,1.0,1.0,1.0,1.0,1.0,1.0,1.0,1.0,1.0,1.0,1.0,1.0,1.0,1.0,1.0,1.0,1.0,1.0,1.0,1.0,1.0,1.0,1.0,1.0,1.0,1.0,1.0,1.0,1.0,1.0,1.0,1.0,1.0,1.0,1.0,1.0,1.0,1.0,1.0,1.0,1.0,1.0,1.0,1.0,1.0,1.0,1.0,1.0,1.0,1.0,1.0,1.0,1.0,1.0,1.0,1.0,1.0,1.0,1.0,1.0,1.0,1.0,1.0,1.0,1.0,1.0,1.0,1.0,1.0,1.0,1.0,1.0,1.0,1.0,1.0,1.0,1.0,1.0,1.0,1.0,1.0,1.0,1.0,1.0,1.0,1.0,1.0,1.0,1.0,1.0,1.0,1.0,1.0,1.0,1.0,1.0,1.0,1.0,1.0,1.0,1.0,1.0,1.0,1.0,1.0,1.0,1.0,1.0,1.0,1.0,1.0,1.0,1.0,1.0,1.0,1.0,1.0,1.0,1.0,1.0,1.0,1.0,1.0,1.0,1.0,1.0,1.0,1.0,1.0,1.0,1.0,1.0,1.0,1.0,1.0,1.0,1.0,1.0,1.0,1.0,1.0,1.0,1.0,1.0,1.0,1.0,1.0,1.0,1.0,1.0,1.0,1.0,1.0,1.0,1.0,1.0,1.0,1.0,1.0,1.0,1.0,1.0,1.0,1.0,1.0,1.0,1.0,1.0,1.0,1.0,1.0,1.0,1.0,1.0,1.0,1.0,1.0,1.0,1.0,1.0,1.0,1.0,1.0,1.0,1.0,1.0,1.0,1.0,1.0,1.0,1.0,1.0,1.0,1.0,1.0,1.0,1.0,1.0,1.0,1.0,1.0,1.0,1.0,1.0,1.0,1.0,1.0,1.0,1.0,1.0,1.0,1.0,1.0,1.0,1.0,1.0,1.0,1.0,1.0,1.0,1.0,1.0,1.0,1.0,1.0,1.0,1.0,1.0,1.0,1.0,1.0,1.0,1.0,1.0,1.0,1.0,1.0,1.0,1.0,1.0,1.0,1.0,1.0,1.0,1.0,1.0,1.0,1.0,1.0,1.0,1.0,1.0,1.0,1.0,1.0,1.0,1.0,1.0,1.0,1.0,1.0,1.0,1.0,1.0,1.0,1.0,1.0,1.0,1.0,1.0,1.0,1.0,1.0,1.0,1.0,1.0,1.0,1.0,1.0,1.0,1.0,1.0,1.0,1.0,1.0,1.0,1.0,1.0,1.0,1.0,1.0,1.0,1.0,1.0,1.0,1.0,1.0,1.0,1.0,1.0,1.0,1.0,1.0,1.0,1.0,1.0,1.0,1.0,1.0,1.0,1.0,1.0,1.0,1.0,1.0,1.0,1.0,1.0,1.0,1.0,1.0,1.0,1.0,1.0,1.0,1.0,1.0,1.0,1.0,1.0,1.0,1.0,1.0,1.0,1.0,1.0,1.0,1.0,1.0,1.0,1.0,1.0,1.0,1.0,1.0,1.0,1.0,1.0,1.0,1.0,1.0,1.0,1.0,1.0,1.0,1.0,1.0,1.0,1.0,1.0,1.0,1.0,1.0,1.0,1.0,1.0,1.0,1.0,1.0,1.0,1.0,1.0,1.0,1.0,1.0,1.0,1.0,1.0,1.0,1.0,1.0,1.0,1.0,1.0,1.0,1.0,1.0,1.0,1.0,1.0,1.0,1.0,1.0,1.0,1.0,1.0,1.0,1.0,1.0,1.0,1.0,1.0,1.0,1.0,1.0,1.0,1.0,1.0,1.0,1.0,1.0,1.0,1.0,1.0,1.0,1.0,1.0,1.0,1.0,1.0,1.0,1.0,1.0,1.0,1.0,1.0,1.0,1.0,1.0,1.0,1.0,1.0,1.0,1.0,1.0,1.0,1.0,1.0,1.0,1.0,1.0,1.0,1.0,1.0,1.0,1.0,1.0,1.0,1.0,1.0,1.0,1.0,1.0,1.0,1.0,1.0,1.0,1.0,1.0,1.0,1.0,1.0,1.0,1.0,1.0,1.0,1.0,1.0,1.0,1.0,1.0,1.0,1.0,1.0,1.0,1.0,1.0,1.0,1.0,1.0,1.0,1.0,1.0,1.0,1.0,1.0,1.0,1.0,1.0,1.0,1.0,1.0,1.0,1.0,1.0,1.0,1.0,1.0,1.0,1.0,1.0,1.0,1.0,1.0,1.0,1.0,1.0,1.0,1.0,1.0,1.0,1.0,1.0,1.0,1.0,1.0,1.0,1.0,1.0,1.0,1.0,1.0,1.0,1.0,1.0,1.0,1.0,1.0,1.0,1.0,1.0,1.0,1.0,1.0,1.0,1.0,1.0,1.0,1.0,1.0,1.0,1.0,1.0,1.0,1.0,1.0,1.0,1.0,1.0,1.0,1.0,1.0,1.0,1.0,1.0,1.0,1.0,1.0,1.0,1.0,1.0,1.0,1.0,1.0,1.0,1.0,1.0,1.0,1.0,1.0,1.0,1.0,1.0,1.0,1.0,1.0,1.0,1.0,1.0,1.0,1.0,1.0,1.0,1.0,1.0,1.0,1.0,1.0,1.0,1.0,1.0,1.0,1.0,1.0,1.0,1.0,1.0,1.0,1.0,1.0,1.0,1.0,1.0,1.0,1.0,1.0,1.0,1.0,1.0,1.0,1.0,1.0,1.0,1.0,1.0,1.0,1.0,1.0,1.0,1.0,1.0,1.0,1.0,1.0,1.0,1.0,1.0,1.0,1.0,1.0,1.0,1.0,1.0,1.0,1.0,1.0,1.0,1.0,1.0,1.0,1.0,1.0,1.0,1.0,1.0,1.0,1.0,1.0,1.0,1.0,1.0,1.0,1.0,1.0,1.0,1.0,1.0,1.0,1.0,1.0,1.0,1.0,1.0,1.0,1.0,1.0,1.0,1.0,1.0,1.0,1.0,1.0,1.0,1.0,1.0,1.0,1.0,1.0,1.0,1.0,1.0,1.0,1.0,1.0,1.0,1.0,1.0,1.0,1.0,1.0,1.0,1.0,1.0,1.0,1.0,1.0,1.0,1.0,1.0,1.0,1.0,1.0,1.0,1.0,1.0,1.0,1.0,1.0,1.0,1.0,1.0,1.0,1.0,1.0,1.0,1.0,1.0,1.0,1.0,1.0,1.0,1.0,1.0,1.0,1.0,1.0,1.0,1.0,1.0,1.0,1.0,1.0,1.0,1.0,1.0,1.0,1.0,1.0,1.0,1.0,1.0,1.0,1.0,1.0,1.0,1.0,1.0,1.0,1.0,1.0,1.0,1.0,1.0,1.0,1.0,1.0,1.0,1.0,1.0,1.0,1.0,1.0,1.0,1.0,1.0],\"y\":[-5.3,-5.2738,-5.2476,-5.2214,-5.1952,-5.169,-5.1428,-5.1166,-5.0904,-5.0642,-5.038,-5.0118,-4.9856,-4.9594,-4.9332,-4.907,-4.8808,-4.8546,-4.8284,-4.8022,-4.776,-4.7498,-4.7236,-4.6974,-4.6712,-4.645,-4.6188,-4.5926,-4.5664,-4.5402,-4.514,-4.4878,-4.4616,-4.4354,-4.4092,-4.383,-4.3568,-4.3306,-4.3044,-4.2782,-4.252,-4.2258,-4.1996,-4.1734,-4.1472,-4.121,-4.0948,-4.0686,-4.0424,-4.0161999999999995,-3.99,-3.9638,-3.9375999999999998,-3.9114,-3.8852,-3.859,-3.8327999999999998,-3.8066,-3.7804,-3.7542,-3.7279999999999998,-3.7018,-3.6756,-3.6494,-3.6231999999999998,-3.597,-3.5708,-3.5446,-3.5183999999999997,-3.4922,-3.466,-3.4398,-3.4135999999999997,-3.3874,-3.3612,-3.335,-3.3087999999999997,-3.2826,-3.2564,-3.2302,-3.204,-3.1778,-3.1516,-3.1254,-3.0992,-3.073,-3.0468,-3.0206,-2.9944,-2.9682,-2.942,-2.9158,-2.8896,-2.8634,-2.8372,-2.811,-2.7848,-2.7586,-2.7324,-2.7062,-2.68,-2.6538,-2.6276,-2.6014,-2.5752,-2.549,-2.5228,-2.4966,-2.4704,-2.4442,-2.418,-2.3918,-2.3656,-2.3394,-2.3132,-2.287,-2.2608,-2.2346,-2.2084,-2.1822,-2.156,-2.1298,-2.1036,-2.0774,-2.0512,-2.025,-1.9988000000000001,-1.9726,-1.9464000000000001,-1.9202000000000004,-1.8940000000000001,-1.8678000000000003,-1.8416000000000001,-1.8154000000000003,-1.7892000000000001,-1.7630000000000003,-1.7368000000000001,-1.7106000000000003,-1.6844000000000001,-1.6582000000000003,-1.6320000000000001,-1.6058000000000003,-1.5796000000000001,-1.5534000000000003,-1.5272000000000001,-1.5010000000000003,-1.4748,-1.4486000000000003,-1.4224,-1.3962000000000003,-1.37,-1.3438000000000003,-1.3176,-1.2914000000000003,-1.2652,-1.2389999999999999,-1.2128000000000005,-1.1866000000000003,-1.1604,-1.1341999999999999,-1.1080000000000005,-1.0818000000000003,-1.0556,-1.0293999999999999,-1.0032000000000005,-0.9770000000000003,-0.9508000000000001,-0.9245999999999999,-0.8984000000000005,-0.8722000000000003,-0.8460000000000001,-0.8197999999999999,-0.7936000000000005,-0.7674000000000003,-0.7412000000000001,-0.7149999999999999,-0.6888000000000005,-0.6626000000000003,-0.6364000000000001,-0.6101999999999999,-0.5840000000000005,-0.5578000000000003,-0.5316000000000001,-0.5053999999999998,-0.4792000000000005,-0.4530000000000003,-0.42680000000000007,-0.40059999999999985,-0.3744000000000005,-0.3482000000000003,-0.32200000000000006,-0.29579999999999984,-0.2696000000000005,-0.24340000000000028,-0.21720000000000006,-0.19100000000000072,-0.1648000000000005,-0.13860000000000028,-0.11240000000000006,-0.08620000000000072,-0.0600000000000005,-0.033800000000000274,-0.007600000000000051,0.018599999999999284,0.04479999999999951,0.07099999999999973,0.09719999999999995,0.12339999999999929,0.1495999999999995,0.17579999999999973,0.20199999999999996,0.2281999999999993,0.2543999999999995,0.28059999999999974,0.30679999999999996,0.3329999999999993,0.3591999999999995,0.38539999999999974,0.41159999999999997,0.4377999999999993,0.4639999999999995,0.49019999999999975,0.5164,0.5425999999999993,0.5687999999999995,0.5949999999999998,0.6212,0.6473999999999993,0.6735999999999995,0.6997999999999998,0.726,0.7521999999999993,0.7783999999999995,0.8045999999999998,0.8308,0.8569999999999993,0.8831999999999995,0.9093999999999998,0.9356,0.9617999999999993,0.9879999999999995,1.0141999999999998,1.0404,1.0665999999999993,1.0927999999999995,1.1189999999999998,1.1452,1.1713999999999993,1.1975999999999996,1.2237999999999998,1.25,1.2761999999999993,1.3023999999999996,1.3285999999999998,1.3548,1.3809999999999993,1.4071999999999996,1.4333999999999998,1.4595999999999991,1.4857999999999993,1.5119999999999996,1.5381999999999998,1.5643999999999991,1.5905999999999993,1.6167999999999996,1.6429999999999998,1.6691999999999991,1.6953999999999994,1.7215999999999996,1.7477999999999998,1.7739999999999991,1.8001999999999994,1.8263999999999996,1.8525999999999998,1.8787999999999991,1.9049999999999994,1.9311999999999996,1.9573999999999998,1.9835999999999991,2.0097999999999994,2.0359999999999996,2.0622,2.088399999999999,2.1145999999999994,2.1407999999999996,2.167,2.193199999999999,2.2193999999999994,2.2455999999999996,2.2718,2.297999999999999,2.3241999999999994,2.3503999999999996,2.3766,2.402799999999999,2.4289999999999994,2.4551999999999996,2.4814,2.507599999999999,2.5337999999999994,2.5599999999999996,2.5862,2.612399999999999,2.6385999999999994,2.6647999999999996,2.691,2.717199999999999,2.7434000000000003,2.7695999999999996,2.795799999999999,2.822,2.8481999999999994,2.8743999999999987,2.9006,2.926799999999999,2.9530000000000003,2.9791999999999996,3.005399999999999,3.0316,3.0577999999999994,3.0839999999999987,3.1102,3.136399999999999,3.1625999999999985,3.1887999999999996,3.214999999999999,3.2412,3.2673999999999994,3.2935999999999988,3.3198,3.345999999999999,3.3721999999999985,3.3983999999999996,3.424599999999999,3.4508,3.4769999999999994,3.5031999999999988,3.5294,3.555599999999999,3.5817999999999985,3.6079999999999997,3.634199999999999,3.6604,3.6865999999999994,3.7127999999999988,3.739,3.765199999999999,3.7913999999999985,3.8175999999999997,3.843799999999999,3.87,3.8961999999999994,3.9223999999999988,3.9486,3.9747999999999992,4.000999999999999,4.0272,4.053399999999999,4.0796,4.1057999999999995,4.131999999999999,4.1582,4.184399999999999,4.210599999999999,4.2368,4.262999999999999,4.2892,4.3153999999999995,4.341599999999999,4.3678,4.393999999999999,4.420199999999999,4.4464,4.472599999999999,4.4988,4.5249999999999995,4.551199999999999,4.5774,4.603599999999999,4.629799999999999,4.656,4.682199999999999,4.7084,4.7345999999999995,4.760799999999999,4.787,4.813199999999999,4.839399999999999,4.8656,4.891799999999999,4.917999999999998,4.9441999999999995,4.970399999999999,4.9966,5.022799999999999,5.048999999999999,5.0752,5.101399999999999,5.127599999999998,5.1537999999999995,5.179999999999999,5.2062,5.232399999999999,5.258599999999999,5.2848,5.310999999999999,5.337199999999998,5.3633999999999995,5.389599999999999,5.4158,5.441999999999999,5.468199999999999,5.4944,5.520599999999999,5.546799999999998,5.5729999999999995,5.599199999999999,5.6254,5.651599999999999,5.677799999999999,5.704,5.730199999999999,5.756399999999998,5.7825999999999995,5.808799999999999,5.835,5.861199999999999,5.887399999999999,5.9136,5.939799999999999,5.965999999999998,5.9921999999999995,6.018399999999999,6.0446,6.070799999999999,6.096999999999999,6.1232,6.149399999999999,6.175599999999998,6.2017999999999995,6.227999999999999,6.2542,6.280399999999999,6.306599999999999,6.3328,6.358999999999999,6.385199999999998,6.4113999999999995,6.437599999999999,6.463799999999998,6.489999999999999,6.516199999999999,6.5424,6.568599999999999,6.594799999999998,6.6209999999999996,6.647199999999999,6.673399999999998,6.699599999999999,6.725799999999999,6.752,6.778199999999999,6.8043999999999984,6.8306,6.856799999999999,6.882999999999998,6.909199999999999,6.935399999999999,6.9616,6.987799999999999,7.0139999999999985,7.0402,7.066399999999999,7.092599999999998,7.118799999999999,7.144999999999999,7.1712,7.197399999999999,7.2235999999999985,7.2498,7.275999999999999,7.302199999999998,7.328399999999999,7.354599999999999,7.3808,7.406999999999999,7.4331999999999985,7.4594,7.485599999999999,7.511799999999998,7.537999999999999,7.564199999999999,7.5904,7.616599999999999,7.6427999999999985,7.669,7.695199999999999,7.721399999999998,7.747599999999999,7.773799999999999,7.8,7.826199999999999,7.8523999999999985,7.8786,7.904799999999999,7.930999999999998,7.957199999999999,7.983399999999999,8.009599999999999,8.035799999999998,8.061999999999998,8.0882,8.1144,8.1406,8.166799999999999,8.192999999999998,8.219199999999997,8.2454,8.2716,8.297799999999999,8.323999999999998,8.350199999999997,8.3764,8.4026,8.428799999999999,8.454999999999998,8.481199999999998,8.5074,8.5336,8.5598,8.585999999999999,8.612199999999998,8.638399999999997,8.6646,8.6908,8.716999999999999,8.743199999999998,8.769399999999997,8.7956,8.8218,8.847999999999999,8.874199999999998,8.900399999999998,8.9266,8.9528,8.979,9.005199999999999,9.031399999999998,9.057599999999997,9.0838,9.11,9.136199999999999,9.162399999999998,9.188599999999997,9.2148,9.241,9.267199999999999,9.293399999999998,9.319599999999998,9.3458,9.372,9.3982,9.424399999999999,9.450599999999998,9.476799999999997,9.503,9.5292,9.555399999999999,9.581599999999998,9.607799999999997,9.634,9.6602,9.686399999999999,9.712599999999998,9.738799999999998,9.765,9.7912,9.8174,9.843599999999999,9.869799999999998,9.895999999999997,9.9222,9.9484,9.974599999999999,10.000799999999998,10.026999999999997,10.0532,10.0794,10.105599999999999,10.131799999999998,10.157999999999998,10.184199999999997,10.2104,10.2366,10.262799999999999,10.288999999999998,10.315199999999997,10.3414,10.3676,10.393799999999999,10.419999999999998,10.446199999999997,10.4724,10.4986,10.524799999999999,10.550999999999998,10.577199999999998,10.603399999999997,10.6296,10.6558,10.681999999999999,10.708199999999998,10.734399999999997,10.760599999999997,10.7868,10.812999999999999,10.839199999999998,10.865399999999998,10.891599999999997,10.917799999999996,10.943999999999999,10.970199999999998,10.996399999999998,11.022599999999997,11.048799999999996,11.075,11.101199999999999,11.127399999999998,11.153599999999997,11.179799999999997,11.206,11.232199999999999,11.258399999999998,11.284599999999998,11.310799999999997,11.336999999999996,11.363199999999999,11.389399999999998,11.415599999999998,11.441799999999997,11.467999999999996,11.4942,11.520399999999999,11.546599999999998,11.572799999999997,11.598999999999997,11.625199999999996,11.651399999999999,11.677599999999998,11.703799999999998,11.729999999999997,11.756199999999996,11.782399999999999,11.808599999999998,11.834799999999998,11.860999999999997,11.887199999999996,11.9134,11.939599999999999,11.965799999999998,11.991999999999997,12.018199999999997,12.044399999999996,12.070599999999999,12.096799999999998,12.122999999999998,12.149199999999997,12.175399999999996,12.2016,12.227799999999998,12.253999999999998,12.280199999999997,12.306399999999996,12.3326,12.358799999999999,12.384999999999998,12.411199999999997,12.437399999999997,12.463599999999996,12.489799999999999,12.515999999999998,12.542199999999998,12.568399999999997,12.594599999999996,12.6208,12.646999999999998,12.673199999999998,12.699399999999997,12.725599999999996,12.7518,12.777999999999999,12.804199999999998,12.830399999999997,12.856599999999997,12.882799999999996,12.908999999999999,12.935199999999998,12.961399999999998,12.987599999999997,13.013799999999996,13.04,13.066199999999998,13.092399999999998,13.118599999999997,13.144799999999996,13.170999999999996,13.197199999999999,13.223399999999998,13.249599999999997,13.275799999999997,13.301999999999996,13.328199999999999,13.354399999999998,13.380599999999998,13.406799999999997,13.432999999999996,13.4592,13.485399999999998,13.511599999999998,13.537799999999997,13.563999999999997,13.590199999999996,13.616399999999999,13.642599999999998,13.668799999999997,13.694999999999997,13.721199999999996,13.747399999999999,13.773599999999998,13.799799999999998,13.825999999999997,13.852199999999996,13.8784,13.904599999999999,13.930799999999998,13.956999999999997,13.983199999999997,14.009399999999996,14.035599999999999,14.061799999999998,14.087999999999997,14.114199999999997,14.140399999999996,14.166599999999999,14.192799999999998,14.218999999999998,14.245199999999997,14.271399999999996,14.2976,14.323799999999999,14.349999999999998,14.376199999999997,14.402399999999997,14.428599999999996,14.454799999999999,14.480999999999998,14.507199999999997,14.533399999999997,14.559599999999996,14.585799999999999,14.611999999999998,14.638199999999998,14.664399999999997,14.690599999999996,14.7168,14.742999999999999,14.769199999999998,14.795399999999997,14.821599999999997,14.847799999999996,14.873999999999999,14.900199999999998,14.926399999999997,14.952599999999997,14.978799999999996,15.004999999999999,15.031199999999998,15.057399999999998,15.083599999999997,15.109799999999996,15.135999999999996,15.162199999999999,15.188399999999998,15.214599999999997,15.240799999999997,15.266999999999996,15.293199999999999,15.319399999999998,15.345599999999997,15.371799999999997,15.397999999999996,15.424199999999999,15.450399999999998,15.476599999999998,15.502799999999997,15.528999999999996,15.555199999999996,15.581399999999999,15.607599999999998,15.633799999999997,15.659999999999997,15.686199999999996,15.712399999999999,15.738599999999998,15.764799999999997,15.790999999999997,15.817199999999996,15.843399999999999,15.869599999999998,15.895799999999998,15.921999999999997,15.948199999999996,15.974399999999996,16.0006,16.026799999999998,16.052999999999997,16.079199999999997,16.105399999999996,16.1316,16.157799999999998,16.183999999999997,16.210199999999997,16.236399999999996,16.2626,16.2888,16.314999999999998,16.341199999999997,16.367399999999996,16.393599999999996,16.4198,16.445999999999998,16.472199999999997,16.498399999999997,16.524599999999996,16.5508,16.576999999999998,16.603199999999998,16.629399999999997,16.655599999999996,16.681799999999996,16.708,16.734199999999998,16.760399999999997,16.786599999999996,16.812799999999996,16.839,16.865199999999998,16.891399999999997,16.917599999999997,16.943799999999996,16.97,16.996199999999998,17.022399999999998,17.048599999999997,17.074799999999996,17.100999999999996,17.1272,17.153399999999998,17.179599999999997,17.205799999999996,17.231999999999996,17.2582,17.284399999999998,17.310599999999997,17.336799999999997,17.362999999999996,17.3892,17.415399999999998,17.441599999999998,17.467799999999997,17.493999999999996,17.520199999999996,17.5464,17.572599999999998,17.598799999999997,17.624999999999996,17.651199999999996,17.6774,17.703599999999998,17.729799999999997,17.755999999999997,17.782199999999996,17.8084,17.8346,17.860799999999998,17.886999999999997,17.913199999999996,17.939399999999996,17.9656,17.991799999999998,18.017999999999997,18.044199999999996,18.070399999999996,18.0966,18.122799999999998,18.148999999999997,18.175199999999997,18.201399999999996,18.227599999999995,18.2538,18.279999999999998,18.306199999999997,18.332399999999996,18.358599999999996,18.3848,18.410999999999998,18.437199999999997,18.463399999999996,18.489599999999996,18.5158,18.541999999999998,18.568199999999997,18.594399999999997,18.620599999999996,18.646799999999995,18.673,18.699199999999998,18.725399999999997,18.751599999999996,18.777799999999996,18.804,18.830199999999998,18.856399999999997,18.882599999999996,18.908799999999996,18.935,18.961199999999998,18.987399999999997,19.013599999999997,19.039799999999996,19.065999999999995,19.0922,19.118399999999998,19.144599999999997,19.170799999999996,19.196999999999996,19.2232,19.249399999999998,19.275599999999997,19.301799999999997,19.327999999999996,19.3542,19.380399999999998,19.406599999999997,19.432799999999997,19.458999999999996,19.485199999999995,19.5114,19.537599999999998,19.563799999999997,19.589999999999996,19.616199999999996,19.6424,19.668599999999998,19.694799999999997,19.720999999999997,19.747199999999996,19.7734,19.799599999999998,19.825799999999997,19.851999999999997,19.878199999999996,19.904399999999995,19.9306,19.956799999999998,19.982999999999997,20.009199999999996,20.035399999999996,20.0616,20.087799999999998,20.113999999999997,20.140199999999997,20.166399999999996,20.192599999999995,20.218799999999998,20.244999999999997,20.271199999999997,20.297399999999996,20.323599999999995,20.3498,20.375999999999998,20.402199999999997,20.428399999999996,20.454599999999996,20.4808,20.506999999999998,20.533199999999997,20.559399999999997,20.585599999999996,20.611799999999995,20.637999999999998,20.664199999999997,20.690399999999997,20.716599999999996,20.742799999999995,20.769,20.795199999999998,20.821399999999997,20.847599999999996,20.873799999999996,20.9],\"z\":[15.296285887262057,15.296434322299158,15.296582757336258,15.29673119237336,15.29687962741046,15.297028062447561,15.29717649748466,15.29732493252176,15.297473367558862,15.297621802595962,15.297770237633063,15.297918672670164,15.298067107707265,15.298215542744364,15.298363977781465,15.298512412818566,15.298660847855666,15.298809282892767,15.298957717929868,15.299106152966969,15.299254588004068,15.299403023041169,15.29955145807827,15.29969989311537,15.299848328152471,15.299996763189572,15.300145198226673,15.300293633263772,15.300442068300873,15.300590503337974,15.300738938375074,15.300887373412175,15.301035808449276,15.301184243486375,15.301332678523476,15.301481113560577,15.301629548597678,15.301777983634778,15.30192641867188,15.30207485370898,15.30222328874608,15.30237172378318,15.30252015882028,15.302668593857382,15.302817028894482,15.302965463931583,15.303113898968684,15.303262334005783,15.303410769042884,15.303559204079985,15.303707639117086,15.303856074154186,15.304004509191287,15.304152944228388,15.304301379265487,15.304449814302588,15.304598249339689,15.30474668437679,15.30489511941389,15.305043554450991,15.30519198948809,15.305340424525191,15.305488859562292,15.305637294599393,15.305785729636494,15.305934164673594,15.306082599710695,15.306231034747794,15.306379469784895,15.306527904821996,15.306676339859097,15.306824774896198,15.306973209933298,15.3071216449704,15.307270080007498,15.3074185150446,15.3075669500817,15.3077153851188,15.307863820155902,15.308012255193002,15.308160690230103,15.308309125267202,15.308457560304303,15.308605995341404,15.308754430378505,15.308902865415606,15.309051300452706,15.309199735489806,15.309348170526906,15.309496605564007,15.309645040601108,15.309793475638209,15.30994191067531,15.31009034571241,15.31023878074951,15.31038721578661,15.310535650823711,15.310684085860812,15.310832520897913,15.310980955935014,15.311129390972114,15.311277826009213,15.311426261046314,15.311574696083415,15.311723131120516,15.311871566157617,15.312020001194718,15.312168436231818,15.312316871268917,15.312465306306018,15.31261374134312,15.31276217638022,15.31291061141732,15.313059046454422,15.31320748149152,15.313355916528621,15.313504351565722,15.313652786602823,15.313801221639924,15.313949656677025,15.314098091714126,15.314246526751225,15.314394961788325,15.314543396825426,15.314691831862527,15.314840266899628,15.314988701936729,15.31513713697383,15.315285572010929,15.31543400704803,15.31558244208513,15.315730877122231,15.315879312159332,15.316027747196433,15.316176182233534,15.316324617270633,15.316473052307733,15.316621487344834,15.316769922381935,15.316918357419036,15.317066792456137,15.317215227493236,15.317363662530337,15.317512097567437,15.317660532604538,15.31780896764164,15.31795740267874,15.31810583771584,15.31825427275294,15.31840270779004,15.318551142827141,15.318699577864242,15.318848012901343,15.318996447938444,15.319144882975545,15.319293318012644,15.319441753049745,15.319590188086845,15.319738623123946,15.319887058161047,15.320035493198148,15.320183928235247,15.320332363272348,15.320480798309449,15.32062923334655,15.32077766838365,15.320926103420751,15.321074538457852,15.321222973494951,15.321371408532052,15.321519843569153,15.321668278606253,15.321816713643354,15.321965148680455,15.322113583717556,15.322262018754655,15.322410453791756,15.322558888828857,15.322707323865957,15.322855758903058,15.32300419394016,15.32315262897726,15.323301064014359,15.32344949905146,15.32359793408856,15.323746369125661,15.323894804162762,15.324043239199863,15.324191674236962,15.324340109274063,15.324488544311164,15.324636979348265,15.324785414385365,15.324933849422466,15.325082284459567,15.325230719496666,15.325379154533767,15.325527589570868,15.325676024607969,15.32582445964507,15.32597289468217,15.326121329719271,15.32626976475637,15.326418199793471,15.326566634830572,15.326715069867673,15.326863504904773,15.327011939941874,15.327160374978975,15.327308810016074,15.327457245053175,15.327605680090276,15.327754115127377,15.327902550164477,15.328050985201578,15.328199420238677,15.328347855275778,15.328496290312879,15.32864472534998,15.32879316038708,15.328941595424181,15.329090030461282,15.329238465498381,15.329386900535482,15.329535335572583,15.329683770609684,15.329832205646785,15.329980640683885,15.330129075720986,15.330277510758085,15.330425945795186,15.330574380832287,15.330722815869388,15.330871250906489,15.33101968594359,15.33116812098069,15.33131655601779,15.33146499105489,15.331613426091991,15.331761861129092,15.331910296166193,15.332058731203293,15.332207166240392,15.332355601277493,15.332504036314594,15.332652471351695,15.332800906388796,15.332949341425897,15.333097776462997,15.333246211500096,15.333394646537197,15.333543081574298,15.333691516611399,15.3338399516485,15.3339883866856,15.334136821722701,15.3342852567598,15.334433691796901,15.334582126834002,15.334730561871103,15.334878996908204,15.335027431945305,15.335175866982405,15.335324302019504,15.335472737056605,15.335621172093706,15.335769607130807,15.335918042167908,15.336066477205009,15.336214912242108,15.336363347279208,15.33651178231631,15.33666021735341,15.336808652390511,15.336957087427612,15.337105522464713,15.337253957501812,15.337402392538912,15.337550827576013,15.337699262613114,15.337847697650215,15.337996132687316,15.338144567724417,15.338293002761516,15.338441437798616,15.338589872835717,15.338738307872818,15.338886742909919,15.33903517794702,15.33918361298412,15.33933204802122,15.33948048305832,15.339628918095421,15.339777353132522,15.339925788169623,15.340074223206724,15.340222658243823,15.340371093280924,15.340519528318024,15.340667963355125,15.340816398392226,15.340964833429327,15.341113268466428,15.341261703503527,15.341410138540628,15.341558573577728,15.34170700861483,15.34185544365193,15.342003878689031,15.342152313726132,15.34230074876323,15.342449183800332,15.342597618837432,15.342746053874533,15.342894488911634,15.343042923948735,15.343191358985836,15.343339794022935,15.343488229060036,15.343636664097136,15.343785099134237,15.343933534171338,15.344081969208439,15.344230404245538,15.344378839282639,15.34452727431974,15.34467570935684,15.344824144393941,15.344972579431042,15.345121014468143,15.345269449505242,15.345417884542343,15.345566319579444,15.345714754616544,15.345863189653645,15.346011624690746,15.346160059727847,15.346308494764946,15.346456929802047,15.346605364839148,15.346753799876248,15.34690223491335,15.34705066995045,15.34719910498755,15.34734754002465,15.34749597506175,15.347644410098852,15.347792845135952,15.347941280173053,15.348089715210154,15.348238150247253,15.348386585284354,15.348535020321455,15.348683455358556,15.348831890395656,15.348980325432757,15.349128760469858,15.349277195506957,15.349425630544058,15.349574065581159,15.34972250061826,15.34987093565536,15.350019370692461,15.350167805729562,15.350316240766661,15.350464675803762,15.350613110840863,15.350761545877964,15.350909980915064,15.351058415952165,15.351206850989264,15.351355286026365,15.351503721063466,15.351652156100567,15.351800591137668,15.351949026174768,15.35209746121187,15.352245896248968,15.35239433128607,15.35254276632317,15.35269120136027,15.352839636397372,15.352988071434472,15.353136506471573,15.353284941508672,15.353433376545773,15.353581811582874,15.353730246619975,15.353878681657076,15.354027116694176,15.354175551731277,15.354323986768376,15.354472421805477,15.354620856842578,15.354769291879679,15.35491772691678,15.35506616195388,15.35521459699098,15.35536303202808,15.355511467065181,15.355659902102282,15.355808337139383,15.355956772176484,15.356105207213584,15.356253642250683,15.356402077287784,15.356550512324885,15.356698947361986,15.356847382399087,15.356995817436188,15.357144252473288,15.357292687510387,15.357441122547488,15.357589557584589,15.35773799262169,15.35788642765879,15.358034862695892,15.358183297732992,15.358331732770091,15.358480167807192,15.358628602844293,15.358777037881394,15.358925472918495,15.359073907955596,15.359222342992695,15.359370778029795,15.359519213066896,15.359667648103997,15.359816083141098,15.359964518178199,15.3601129532153,15.360261388252399,15.3604098232895,15.3605582583266,15.360706693363701,15.360855128400802,15.361003563437903,15.361151998475004,15.361300433512103,15.361448868549203,15.361597303586304,15.361745738623405,15.361894173660506,15.362042608697607,15.362191043734708,15.362339478771807,15.362487913808907,15.362636348846008,15.362784783883109,15.36293321892021,15.36308165395731,15.36323008899441,15.36337852403151,15.363526959068611,15.363675394105712,15.363823829142813,15.363972264179914,15.364120699217015,15.364269134254114,15.364417569291215,15.364566004328315,15.364714439365416,15.364862874402517,15.365011309439618,15.365159744476719,15.365308179513818,15.365456614550919,15.36560504958802,15.36575348462512,15.365901919662221,15.366050354699322,15.366198789736423,15.366347224773522,15.366495659810623,15.366644094847723,15.366792529884824,15.366940964921925,15.367089399959026,15.367237834996125,15.367386270033226,15.367534705070327,15.367683140107427,15.367831575144528,15.367980010181629,15.36812844521873,15.368276880255829,15.36842531529293,15.36857375033003,15.368722185367131,15.368870620404232,15.369019055441333,15.369167490478434,15.369315925515533,15.369464360552634,15.369612795589735,15.369761230626835,15.369909665663936,15.370058100701037,15.370206535738138,15.370354970775237,15.370503405812338,15.370651840849439,15.37080027588654,15.37094871092364,15.371097145960741,15.37124558099784,15.371394016034941,15.371542451072042,15.371690886109143,15.371839321146243,15.371987756183344,15.372136191220445,15.372284626257544,15.372433061294645,15.372581496331746,15.372729931368847,15.372878366405947,15.373026801443048,15.373175236480149,15.373323671517248,15.373472106554349,15.37362054159145,15.37376897662855,15.373917411665651,15.374065846702752,15.374214281739851,15.374362716776952,15.374511151814053,15.374659586851154,15.374808021888255,15.374956456925355,15.375104891962456,15.375253326999555,15.375401762036656,15.375550197073757,15.375698632110858,15.375847067147959,15.37599550218506,15.37614393722216,15.37629237225926,15.37644080729636,15.376589242333461,15.376737677370562,15.376886112407663,15.377034547444763,15.377182982481864,15.377331417518963,15.377479852556064,15.377628287593165,15.377776722630266,15.377925157667367,15.378073592704467,15.378222027741566,15.378370462778667,15.378518897815768,15.378667332852869,15.37881576788997,15.37896420292707,15.379112637964171,15.37926107300127,15.379409508038371,15.379557943075472,15.379706378112573,15.379854813149674,15.380003248186775,15.380151683223875,15.380300118260974,15.380448553298075,15.380596988335176,15.380745423372277,15.380893858409378,15.381042293446479,15.38119072848358,15.381339163520678,15.38148759855778,15.38163603359488,15.381784468631981,15.381932903669082,15.382081338706183,15.382229773743282,15.382378208780382,15.382526643817483,15.382675078854584,15.382823513891685,15.382971948928786,15.383120383965887,15.383268819002986,15.383417254040086,15.383565689077187,15.383714124114288,15.383862559151389,15.38401099418849,15.38415942922559,15.38430786426269,15.38445629929979,15.384604734336891,15.384753169373992,15.384901604411093,15.385050039448194,15.385198474485295,15.385346909522394,15.385495344559494,15.385643779596595,15.385792214633696,15.385940649670797,15.386089084707898,15.386237519744997,15.386385954782098,15.386534389819198,15.3866828248563,15.3868312598934,15.3869796949305,15.387128129967602,15.3872765650047,15.387425000041802,15.387573435078902,15.387721870116003,15.387870305153104,15.388018740190205,15.388167175227306,15.388315610264405,15.388464045301506,15.388612480338606,15.388760915375707,15.388909350412808,15.389057785449909,15.38920622048701,15.389354655524109,15.38950309056121,15.38965152559831,15.389799960635411,15.389948395672512,15.390096830709613,15.390245265746712,15.390393700783813,15.390542135820914,15.390690570858014,15.390839005895115,15.390987440932216,15.391135875969317,15.391284311006416,15.391432746043517,15.391581181080618,15.391729616117718,15.39187805115482,15.39202648619192,15.39217492122902,15.39232335626612,15.39247179130322,15.392620226340322,15.392768661377422,15.392917096414523,15.393065531451624,15.393213966488725,15.393362401525824,15.393510836562925,15.393659271600026,15.393807706637126,15.393956141674227,15.394104576711328,15.394253011748427,15.394401446785528,15.394549881822629,15.39469831685973,15.39484675189683,15.394995186933931,15.395143621971032,15.395292057008131,15.395440492045232,15.395588927082333,15.395737362119434,15.395885797156534,15.396034232193635,15.396182667230736,15.396331102267835,15.396479537304936,15.396627972342037,15.396776407379138,15.396924842416238,15.39707327745334,15.39722171249044,15.397370147527539,15.39751858256464,15.39766701760174,15.397815452638842,15.397963887675942,15.398112322713043,15.398260757750142,15.398409192787243,15.398557627824344,15.398706062861445,15.398854497898546,15.399002932935646,15.399151367972747,15.399299803009846,15.399448238046947,15.399596673084048,15.399745108121149,15.39989354315825,15.40004197819535,15.400190413232451,15.40033884826955,15.400487283306651,15.400635718343752,15.400784153380853,15.400932588417954,15.401081023455054,15.401229458492155,15.401377893529254,15.401526328566355,15.401674763603456,15.401823198640557,15.401971633677658,15.402120068714758,15.402268503751857,15.402416938788958,15.402565373826059,15.40271380886316,15.40286224390026,15.403010678937362,15.403159113974462,15.403307549011561,15.403455984048662,15.403604419085763,15.403752854122864,15.403901289159965,15.404049724197066,15.404198159234166,15.404346594271265,15.404495029308366,15.404643464345467,15.404791899382568,15.404940334419669,15.40508876945677,15.405237204493869,15.40538563953097,15.40553407456807,15.405682509605171,15.405830944642272,15.405979379679373,15.406127814716474,15.406276249753573,15.406424684790673,15.406573119827774,15.406721554864875,15.406869989901976,15.407018424939077,15.407166859976178,15.407315295013277,15.407463730050377,15.407612165087478,15.407760600124579,15.40790903516168,15.40805747019878,15.408205905235882,15.40835434027298,15.408502775310081,15.408651210347182,15.408799645384283,15.408948080421384,15.409096515458485,15.409244950495584,15.409393385532685,15.409541820569785,15.409690255606886,15.409838690643987,15.409987125681088,15.410135560718189,15.410283995755288,15.410432430792389,15.41058086582949,15.41072930086659,15.410877735903691,15.411026170940792,15.411174605977893,15.411323041014992,15.411471476052093,15.411619911089193,15.411768346126294,15.411916781163395,15.412065216200496,15.412213651237597,15.412362086274696,15.412510521311797,15.412658956348897,15.412807391385998,15.412955826423099,15.4131042614602,15.413252696497299,15.4134011315344,15.4135495665715,15.413698001608601,15.413846436645702,15.413994871682803,15.414143306719904,15.414291741757003,15.414440176794104,15.414588611831205,15.414737046868305,15.414885481905406,15.415033916942507,15.415182351979608,15.415330787016707,15.415479222053808,15.415627657090909,15.41577609212801,15.41592452716511,15.416072962202211,15.416221397239312,15.416369832276411,15.416518267313512,15.416666702350613,15.416815137387713,15.416963572424814,15.417112007461915,15.417260442499014,15.417408877536115,15.417557312573216,15.417705747610317,15.417854182647417,15.418002617684518,15.418151052721619,15.418299487758718,15.418447922795819,15.41859635783292,15.41874479287002,15.418893227907121,15.419041662944222,15.419190097981323,15.419338533018422,15.419486968055523,15.419635403092624,15.419783838129725,15.419932273166825,15.420080708203926,15.420229143241027,15.420377578278126,15.420526013315227,15.420674448352328,15.420822883389429,15.42097131842653,15.42111975346363,15.42126818850073,15.42141662353783,15.42156505857493,15.421713493612032,15.421861928649133,15.422010363686233,15.422158798723334,15.422307233760433,15.422455668797534,15.422604103834635,15.422752538871736,15.422900973908837,15.423049408945937,15.423197843983038,15.423346279020137,15.423494714057238,15.423643149094339,15.42379158413144,15.42394001916854,15.424088454205641,15.424236889242742,15.424385324279841,15.424533759316942,15.424682194354043,15.424830629391144,15.424979064428245,15.425127499465345,15.425275934502444,15.425424369539545,15.425572804576646,15.425721239613747,15.425869674650848,15.426018109687949,15.42616654472505,15.426314979762148,15.42646341479925,15.42661184983635,15.42676028487345,15.426908719910552,15.427057154947653,15.427205589984753,15.427354025021852,15.427502460058953,15.427650895096054,15.427799330133155,15.427947765170256,15.428096200207357,15.428244635244457,15.428393070281556,15.428541505318657,15.428689940355758,15.428838375392859,15.42898681042996,15.42913524546706,15.42928368050416,15.42943211554126,15.429580550578361,15.429728985615462,15.429877420652563,15.430025855689664,15.430174290726764,15.430322725763864,15.430471160800964,15.430619595838065,15.430768030875166,15.430916465912267,15.431064900949368,15.431213335986468,15.431361771023568,15.431510206060668,15.43165864109777,15.43180707613487,15.43195551117197,15.432103946209072,15.43225238124617,15.432400816283272,15.432549251320372,15.432697686357473,15.432846121394574,15.432994556431675,15.433142991468776,15.433291426505875,15.433439861542976,15.433588296580076,15.433736731617177,15.433885166654278,15.434033601691379,15.43418203672848,15.434330471765579,15.43447890680268,15.43462734183978,15.434775776876881,15.434924211913982,15.435072646951083,15.435221081988184,15.435369517025283,15.435517952062384,15.435666387099484,15.435814822136585,15.435963257173686,15.436111692210787,15.436260127247886,15.436408562284987,15.436556997322088,15.436705432359188,15.43685386739629,15.43700230243339,15.43715073747049,15.43729917250759,15.43744760754469,15.437596042581792,15.437744477618892,15.437892912655993,15.438041347693094,15.438189782730195,15.438338217767294,15.438486652804395,15.438635087841496,15.438783522878596,15.438931957915697,15.439080392952798,15.439228827989899,15.439377263026998,15.439525698064099,15.4396741331012,15.4398225681383,15.439971003175401,15.440119438212502,15.440267873249601,15.440416308286702,15.440564743323803,15.440713178360904,15.440861613398004,15.441010048435105,15.441158483472206,15.441306918509305,15.441455353546406,15.441603788583507,15.441752223620608,15.441900658657708,15.44204909369481,15.44219752873191,15.442345963769009,15.44249439880611,15.44264283384321,15.442791268880312,15.442939703917412,15.443088138954513,15.443236573991614,15.443385009028713,15.443533444065814,15.443681879102915,15.443830314140016,15.443978749177116,15.444127184214217,15.444275619251316,15.444424054288417,15.444572489325518,15.444720924362619],\"type\":\"scatter3d\"}],                        {\"template\":{\"data\":{\"histogram2dcontour\":[{\"type\":\"histogram2dcontour\",\"colorbar\":{\"outlinewidth\":0,\"ticks\":\"\"},\"colorscale\":[[0.0,\"#0d0887\"],[0.1111111111111111,\"#46039f\"],[0.2222222222222222,\"#7201a8\"],[0.3333333333333333,\"#9c179e\"],[0.4444444444444444,\"#bd3786\"],[0.5555555555555556,\"#d8576b\"],[0.6666666666666666,\"#ed7953\"],[0.7777777777777778,\"#fb9f3a\"],[0.8888888888888888,\"#fdca26\"],[1.0,\"#f0f921\"]]}],\"choropleth\":[{\"type\":\"choropleth\",\"colorbar\":{\"outlinewidth\":0,\"ticks\":\"\"}}],\"histogram2d\":[{\"type\":\"histogram2d\",\"colorbar\":{\"outlinewidth\":0,\"ticks\":\"\"},\"colorscale\":[[0.0,\"#0d0887\"],[0.1111111111111111,\"#46039f\"],[0.2222222222222222,\"#7201a8\"],[0.3333333333333333,\"#9c179e\"],[0.4444444444444444,\"#bd3786\"],[0.5555555555555556,\"#d8576b\"],[0.6666666666666666,\"#ed7953\"],[0.7777777777777778,\"#fb9f3a\"],[0.8888888888888888,\"#fdca26\"],[1.0,\"#f0f921\"]]}],\"heatmap\":[{\"type\":\"heatmap\",\"colorbar\":{\"outlinewidth\":0,\"ticks\":\"\"},\"colorscale\":[[0.0,\"#0d0887\"],[0.1111111111111111,\"#46039f\"],[0.2222222222222222,\"#7201a8\"],[0.3333333333333333,\"#9c179e\"],[0.4444444444444444,\"#bd3786\"],[0.5555555555555556,\"#d8576b\"],[0.6666666666666666,\"#ed7953\"],[0.7777777777777778,\"#fb9f3a\"],[0.8888888888888888,\"#fdca26\"],[1.0,\"#f0f921\"]]}],\"heatmapgl\":[{\"type\":\"heatmapgl\",\"colorbar\":{\"outlinewidth\":0,\"ticks\":\"\"},\"colorscale\":[[0.0,\"#0d0887\"],[0.1111111111111111,\"#46039f\"],[0.2222222222222222,\"#7201a8\"],[0.3333333333333333,\"#9c179e\"],[0.4444444444444444,\"#bd3786\"],[0.5555555555555556,\"#d8576b\"],[0.6666666666666666,\"#ed7953\"],[0.7777777777777778,\"#fb9f3a\"],[0.8888888888888888,\"#fdca26\"],[1.0,\"#f0f921\"]]}],\"contourcarpet\":[{\"type\":\"contourcarpet\",\"colorbar\":{\"outlinewidth\":0,\"ticks\":\"\"}}],\"contour\":[{\"type\":\"contour\",\"colorbar\":{\"outlinewidth\":0,\"ticks\":\"\"},\"colorscale\":[[0.0,\"#0d0887\"],[0.1111111111111111,\"#46039f\"],[0.2222222222222222,\"#7201a8\"],[0.3333333333333333,\"#9c179e\"],[0.4444444444444444,\"#bd3786\"],[0.5555555555555556,\"#d8576b\"],[0.6666666666666666,\"#ed7953\"],[0.7777777777777778,\"#fb9f3a\"],[0.8888888888888888,\"#fdca26\"],[1.0,\"#f0f921\"]]}],\"surface\":[{\"type\":\"surface\",\"colorbar\":{\"outlinewidth\":0,\"ticks\":\"\"},\"colorscale\":[[0.0,\"#0d0887\"],[0.1111111111111111,\"#46039f\"],[0.2222222222222222,\"#7201a8\"],[0.3333333333333333,\"#9c179e\"],[0.4444444444444444,\"#bd3786\"],[0.5555555555555556,\"#d8576b\"],[0.6666666666666666,\"#ed7953\"],[0.7777777777777778,\"#fb9f3a\"],[0.8888888888888888,\"#fdca26\"],[1.0,\"#f0f921\"]]}],\"mesh3d\":[{\"type\":\"mesh3d\",\"colorbar\":{\"outlinewidth\":0,\"ticks\":\"\"}}],\"scatter\":[{\"fillpattern\":{\"fillmode\":\"overlay\",\"size\":10,\"solidity\":0.2},\"type\":\"scatter\"}],\"parcoords\":[{\"type\":\"parcoords\",\"line\":{\"colorbar\":{\"outlinewidth\":0,\"ticks\":\"\"}}}],\"scatterpolargl\":[{\"type\":\"scatterpolargl\",\"marker\":{\"colorbar\":{\"outlinewidth\":0,\"ticks\":\"\"}}}],\"bar\":[{\"error_x\":{\"color\":\"#2a3f5f\"},\"error_y\":{\"color\":\"#2a3f5f\"},\"marker\":{\"line\":{\"color\":\"#E5ECF6\",\"width\":0.5},\"pattern\":{\"fillmode\":\"overlay\",\"size\":10,\"solidity\":0.2}},\"type\":\"bar\"}],\"scattergeo\":[{\"type\":\"scattergeo\",\"marker\":{\"colorbar\":{\"outlinewidth\":0,\"ticks\":\"\"}}}],\"scatterpolar\":[{\"type\":\"scatterpolar\",\"marker\":{\"colorbar\":{\"outlinewidth\":0,\"ticks\":\"\"}}}],\"histogram\":[{\"marker\":{\"pattern\":{\"fillmode\":\"overlay\",\"size\":10,\"solidity\":0.2}},\"type\":\"histogram\"}],\"scattergl\":[{\"type\":\"scattergl\",\"marker\":{\"colorbar\":{\"outlinewidth\":0,\"ticks\":\"\"}}}],\"scatter3d\":[{\"type\":\"scatter3d\",\"line\":{\"colorbar\":{\"outlinewidth\":0,\"ticks\":\"\"}},\"marker\":{\"colorbar\":{\"outlinewidth\":0,\"ticks\":\"\"}}}],\"scattermapbox\":[{\"type\":\"scattermapbox\",\"marker\":{\"colorbar\":{\"outlinewidth\":0,\"ticks\":\"\"}}}],\"scatterternary\":[{\"type\":\"scatterternary\",\"marker\":{\"colorbar\":{\"outlinewidth\":0,\"ticks\":\"\"}}}],\"scattercarpet\":[{\"type\":\"scattercarpet\",\"marker\":{\"colorbar\":{\"outlinewidth\":0,\"ticks\":\"\"}}}],\"carpet\":[{\"aaxis\":{\"endlinecolor\":\"#2a3f5f\",\"gridcolor\":\"white\",\"linecolor\":\"white\",\"minorgridcolor\":\"white\",\"startlinecolor\":\"#2a3f5f\"},\"baxis\":{\"endlinecolor\":\"#2a3f5f\",\"gridcolor\":\"white\",\"linecolor\":\"white\",\"minorgridcolor\":\"white\",\"startlinecolor\":\"#2a3f5f\"},\"type\":\"carpet\"}],\"table\":[{\"cells\":{\"fill\":{\"color\":\"#EBF0F8\"},\"line\":{\"color\":\"white\"}},\"header\":{\"fill\":{\"color\":\"#C8D4E3\"},\"line\":{\"color\":\"white\"}},\"type\":\"table\"}],\"barpolar\":[{\"marker\":{\"line\":{\"color\":\"#E5ECF6\",\"width\":0.5},\"pattern\":{\"fillmode\":\"overlay\",\"size\":10,\"solidity\":0.2}},\"type\":\"barpolar\"}],\"pie\":[{\"automargin\":true,\"type\":\"pie\"}]},\"layout\":{\"autotypenumbers\":\"strict\",\"colorway\":[\"#636efa\",\"#EF553B\",\"#00cc96\",\"#ab63fa\",\"#FFA15A\",\"#19d3f3\",\"#FF6692\",\"#B6E880\",\"#FF97FF\",\"#FECB52\"],\"font\":{\"color\":\"#2a3f5f\"},\"hovermode\":\"closest\",\"hoverlabel\":{\"align\":\"left\"},\"paper_bgcolor\":\"white\",\"plot_bgcolor\":\"#E5ECF6\",\"polar\":{\"bgcolor\":\"#E5ECF6\",\"angularaxis\":{\"gridcolor\":\"white\",\"linecolor\":\"white\",\"ticks\":\"\"},\"radialaxis\":{\"gridcolor\":\"white\",\"linecolor\":\"white\",\"ticks\":\"\"}},\"ternary\":{\"bgcolor\":\"#E5ECF6\",\"aaxis\":{\"gridcolor\":\"white\",\"linecolor\":\"white\",\"ticks\":\"\"},\"baxis\":{\"gridcolor\":\"white\",\"linecolor\":\"white\",\"ticks\":\"\"},\"caxis\":{\"gridcolor\":\"white\",\"linecolor\":\"white\",\"ticks\":\"\"}},\"coloraxis\":{\"colorbar\":{\"outlinewidth\":0,\"ticks\":\"\"}},\"colorscale\":{\"sequential\":[[0.0,\"#0d0887\"],[0.1111111111111111,\"#46039f\"],[0.2222222222222222,\"#7201a8\"],[0.3333333333333333,\"#9c179e\"],[0.4444444444444444,\"#bd3786\"],[0.5555555555555556,\"#d8576b\"],[0.6666666666666666,\"#ed7953\"],[0.7777777777777778,\"#fb9f3a\"],[0.8888888888888888,\"#fdca26\"],[1.0,\"#f0f921\"]],\"sequentialminus\":[[0.0,\"#0d0887\"],[0.1111111111111111,\"#46039f\"],[0.2222222222222222,\"#7201a8\"],[0.3333333333333333,\"#9c179e\"],[0.4444444444444444,\"#bd3786\"],[0.5555555555555556,\"#d8576b\"],[0.6666666666666666,\"#ed7953\"],[0.7777777777777778,\"#fb9f3a\"],[0.8888888888888888,\"#fdca26\"],[1.0,\"#f0f921\"]],\"diverging\":[[0,\"#8e0152\"],[0.1,\"#c51b7d\"],[0.2,\"#de77ae\"],[0.3,\"#f1b6da\"],[0.4,\"#fde0ef\"],[0.5,\"#f7f7f7\"],[0.6,\"#e6f5d0\"],[0.7,\"#b8e186\"],[0.8,\"#7fbc41\"],[0.9,\"#4d9221\"],[1,\"#276419\"]]},\"xaxis\":{\"gridcolor\":\"white\",\"linecolor\":\"white\",\"ticks\":\"\",\"title\":{\"standoff\":15},\"zerolinecolor\":\"white\",\"automargin\":true,\"zerolinewidth\":2},\"yaxis\":{\"gridcolor\":\"white\",\"linecolor\":\"white\",\"ticks\":\"\",\"title\":{\"standoff\":15},\"zerolinecolor\":\"white\",\"automargin\":true,\"zerolinewidth\":2},\"scene\":{\"xaxis\":{\"backgroundcolor\":\"#E5ECF6\",\"gridcolor\":\"white\",\"linecolor\":\"white\",\"showbackground\":true,\"ticks\":\"\",\"zerolinecolor\":\"white\",\"gridwidth\":2},\"yaxis\":{\"backgroundcolor\":\"#E5ECF6\",\"gridcolor\":\"white\",\"linecolor\":\"white\",\"showbackground\":true,\"ticks\":\"\",\"zerolinecolor\":\"white\",\"gridwidth\":2},\"zaxis\":{\"backgroundcolor\":\"#E5ECF6\",\"gridcolor\":\"white\",\"linecolor\":\"white\",\"showbackground\":true,\"ticks\":\"\",\"zerolinecolor\":\"white\",\"gridwidth\":2}},\"shapedefaults\":{\"line\":{\"color\":\"#2a3f5f\"}},\"annotationdefaults\":{\"arrowcolor\":\"#2a3f5f\",\"arrowhead\":0,\"arrowwidth\":1},\"geo\":{\"bgcolor\":\"white\",\"landcolor\":\"#E5ECF6\",\"subunitcolor\":\"white\",\"showland\":true,\"showlakes\":true,\"lakecolor\":\"white\"},\"title\":{\"x\":0.05},\"mapbox\":{\"style\":\"light\"}}},\"title\":{\"text\":\"'$ \\\\text{La ecuaci\\u00f3n final de regresi\\u00f3n usando sklearn con base extendida es: } \\\\\\\\y_{MaxTemp} = 14.573 + 0.753 X_{MinTemp}^{1} + 0.006 X_{MinTemp}^{2}$'\"},\"xaxis\":{\"title\":{\"text\":\"MinTemp\"}},\"yaxis\":{\"title\":{\"text\":\"MaxTemp\"}}},                        {\"responsive\": true}                    ).then(function(){\n",
              "                            \n",
              "var gd = document.getElementById('94ddf9f7-96e5-4f6a-8557-29f1b639b03f');\n",
              "var x = new MutationObserver(function (mutations, observer) {{\n",
              "        var display = window.getComputedStyle(gd).display;\n",
              "        if (!display || display === 'none') {{\n",
              "            console.log([gd, 'removed!']);\n",
              "            Plotly.purge(gd);\n",
              "            observer.disconnect();\n",
              "        }}\n",
              "}});\n",
              "\n",
              "// Listen for the removal of the full notebook cells\n",
              "var notebookContainer = gd.closest('#notebook-container');\n",
              "if (notebookContainer) {{\n",
              "    x.observe(notebookContainer, {childList: true});\n",
              "}}\n",
              "\n",
              "// Listen for the clearing of the current output cell\n",
              "var outputEl = gd.closest('.output');\n",
              "if (outputEl) {{\n",
              "    x.observe(outputEl, {childList: true});\n",
              "}}\n",
              "\n",
              "                        })                };                            </script>        </div>\n",
              "</body>\n",
              "</html>"
            ]
          },
          "metadata": {}
        }
      ]
    },
    {
      "cell_type": "markdown",
      "source": [
        "Una vez realizado el resumen de contenidos, resolveremos la actividad en clase."
      ],
      "metadata": {
        "id": "lPJ0U5qxvjq_"
      }
    },
    {
      "cell_type": "markdown",
      "source": [
        "---\n",
        "# <font color='blue'>Caso 1</font>\n",
        "\n",
        "* Input: MinTemp\n",
        "* Output: MaxTemp\n",
        "---"
      ],
      "metadata": {
        "id": "Ppdk4lxI7mda"
      }
    },
    {
      "cell_type": "code",
      "source": [
        "n = data.shape[0] # Número de datos\n",
        "input_variable_name = ['MinTemp']\n",
        "output_variable_name = ['MaxTemp']"
      ],
      "metadata": {
        "id": "c3oBNcALrPLH"
      },
      "execution_count": 66,
      "outputs": []
    },
    {
      "cell_type": "markdown",
      "source": [
        "## Análisis con modelo teórico y 5CV"
      ],
      "metadata": {
        "id": "m-dB69vlou0H"
      }
    },
    {
      "cell_type": "code",
      "source": [
        "X = np.c_[np.ones(shape=(n,1)), data[input_variable_name].values]\n",
        "Y = data[output_variable_name].values\n",
        "\n",
        "error_theoretical = [] # Guarda los MSE de Ytest vs Ypred para cada fold\n",
        "errstd_theoretical = [] # Guarda las desviaciones de MSE de Ytest vs Ypred para cada fold\n",
        "theta_theoretical = [] # Guarda los thetas estimados en cada fold\n",
        "ypred_theoretical = [] # Guarda las datos de prediccion de test en cada fold\n",
        "yreal_theoretical = [] # Guarda las datos de test en cada fold\n",
        "lsims_theoretical = [] # Guarda las datos de las rectas estimadas en cada fold \n",
        "\n",
        "\n",
        "kf = KFold(n_splits=5, shuffle=True)\n",
        "xsims = np.c_[np.ones((100,1)), np.linspace(X[:,1].min(),X[:,1].max(),100)]\n",
        "for i, (train_index, test_index) in enumerate(kf.split(X)):\n",
        "  Xtrain, Ytrain = X[train_index], Y[train_index]\n",
        "  Xtest,  Ytest  = X[test_index],  Y[test_index]\n",
        "  theta_theoretical.append(np.linalg.inv(Xtrain.T@Xtrain) @ (Xtrain.T@Ytrain))\n",
        "  yreal_theoretical.append(Ytest)\n",
        "  ypred_theoretical.append(Xtest @ theta_theoretical[i])\n",
        "  error_theoretical.append( np.mean( (yreal_theoretical[i] - ypred_theoretical[i])**2) )\n",
        "  errstd_theoretical.append( np.std( (yreal_theoretical[i] - ypred_theoretical[i])**2) )\n",
        "  lsims_theoretical.append( xsims@ theta_theoretical[i])\n"
      ],
      "metadata": {
        "id": "7EfLDu18omCB"
      },
      "execution_count": 84,
      "outputs": []
    },
    {
      "cell_type": "code",
      "source": [
        "theta_theoretical"
      ],
      "metadata": {
        "colab": {
          "base_uri": "https://localhost:8080/"
        },
        "id": "QFOPgvd-4Br6",
        "outputId": "cdf99027-abfe-47b7-cb39-5240bc1edf64"
      },
      "execution_count": 86,
      "outputs": [
        {
          "output_type": "execute_result",
          "data": {
            "text/plain": [
              "[array([[14.46193764],\n",
              "        [ 0.83291235]]),\n",
              " array([[14.45804683],\n",
              "        [ 0.84080502]]),\n",
              " array([[14.59022598],\n",
              "        [ 0.81458395]]),\n",
              " array([[14.37305081],\n",
              "        [ 0.83538167]]),\n",
              " array([[14.51535697],\n",
              "        [ 0.85307097]])]"
            ]
          },
          "metadata": {},
          "execution_count": 86
        }
      ]
    },
    {
      "cell_type": "code",
      "source": [
        "text_title = '$ \\text{' + text1 + ' } \\\\' + text2 + '$'\n",
        "fig = go.Figure()\n",
        "fig.add_trace(go.Scatter(y=Y[:,0], x=X[:,1],mode='markers', name='Datos originales'))\n",
        "for i in range(5):\n",
        "  fig.add_trace(go.Scatter(x=xsims[:,1], \n",
        "                           y=lsims_theoretical[i].reshape(-1), \n",
        "                           mode='lines',\n",
        "                           name='Modelo %d: MSE %2.3f +- %2.3f'%(i+1,error_theoretical[i],errstd_theoretical[i])))\n",
        "  \n",
        "fig.update_layout(title='Resultados de 5CV con modelo teórico', xaxis_title=input_variable_name[0], yaxis_title=output_variable_name[0])"
      ],
      "metadata": {
        "colab": {
          "base_uri": "https://localhost:8080/",
          "height": 542
        },
        "id": "L3QysiBC1ZpM",
        "outputId": "fddcc3a6-12b4-4b7f-93b7-fb5fc1cffbb4"
      },
      "execution_count": 89,
      "outputs": [
        {
          "output_type": "display_data",
          "data": {
            "text/html": [
              "<html>\n",
              "<head><meta charset=\"utf-8\" /></head>\n",
              "<body>\n",
              "    <div>            <script src=\"https://cdnjs.cloudflare.com/ajax/libs/mathjax/2.7.5/MathJax.js?config=TeX-AMS-MML_SVG\"></script><script type=\"text/javascript\">if (window.MathJax && window.MathJax.Hub && window.MathJax.Hub.Config) {window.MathJax.Hub.Config({SVG: {font: \"STIX-Web\"}});}</script>                <script type=\"text/javascript\">window.PlotlyConfig = {MathJaxConfig: 'local'};</script>\n",
              "        <script src=\"https://cdn.plot.ly/plotly-2.18.2.min.js\"></script>                <div id=\"8d08f3dd-afb3-49d7-8892-09632ef43b39\" class=\"plotly-graph-div\" style=\"height:525px; width:100%;\"></div>            <script type=\"text/javascript\">                                    window.PLOTLYENV=window.PLOTLYENV || {};                                    if (document.getElementById(\"8d08f3dd-afb3-49d7-8892-09632ef43b39\")) {                    Plotly.newPlot(                        \"8d08f3dd-afb3-49d7-8892-09632ef43b39\",                        [{\"mode\":\"markers\",\"name\":\"Datos originales\",\"x\":[8.0,14.0,13.7,13.3,7.6,6.2,6.1,8.3,8.8,8.4,9.1,8.5,10.1,12.1,10.1,12.4,13.8,11.7,12.4,15.6,15.3,16.4,12.8,12.0,15.4,15.6,13.3,12.9,15.1,13.6,15.1,11.6,16.6,13.3,14.5,16.3,17.2,16.5,15.0,14.9,11.8,11.7,9.6,8.9,10.1,15.5,10.8,7.5,12.8,12.6,14.8,19.9,9.2,12.4,11.3,9.8,14.3,15.1,14.4,15.4,13.8,13.6,14.3,15.9,16.7,12.1,14.3,16.5,16.5,17.5,14.7,17.5,20.9,17.0,16.0,15.4,17.9,15.2,15.1,15.3,17.2,15.9,10.0,9.9,10.3,15.4,12.7,13.2,15.3,17.9,18.0,17.6,16.0,14.9,17.1,18.2,16.8,13.6,14.5,12.4,10.4,9.1,8.9,14.5,12.6,8.6,10.8,11.2,12.1,10.8,11.4,12.0,16.3,12.7,12.7,12.0,11.5,13.0,11.7,14.8,7.7,4.4,7.4,8.3,10.1,12.0,12.9,10.8,9.5,12.1,12.5,13.9,13.3,13.2,12.3,13.8,11.3,11.7,12.5,15.1,11.5,13.0,11.6,12.8,15.5,13.1,12.6,4.4,4.4,7.1,4.2,9.6,3.5,5.3,7.0,0.4,3.2,5.9,8.1,6.9,5.6,7.2,7.1,6.1,7.1,5.6,5.4,6.3,5.3,7.9,8.4,8.1,2.4,5.6,7.5,2.5,5.0,3.8,7.9,4.3,-2.1,-1.8,3.8,2.1,0.5,-0.9,0.4,7.5,8.3,-0.2,0.1,1.5,8.3,9.4,1.3,2.2,-0.4,4.5,7.9,4.3,-2.7,0.3,3.8,2.4,1.2,1.2,-0.3,4.7,4.9,1.4,2.2,-0.1,-0.9,0.6,4.6,9.8,10.6,7.8,4.4,-0.2,4.3,7.4,8.6,10.2,7.3,8.7,1.0,2.1,6.4,5.4,0.4,4.0,8.4,0.4,4.2,0.9,0.8,4.3,6.3,3.5,-1.5,1.2,0.5,5.3,6.6,-1.6,-3.1,-0.1,-0.6,3.0,2.9,-1.3,1.8,2.9,-2.6,0.5,2.7,-1.7,-0.9,-1.8,1.3,2.4,-1.1,2.3,-2.2,-3.5,-1.0,-2.1,-2.0,-2.3,-1.6,0.8,-2.8,-2.8,3.0,4.4,2.3,-2.0,-1.9,4.8,-0.6,3.1,-2.9,-3.5,-0.3,0.1,2.3,2.1,4.6,3.7,-1.3,-3.4,-5.3,0.0,2.4,-0.6,2.3,-3.7,-0.9,-1.5,-3.3,-0.1,-0.2,0.5,6.1,4.1,0.1,3.2,5.4,5.8,6.3,-0.9,0.2,-3.7,-2.7,-2.5,-0.5,9.0,13.1,8.7,3.9,0.7,1.1,5.1,7.5,4.7,3.2,7.8,2.4,3.2,2.5,6.5,14.4,4.9,2.3,1.4,5.6,16.8,14.4,10.3,11.2,0.3,0.5,0.5,4.6,8.2,4.5,6.7,11.9,9.2,4.4,5.0,6.7,8.3,11.3,9.0,3.4,3.2,0.9,3.3,7.9,9.0,7.1,12.5,12.5,12.3],\"y\":[24.3,26.9,23.4,15.5,16.1,16.9,18.2,17.0,19.5,22.8,25.2,27.3,27.9,30.9,31.2,32.1,31.2,30.0,32.3,33.4,33.4,19.4,18.5,24.3,28.4,26.9,22.2,28.0,24.3,24.1,20.4,26.3,24.2,26.5,21.8,26.8,25.8,28.2,29.4,24.8,18.5,21.5,20.3,27.1,29.9,21.1,21.7,20.9,21.0,23.1,29.5,22.0,20.4,24.4,21.7,26.3,26.7,28.3,31.6,35.0,33.5,34.2,35.0,23.4,25.3,27.5,34.1,33.9,30.3,29.9,34.2,35.8,35.7,33.8,22.8,33.8,33.2,25.1,20.4,19.6,24.7,19.9,22.5,24.4,27.8,25.7,28.8,31.3,33.2,33.9,34.9,27.8,23.8,28.8,29.6,22.6,22.8,27.4,24.2,19.9,20.9,23.1,26.0,24.2,18.2,24.2,25.2,26.1,24.1,25.8,27.1,28.9,24.8,28.6,25.1,23.8,25.9,28.2,27.6,17.3,18.4,21.8,24.4,27.3,28.2,27.6,31.8,29.2,27.4,27.8,31.7,34.7,31.7,33.1,33.8,35.2,32.3,30.2,29.9,26.2,29.3,14.8,19.6,24.9,22.4,17.4,20.2,18.3,18.2,18.5,18.9,18.8,21.8,23.3,14.3,18.9,21.4,21.8,20.5,18.9,19.5,22.9,23.4,24.1,19.8,18.0,20.7,19.3,21.0,19.7,16.1,18.7,20.6,18.9,19.0,21.2,20.9,21.7,18.7,11.3,13.8,14.8,13.8,17.3,17.1,16.7,19.0,16.8,17.6,18.1,21.0,20.9,17.4,19.2,19.0,18.6,17.9,16.0,12.3,14.1,18.1,17.0,17.4,14.7,14.8,14.5,17.5,18.5,18.1,16.8,17.5,18.0,18.5,14.0,15.7,14.4,15.1,15.1,16.7,15.5,14.5,16.3,13.7,15.0,16.4,13.0,11.8,14.7,16.9,15.5,15.5,15.9,11.7,13.9,14.0,12.9,13.0,12.6,11.8,14.3,14.8,16.0,15.4,11.7,13.1,11.5,12.0,14.2,14.0,11.1,9.5,8.8,8.7,8.4,11.1,11.0,16.5,13.6,12.8,11.5,10.6,11.6,11.0,11.6,11.6,11.2,12.2,12.9,11.3,9.7,10.7,12.2,12.2,14.1,9.7,11.5,12.8,12.3,10.9,14.1,11.1,12.5,9.6,7.6,9.3,10.4,12.2,10.7,14.7,14.2,11.6,12.5,13.1,14.0,14.1,12.2,11.6,14.4,14.2,17.3,15.1,14.7,16.2,16.3,17.2,14.8,16.7,12.1,11.3,12.4,16.1,16.7,15.5,14.7,15.2,16.6,21.6,25.5,19.4,19.7,13.2,14.1,18.0,23.3,23.3,19.5,21.9,16.2,17.3,18.7,20.9,25.7,24.3,18.9,16.8,20.6,27.6,28.9,20.7,21.3,18.0,16.0,17.9,20.0,22.0,22.4,23.9,26.1,21.1,19.6,21.0,24.1,24.7,28.5,27.4,20.6,15.0,18.0,20.7,25.5,26.1,30.7,28.4,19.9,26.9,30.2],\"type\":\"scatter\"},{\"mode\":\"lines\",\"name\":\"Modelo 1: MSE 20.417 +- 23.197\",\"x\":[-5.3,-5.0353535353535355,-4.77070707070707,-4.506060606060606,-4.2414141414141415,-3.9767676767676767,-3.712121212121212,-3.4474747474747476,-3.182828282828283,-2.918181818181818,-2.6535353535353536,-2.388888888888889,-2.124242424242424,-1.8595959595959597,-1.594949494949495,-1.3303030303030305,-1.0656565656565657,-0.8010101010101014,-0.5363636363636362,-0.2717171717171718,-0.007070707070707449,0.2575757575757578,0.5222222222222221,0.7868686868686865,1.0515151515151517,1.316161616161616,1.5808080808080804,1.8454545454545448,2.11010101010101,2.3747474747474744,2.6393939393939387,2.904040404040404,3.1686868686868683,3.4333333333333327,3.697979797979797,3.9626262626262614,4.2272727272727275,4.491919191919192,4.756565656565656,5.021212121212121,5.285858585858585,5.550505050505049,5.815151515151515,6.07979797979798,6.344444444444444,6.6090909090909085,6.873737373737373,7.138383838383837,7.403030303030303,7.667676767676768,7.932323232323232,8.196969696969695,8.46161616161616,8.726262626262624,8.990909090909089,9.255555555555556,9.52020202020202,9.784848484848485,10.04949494949495,10.314141414141414,10.578787878787878,10.843434343434343,11.108080808080807,11.372727272727271,11.637373737373736,11.9020202020202,12.166666666666664,12.431313131313129,12.695959595959593,12.960606060606057,13.225252525252522,13.48989898989899,13.754545454545454,14.019191919191918,14.283838383838383,14.548484848484847,14.813131313131311,15.077777777777776,15.34242424242424,15.607070707070704,15.871717171717169,16.136363636363633,16.401010101010097,16.665656565656562,16.93030303030303,17.194949494949494,17.45959595959596,17.724242424242423,17.988888888888887,18.25353535353535,18.518181818181816,18.78282828282828,19.047474747474745,19.31212121212121,19.576767676767673,19.841414141414138,20.106060606060606,20.37070707070707,20.635353535353534,20.9],\"y\":[10.047502175315586,10.267929484623455,10.488356793931324,10.708784103239193,10.929211412547062,11.14963872185493,11.3700660311628,11.590493340470669,11.810920649778538,12.031347959086407,12.251775268394276,12.472202577702145,12.692629887010016,12.913057196317885,13.133484505625754,13.353911814933623,13.574339124241492,13.794766433549361,14.01519374285723,14.235621052165099,14.456048361472968,14.676475670780837,14.896902980088706,15.117330289396575,15.337757598704446,15.558184908012315,15.778612217320184,15.999039526628051,16.219466835935922,16.43989414524379,16.66032145455166,16.88074876385953,17.101176073167398,17.321603382475267,17.542030691783136,17.762458001091005,17.982885310398874,18.203312619706743,18.423739929014612,18.64416723832248,18.86459454763035,19.08502185693822,19.305449166246092,19.525876475553957,19.74630378486183,19.966731094169695,20.187158403477568,20.407585712785433,20.628013022093306,20.848440331401175,21.068867640709044,21.28929495001691,21.509722259324782,21.730149568632648,21.95057687794052,22.17100418724839,22.391431496556258,22.611858805864127,22.832286115171996,23.052713424479865,23.273140733787734,23.493568043095603,23.713995352403472,23.93442266171134,24.15484997101921,24.37527728032708,24.59570458963495,24.816131898942817,25.036559208250686,25.256986517558556,25.477413826866425,25.697841136174297,25.918268445482163,26.138695754790035,26.3591230640979,26.579550373405773,26.79997768271364,27.02040499202151,27.240832301329377,27.46125961063725,27.681686919945115,27.902114229252987,28.122541538560853,28.342968847868722,28.563396157176594,28.783823466484463,29.004250775792332,29.2246780851002,29.44510539440807,29.66553270371594,29.88596001302381,30.106387322331678,30.326814631639547,30.547241940947416,30.767669250255285,30.988096559563154,31.208523868871026,31.42895117817889,31.64937848748676,31.86980579679463],\"type\":\"scatter\"},{\"mode\":\"lines\",\"name\":\"Modelo 2: MSE 19.221 +- 21.290\",\"x\":[-5.3,-5.0353535353535355,-4.77070707070707,-4.506060606060606,-4.2414141414141415,-3.9767676767676767,-3.712121212121212,-3.4474747474747476,-3.182828282828283,-2.918181818181818,-2.6535353535353536,-2.388888888888889,-2.124242424242424,-1.8595959595959597,-1.594949494949495,-1.3303030303030305,-1.0656565656565657,-0.8010101010101014,-0.5363636363636362,-0.2717171717171718,-0.007070707070707449,0.2575757575757578,0.5222222222222221,0.7868686868686865,1.0515151515151517,1.316161616161616,1.5808080808080804,1.8454545454545448,2.11010101010101,2.3747474747474744,2.6393939393939387,2.904040404040404,3.1686868686868683,3.4333333333333327,3.697979797979797,3.9626262626262614,4.2272727272727275,4.491919191919192,4.756565656565656,5.021212121212121,5.285858585858585,5.550505050505049,5.815151515151515,6.07979797979798,6.344444444444444,6.6090909090909085,6.873737373737373,7.138383838383837,7.403030303030303,7.667676767676768,7.932323232323232,8.196969696969695,8.46161616161616,8.726262626262624,8.990909090909089,9.255555555555556,9.52020202020202,9.784848484848485,10.04949494949495,10.314141414141414,10.578787878787878,10.843434343434343,11.108080808080807,11.372727272727271,11.637373737373736,11.9020202020202,12.166666666666664,12.431313131313129,12.695959595959593,12.960606060606057,13.225252525252522,13.48989898989899,13.754545454545454,14.019191919191918,14.283838383838383,14.548484848484847,14.813131313131311,15.077777777777776,15.34242424242424,15.607070707070704,15.871717171717169,16.136363636363633,16.401010101010097,16.665656565656562,16.93030303030303,17.194949494949494,17.45959595959596,17.724242424242423,17.988888888888887,18.25353535353535,18.518181818181816,18.78282828282828,19.047474747474745,19.31212121212121,19.576767676767673,19.841414141414138,20.106060606060606,20.37070707070707,20.635353535353534,20.9],\"y\":[10.001780220104239,10.224296296277663,10.446812372451088,10.669328448624512,10.891844524797936,11.11436060097136,11.336876677144785,11.559392753318209,11.781908829491632,12.004424905665058,12.226940981838482,12.449457058011905,12.67197313418533,12.894489210358755,13.117005286532178,13.339521362705602,13.562037438879027,13.784553515052451,14.007069591225875,14.2295856673993,14.452101743572724,14.674617819746148,14.897133895919572,15.119649972092997,15.34216604826642,15.564682124439845,15.787198200613268,16.009714276786692,16.23223035296012,16.454746429133543,16.677262505306967,16.89977858148039,17.122294657653814,17.344810733827238,17.56732681000066,17.789842886174085,18.012358962347513,18.234875038520936,18.45739111469436,18.679907190867784,18.902423267041208,19.12493934321463,19.34745541938806,19.569971495561482,19.792487571734906,20.01500364790833,20.237519724081753,20.460035800255177,20.682551876428604,20.905067952602028,21.127584028775452,21.350100104948876,21.5726161811223,21.795132257295723,22.017648333469147,22.240164409642574,22.462680485815998,22.68519656198942,22.907712638162845,23.13022871433627,23.352744790509693,23.575260866683116,23.797776942856544,24.020293019029964,24.24280909520339,24.46532517137681,24.68784124755024,24.910357323723662,25.132873399897086,25.35538947607051,25.577905552243934,25.80042162841736,26.022937704590785,26.24545378076421,26.467969856937632,26.690485933111056,26.913002009284483,27.135518085457903,27.35803416163133,27.58055023780475,27.803066313978178,28.025582390151598,28.248098466325025,28.47061454249845,28.693130618671876,28.9156466948453,29.138162771018724,29.360678847192148,29.58319492336557,29.805710999538995,30.02822707571242,30.250743151885843,30.47325922805927,30.69577530423269,30.918291380406117,31.140807456579537,31.363323532752965,31.585839608926392,31.808355685099812,32.03087176127324],\"type\":\"scatter\"},{\"mode\":\"lines\",\"name\":\"Modelo 3: MSE 19.630 +- 18.889\",\"x\":[-5.3,-5.0353535353535355,-4.77070707070707,-4.506060606060606,-4.2414141414141415,-3.9767676767676767,-3.712121212121212,-3.4474747474747476,-3.182828282828283,-2.918181818181818,-2.6535353535353536,-2.388888888888889,-2.124242424242424,-1.8595959595959597,-1.594949494949495,-1.3303030303030305,-1.0656565656565657,-0.8010101010101014,-0.5363636363636362,-0.2717171717171718,-0.007070707070707449,0.2575757575757578,0.5222222222222221,0.7868686868686865,1.0515151515151517,1.316161616161616,1.5808080808080804,1.8454545454545448,2.11010101010101,2.3747474747474744,2.6393939393939387,2.904040404040404,3.1686868686868683,3.4333333333333327,3.697979797979797,3.9626262626262614,4.2272727272727275,4.491919191919192,4.756565656565656,5.021212121212121,5.285858585858585,5.550505050505049,5.815151515151515,6.07979797979798,6.344444444444444,6.6090909090909085,6.873737373737373,7.138383838383837,7.403030303030303,7.667676767676768,7.932323232323232,8.196969696969695,8.46161616161616,8.726262626262624,8.990909090909089,9.255555555555556,9.52020202020202,9.784848484848485,10.04949494949495,10.314141414141414,10.578787878787878,10.843434343434343,11.108080808080807,11.372727272727271,11.637373737373736,11.9020202020202,12.166666666666664,12.431313131313129,12.695959595959593,12.960606060606057,13.225252525252522,13.48989898989899,13.754545454545454,14.019191919191918,14.283838383838383,14.548484848484847,14.813131313131311,15.077777777777776,15.34242424242424,15.607070707070704,15.871717171717169,16.136363636363633,16.401010101010097,16.665656565656562,16.93030303030303,17.194949494949494,17.45959595959596,17.724242424242423,17.988888888888887,18.25353535353535,18.518181818181816,18.78282828282828,19.047474747474745,19.31212121212121,19.576767676767673,19.841414141414138,20.106060606060606,20.37070707070707,20.635353535353534,20.9],\"y\":[10.272931043315499,10.488507806165002,10.704084569014505,10.919661331864008,11.135238094713511,11.350814857563016,11.566391620412517,11.781968383262022,11.997545146111525,12.213121908961028,12.428698671810531,12.644275434660035,12.859852197509538,13.07542896035904,13.291005723208544,13.506582486058047,13.72215924890755,13.937736011757053,14.153312774606558,14.368889537456061,14.584466300305564,14.800043063155067,15.01561982600457,15.231196588854074,15.446773351703577,15.66235011455308,15.877926877402583,16.093503640252088,16.30908040310159,16.524657165951094,16.740233928800595,16.9558106916501,17.1713874544996,17.386964217349107,17.602540980198608,17.818117743048113,18.033694505897618,18.24927126874712,18.464848031596624,18.680424794446125,18.896001557295627,19.11157832014513,19.327155082994636,19.542731845844138,19.758308608693643,19.973885371543147,20.18946213439265,20.40503889724215,20.620615660091655,20.83619242294116,21.05176918579066,21.267345948640163,21.482922711489667,21.698499474339172,21.914076237188674,22.12965300003818,22.345229762887683,22.560806525737185,22.776383288586686,22.99196005143619,23.207536814285696,23.423113577135197,23.6386903399847,23.854267102834203,24.06984386568371,24.28542062853321,24.50099739138271,24.716574154232216,24.93215091708172,25.147727679931222,25.363304442780723,25.578881205630232,25.794457968479733,26.010034731329235,26.22561149417874,26.441188257028244,26.656765019877746,26.872341782727247,27.087918545576752,27.303495308426257,27.519072071275758,27.73464883412526,27.950225596974764,28.16580235982427,28.381379122673774,28.59695588552328,28.81253264837278,29.02810941122228,29.243686174071783,29.459262936921288,29.674839699770793,29.890416462620294,30.105993225469796,30.3215699883193,30.537146751168805,30.752723514018307,30.96830027686781,31.183877039717316,31.399453802566818,31.615030565416323],\"type\":\"scatter\"},{\"mode\":\"lines\",\"name\":\"Modelo 4: MSE 21.628 +- 25.443\",\"x\":[-5.3,-5.0353535353535355,-4.77070707070707,-4.506060606060606,-4.2414141414141415,-3.9767676767676767,-3.712121212121212,-3.4474747474747476,-3.182828282828283,-2.918181818181818,-2.6535353535353536,-2.388888888888889,-2.124242424242424,-1.8595959595959597,-1.594949494949495,-1.3303030303030305,-1.0656565656565657,-0.8010101010101014,-0.5363636363636362,-0.2717171717171718,-0.007070707070707449,0.2575757575757578,0.5222222222222221,0.7868686868686865,1.0515151515151517,1.316161616161616,1.5808080808080804,1.8454545454545448,2.11010101010101,2.3747474747474744,2.6393939393939387,2.904040404040404,3.1686868686868683,3.4333333333333327,3.697979797979797,3.9626262626262614,4.2272727272727275,4.491919191919192,4.756565656565656,5.021212121212121,5.285858585858585,5.550505050505049,5.815151515151515,6.07979797979798,6.344444444444444,6.6090909090909085,6.873737373737373,7.138383838383837,7.403030303030303,7.667676767676768,7.932323232323232,8.196969696969695,8.46161616161616,8.726262626262624,8.990909090909089,9.255555555555556,9.52020202020202,9.784848484848485,10.04949494949495,10.314141414141414,10.578787878787878,10.843434343434343,11.108080808080807,11.372727272727271,11.637373737373736,11.9020202020202,12.166666666666664,12.431313131313129,12.695959595959593,12.960606060606057,13.225252525252522,13.48989898989899,13.754545454545454,14.019191919191918,14.283838383838383,14.548484848484847,14.813131313131311,15.077777777777776,15.34242424242424,15.607070707070704,15.871717171717169,16.136363636363633,16.401010101010097,16.665656565656562,16.93030303030303,17.194949494949494,17.45959595959596,17.724242424242423,17.988888888888887,18.25353535353535,18.518181818181816,18.78282828282828,19.047474747474745,19.31212121212121,19.576767676767673,19.841414141414138,20.106060606060606,20.37070707070707,20.635353535353534,20.9],\"y\":[9.945527951071941,10.16660875730506,10.38768956353818,10.6087703697713,10.829851176004418,11.050931982237538,11.272012788470658,11.493093594703776,11.714174400936898,11.935255207170016,12.156336013403136,12.377416819636256,12.598497625869374,12.819578432102494,13.040659238335614,13.261740044568732,13.482820850801852,13.703901657034972,13.924982463268092,14.14606326950121,14.36714407573433,14.58822488196745,14.809305688200569,15.030386494433689,15.251467300666809,15.472548106899929,15.693628913133047,15.914709719366167,16.135790525599287,16.356871331832405,16.577952138065523,16.799032944298645,17.020113750531763,17.24119455676488,17.462275362998003,17.68335616923112,17.904436975464243,18.12551778169736,18.34659858793048,18.567679394163598,18.78876020039672,19.009841006629838,19.23092181286296,19.452002619096078,19.673083425329196,19.894164231562318,20.115245037795436,20.336325844028554,20.557406650261676,20.778487456494794,20.999568262727912,21.220649068961034,21.441729875194152,21.66281068142727,21.883891487660392,22.104972293893514,22.326053100126632,22.547133906359754,22.768214712592872,22.98929551882599,23.21037632505911,23.431457131292227,23.652537937525345,23.873618743758467,24.09469954999159,24.315780356224707,24.536861162457825,24.757941968690943,24.97902277492406,25.20010358115718,25.4211843873903,25.642265193623423,25.86334599985654,26.08442680608966,26.30550761232278,26.526588418555903,26.74766922478902,26.96875003102214,27.189830837255258,27.410911643488376,27.631992449721494,27.853073255954616,28.074154062187738,28.295234868420856,28.516315674653974,28.737396480887096,28.958477287120218,29.179558093353336,29.400638899586454,29.621719705819572,29.84280051205269,30.06388131828581,30.28496212451893,30.50604293075205,30.72712373698517,30.94820454321829,31.16928534945141,31.39036615568453,31.61144696191765,31.83252776815077],\"type\":\"scatter\"},{\"mode\":\"lines\",\"name\":\"Modelo 5: MSE 16.548 +- 20.234\",\"x\":[-5.3,-5.0353535353535355,-4.77070707070707,-4.506060606060606,-4.2414141414141415,-3.9767676767676767,-3.712121212121212,-3.4474747474747476,-3.182828282828283,-2.918181818181818,-2.6535353535353536,-2.388888888888889,-2.124242424242424,-1.8595959595959597,-1.594949494949495,-1.3303030303030305,-1.0656565656565657,-0.8010101010101014,-0.5363636363636362,-0.2717171717171718,-0.007070707070707449,0.2575757575757578,0.5222222222222221,0.7868686868686865,1.0515151515151517,1.316161616161616,1.5808080808080804,1.8454545454545448,2.11010101010101,2.3747474747474744,2.6393939393939387,2.904040404040404,3.1686868686868683,3.4333333333333327,3.697979797979797,3.9626262626262614,4.2272727272727275,4.491919191919192,4.756565656565656,5.021212121212121,5.285858585858585,5.550505050505049,5.815151515151515,6.07979797979798,6.344444444444444,6.6090909090909085,6.873737373737373,7.138383838383837,7.403030303030303,7.667676767676768,7.932323232323232,8.196969696969695,8.46161616161616,8.726262626262624,8.990909090909089,9.255555555555556,9.52020202020202,9.784848484848485,10.04949494949495,10.314141414141414,10.578787878787878,10.843434343434343,11.108080808080807,11.372727272727271,11.637373737373736,11.9020202020202,12.166666666666664,12.431313131313129,12.695959595959593,12.960606060606057,13.225252525252522,13.48989898989899,13.754545454545454,14.019191919191918,14.283838383838383,14.548484848484847,14.813131313131311,15.077777777777776,15.34242424242424,15.607070707070704,15.871717171717169,16.136363636363633,16.401010101010097,16.665656565656562,16.93030303030303,17.194949494949494,17.45959595959596,17.724242424242423,17.988888888888887,18.25353535353535,18.518181818181816,18.78282828282828,19.047474747474745,19.31212121212121,19.576767676767673,19.841414141414138,20.106060606060606,20.37070707070707,20.635353535353534,20.9],\"y\":[9.994080849979678,10.219843065318233,10.445605280656789,10.671367495995344,10.8971297113339,11.122891926672455,11.348654142011009,11.574416357349564,11.80017857268812,12.025940788026675,12.251703003365229,12.477465218703784,12.70322743404234,12.928989649380895,13.15475186471945,13.380514080058004,13.60627629539656,13.832038510735115,14.05780072607367,14.283562941412226,14.50932515675078,14.735087372089335,14.96084958742789,15.186611802766446,15.412374018105002,15.638136233443557,15.86389844878211,16.089660664120665,16.31542287945922,16.541185094797775,16.76694731013633,16.992709525474886,17.218471740813442,17.444233956151997,17.669996171490553,17.895758386829108,18.121520602167664,18.34728281750622,18.573045032844774,18.798807248183326,19.024569463521882,19.250331678860437,19.476093894198993,19.701856109537548,19.927618324876104,20.15338054021466,20.37914275555321,20.604904970891766,20.830667186230322,21.056429401568877,21.282191616907433,21.50795383224599,21.733716047584544,21.9594782629231,22.18524047826165,22.41100269360021,22.636764908938765,22.86252712427732,23.088289339615876,23.314051554954432,23.539813770292984,23.76557598563154,23.991338200970095,24.217100416308647,24.442862631647202,24.668624846985757,24.894387062324313,25.12014927766287,25.345911493001424,25.57167370833998,25.797435923678535,26.02319813901709,26.248960354355646,26.4747225696942,26.700484785032756,26.926247000371312,27.152009215709867,27.37777143104842,27.603533646386975,27.82929586172553,28.055058077064082,28.280820292402638,28.506582507741193,28.73234472307975,28.958106938418307,29.18386915375686,29.409631369095415,29.63539358443397,29.861155799772526,30.08691801511108,30.312680230449637,30.538442445788192,30.764204661126747,30.9899668764653,31.215729091803855,31.44149130714241,31.66725352248097,31.893015737819525,32.11877795315807,32.344540168496636],\"type\":\"scatter\"}],                        {\"template\":{\"data\":{\"histogram2dcontour\":[{\"type\":\"histogram2dcontour\",\"colorbar\":{\"outlinewidth\":0,\"ticks\":\"\"},\"colorscale\":[[0.0,\"#0d0887\"],[0.1111111111111111,\"#46039f\"],[0.2222222222222222,\"#7201a8\"],[0.3333333333333333,\"#9c179e\"],[0.4444444444444444,\"#bd3786\"],[0.5555555555555556,\"#d8576b\"],[0.6666666666666666,\"#ed7953\"],[0.7777777777777778,\"#fb9f3a\"],[0.8888888888888888,\"#fdca26\"],[1.0,\"#f0f921\"]]}],\"choropleth\":[{\"type\":\"choropleth\",\"colorbar\":{\"outlinewidth\":0,\"ticks\":\"\"}}],\"histogram2d\":[{\"type\":\"histogram2d\",\"colorbar\":{\"outlinewidth\":0,\"ticks\":\"\"},\"colorscale\":[[0.0,\"#0d0887\"],[0.1111111111111111,\"#46039f\"],[0.2222222222222222,\"#7201a8\"],[0.3333333333333333,\"#9c179e\"],[0.4444444444444444,\"#bd3786\"],[0.5555555555555556,\"#d8576b\"],[0.6666666666666666,\"#ed7953\"],[0.7777777777777778,\"#fb9f3a\"],[0.8888888888888888,\"#fdca26\"],[1.0,\"#f0f921\"]]}],\"heatmap\":[{\"type\":\"heatmap\",\"colorbar\":{\"outlinewidth\":0,\"ticks\":\"\"},\"colorscale\":[[0.0,\"#0d0887\"],[0.1111111111111111,\"#46039f\"],[0.2222222222222222,\"#7201a8\"],[0.3333333333333333,\"#9c179e\"],[0.4444444444444444,\"#bd3786\"],[0.5555555555555556,\"#d8576b\"],[0.6666666666666666,\"#ed7953\"],[0.7777777777777778,\"#fb9f3a\"],[0.8888888888888888,\"#fdca26\"],[1.0,\"#f0f921\"]]}],\"heatmapgl\":[{\"type\":\"heatmapgl\",\"colorbar\":{\"outlinewidth\":0,\"ticks\":\"\"},\"colorscale\":[[0.0,\"#0d0887\"],[0.1111111111111111,\"#46039f\"],[0.2222222222222222,\"#7201a8\"],[0.3333333333333333,\"#9c179e\"],[0.4444444444444444,\"#bd3786\"],[0.5555555555555556,\"#d8576b\"],[0.6666666666666666,\"#ed7953\"],[0.7777777777777778,\"#fb9f3a\"],[0.8888888888888888,\"#fdca26\"],[1.0,\"#f0f921\"]]}],\"contourcarpet\":[{\"type\":\"contourcarpet\",\"colorbar\":{\"outlinewidth\":0,\"ticks\":\"\"}}],\"contour\":[{\"type\":\"contour\",\"colorbar\":{\"outlinewidth\":0,\"ticks\":\"\"},\"colorscale\":[[0.0,\"#0d0887\"],[0.1111111111111111,\"#46039f\"],[0.2222222222222222,\"#7201a8\"],[0.3333333333333333,\"#9c179e\"],[0.4444444444444444,\"#bd3786\"],[0.5555555555555556,\"#d8576b\"],[0.6666666666666666,\"#ed7953\"],[0.7777777777777778,\"#fb9f3a\"],[0.8888888888888888,\"#fdca26\"],[1.0,\"#f0f921\"]]}],\"surface\":[{\"type\":\"surface\",\"colorbar\":{\"outlinewidth\":0,\"ticks\":\"\"},\"colorscale\":[[0.0,\"#0d0887\"],[0.1111111111111111,\"#46039f\"],[0.2222222222222222,\"#7201a8\"],[0.3333333333333333,\"#9c179e\"],[0.4444444444444444,\"#bd3786\"],[0.5555555555555556,\"#d8576b\"],[0.6666666666666666,\"#ed7953\"],[0.7777777777777778,\"#fb9f3a\"],[0.8888888888888888,\"#fdca26\"],[1.0,\"#f0f921\"]]}],\"mesh3d\":[{\"type\":\"mesh3d\",\"colorbar\":{\"outlinewidth\":0,\"ticks\":\"\"}}],\"scatter\":[{\"fillpattern\":{\"fillmode\":\"overlay\",\"size\":10,\"solidity\":0.2},\"type\":\"scatter\"}],\"parcoords\":[{\"type\":\"parcoords\",\"line\":{\"colorbar\":{\"outlinewidth\":0,\"ticks\":\"\"}}}],\"scatterpolargl\":[{\"type\":\"scatterpolargl\",\"marker\":{\"colorbar\":{\"outlinewidth\":0,\"ticks\":\"\"}}}],\"bar\":[{\"error_x\":{\"color\":\"#2a3f5f\"},\"error_y\":{\"color\":\"#2a3f5f\"},\"marker\":{\"line\":{\"color\":\"#E5ECF6\",\"width\":0.5},\"pattern\":{\"fillmode\":\"overlay\",\"size\":10,\"solidity\":0.2}},\"type\":\"bar\"}],\"scattergeo\":[{\"type\":\"scattergeo\",\"marker\":{\"colorbar\":{\"outlinewidth\":0,\"ticks\":\"\"}}}],\"scatterpolar\":[{\"type\":\"scatterpolar\",\"marker\":{\"colorbar\":{\"outlinewidth\":0,\"ticks\":\"\"}}}],\"histogram\":[{\"marker\":{\"pattern\":{\"fillmode\":\"overlay\",\"size\":10,\"solidity\":0.2}},\"type\":\"histogram\"}],\"scattergl\":[{\"type\":\"scattergl\",\"marker\":{\"colorbar\":{\"outlinewidth\":0,\"ticks\":\"\"}}}],\"scatter3d\":[{\"type\":\"scatter3d\",\"line\":{\"colorbar\":{\"outlinewidth\":0,\"ticks\":\"\"}},\"marker\":{\"colorbar\":{\"outlinewidth\":0,\"ticks\":\"\"}}}],\"scattermapbox\":[{\"type\":\"scattermapbox\",\"marker\":{\"colorbar\":{\"outlinewidth\":0,\"ticks\":\"\"}}}],\"scatterternary\":[{\"type\":\"scatterternary\",\"marker\":{\"colorbar\":{\"outlinewidth\":0,\"ticks\":\"\"}}}],\"scattercarpet\":[{\"type\":\"scattercarpet\",\"marker\":{\"colorbar\":{\"outlinewidth\":0,\"ticks\":\"\"}}}],\"carpet\":[{\"aaxis\":{\"endlinecolor\":\"#2a3f5f\",\"gridcolor\":\"white\",\"linecolor\":\"white\",\"minorgridcolor\":\"white\",\"startlinecolor\":\"#2a3f5f\"},\"baxis\":{\"endlinecolor\":\"#2a3f5f\",\"gridcolor\":\"white\",\"linecolor\":\"white\",\"minorgridcolor\":\"white\",\"startlinecolor\":\"#2a3f5f\"},\"type\":\"carpet\"}],\"table\":[{\"cells\":{\"fill\":{\"color\":\"#EBF0F8\"},\"line\":{\"color\":\"white\"}},\"header\":{\"fill\":{\"color\":\"#C8D4E3\"},\"line\":{\"color\":\"white\"}},\"type\":\"table\"}],\"barpolar\":[{\"marker\":{\"line\":{\"color\":\"#E5ECF6\",\"width\":0.5},\"pattern\":{\"fillmode\":\"overlay\",\"size\":10,\"solidity\":0.2}},\"type\":\"barpolar\"}],\"pie\":[{\"automargin\":true,\"type\":\"pie\"}]},\"layout\":{\"autotypenumbers\":\"strict\",\"colorway\":[\"#636efa\",\"#EF553B\",\"#00cc96\",\"#ab63fa\",\"#FFA15A\",\"#19d3f3\",\"#FF6692\",\"#B6E880\",\"#FF97FF\",\"#FECB52\"],\"font\":{\"color\":\"#2a3f5f\"},\"hovermode\":\"closest\",\"hoverlabel\":{\"align\":\"left\"},\"paper_bgcolor\":\"white\",\"plot_bgcolor\":\"#E5ECF6\",\"polar\":{\"bgcolor\":\"#E5ECF6\",\"angularaxis\":{\"gridcolor\":\"white\",\"linecolor\":\"white\",\"ticks\":\"\"},\"radialaxis\":{\"gridcolor\":\"white\",\"linecolor\":\"white\",\"ticks\":\"\"}},\"ternary\":{\"bgcolor\":\"#E5ECF6\",\"aaxis\":{\"gridcolor\":\"white\",\"linecolor\":\"white\",\"ticks\":\"\"},\"baxis\":{\"gridcolor\":\"white\",\"linecolor\":\"white\",\"ticks\":\"\"},\"caxis\":{\"gridcolor\":\"white\",\"linecolor\":\"white\",\"ticks\":\"\"}},\"coloraxis\":{\"colorbar\":{\"outlinewidth\":0,\"ticks\":\"\"}},\"colorscale\":{\"sequential\":[[0.0,\"#0d0887\"],[0.1111111111111111,\"#46039f\"],[0.2222222222222222,\"#7201a8\"],[0.3333333333333333,\"#9c179e\"],[0.4444444444444444,\"#bd3786\"],[0.5555555555555556,\"#d8576b\"],[0.6666666666666666,\"#ed7953\"],[0.7777777777777778,\"#fb9f3a\"],[0.8888888888888888,\"#fdca26\"],[1.0,\"#f0f921\"]],\"sequentialminus\":[[0.0,\"#0d0887\"],[0.1111111111111111,\"#46039f\"],[0.2222222222222222,\"#7201a8\"],[0.3333333333333333,\"#9c179e\"],[0.4444444444444444,\"#bd3786\"],[0.5555555555555556,\"#d8576b\"],[0.6666666666666666,\"#ed7953\"],[0.7777777777777778,\"#fb9f3a\"],[0.8888888888888888,\"#fdca26\"],[1.0,\"#f0f921\"]],\"diverging\":[[0,\"#8e0152\"],[0.1,\"#c51b7d\"],[0.2,\"#de77ae\"],[0.3,\"#f1b6da\"],[0.4,\"#fde0ef\"],[0.5,\"#f7f7f7\"],[0.6,\"#e6f5d0\"],[0.7,\"#b8e186\"],[0.8,\"#7fbc41\"],[0.9,\"#4d9221\"],[1,\"#276419\"]]},\"xaxis\":{\"gridcolor\":\"white\",\"linecolor\":\"white\",\"ticks\":\"\",\"title\":{\"standoff\":15},\"zerolinecolor\":\"white\",\"automargin\":true,\"zerolinewidth\":2},\"yaxis\":{\"gridcolor\":\"white\",\"linecolor\":\"white\",\"ticks\":\"\",\"title\":{\"standoff\":15},\"zerolinecolor\":\"white\",\"automargin\":true,\"zerolinewidth\":2},\"scene\":{\"xaxis\":{\"backgroundcolor\":\"#E5ECF6\",\"gridcolor\":\"white\",\"linecolor\":\"white\",\"showbackground\":true,\"ticks\":\"\",\"zerolinecolor\":\"white\",\"gridwidth\":2},\"yaxis\":{\"backgroundcolor\":\"#E5ECF6\",\"gridcolor\":\"white\",\"linecolor\":\"white\",\"showbackground\":true,\"ticks\":\"\",\"zerolinecolor\":\"white\",\"gridwidth\":2},\"zaxis\":{\"backgroundcolor\":\"#E5ECF6\",\"gridcolor\":\"white\",\"linecolor\":\"white\",\"showbackground\":true,\"ticks\":\"\",\"zerolinecolor\":\"white\",\"gridwidth\":2}},\"shapedefaults\":{\"line\":{\"color\":\"#2a3f5f\"}},\"annotationdefaults\":{\"arrowcolor\":\"#2a3f5f\",\"arrowhead\":0,\"arrowwidth\":1},\"geo\":{\"bgcolor\":\"white\",\"landcolor\":\"#E5ECF6\",\"subunitcolor\":\"white\",\"showland\":true,\"showlakes\":true,\"lakecolor\":\"white\"},\"title\":{\"x\":0.05},\"mapbox\":{\"style\":\"light\"}}},\"title\":{\"text\":\"Resultados de 5CV con modelo te\\u00f3rico\"},\"xaxis\":{\"title\":{\"text\":\"MinTemp\"}},\"yaxis\":{\"title\":{\"text\":\"MaxTemp\"}}},                        {\"responsive\": true}                    ).then(function(){\n",
              "                            \n",
              "var gd = document.getElementById('8d08f3dd-afb3-49d7-8892-09632ef43b39');\n",
              "var x = new MutationObserver(function (mutations, observer) {{\n",
              "        var display = window.getComputedStyle(gd).display;\n",
              "        if (!display || display === 'none') {{\n",
              "            console.log([gd, 'removed!']);\n",
              "            Plotly.purge(gd);\n",
              "            observer.disconnect();\n",
              "        }}\n",
              "}});\n",
              "\n",
              "// Listen for the removal of the full notebook cells\n",
              "var notebookContainer = gd.closest('#notebook-container');\n",
              "if (notebookContainer) {{\n",
              "    x.observe(notebookContainer, {childList: true});\n",
              "}}\n",
              "\n",
              "// Listen for the clearing of the current output cell\n",
              "var outputEl = gd.closest('.output');\n",
              "if (outputEl) {{\n",
              "    x.observe(outputEl, {childList: true});\n",
              "}}\n",
              "\n",
              "                        })                };                            </script>        </div>\n",
              "</body>\n",
              "</html>"
            ]
          },
          "metadata": {}
        }
      ]
    },
    {
      "cell_type": "markdown",
      "source": [
        "## Análisis con modelo sklearn y 5CV"
      ],
      "metadata": {
        "id": "hs7aFCUe4b1m"
      }
    },
    {
      "cell_type": "code",
      "source": [
        "X = data[input_variable_name].values\n",
        "Y = data[output_variable_name].values\n",
        "\n",
        "error_sklearn = [] # Guarda los MSE de Ytest vs Ypred para cada fold\n",
        "errstd_sklearn = [] # Guarda las desviaciones de MSE de Ytest vs Ypred para cada fold\n",
        "theta_sklearn = [] # Guarda los thetas estimados en cada fold\n",
        "ypred_sklearn = [] # Guarda las datos de prediccion de test en cada fold\n",
        "yreal_sklearn = [] # Guarda las datos de test en cada fold\n",
        "lsims_sklearn = [] # Guarda las datos de las rectas estimadas en cada fold \n",
        "\n",
        "\n",
        "kf = KFold(n_splits=5, shuffle=True)\n",
        "xsims = np.linspace(X[:,0].min(),X[:,0].max(),100).reshape(-1,1)\n",
        "for i, (train_index, test_index) in enumerate(kf.split(X)):\n",
        "  Xtrain, Ytrain = X[train_index], Y[train_index]\n",
        "  Xtest,  Ytest  = X[test_index],  Y[test_index]\n",
        "  model = LinearRegression().fit(Xtrain, Ytrain)\n",
        "  theta_sklearn.append(np.array([model.intercept_] + [temp for temp in model.coef_]).reshape(-1,1))\n",
        "  yreal_sklearn.append(Ytest)\n",
        "  ypred_sklearn.append(model.predict(Xtest))\n",
        "  error_sklearn.append( np.mean( (yreal_sklearn[i] - ypred_sklearn[i])**2) )\n",
        "  errstd_sklearn.append( np.std( (yreal_sklearn[i] - ypred_sklearn[i])**2) )\n",
        "  lsims_sklearn.append( model.predict(xsims))"
      ],
      "metadata": {
        "id": "sn9qiDCLktAU"
      },
      "execution_count": 91,
      "outputs": []
    },
    {
      "cell_type": "code",
      "source": [
        "theta_sklearn"
      ],
      "metadata": {
        "colab": {
          "base_uri": "https://localhost:8080/"
        },
        "id": "CEazntye6R0-",
        "outputId": "641dbdd5-f18b-45b8-98ff-da617dc6ec32"
      },
      "execution_count": 92,
      "outputs": [
        {
          "output_type": "execute_result",
          "data": {
            "text/plain": [
              "[array([[14.48672901],\n",
              "        [ 0.82945733]]),\n",
              " array([[14.54450969],\n",
              "        [ 0.82909854]]),\n",
              " array([[14.197246  ],\n",
              "        [ 0.88458318]]),\n",
              " array([[14.50571023],\n",
              "        [ 0.81959178]]),\n",
              " array([[14.66589525],\n",
              "        [ 0.81362235]])]"
            ]
          },
          "metadata": {},
          "execution_count": 92
        }
      ]
    },
    {
      "cell_type": "code",
      "source": [
        "fig = go.Figure()\n",
        "fig.add_trace(go.Scatter(y=Y[:,0], x=X[:,0],mode='markers', name='Datos originales'))\n",
        "for i in range(5):\n",
        "  fig.add_trace(go.Scatter(x=xsims[:,0], \n",
        "                           y=lsims_sklearn[i].reshape(-1), \n",
        "                           mode='lines',\n",
        "                           name='Modelo %d: MSE %2.3f +- %2.3f'%(i+1,error_sklearn[i],errstd_sklearn[i])))\n",
        "  \n",
        "fig.update_layout(title='Resultados de 5CV con modelo sklearn', xaxis_title=input_variable_name[0], yaxis_title=output_variable_name[0])"
      ],
      "metadata": {
        "id": "EUK3KX1wlDjc",
        "colab": {
          "base_uri": "https://localhost:8080/",
          "height": 542
        },
        "outputId": "d108e5fd-5aa6-4673-c6cb-0c7414947dd3"
      },
      "execution_count": 94,
      "outputs": [
        {
          "output_type": "display_data",
          "data": {
            "text/html": [
              "<html>\n",
              "<head><meta charset=\"utf-8\" /></head>\n",
              "<body>\n",
              "    <div>            <script src=\"https://cdnjs.cloudflare.com/ajax/libs/mathjax/2.7.5/MathJax.js?config=TeX-AMS-MML_SVG\"></script><script type=\"text/javascript\">if (window.MathJax && window.MathJax.Hub && window.MathJax.Hub.Config) {window.MathJax.Hub.Config({SVG: {font: \"STIX-Web\"}});}</script>                <script type=\"text/javascript\">window.PlotlyConfig = {MathJaxConfig: 'local'};</script>\n",
              "        <script src=\"https://cdn.plot.ly/plotly-2.18.2.min.js\"></script>                <div id=\"887d8fe9-01cf-4c59-a99b-c0430765f202\" class=\"plotly-graph-div\" style=\"height:525px; width:100%;\"></div>            <script type=\"text/javascript\">                                    window.PLOTLYENV=window.PLOTLYENV || {};                                    if (document.getElementById(\"887d8fe9-01cf-4c59-a99b-c0430765f202\")) {                    Plotly.newPlot(                        \"887d8fe9-01cf-4c59-a99b-c0430765f202\",                        [{\"mode\":\"markers\",\"name\":\"Datos originales\",\"x\":[8.0,14.0,13.7,13.3,7.6,6.2,6.1,8.3,8.8,8.4,9.1,8.5,10.1,12.1,10.1,12.4,13.8,11.7,12.4,15.6,15.3,16.4,12.8,12.0,15.4,15.6,13.3,12.9,15.1,13.6,15.1,11.6,16.6,13.3,14.5,16.3,17.2,16.5,15.0,14.9,11.8,11.7,9.6,8.9,10.1,15.5,10.8,7.5,12.8,12.6,14.8,19.9,9.2,12.4,11.3,9.8,14.3,15.1,14.4,15.4,13.8,13.6,14.3,15.9,16.7,12.1,14.3,16.5,16.5,17.5,14.7,17.5,20.9,17.0,16.0,15.4,17.9,15.2,15.1,15.3,17.2,15.9,10.0,9.9,10.3,15.4,12.7,13.2,15.3,17.9,18.0,17.6,16.0,14.9,17.1,18.2,16.8,13.6,14.5,12.4,10.4,9.1,8.9,14.5,12.6,8.6,10.8,11.2,12.1,10.8,11.4,12.0,16.3,12.7,12.7,12.0,11.5,13.0,11.7,14.8,7.7,4.4,7.4,8.3,10.1,12.0,12.9,10.8,9.5,12.1,12.5,13.9,13.3,13.2,12.3,13.8,11.3,11.7,12.5,15.1,11.5,13.0,11.6,12.8,15.5,13.1,12.6,4.4,4.4,7.1,4.2,9.6,3.5,5.3,7.0,0.4,3.2,5.9,8.1,6.9,5.6,7.2,7.1,6.1,7.1,5.6,5.4,6.3,5.3,7.9,8.4,8.1,2.4,5.6,7.5,2.5,5.0,3.8,7.9,4.3,-2.1,-1.8,3.8,2.1,0.5,-0.9,0.4,7.5,8.3,-0.2,0.1,1.5,8.3,9.4,1.3,2.2,-0.4,4.5,7.9,4.3,-2.7,0.3,3.8,2.4,1.2,1.2,-0.3,4.7,4.9,1.4,2.2,-0.1,-0.9,0.6,4.6,9.8,10.6,7.8,4.4,-0.2,4.3,7.4,8.6,10.2,7.3,8.7,1.0,2.1,6.4,5.4,0.4,4.0,8.4,0.4,4.2,0.9,0.8,4.3,6.3,3.5,-1.5,1.2,0.5,5.3,6.6,-1.6,-3.1,-0.1,-0.6,3.0,2.9,-1.3,1.8,2.9,-2.6,0.5,2.7,-1.7,-0.9,-1.8,1.3,2.4,-1.1,2.3,-2.2,-3.5,-1.0,-2.1,-2.0,-2.3,-1.6,0.8,-2.8,-2.8,3.0,4.4,2.3,-2.0,-1.9,4.8,-0.6,3.1,-2.9,-3.5,-0.3,0.1,2.3,2.1,4.6,3.7,-1.3,-3.4,-5.3,0.0,2.4,-0.6,2.3,-3.7,-0.9,-1.5,-3.3,-0.1,-0.2,0.5,6.1,4.1,0.1,3.2,5.4,5.8,6.3,-0.9,0.2,-3.7,-2.7,-2.5,-0.5,9.0,13.1,8.7,3.9,0.7,1.1,5.1,7.5,4.7,3.2,7.8,2.4,3.2,2.5,6.5,14.4,4.9,2.3,1.4,5.6,16.8,14.4,10.3,11.2,0.3,0.5,0.5,4.6,8.2,4.5,6.7,11.9,9.2,4.4,5.0,6.7,8.3,11.3,9.0,3.4,3.2,0.9,3.3,7.9,9.0,7.1,12.5,12.5,12.3],\"y\":[24.3,26.9,23.4,15.5,16.1,16.9,18.2,17.0,19.5,22.8,25.2,27.3,27.9,30.9,31.2,32.1,31.2,30.0,32.3,33.4,33.4,19.4,18.5,24.3,28.4,26.9,22.2,28.0,24.3,24.1,20.4,26.3,24.2,26.5,21.8,26.8,25.8,28.2,29.4,24.8,18.5,21.5,20.3,27.1,29.9,21.1,21.7,20.9,21.0,23.1,29.5,22.0,20.4,24.4,21.7,26.3,26.7,28.3,31.6,35.0,33.5,34.2,35.0,23.4,25.3,27.5,34.1,33.9,30.3,29.9,34.2,35.8,35.7,33.8,22.8,33.8,33.2,25.1,20.4,19.6,24.7,19.9,22.5,24.4,27.8,25.7,28.8,31.3,33.2,33.9,34.9,27.8,23.8,28.8,29.6,22.6,22.8,27.4,24.2,19.9,20.9,23.1,26.0,24.2,18.2,24.2,25.2,26.1,24.1,25.8,27.1,28.9,24.8,28.6,25.1,23.8,25.9,28.2,27.6,17.3,18.4,21.8,24.4,27.3,28.2,27.6,31.8,29.2,27.4,27.8,31.7,34.7,31.7,33.1,33.8,35.2,32.3,30.2,29.9,26.2,29.3,14.8,19.6,24.9,22.4,17.4,20.2,18.3,18.2,18.5,18.9,18.8,21.8,23.3,14.3,18.9,21.4,21.8,20.5,18.9,19.5,22.9,23.4,24.1,19.8,18.0,20.7,19.3,21.0,19.7,16.1,18.7,20.6,18.9,19.0,21.2,20.9,21.7,18.7,11.3,13.8,14.8,13.8,17.3,17.1,16.7,19.0,16.8,17.6,18.1,21.0,20.9,17.4,19.2,19.0,18.6,17.9,16.0,12.3,14.1,18.1,17.0,17.4,14.7,14.8,14.5,17.5,18.5,18.1,16.8,17.5,18.0,18.5,14.0,15.7,14.4,15.1,15.1,16.7,15.5,14.5,16.3,13.7,15.0,16.4,13.0,11.8,14.7,16.9,15.5,15.5,15.9,11.7,13.9,14.0,12.9,13.0,12.6,11.8,14.3,14.8,16.0,15.4,11.7,13.1,11.5,12.0,14.2,14.0,11.1,9.5,8.8,8.7,8.4,11.1,11.0,16.5,13.6,12.8,11.5,10.6,11.6,11.0,11.6,11.6,11.2,12.2,12.9,11.3,9.7,10.7,12.2,12.2,14.1,9.7,11.5,12.8,12.3,10.9,14.1,11.1,12.5,9.6,7.6,9.3,10.4,12.2,10.7,14.7,14.2,11.6,12.5,13.1,14.0,14.1,12.2,11.6,14.4,14.2,17.3,15.1,14.7,16.2,16.3,17.2,14.8,16.7,12.1,11.3,12.4,16.1,16.7,15.5,14.7,15.2,16.6,21.6,25.5,19.4,19.7,13.2,14.1,18.0,23.3,23.3,19.5,21.9,16.2,17.3,18.7,20.9,25.7,24.3,18.9,16.8,20.6,27.6,28.9,20.7,21.3,18.0,16.0,17.9,20.0,22.0,22.4,23.9,26.1,21.1,19.6,21.0,24.1,24.7,28.5,27.4,20.6,15.0,18.0,20.7,25.5,26.1,30.7,28.4,19.9,26.9,30.2],\"type\":\"scatter\"},{\"mode\":\"lines\",\"name\":\"Modelo 1: MSE 18.706 +- 21.411\",\"x\":[-5.3,-5.0353535353535355,-4.77070707070707,-4.506060606060606,-4.2414141414141415,-3.9767676767676767,-3.712121212121212,-3.4474747474747476,-3.182828282828283,-2.918181818181818,-2.6535353535353536,-2.388888888888889,-2.124242424242424,-1.8595959595959597,-1.594949494949495,-1.3303030303030305,-1.0656565656565657,-0.8010101010101014,-0.5363636363636362,-0.2717171717171718,-0.007070707070707449,0.2575757575757578,0.5222222222222221,0.7868686868686865,1.0515151515151517,1.316161616161616,1.5808080808080804,1.8454545454545448,2.11010101010101,2.3747474747474744,2.6393939393939387,2.904040404040404,3.1686868686868683,3.4333333333333327,3.697979797979797,3.9626262626262614,4.2272727272727275,4.491919191919192,4.756565656565656,5.021212121212121,5.285858585858585,5.550505050505049,5.815151515151515,6.07979797979798,6.344444444444444,6.6090909090909085,6.873737373737373,7.138383838383837,7.403030303030303,7.667676767676768,7.932323232323232,8.196969696969695,8.46161616161616,8.726262626262624,8.990909090909089,9.255555555555556,9.52020202020202,9.784848484848485,10.04949494949495,10.314141414141414,10.578787878787878,10.843434343434343,11.108080808080807,11.372727272727271,11.637373737373736,11.9020202020202,12.166666666666664,12.431313131313129,12.695959595959593,12.960606060606057,13.225252525252522,13.48989898989899,13.754545454545454,14.019191919191918,14.283838383838383,14.548484848484847,14.813131313131311,15.077777777777776,15.34242424242424,15.607070707070704,15.871717171717169,16.136363636363633,16.401010101010097,16.665656565656562,16.93030303030303,17.194949494949494,17.45959595959596,17.724242424242423,17.988888888888887,18.25353535353535,18.518181818181816,18.78282828282828,19.047474747474745,19.31212121212121,19.576767676767673,19.841414141414138,20.106060606060606,20.37070707070707,20.635353535353534,20.9],\"y\":[10.090605146106235,10.31011809686058,10.529631047614924,10.74914399836927,10.968656949123613,11.188169899877959,11.407682850632304,11.627195801386648,11.846708752140993,12.066221702895337,12.285734653649683,12.505247604404028,12.724760555158372,12.944273505912717,13.163786456667061,13.383299407421406,13.602812358175752,13.822325308930097,14.041838259684441,14.261351210438786,14.48086416119313,14.700377111947477,14.919890062701821,15.139403013456166,15.35891596421051,15.578428914964855,15.7979418657192,16.017454816473546,16.23696776722789,16.456480717982235,16.675993668736577,16.895506619490924,17.11501957024527,17.334532520999613,17.55404547175396,17.7735584225083,17.993071373262648,18.212584324016994,18.432097274771337,18.651610225525683,18.871123176280026,19.090636127034372,19.31014907778872,19.52966202854306,19.749174979297408,19.96868793005175,20.188200880806097,20.40771383156044,20.627226782314786,20.846739733069132,21.066252683823475,21.28576563457782,21.505278585332164,21.724791536086506,21.944304486840853,22.1638174375952,22.383330388349545,22.60284333910389,22.822356289858234,23.041869240612577,23.261382191366923,23.48089514212127,23.700408092875612,23.919921043629955,24.1394339943843,24.358946945138648,24.57845989589299,24.797972846647333,25.01748579740168,25.236998748156026,25.45651169891037,25.67602464966472,25.89553760041906,26.115050551173404,26.33456350192775,26.554076452682096,26.77358940343644,26.993102354190782,27.21261530494513,27.432128255699475,27.651641206453817,27.87115415720816,28.090667107962506,28.310180058716853,28.5296930094712,28.749205960225545,28.968718910979888,29.18823186173423,29.407744812488577,29.627257763242923,29.846770713997266,30.06628366475161,30.285796615505955,30.5053095662603,30.724822517014644,30.944335467768987,31.163848418523337,31.38336136927768,31.60287432003203,31.822387270786372],\"type\":\"scatter\"},{\"mode\":\"lines\",\"name\":\"Modelo 2: MSE 22.508 +- 25.049\",\"x\":[-5.3,-5.0353535353535355,-4.77070707070707,-4.506060606060606,-4.2414141414141415,-3.9767676767676767,-3.712121212121212,-3.4474747474747476,-3.182828282828283,-2.918181818181818,-2.6535353535353536,-2.388888888888889,-2.124242424242424,-1.8595959595959597,-1.594949494949495,-1.3303030303030305,-1.0656565656565657,-0.8010101010101014,-0.5363636363636362,-0.2717171717171718,-0.007070707070707449,0.2575757575757578,0.5222222222222221,0.7868686868686865,1.0515151515151517,1.316161616161616,1.5808080808080804,1.8454545454545448,2.11010101010101,2.3747474747474744,2.6393939393939387,2.904040404040404,3.1686868686868683,3.4333333333333327,3.697979797979797,3.9626262626262614,4.2272727272727275,4.491919191919192,4.756565656565656,5.021212121212121,5.285858585858585,5.550505050505049,5.815151515151515,6.07979797979798,6.344444444444444,6.6090909090909085,6.873737373737373,7.138383838383837,7.403030303030303,7.667676767676768,7.932323232323232,8.196969696969695,8.46161616161616,8.726262626262624,8.990909090909089,9.255555555555556,9.52020202020202,9.784848484848485,10.04949494949495,10.314141414141414,10.578787878787878,10.843434343434343,11.108080808080807,11.372727272727271,11.637373737373736,11.9020202020202,12.166666666666664,12.431313131313129,12.695959595959593,12.960606060606057,13.225252525252522,13.48989898989899,13.754545454545454,14.019191919191918,14.283838383838383,14.548484848484847,14.813131313131311,15.077777777777776,15.34242424242424,15.607070707070704,15.871717171717169,16.136363636363633,16.401010101010097,16.665656565656562,16.93030303030303,17.194949494949494,17.45959595959596,17.724242424242423,17.988888888888887,18.25353535353535,18.518181818181816,18.78282828282828,19.047474747474745,19.31212121212121,19.576767676767673,19.841414141414138,20.106060606060606,20.37070707070707,20.635353535353534,20.9],\"y\":[10.15028742077564,10.369705418633966,10.589123416492292,10.808541414350616,11.027959412208942,11.247377410067266,11.466795407925591,11.686213405783915,11.905631403642241,12.125049401500565,12.34446739935889,12.563885397217215,12.78330339507554,13.002721392933864,13.22213939079219,13.441557388650514,13.66097538650884,13.880393384367164,14.09981138222549,14.319229380083813,14.538647377942139,14.758065375800465,14.977483373658789,15.196901371517113,15.416319369375438,15.635737367233764,15.855155365092088,16.074573362950414,16.29399136080874,16.51340935866706,16.732827356525387,16.952245354383713,17.171663352242035,17.39108135010036,17.610499347958687,17.829917345817012,18.049335343675338,18.26875334153366,18.488171339391986,18.70758933725031,18.927007335108634,19.14642533296696,19.365843330825285,19.58526132868361,19.804679326541937,20.02409732440026,20.243515322258585,20.46293332011691,20.682351317975236,20.901769315833562,21.121187313691884,21.34060531155021,21.560023309408535,21.779441307266858,21.998859305125183,22.21827730298351,22.437695300841835,22.65711329870016,22.876531296558483,23.09594929441681,23.315367292275134,23.534785290133456,23.754203287991782,23.973621285850108,24.19303928370843,24.412457281566756,24.63187527942508,24.851293277283403,25.070711275141733,25.290129273000055,25.509547270858377,25.728965268716706,25.948383266575032,26.167801264433358,26.38721926229168,26.606637260150006,26.82605525800833,27.045473255866654,27.26489125372498,27.484309251583305,27.703727249441627,27.923145247299953,28.14256324515828,28.3619812430166,28.58139924087493,28.800817238733252,29.02023523659158,29.239653234449904,29.45907123230823,29.678489230166555,29.897907228024877,30.117325225883203,30.33674322374153,30.55616122159985,30.775579219458177,30.994997217316502,31.214415215174828,31.433833213033154,31.65325121089148,31.8726692087498],\"type\":\"scatter\"},{\"mode\":\"lines\",\"name\":\"Modelo 3: MSE 20.406 +- 22.459\",\"x\":[-5.3,-5.0353535353535355,-4.77070707070707,-4.506060606060606,-4.2414141414141415,-3.9767676767676767,-3.712121212121212,-3.4474747474747476,-3.182828282828283,-2.918181818181818,-2.6535353535353536,-2.388888888888889,-2.124242424242424,-1.8595959595959597,-1.594949494949495,-1.3303030303030305,-1.0656565656565657,-0.8010101010101014,-0.5363636363636362,-0.2717171717171718,-0.007070707070707449,0.2575757575757578,0.5222222222222221,0.7868686868686865,1.0515151515151517,1.316161616161616,1.5808080808080804,1.8454545454545448,2.11010101010101,2.3747474747474744,2.6393939393939387,2.904040404040404,3.1686868686868683,3.4333333333333327,3.697979797979797,3.9626262626262614,4.2272727272727275,4.491919191919192,4.756565656565656,5.021212121212121,5.285858585858585,5.550505050505049,5.815151515151515,6.07979797979798,6.344444444444444,6.6090909090909085,6.873737373737373,7.138383838383837,7.403030303030303,7.667676767676768,7.932323232323232,8.196969696969695,8.46161616161616,8.726262626262624,8.990909090909089,9.255555555555556,9.52020202020202,9.784848484848485,10.04949494949495,10.314141414141414,10.578787878787878,10.843434343434343,11.108080808080807,11.372727272727271,11.637373737373736,11.9020202020202,12.166666666666664,12.431313131313129,12.695959595959593,12.960606060606057,13.225252525252522,13.48989898989899,13.754545454545454,14.019191919191918,14.283838383838383,14.548484848484847,14.813131313131311,15.077777777777776,15.34242424242424,15.607070707070704,15.871717171717169,16.136363636363633,16.401010101010097,16.665656565656562,16.93030303030303,17.194949494949494,17.45959595959596,17.724242424242423,17.988888888888887,18.25353535353535,18.518181818181816,18.78282828282828,19.047474747474745,19.31212121212121,19.576767676767673,19.841414141414138,20.106060606060606,20.37070707070707,20.635353535353534,20.9],\"y\":[9.508955138673034,9.743056950475722,9.97715876227841,10.211260574081098,10.445362385883785,10.679464197686473,10.913566009489161,11.147667821291849,11.381769633094537,11.615871444897223,11.849973256699911,12.0840750685026,12.318176880305288,12.552278692107976,12.786380503910664,13.020482315713352,13.254584127516038,13.488685939318726,13.722787751121414,13.956889562924102,14.19099137472679,14.425093186529478,14.659194998332165,14.893296810134853,15.127398621937541,15.361500433740229,15.595602245542917,15.829704057345603,16.063805869148293,16.29790768095098,16.532009492753666,16.766111304556354,17.000213116359042,17.23431492816173,17.468416739964418,17.702518551767106,17.936620363569794,18.170722175372482,18.40482398717517,18.63892579897786,18.873027610780547,19.107129422583235,19.341231234385923,19.57533304618861,19.8094348579913,20.043536669793983,20.27763848159667,20.51174029339936,20.745842105202048,20.979943917004736,21.214045728807424,21.448147540610112,21.682249352412796,21.916351164215484,22.150452976018173,22.384554787820864,22.618656599623552,22.852758411426237,23.086860223228925,23.320962035031613,23.5550638468343,23.78916565863699,24.023267470439677,24.257369282242365,24.491471094045053,24.72557290584774,24.95967471765043,25.193776529453114,25.427878341255802,25.66198015305849,25.896081964861175,26.13018377666387,26.364285588466558,26.598387400269242,26.83248921207193,27.06659102387462,27.300692835677303,27.53479464747999,27.76889645928268,28.002998271085367,28.237100082888055,28.471201894690743,28.70530370649343,28.93940551829612,29.173507330098808,29.407609141901496,29.641710953704184,29.875812765506872,30.10991457730956,30.344016389112248,30.578118200914936,30.812220012717624,31.046321824520312,31.280423636323,31.51452544812568,31.74862725992837,31.982729071731065,32.21683088353375,32.45093269533644,32.68503450713912],\"type\":\"scatter\"},{\"mode\":\"lines\",\"name\":\"Modelo 4: MSE 17.265 +- 19.949\",\"x\":[-5.3,-5.0353535353535355,-4.77070707070707,-4.506060606060606,-4.2414141414141415,-3.9767676767676767,-3.712121212121212,-3.4474747474747476,-3.182828282828283,-2.918181818181818,-2.6535353535353536,-2.388888888888889,-2.124242424242424,-1.8595959595959597,-1.594949494949495,-1.3303030303030305,-1.0656565656565657,-0.8010101010101014,-0.5363636363636362,-0.2717171717171718,-0.007070707070707449,0.2575757575757578,0.5222222222222221,0.7868686868686865,1.0515151515151517,1.316161616161616,1.5808080808080804,1.8454545454545448,2.11010101010101,2.3747474747474744,2.6393939393939387,2.904040404040404,3.1686868686868683,3.4333333333333327,3.697979797979797,3.9626262626262614,4.2272727272727275,4.491919191919192,4.756565656565656,5.021212121212121,5.285858585858585,5.550505050505049,5.815151515151515,6.07979797979798,6.344444444444444,6.6090909090909085,6.873737373737373,7.138383838383837,7.403030303030303,7.667676767676768,7.932323232323232,8.196969696969695,8.46161616161616,8.726262626262624,8.990909090909089,9.255555555555556,9.52020202020202,9.784848484848485,10.04949494949495,10.314141414141414,10.578787878787878,10.843434343434343,11.108080808080807,11.372727272727271,11.637373737373736,11.9020202020202,12.166666666666664,12.431313131313129,12.695959595959593,12.960606060606057,13.225252525252522,13.48989898989899,13.754545454545454,14.019191919191918,14.283838383838383,14.548484848484847,14.813131313131311,15.077777777777776,15.34242424242424,15.607070707070704,15.871717171717169,16.136363636363633,16.401010101010097,16.665656565656562,16.93030303030303,17.194949494949494,17.45959595959596,17.724242424242423,17.988888888888887,18.25353535353535,18.518181818181816,18.78282828282828,19.047474747474745,19.31212121212121,19.576767676767673,19.841414141414138,20.106060606060606,20.37070707070707,20.635353535353534,20.9],\"y\":[10.161873781274553,10.378775848849148,10.595677916423742,10.812579983998338,11.029482051572934,11.246384119147528,11.463286186722124,11.68018825429672,11.897090321871314,12.113992389445912,12.330894457020506,12.547796524595102,12.764698592169697,12.981600659744291,13.198502727318887,13.415404794893483,13.632306862468077,13.849208930042673,14.066110997617269,14.283013065191863,14.499915132766459,14.716817200341055,14.93371926791565,15.150621335490245,15.36752340306484,15.584425470639436,15.80132753821403,16.018229605788626,16.23513167336322,16.452033740937818,16.668935808512412,16.88583787608701,17.102739943661604,17.319642011236198,17.536544078810792,17.75344614638539,17.970348213959983,18.18725028153458,18.404152349109175,18.62105441668377,18.837956484258363,19.05485855183296,19.27176061940756,19.488662686982153,19.705564754556747,19.92246682213134,20.13936888970594,20.356270957280532,20.57317302485513,20.790075092429724,21.00697716000432,21.223879227578912,21.440781295153506,21.657683362728104,21.874585430302698,22.091487497877296,22.30838956545189,22.525291633026487,22.74219370060108,22.95909576817568,23.175997835750273,23.392899903324867,23.60980197089946,23.826704038474055,24.043606106048653,24.260508173623247,24.477410241197845,24.69431230877244,24.911214376347033,25.128116443921627,25.34501851149622,25.561920579070822,25.778822646645416,25.99572471422001,26.212626781794604,26.429528849369202,26.646430916943796,26.863332984518394,27.080235052092988,27.297137119667582,27.514039187242176,27.73094125481677,27.947843322391368,28.16474538996596,28.38164745754056,28.598549525115153,28.81545159268975,29.032353660264345,29.249255727838943,29.466157795413537,29.68305986298813,29.899961930562725,30.11686399813732,30.333766065711917,30.55066813328651,30.767570200861105,30.984472268435706,31.2013743360103,31.418276403584894,31.635178471159488],\"type\":\"scatter\"},{\"mode\":\"lines\",\"name\":\"Modelo 5: MSE 19.147 +- 21.053\",\"x\":[-5.3,-5.0353535353535355,-4.77070707070707,-4.506060606060606,-4.2414141414141415,-3.9767676767676767,-3.712121212121212,-3.4474747474747476,-3.182828282828283,-2.918181818181818,-2.6535353535353536,-2.388888888888889,-2.124242424242424,-1.8595959595959597,-1.594949494949495,-1.3303030303030305,-1.0656565656565657,-0.8010101010101014,-0.5363636363636362,-0.2717171717171718,-0.007070707070707449,0.2575757575757578,0.5222222222222221,0.7868686868686865,1.0515151515151517,1.316161616161616,1.5808080808080804,1.8454545454545448,2.11010101010101,2.3747474747474744,2.6393939393939387,2.904040404040404,3.1686868686868683,3.4333333333333327,3.697979797979797,3.9626262626262614,4.2272727272727275,4.491919191919192,4.756565656565656,5.021212121212121,5.285858585858585,5.550505050505049,5.815151515151515,6.07979797979798,6.344444444444444,6.6090909090909085,6.873737373737373,7.138383838383837,7.403030303030303,7.667676767676768,7.932323232323232,8.196969696969695,8.46161616161616,8.726262626262624,8.990909090909089,9.255555555555556,9.52020202020202,9.784848484848485,10.04949494949495,10.314141414141414,10.578787878787878,10.843434343434343,11.108080808080807,11.372727272727271,11.637373737373736,11.9020202020202,12.166666666666664,12.431313131313129,12.695959595959593,12.960606060606057,13.225252525252522,13.48989898989899,13.754545454545454,14.019191919191918,14.283838383838383,14.548484848484847,14.813131313131311,15.077777777777776,15.34242424242424,15.607070707070704,15.871717171717169,16.136363636363633,16.401010101010097,16.665656565656562,16.93030303030303,17.194949494949494,17.45959595959596,17.724242424242423,17.988888888888887,18.25353535353535,18.518181818181816,18.78282828282828,19.047474747474745,19.31212121212121,19.576767676767673,19.841414141414138,20.106060606060606,20.37070707070707,20.635353535353534,20.9],\"y\":[10.353696805002372,10.569019082969463,10.784341360936555,10.999663638903646,11.214985916870738,11.43030819483783,11.645630472804921,11.860952750772013,12.076275028739104,12.291597306706196,12.506919584673287,12.722241862640379,12.93756414060747,13.15288641857456,13.368208696541654,13.583530974508744,13.798853252475835,14.014175530442927,14.22949780841002,14.44482008637711,14.660142364344201,14.875464642311293,15.090786920278385,15.306109198245476,15.521431476212568,15.73675375417966,15.952076032146751,16.167398310113843,16.382720588080936,16.598042866048026,16.813365144015116,17.02868742198221,17.2440096999493,17.459331977916392,17.674654255883482,17.889976533850575,18.10529881181767,18.32062108978476,18.535943367751848,18.75126564571894,18.96658792368603,19.181910201653125,19.397232479620214,19.612554757587308,19.827877035554398,20.04319931352149,20.25852159148858,20.47384386945567,20.689166147422764,20.904488425389857,21.119810703356947,21.335132981324037,21.55045525929113,21.76577753725822,21.981099815225313,22.196422093192407,22.411744371159497,22.62706664912659,22.84238892709368,23.05771120506077,23.273033483027863,23.488355760994956,23.703678038962046,23.919000316929136,24.134322594896226,24.34964487286332,24.564967150830412,24.780289428797502,24.995611706764592,25.210933984731682,25.426256262698775,25.64157854066587,25.856900818632962,26.07222309660005,26.287545374567145,26.502867652534235,26.718189930501325,26.933512208468418,27.14883448643551,27.3641567644026,27.57947904236969,27.79480132033678,28.010123598303874,28.225445876270967,28.440768154238057,28.65609043220515,28.871412710172244,29.086734988139334,29.302057266106424,29.517379544073513,29.732701822040607,29.9480241000077,30.16334637797479,30.37866865594188,30.593990933908973,30.809313211876066,31.024635489843156,31.239957767810246,31.455280045777343,31.670602323744433],\"type\":\"scatter\"}],                        {\"template\":{\"data\":{\"histogram2dcontour\":[{\"type\":\"histogram2dcontour\",\"colorbar\":{\"outlinewidth\":0,\"ticks\":\"\"},\"colorscale\":[[0.0,\"#0d0887\"],[0.1111111111111111,\"#46039f\"],[0.2222222222222222,\"#7201a8\"],[0.3333333333333333,\"#9c179e\"],[0.4444444444444444,\"#bd3786\"],[0.5555555555555556,\"#d8576b\"],[0.6666666666666666,\"#ed7953\"],[0.7777777777777778,\"#fb9f3a\"],[0.8888888888888888,\"#fdca26\"],[1.0,\"#f0f921\"]]}],\"choropleth\":[{\"type\":\"choropleth\",\"colorbar\":{\"outlinewidth\":0,\"ticks\":\"\"}}],\"histogram2d\":[{\"type\":\"histogram2d\",\"colorbar\":{\"outlinewidth\":0,\"ticks\":\"\"},\"colorscale\":[[0.0,\"#0d0887\"],[0.1111111111111111,\"#46039f\"],[0.2222222222222222,\"#7201a8\"],[0.3333333333333333,\"#9c179e\"],[0.4444444444444444,\"#bd3786\"],[0.5555555555555556,\"#d8576b\"],[0.6666666666666666,\"#ed7953\"],[0.7777777777777778,\"#fb9f3a\"],[0.8888888888888888,\"#fdca26\"],[1.0,\"#f0f921\"]]}],\"heatmap\":[{\"type\":\"heatmap\",\"colorbar\":{\"outlinewidth\":0,\"ticks\":\"\"},\"colorscale\":[[0.0,\"#0d0887\"],[0.1111111111111111,\"#46039f\"],[0.2222222222222222,\"#7201a8\"],[0.3333333333333333,\"#9c179e\"],[0.4444444444444444,\"#bd3786\"],[0.5555555555555556,\"#d8576b\"],[0.6666666666666666,\"#ed7953\"],[0.7777777777777778,\"#fb9f3a\"],[0.8888888888888888,\"#fdca26\"],[1.0,\"#f0f921\"]]}],\"heatmapgl\":[{\"type\":\"heatmapgl\",\"colorbar\":{\"outlinewidth\":0,\"ticks\":\"\"},\"colorscale\":[[0.0,\"#0d0887\"],[0.1111111111111111,\"#46039f\"],[0.2222222222222222,\"#7201a8\"],[0.3333333333333333,\"#9c179e\"],[0.4444444444444444,\"#bd3786\"],[0.5555555555555556,\"#d8576b\"],[0.6666666666666666,\"#ed7953\"],[0.7777777777777778,\"#fb9f3a\"],[0.8888888888888888,\"#fdca26\"],[1.0,\"#f0f921\"]]}],\"contourcarpet\":[{\"type\":\"contourcarpet\",\"colorbar\":{\"outlinewidth\":0,\"ticks\":\"\"}}],\"contour\":[{\"type\":\"contour\",\"colorbar\":{\"outlinewidth\":0,\"ticks\":\"\"},\"colorscale\":[[0.0,\"#0d0887\"],[0.1111111111111111,\"#46039f\"],[0.2222222222222222,\"#7201a8\"],[0.3333333333333333,\"#9c179e\"],[0.4444444444444444,\"#bd3786\"],[0.5555555555555556,\"#d8576b\"],[0.6666666666666666,\"#ed7953\"],[0.7777777777777778,\"#fb9f3a\"],[0.8888888888888888,\"#fdca26\"],[1.0,\"#f0f921\"]]}],\"surface\":[{\"type\":\"surface\",\"colorbar\":{\"outlinewidth\":0,\"ticks\":\"\"},\"colorscale\":[[0.0,\"#0d0887\"],[0.1111111111111111,\"#46039f\"],[0.2222222222222222,\"#7201a8\"],[0.3333333333333333,\"#9c179e\"],[0.4444444444444444,\"#bd3786\"],[0.5555555555555556,\"#d8576b\"],[0.6666666666666666,\"#ed7953\"],[0.7777777777777778,\"#fb9f3a\"],[0.8888888888888888,\"#fdca26\"],[1.0,\"#f0f921\"]]}],\"mesh3d\":[{\"type\":\"mesh3d\",\"colorbar\":{\"outlinewidth\":0,\"ticks\":\"\"}}],\"scatter\":[{\"fillpattern\":{\"fillmode\":\"overlay\",\"size\":10,\"solidity\":0.2},\"type\":\"scatter\"}],\"parcoords\":[{\"type\":\"parcoords\",\"line\":{\"colorbar\":{\"outlinewidth\":0,\"ticks\":\"\"}}}],\"scatterpolargl\":[{\"type\":\"scatterpolargl\",\"marker\":{\"colorbar\":{\"outlinewidth\":0,\"ticks\":\"\"}}}],\"bar\":[{\"error_x\":{\"color\":\"#2a3f5f\"},\"error_y\":{\"color\":\"#2a3f5f\"},\"marker\":{\"line\":{\"color\":\"#E5ECF6\",\"width\":0.5},\"pattern\":{\"fillmode\":\"overlay\",\"size\":10,\"solidity\":0.2}},\"type\":\"bar\"}],\"scattergeo\":[{\"type\":\"scattergeo\",\"marker\":{\"colorbar\":{\"outlinewidth\":0,\"ticks\":\"\"}}}],\"scatterpolar\":[{\"type\":\"scatterpolar\",\"marker\":{\"colorbar\":{\"outlinewidth\":0,\"ticks\":\"\"}}}],\"histogram\":[{\"marker\":{\"pattern\":{\"fillmode\":\"overlay\",\"size\":10,\"solidity\":0.2}},\"type\":\"histogram\"}],\"scattergl\":[{\"type\":\"scattergl\",\"marker\":{\"colorbar\":{\"outlinewidth\":0,\"ticks\":\"\"}}}],\"scatter3d\":[{\"type\":\"scatter3d\",\"line\":{\"colorbar\":{\"outlinewidth\":0,\"ticks\":\"\"}},\"marker\":{\"colorbar\":{\"outlinewidth\":0,\"ticks\":\"\"}}}],\"scattermapbox\":[{\"type\":\"scattermapbox\",\"marker\":{\"colorbar\":{\"outlinewidth\":0,\"ticks\":\"\"}}}],\"scatterternary\":[{\"type\":\"scatterternary\",\"marker\":{\"colorbar\":{\"outlinewidth\":0,\"ticks\":\"\"}}}],\"scattercarpet\":[{\"type\":\"scattercarpet\",\"marker\":{\"colorbar\":{\"outlinewidth\":0,\"ticks\":\"\"}}}],\"carpet\":[{\"aaxis\":{\"endlinecolor\":\"#2a3f5f\",\"gridcolor\":\"white\",\"linecolor\":\"white\",\"minorgridcolor\":\"white\",\"startlinecolor\":\"#2a3f5f\"},\"baxis\":{\"endlinecolor\":\"#2a3f5f\",\"gridcolor\":\"white\",\"linecolor\":\"white\",\"minorgridcolor\":\"white\",\"startlinecolor\":\"#2a3f5f\"},\"type\":\"carpet\"}],\"table\":[{\"cells\":{\"fill\":{\"color\":\"#EBF0F8\"},\"line\":{\"color\":\"white\"}},\"header\":{\"fill\":{\"color\":\"#C8D4E3\"},\"line\":{\"color\":\"white\"}},\"type\":\"table\"}],\"barpolar\":[{\"marker\":{\"line\":{\"color\":\"#E5ECF6\",\"width\":0.5},\"pattern\":{\"fillmode\":\"overlay\",\"size\":10,\"solidity\":0.2}},\"type\":\"barpolar\"}],\"pie\":[{\"automargin\":true,\"type\":\"pie\"}]},\"layout\":{\"autotypenumbers\":\"strict\",\"colorway\":[\"#636efa\",\"#EF553B\",\"#00cc96\",\"#ab63fa\",\"#FFA15A\",\"#19d3f3\",\"#FF6692\",\"#B6E880\",\"#FF97FF\",\"#FECB52\"],\"font\":{\"color\":\"#2a3f5f\"},\"hovermode\":\"closest\",\"hoverlabel\":{\"align\":\"left\"},\"paper_bgcolor\":\"white\",\"plot_bgcolor\":\"#E5ECF6\",\"polar\":{\"bgcolor\":\"#E5ECF6\",\"angularaxis\":{\"gridcolor\":\"white\",\"linecolor\":\"white\",\"ticks\":\"\"},\"radialaxis\":{\"gridcolor\":\"white\",\"linecolor\":\"white\",\"ticks\":\"\"}},\"ternary\":{\"bgcolor\":\"#E5ECF6\",\"aaxis\":{\"gridcolor\":\"white\",\"linecolor\":\"white\",\"ticks\":\"\"},\"baxis\":{\"gridcolor\":\"white\",\"linecolor\":\"white\",\"ticks\":\"\"},\"caxis\":{\"gridcolor\":\"white\",\"linecolor\":\"white\",\"ticks\":\"\"}},\"coloraxis\":{\"colorbar\":{\"outlinewidth\":0,\"ticks\":\"\"}},\"colorscale\":{\"sequential\":[[0.0,\"#0d0887\"],[0.1111111111111111,\"#46039f\"],[0.2222222222222222,\"#7201a8\"],[0.3333333333333333,\"#9c179e\"],[0.4444444444444444,\"#bd3786\"],[0.5555555555555556,\"#d8576b\"],[0.6666666666666666,\"#ed7953\"],[0.7777777777777778,\"#fb9f3a\"],[0.8888888888888888,\"#fdca26\"],[1.0,\"#f0f921\"]],\"sequentialminus\":[[0.0,\"#0d0887\"],[0.1111111111111111,\"#46039f\"],[0.2222222222222222,\"#7201a8\"],[0.3333333333333333,\"#9c179e\"],[0.4444444444444444,\"#bd3786\"],[0.5555555555555556,\"#d8576b\"],[0.6666666666666666,\"#ed7953\"],[0.7777777777777778,\"#fb9f3a\"],[0.8888888888888888,\"#fdca26\"],[1.0,\"#f0f921\"]],\"diverging\":[[0,\"#8e0152\"],[0.1,\"#c51b7d\"],[0.2,\"#de77ae\"],[0.3,\"#f1b6da\"],[0.4,\"#fde0ef\"],[0.5,\"#f7f7f7\"],[0.6,\"#e6f5d0\"],[0.7,\"#b8e186\"],[0.8,\"#7fbc41\"],[0.9,\"#4d9221\"],[1,\"#276419\"]]},\"xaxis\":{\"gridcolor\":\"white\",\"linecolor\":\"white\",\"ticks\":\"\",\"title\":{\"standoff\":15},\"zerolinecolor\":\"white\",\"automargin\":true,\"zerolinewidth\":2},\"yaxis\":{\"gridcolor\":\"white\",\"linecolor\":\"white\",\"ticks\":\"\",\"title\":{\"standoff\":15},\"zerolinecolor\":\"white\",\"automargin\":true,\"zerolinewidth\":2},\"scene\":{\"xaxis\":{\"backgroundcolor\":\"#E5ECF6\",\"gridcolor\":\"white\",\"linecolor\":\"white\",\"showbackground\":true,\"ticks\":\"\",\"zerolinecolor\":\"white\",\"gridwidth\":2},\"yaxis\":{\"backgroundcolor\":\"#E5ECF6\",\"gridcolor\":\"white\",\"linecolor\":\"white\",\"showbackground\":true,\"ticks\":\"\",\"zerolinecolor\":\"white\",\"gridwidth\":2},\"zaxis\":{\"backgroundcolor\":\"#E5ECF6\",\"gridcolor\":\"white\",\"linecolor\":\"white\",\"showbackground\":true,\"ticks\":\"\",\"zerolinecolor\":\"white\",\"gridwidth\":2}},\"shapedefaults\":{\"line\":{\"color\":\"#2a3f5f\"}},\"annotationdefaults\":{\"arrowcolor\":\"#2a3f5f\",\"arrowhead\":0,\"arrowwidth\":1},\"geo\":{\"bgcolor\":\"white\",\"landcolor\":\"#E5ECF6\",\"subunitcolor\":\"white\",\"showland\":true,\"showlakes\":true,\"lakecolor\":\"white\"},\"title\":{\"x\":0.05},\"mapbox\":{\"style\":\"light\"}}},\"title\":{\"text\":\"Resultados de 5CV con modelo sklearn\"},\"xaxis\":{\"title\":{\"text\":\"MinTemp\"}},\"yaxis\":{\"title\":{\"text\":\"MaxTemp\"}}},                        {\"responsive\": true}                    ).then(function(){\n",
              "                            \n",
              "var gd = document.getElementById('887d8fe9-01cf-4c59-a99b-c0430765f202');\n",
              "var x = new MutationObserver(function (mutations, observer) {{\n",
              "        var display = window.getComputedStyle(gd).display;\n",
              "        if (!display || display === 'none') {{\n",
              "            console.log([gd, 'removed!']);\n",
              "            Plotly.purge(gd);\n",
              "            observer.disconnect();\n",
              "        }}\n",
              "}});\n",
              "\n",
              "// Listen for the removal of the full notebook cells\n",
              "var notebookContainer = gd.closest('#notebook-container');\n",
              "if (notebookContainer) {{\n",
              "    x.observe(notebookContainer, {childList: true});\n",
              "}}\n",
              "\n",
              "// Listen for the clearing of the current output cell\n",
              "var outputEl = gd.closest('.output');\n",
              "if (outputEl) {{\n",
              "    x.observe(outputEl, {childList: true});\n",
              "}}\n",
              "\n",
              "                        })                };                            </script>        </div>\n",
              "</body>\n",
              "</html>"
            ]
          },
          "metadata": {}
        }
      ]
    },
    {
      "cell_type": "markdown",
      "source": [
        "## Análisis con modelo sklearn, combinación de variables (polinomio orden 3) y 5CV"
      ],
      "metadata": {
        "id": "axYFSF206uyY"
      }
    },
    {
      "cell_type": "code",
      "source": [
        "X = data[input_variable_name].values\n",
        "Y = data[output_variable_name].values\n",
        "\n",
        "from sklearn.pipeline import make_pipeline\n",
        "degree = 5\n",
        "\n",
        "error_sklearn_plus_comb = [] # Guarda los MSE de Ytest vs Ypred para cada fold\n",
        "errstd_sklearn_plus_comb = [] # Guarda las desviaciones de MSE de Ytest vs Ypred para cada fold\n",
        "theta_sklearn_plus_comb = [] # Guarda los thetas estimados en cada fold\n",
        "ypred_sklearn_plus_comb = [] # Guarda las datos de prediccion de test en cada fold\n",
        "yreal_sklearn_plus_comb = [] # Guarda las datos de test en cada fold\n",
        "lsims_sklearn_plus_comb = [] # Guarda las datos de las rectas estimadas en cada fold \n",
        "\n",
        "\n",
        "kf = KFold(n_splits=5, shuffle=True)\n",
        "xsims = np.linspace(X[:,0].min(),X[:,0].max(),100).reshape(-1,1)\n",
        "for i, (train_index, test_index) in enumerate(kf.split(X)):\n",
        "  Xtrain, Ytrain = X[train_index], Y[train_index]\n",
        "  Xtest,  Ytest  = X[test_index],  Y[test_index]\n",
        "  model = make_pipeline(PolynomialFeatures(degree), LinearRegression(fit_intercept=False)).fit(Xtrain, Ytrain)\n",
        "  theta_sklearn_plus_comb.append(np.array([temp for temp in model['linearregression'].coef_]).reshape(-1,1))\n",
        "  yreal_sklearn_plus_comb.append(Ytest)\n",
        "  ypred_sklearn_plus_comb.append(model.predict(Xtest))\n",
        "  error_sklearn_plus_comb.append( np.mean( (yreal_sklearn_plus_comb[i] - ypred_sklearn_plus_comb[i])**2) )\n",
        "  errstd_sklearn_plus_comb.append( np.std( (yreal_sklearn_plus_comb[i] - ypred_sklearn_plus_comb[i])**2) )\n",
        "  lsims_sklearn_plus_comb.append( model.predict(xsims))\n",
        "# model.get_feature_names_out"
      ],
      "metadata": {
        "id": "pwFgFsGK6uQL"
      },
      "execution_count": 110,
      "outputs": []
    },
    {
      "cell_type": "code",
      "source": [
        "theta_sklearn_plus_comb"
      ],
      "metadata": {
        "colab": {
          "base_uri": "https://localhost:8080/"
        },
        "id": "wG16WwSV7vHz",
        "outputId": "c3ad2a97-144d-4ad1-de1a-b4e6207f477e"
      },
      "execution_count": 111,
      "outputs": [
        {
          "output_type": "execute_result",
          "data": {
            "text/plain": [
              "[array([[ 1.46461455e+01],\n",
              "        [ 4.96405312e-01],\n",
              "        [-2.83941145e-03],\n",
              "        [ 1.24402604e-02],\n",
              "        [-1.19736502e-03],\n",
              "        [ 3.17180241e-05]]),\n",
              " array([[ 1.47609802e+01],\n",
              "        [ 3.67470657e-01],\n",
              "        [-3.35643069e-02],\n",
              "        [ 2.43984007e-02],\n",
              "        [-2.11310863e-03],\n",
              "        [ 5.15942258e-05]]),\n",
              " array([[ 1.48234877e+01],\n",
              "        [ 2.45641214e-01],\n",
              "        [ 7.49891644e-03],\n",
              "        [ 1.85923677e-02],\n",
              "        [-1.78972643e-03],\n",
              "        [ 4.53087977e-05]]),\n",
              " array([[ 1.47449210e+01],\n",
              "        [ 3.34046713e-01],\n",
              "        [ 6.67216544e-03],\n",
              "        [ 1.71512236e-02],\n",
              "        [-1.61922347e-03],\n",
              "        [ 3.97174096e-05]]),\n",
              " array([[ 1.47093844e+01],\n",
              "        [ 2.94599690e-01],\n",
              "        [ 2.52968867e-02],\n",
              "        [ 8.11915448e-03],\n",
              "        [-5.96365960e-04],\n",
              "        [ 7.58182788e-06]])]"
            ]
          },
          "metadata": {},
          "execution_count": 111
        }
      ]
    },
    {
      "cell_type": "code",
      "source": [
        "fig = go.Figure()\n",
        "fig.add_trace(go.Scatter(y=Y[:,0], x=X[:,0],mode='markers', name='Datos originales'))\n",
        "for i in range(5):\n",
        "  fig.add_trace(go.Scatter(x=xsims[:,0], \n",
        "                           y=lsims_sklearn_plus_comb[i].reshape(-1), \n",
        "                           mode='lines',\n",
        "                           name='Modelo %d: MSE %2.3f +- %2.3f'%(i+1,error_sklearn_plus_comb[i],errstd_sklearn_plus_comb[i])))\n",
        "  \n",
        "fig.update_layout(title='Resultados de 5CV con modelo sklearn + Combinacion de variables', xaxis_title=input_variable_name[0], yaxis_title=output_variable_name[0])"
      ],
      "metadata": {
        "colab": {
          "base_uri": "https://localhost:8080/",
          "height": 542
        },
        "id": "Z9KVArG-8Yoa",
        "outputId": "1353a7b3-ef56-4536-d090-054308471f3b"
      },
      "execution_count": 112,
      "outputs": [
        {
          "output_type": "display_data",
          "data": {
            "text/html": [
              "<html>\n",
              "<head><meta charset=\"utf-8\" /></head>\n",
              "<body>\n",
              "    <div>            <script src=\"https://cdnjs.cloudflare.com/ajax/libs/mathjax/2.7.5/MathJax.js?config=TeX-AMS-MML_SVG\"></script><script type=\"text/javascript\">if (window.MathJax && window.MathJax.Hub && window.MathJax.Hub.Config) {window.MathJax.Hub.Config({SVG: {font: \"STIX-Web\"}});}</script>                <script type=\"text/javascript\">window.PlotlyConfig = {MathJaxConfig: 'local'};</script>\n",
              "        <script src=\"https://cdn.plot.ly/plotly-2.18.2.min.js\"></script>                <div id=\"8ddf192d-1250-45c4-ba2f-8044e1c2b2a8\" class=\"plotly-graph-div\" style=\"height:525px; width:100%;\"></div>            <script type=\"text/javascript\">                                    window.PLOTLYENV=window.PLOTLYENV || {};                                    if (document.getElementById(\"8ddf192d-1250-45c4-ba2f-8044e1c2b2a8\")) {                    Plotly.newPlot(                        \"8ddf192d-1250-45c4-ba2f-8044e1c2b2a8\",                        [{\"mode\":\"markers\",\"name\":\"Datos originales\",\"x\":[8.0,14.0,13.7,13.3,7.6,6.2,6.1,8.3,8.8,8.4,9.1,8.5,10.1,12.1,10.1,12.4,13.8,11.7,12.4,15.6,15.3,16.4,12.8,12.0,15.4,15.6,13.3,12.9,15.1,13.6,15.1,11.6,16.6,13.3,14.5,16.3,17.2,16.5,15.0,14.9,11.8,11.7,9.6,8.9,10.1,15.5,10.8,7.5,12.8,12.6,14.8,19.9,9.2,12.4,11.3,9.8,14.3,15.1,14.4,15.4,13.8,13.6,14.3,15.9,16.7,12.1,14.3,16.5,16.5,17.5,14.7,17.5,20.9,17.0,16.0,15.4,17.9,15.2,15.1,15.3,17.2,15.9,10.0,9.9,10.3,15.4,12.7,13.2,15.3,17.9,18.0,17.6,16.0,14.9,17.1,18.2,16.8,13.6,14.5,12.4,10.4,9.1,8.9,14.5,12.6,8.6,10.8,11.2,12.1,10.8,11.4,12.0,16.3,12.7,12.7,12.0,11.5,13.0,11.7,14.8,7.7,4.4,7.4,8.3,10.1,12.0,12.9,10.8,9.5,12.1,12.5,13.9,13.3,13.2,12.3,13.8,11.3,11.7,12.5,15.1,11.5,13.0,11.6,12.8,15.5,13.1,12.6,4.4,4.4,7.1,4.2,9.6,3.5,5.3,7.0,0.4,3.2,5.9,8.1,6.9,5.6,7.2,7.1,6.1,7.1,5.6,5.4,6.3,5.3,7.9,8.4,8.1,2.4,5.6,7.5,2.5,5.0,3.8,7.9,4.3,-2.1,-1.8,3.8,2.1,0.5,-0.9,0.4,7.5,8.3,-0.2,0.1,1.5,8.3,9.4,1.3,2.2,-0.4,4.5,7.9,4.3,-2.7,0.3,3.8,2.4,1.2,1.2,-0.3,4.7,4.9,1.4,2.2,-0.1,-0.9,0.6,4.6,9.8,10.6,7.8,4.4,-0.2,4.3,7.4,8.6,10.2,7.3,8.7,1.0,2.1,6.4,5.4,0.4,4.0,8.4,0.4,4.2,0.9,0.8,4.3,6.3,3.5,-1.5,1.2,0.5,5.3,6.6,-1.6,-3.1,-0.1,-0.6,3.0,2.9,-1.3,1.8,2.9,-2.6,0.5,2.7,-1.7,-0.9,-1.8,1.3,2.4,-1.1,2.3,-2.2,-3.5,-1.0,-2.1,-2.0,-2.3,-1.6,0.8,-2.8,-2.8,3.0,4.4,2.3,-2.0,-1.9,4.8,-0.6,3.1,-2.9,-3.5,-0.3,0.1,2.3,2.1,4.6,3.7,-1.3,-3.4,-5.3,0.0,2.4,-0.6,2.3,-3.7,-0.9,-1.5,-3.3,-0.1,-0.2,0.5,6.1,4.1,0.1,3.2,5.4,5.8,6.3,-0.9,0.2,-3.7,-2.7,-2.5,-0.5,9.0,13.1,8.7,3.9,0.7,1.1,5.1,7.5,4.7,3.2,7.8,2.4,3.2,2.5,6.5,14.4,4.9,2.3,1.4,5.6,16.8,14.4,10.3,11.2,0.3,0.5,0.5,4.6,8.2,4.5,6.7,11.9,9.2,4.4,5.0,6.7,8.3,11.3,9.0,3.4,3.2,0.9,3.3,7.9,9.0,7.1,12.5,12.5,12.3],\"y\":[24.3,26.9,23.4,15.5,16.1,16.9,18.2,17.0,19.5,22.8,25.2,27.3,27.9,30.9,31.2,32.1,31.2,30.0,32.3,33.4,33.4,19.4,18.5,24.3,28.4,26.9,22.2,28.0,24.3,24.1,20.4,26.3,24.2,26.5,21.8,26.8,25.8,28.2,29.4,24.8,18.5,21.5,20.3,27.1,29.9,21.1,21.7,20.9,21.0,23.1,29.5,22.0,20.4,24.4,21.7,26.3,26.7,28.3,31.6,35.0,33.5,34.2,35.0,23.4,25.3,27.5,34.1,33.9,30.3,29.9,34.2,35.8,35.7,33.8,22.8,33.8,33.2,25.1,20.4,19.6,24.7,19.9,22.5,24.4,27.8,25.7,28.8,31.3,33.2,33.9,34.9,27.8,23.8,28.8,29.6,22.6,22.8,27.4,24.2,19.9,20.9,23.1,26.0,24.2,18.2,24.2,25.2,26.1,24.1,25.8,27.1,28.9,24.8,28.6,25.1,23.8,25.9,28.2,27.6,17.3,18.4,21.8,24.4,27.3,28.2,27.6,31.8,29.2,27.4,27.8,31.7,34.7,31.7,33.1,33.8,35.2,32.3,30.2,29.9,26.2,29.3,14.8,19.6,24.9,22.4,17.4,20.2,18.3,18.2,18.5,18.9,18.8,21.8,23.3,14.3,18.9,21.4,21.8,20.5,18.9,19.5,22.9,23.4,24.1,19.8,18.0,20.7,19.3,21.0,19.7,16.1,18.7,20.6,18.9,19.0,21.2,20.9,21.7,18.7,11.3,13.8,14.8,13.8,17.3,17.1,16.7,19.0,16.8,17.6,18.1,21.0,20.9,17.4,19.2,19.0,18.6,17.9,16.0,12.3,14.1,18.1,17.0,17.4,14.7,14.8,14.5,17.5,18.5,18.1,16.8,17.5,18.0,18.5,14.0,15.7,14.4,15.1,15.1,16.7,15.5,14.5,16.3,13.7,15.0,16.4,13.0,11.8,14.7,16.9,15.5,15.5,15.9,11.7,13.9,14.0,12.9,13.0,12.6,11.8,14.3,14.8,16.0,15.4,11.7,13.1,11.5,12.0,14.2,14.0,11.1,9.5,8.8,8.7,8.4,11.1,11.0,16.5,13.6,12.8,11.5,10.6,11.6,11.0,11.6,11.6,11.2,12.2,12.9,11.3,9.7,10.7,12.2,12.2,14.1,9.7,11.5,12.8,12.3,10.9,14.1,11.1,12.5,9.6,7.6,9.3,10.4,12.2,10.7,14.7,14.2,11.6,12.5,13.1,14.0,14.1,12.2,11.6,14.4,14.2,17.3,15.1,14.7,16.2,16.3,17.2,14.8,16.7,12.1,11.3,12.4,16.1,16.7,15.5,14.7,15.2,16.6,21.6,25.5,19.4,19.7,13.2,14.1,18.0,23.3,23.3,19.5,21.9,16.2,17.3,18.7,20.9,25.7,24.3,18.9,16.8,20.6,27.6,28.9,20.7,21.3,18.0,16.0,17.9,20.0,22.0,22.4,23.9,26.1,21.1,19.6,21.0,24.1,24.7,28.5,27.4,20.6,15.0,18.0,20.7,25.5,26.1,30.7,28.4,19.9,26.9,30.2],\"type\":\"scatter\"},{\"mode\":\"lines\",\"name\":\"Modelo 1: MSE 18.802 +- 22.140\",\"x\":[-5.3,-5.0353535353535355,-4.77070707070707,-4.506060606060606,-4.2414141414141415,-3.9767676767676767,-3.712121212121212,-3.4474747474747476,-3.182828282828283,-2.918181818181818,-2.6535353535353536,-2.388888888888889,-2.124242424242424,-1.8595959595959597,-1.594949494949495,-1.3303030303030305,-1.0656565656565657,-0.8010101010101014,-0.5363636363636362,-0.2717171717171718,-0.007070707070707449,0.2575757575757578,0.5222222222222221,0.7868686868686865,1.0515151515151517,1.316161616161616,1.5808080808080804,1.8454545454545448,2.11010101010101,2.3747474747474744,2.6393939393939387,2.904040404040404,3.1686868686868683,3.4333333333333327,3.697979797979797,3.9626262626262614,4.2272727272727275,4.491919191919192,4.756565656565656,5.021212121212121,5.285858585858585,5.550505050505049,5.815151515151515,6.07979797979798,6.344444444444444,6.6090909090909085,6.873737373737373,7.138383838383837,7.403030303030303,7.667676767676768,7.932323232323232,8.196969696969695,8.46161616161616,8.726262626262624,8.990909090909089,9.255555555555556,9.52020202020202,9.784848484848485,10.04949494949495,10.314141414141414,10.578787878787878,10.843434343434343,11.108080808080807,11.372727272727271,11.637373737373736,11.9020202020202,12.166666666666664,12.431313131313129,12.695959595959593,12.960606060606057,13.225252525252522,13.48989898989899,13.754545454545454,14.019191919191918,14.283838383838383,14.548484848484847,14.813131313131311,15.077777777777776,15.34242424242424,15.607070707070704,15.871717171717169,16.136363636363633,16.401010101010097,16.665656565656562,16.93030303030303,17.194949494949494,17.45959595959596,17.724242424242423,17.988888888888887,18.25353535353535,18.518181818181816,18.78282828282828,19.047474747474745,19.31212121212121,19.576767676767673,19.841414141414138,20.106060606060606,20.37070707070707,20.635353535353534,20.9],\"y\":[9.005947710633615,9.61390758540542,10.163939148469645,10.660886059448245,11.109361945290287,11.513755341306082,11.878234632201325,12.206752993111225,12.503053330634629,12.770673223868169,13.012949865440392,13.233025002545887,13.433849877979423,13.61819017117009,13.788630939215414,13.947581557915509,14.0972806628072,14.239801090198158,14.377054818201037,14.510797907767603,14.64263544372287,14.774026475799236,14.906288959670604,15.040604697986534,15.178024281406366,15.319472029633348,15.465750932448783,15.61754759074615,15.775437157565252,15.939888279126325,16.1112680358642,16.28984688346242,16.47580359388737,16.669230196422426,16.87013691870207,17.078457127746045,17.29405227099347,17.51671681733697,17.746183198156828,17.982126748355117,18.224170647389816,18.471890860308953,18.724821078784746,18.98245766214772,19.244264578420854,19.509678345353716,19.778112971456576,20.048964897034573,20.32161793522181,20.59544821301552,20.869829112310185,21.14413621093166,21.417752223671325,21.69007194332022,21.96050718170315,22.228491710712852,22.493486203344105,22.75498317472788,23.01251192316544,23.26564347116255,23.513995506463516,23.75723732308537,23.99509476235201,24.2273551539283,24.453872256854247,24.674571200579088,24.889453425995438,25.098601626473453,25.302184688894926,25.50046263468746,25.693791560858532,25.882628581029728,26.067536766470752,26.249190087133684,26.428378352687034,26.606012153549898,26.783127801926092,26.960892272838294,27.14060814516217,27.323718542660444,27.51181207501719,27.706627778871827,27.910060058853254,28.1241636286141,28.351158451864713,28.593434683407395,28.853557610170498,29.134272592242553,29.438510003906416,29.769390174673404,30.130228330317394,30.52453953390905,30.956043626849805,31.428670169906084,31.946563384243547,32.51408709246098,33.13582965962466,33.81660893430225,34.561477189597184,35.37572606418266],\"type\":\"scatter\"},{\"mode\":\"lines\",\"name\":\"Modelo 2: MSE 18.615 +- 20.385\",\"x\":[-5.3,-5.0353535353535355,-4.77070707070707,-4.506060606060606,-4.2414141414141415,-3.9767676767676767,-3.712121212121212,-3.4474747474747476,-3.182828282828283,-2.918181818181818,-2.6535353535353536,-2.388888888888889,-2.124242424242424,-1.8595959595959597,-1.594949494949495,-1.3303030303030305,-1.0656565656565657,-0.8010101010101014,-0.5363636363636362,-0.2717171717171718,-0.007070707070707449,0.2575757575757578,0.5222222222222221,0.7868686868686865,1.0515151515151517,1.316161616161616,1.5808080808080804,1.8454545454545448,2.11010101010101,2.3747474747474744,2.6393939393939387,2.904040404040404,3.1686868686868683,3.4333333333333327,3.697979797979797,3.9626262626262614,4.2272727272727275,4.491919191919192,4.756565656565656,5.021212121212121,5.285858585858585,5.550505050505049,5.815151515151515,6.07979797979798,6.344444444444444,6.6090909090909085,6.873737373737373,7.138383838383837,7.403030303030303,7.667676767676768,7.932323232323232,8.196969696969695,8.46161616161616,8.726262626262624,8.990909090909089,9.255555555555556,9.52020202020202,9.784848484848485,10.04949494949495,10.314141414141414,10.578787878787878,10.843434343434343,11.108080808080807,11.372727272727271,11.637373737373736,11.9020202020202,12.166666666666664,12.431313131313129,12.695959595959593,12.960606060606057,13.225252525252522,13.48989898989899,13.754545454545454,14.019191919191918,14.283838383838383,14.548484848484847,14.813131313131311,15.077777777777776,15.34242424242424,15.607070707070704,15.871717171717169,16.136363636363633,16.401010101010097,16.665656565656562,16.93030303030303,17.194949494949494,17.45959595959596,17.724242424242423,17.988888888888887,18.25353535353535,18.518181818181816,18.78282828282828,19.047474747474745,19.31212121212121,19.576767676767673,19.841414141414138,20.106060606060606,20.37070707070707,20.635353535353534,20.9],\"y\":[6.355094557535219,7.419211298313135,8.37271013444547,9.22429370489488,9.98227099191945,10.654565358421749,11.248722585297873,11.771918908786503,12.230969057817973,12.63233429136331,12.9821304357833,13.286135922177529,13.549799823733453,13.77824989307545,13.976300599613863,14.14846116689407,14.29894360994553,14.431670772630845,14.550284364994809,14.65815300061346,14.758380233943146,14.853812597669574,14.947047640056862,15.040441962296597,15.136119255856892,15.235978339831439,15.34170119828856,15.454761017620273,15.576430223891336,15.707788520188302,15.849730923968586,16.00297580440951,16.168072919757357,16.345411454676427,16.535228057598108,16.7376148780699,16.952527604104493,17.179793499528824,17.419119441333113,17.67009995701994,17.932225261953274,18.20488929670756,18.48739776441675,18.77897616812336,19.078777848127544,19.385892019336126,19.699351808611652,20.01814229212149,20.34120853268682,20.667463617131745,20.995796693632293,21.325081009065546,21.654181946358612,21.981965061837727,22.307304122577314,22.62908914374902,22.946234425970758,23.257686592655816,23.562432627361847,23.859507911139968,24.148004259883773,24.42707796167848,24.69595781414986,24.953953161813356,25.200461933423195,25.43497867932131,25.65710260878651,25.86654562738348,26.06314037431187,26.24684825975529,26.41776750223047,26.576141165936164,26.72236519810236,26.856996466339226,26.980760795986235,27.094561007461152,27.199484953609186,27.296813557051962,27.388028847536532,27.474821999284543,27.55910136834133,27.643000529924777,27.728886315774517,27.819366851500973,27.917299593934345,28.025799368473827,28.14824640643633,28.288294382405965,28.44987845158289,28.637223287132173,28.8548511175332,29.107589763928473,29.40058067747293,29.739286976682536,30.12950148478393,30.577354767062985,31.089323168214122,31.67223684968934,32.33328782704717,33.08003800730182],\"type\":\"scatter\"},{\"mode\":\"lines\",\"name\":\"Modelo 3: MSE 21.499 +- 24.577\",\"x\":[-5.3,-5.0353535353535355,-4.77070707070707,-4.506060606060606,-4.2414141414141415,-3.9767676767676767,-3.712121212121212,-3.4474747474747476,-3.182828282828283,-2.918181818181818,-2.6535353535353536,-2.388888888888889,-2.124242424242424,-1.8595959595959597,-1.594949494949495,-1.3303030303030305,-1.0656565656565657,-0.8010101010101014,-0.5363636363636362,-0.2717171717171718,-0.007070707070707449,0.2575757575757578,0.5222222222222221,0.7868686868686865,1.0515151515151517,1.316161616161616,1.5808080808080804,1.8454545454545448,2.11010101010101,2.3747474747474744,2.6393939393939387,2.904040404040404,3.1686868686868683,3.4333333333333327,3.697979797979797,3.9626262626262614,4.2272727272727275,4.491919191919192,4.756565656565656,5.021212121212121,5.285858585858585,5.550505050505049,5.815151515151515,6.07979797979798,6.344444444444444,6.6090909090909085,6.873737373737373,7.138383838383837,7.403030303030303,7.667676767676768,7.932323232323232,8.196969696969695,8.46161616161616,8.726262626262624,8.990909090909089,9.255555555555556,9.52020202020202,9.784848484848485,10.04949494949495,10.314141414141414,10.578787878787878,10.843434343434343,11.108080808080807,11.372727272727271,11.637373737373736,11.9020202020202,12.166666666666664,12.431313131313129,12.695959595959593,12.960606060606057,13.225252525252522,13.48989898989899,13.754545454545454,14.019191919191918,14.283838383838383,14.548484848484847,14.813131313131311,15.077777777777776,15.34242424242424,15.607070707070704,15.871717171717169,16.136363636363633,16.401010101010097,16.665656565656562,16.93030303030303,17.194949494949494,17.45959595959596,17.724242424242423,17.988888888888887,18.25353535353535,18.518181818181816,18.78282828282828,19.047474747474745,19.31212121212121,19.576767676767673,19.841414141414138,20.106060606060606,20.37070707070707,20.635353535353534,20.9],\"y\":[9.362598336481572,10.105817772164833,10.7644766504262,11.345758423542936,11.856508608618864,12.303241845789378,12.692148956426427,13.029104001343526,13.319671339000749,13.569112683709728,13.782394163838655,13.964193380017278,14.118906463341911,14.250655133580413,14.363293757377205,14.460416406458261,14.54536391583611,14.62123094201483,14.690873021195056,14.756913627478976,14.82175123107532,14.887566356504374,14.956328640802974,15.0298038917295,15.10956114596888,15.196979727337592,15.293256304988653,15.399411951616628,15.51629920166263,15.644609109519305,15.784878307735852,15.937496065223005,16.10271134545804,16.280639864689768,16.471271150143547,16.67447559822627,16.89001153273136,17.117532263043792,17.35659314234506,17.606658625818195,17.86710932885277,18.13724908524989,18.41631200542719,18.703469534623828,18.9978375111055,19.298483224369438,19.604432473349387,19.914676624620633,20.228179670604987,20.543885287775772,20.860723894862858,21.177619711057623,21.493497814217978,21.807291199073354,22.11794783542971,22.424437726374506,22.725759966481746,23.02094980001694,23.309085679142118,23.58929632212083,23.860767771523147,24.12275045243065,24.374566230641424,24.615615470875102,24.845384094977806,25.063450640127165,25.26949331703733,25.463297068163975,25.64476062590926,25.813903570826852,25.970873389826984,26.115952534381307,26.24956547872805,26.37228577807692,26.48484312681412,26.588130416707394,26.683210795110945,26.771324723170494,26.8538970340283,26.932543991028055,27.009080345919998,27.085526397065877,27.164115047643875,27.247298863853757,27.337757133121713,27.4384029223055,27.552390135899287,27.683120574238785,27.83425099170624,28.009700154935302,28.213655901016168,28.45058219570045,28.725226191606453,29.042625286423643,29.40811418111832,29.827331938138087,30.306229039616994,30.851074445580707,31.46846265215129,32.165320749752254],\"type\":\"scatter\"},{\"mode\":\"lines\",\"name\":\"Modelo 4: MSE 19.814 +- 25.827\",\"x\":[-5.3,-5.0353535353535355,-4.77070707070707,-4.506060606060606,-4.2414141414141415,-3.9767676767676767,-3.712121212121212,-3.4474747474747476,-3.182828282828283,-2.918181818181818,-2.6535353535353536,-2.388888888888889,-2.124242424242424,-1.8595959595959597,-1.594949494949495,-1.3303030303030305,-1.0656565656565657,-0.8010101010101014,-0.5363636363636362,-0.2717171717171718,-0.007070707070707449,0.2575757575757578,0.5222222222222221,0.7868686868686865,1.0515151515151517,1.316161616161616,1.5808080808080804,1.8454545454545448,2.11010101010101,2.3747474747474744,2.6393939393939387,2.904040404040404,3.1686868686868683,3.4333333333333327,3.697979797979797,3.9626262626262614,4.2272727272727275,4.491919191919192,4.756565656565656,5.021212121212121,5.285858585858585,5.550505050505049,5.815151515151515,6.07979797979798,6.344444444444444,6.6090909090909085,6.873737373737373,7.138383838383837,7.403030303030303,7.667676767676768,7.932323232323232,8.196969696969695,8.46161616161616,8.726262626262624,8.990909090909089,9.255555555555556,9.52020202020202,9.784848484848485,10.04949494949495,10.314141414141414,10.578787878787878,10.843434343434343,11.108080808080807,11.372727272727271,11.637373737373736,11.9020202020202,12.166666666666664,12.431313131313129,12.695959595959593,12.960606060606057,13.225252525252522,13.48989898989899,13.754545454545454,14.019191919191918,14.283838383838383,14.548484848484847,14.813131313131311,15.077777777777776,15.34242424242424,15.607070707070704,15.871717171717169,16.136363636363633,16.401010101010097,16.665656565656562,16.93030303030303,17.194949494949494,17.45959595959596,17.724242424242423,17.988888888888887,18.25353535353535,18.518181818181816,18.78282828282828,19.047474747474745,19.31212121212121,19.576767676767673,19.841414141414138,20.106060606060606,20.37070707070707,20.635353535353534,20.9],\"y\":[9.164730174529788,9.872837315681153,10.503953859248913,11.06458150891628,11.56091980772214,11.998872325239539,12.384052844754175,12.721791550442902,13.01714121455222,13.27488338457678,13.49953457043786,13.695352431661885,13.866341964558902,14.016261689401095,14.148629837601261,14.266730538891315,14.373620008500794,14.472132734335334,14.564887664155185,14.65429439275369,14.742559349135794,14.831691983696533,14.923510955399529,15.019650318955483,15.121565712000685,15.23054054227549,15.34769217480283,15.4739781190667,15.610202216190658,15.757020826116314,15.91494901478184,16.08436674130045,16.265525045138904,16.458552233296004,16.663460067481083,16.880149951292513,17.108419117396178,17.34796681470401,17.598400495552426,17.859242002880887,18.12993375741035,18.409844944821774,18.698277702934632,18.99447330888538,19.29761836630597,19.60685099250235,19.921267005632938,20.239926111887147,20.561858092663854,20.886068991749905,21.211547302498623,21.537270155008276,21.862209503300612,22.18533831249932,22.505636746008527,22.82209835269134,23.13373625404826,23.439589331395744,23.738728413044704,24.030262461478955,24.313344760533724,24.587179102574176,24.851025975673895,25.10420875079335,25.346119868958453,25.576227028438986,25.79407937192714,25.999313673715974,26.191660526877993,26.370950530443526,26.537120476579325,26.690219537766993,26.830415453981487,26.958000719869673,27.07339877192878,27.177170175684843,27.270018812871278,27.352798068607406,27.426517018576803,27.492346616205907,27.551625879842547,27.605868079934353,27.656766926207226,27.70620275484397,27.756248715662707,27.809176959295314,27.867464824365996,27.933801024669833,28.0110918363511,28.10246728508197,28.21128733324079,28.3411480670908,28.495887883958545,28.679593679412207,28.89660703444042,29.151530402630442,29.449233297346865,29.794858478910044,30.193828141774617,30.65185010170788],\"type\":\"scatter\"},{\"mode\":\"lines\",\"name\":\"Modelo 5: MSE 21.958 +- 26.643\",\"x\":[-5.3,-5.0353535353535355,-4.77070707070707,-4.506060606060606,-4.2414141414141415,-3.9767676767676767,-3.712121212121212,-3.4474747474747476,-3.182828282828283,-2.918181818181818,-2.6535353535353536,-2.388888888888889,-2.124242424242424,-1.8595959595959597,-1.594949494949495,-1.3303030303030305,-1.0656565656565657,-0.8010101010101014,-0.5363636363636362,-0.2717171717171718,-0.007070707070707449,0.2575757575757578,0.5222222222222221,0.7868686868686865,1.0515151515151517,1.316161616161616,1.5808080808080804,1.8454545454545448,2.11010101010101,2.3747474747474744,2.6393939393939387,2.904040404040404,3.1686868686868683,3.4333333333333327,3.697979797979797,3.9626262626262614,4.2272727272727275,4.491919191919192,4.756565656565656,5.021212121212121,5.285858585858585,5.550505050505049,5.815151515151515,6.07979797979798,6.344444444444444,6.6090909090909085,6.873737373737373,7.138383838383837,7.403030303030303,7.667676767676768,7.932323232323232,8.196969696969695,8.46161616161616,8.726262626262624,8.990909090909089,9.255555555555556,9.52020202020202,9.784848484848485,10.04949494949495,10.314141414141414,10.578787878787878,10.843434343434343,11.108080808080807,11.372727272727271,11.637373737373736,11.9020202020202,12.166666666666664,12.431313131313129,12.695959595959593,12.960606060606057,13.225252525252522,13.48989898989899,13.754545454545454,14.019191919191918,14.283838383838383,14.548484848484847,14.813131313131311,15.077777777777776,15.34242424242424,15.607070707070704,15.871717171717169,16.136363636363633,16.401010101010097,16.665656565656562,16.93030303030303,17.194949494949494,17.45959595959596,17.724242424242423,17.988888888888887,18.25353535353535,18.518181818181816,18.78282828282828,19.047474747474745,19.31212121212121,19.576767676767673,19.841414141414138,20.106060606060606,20.37070707070707,20.635353535353534,20.9],\"y\":[12.147571961279775,12.422867349619384,12.670454288190891,12.892739296520885,13.092037394526885,13.27057328361457,13.430482527775016,13.573812734681907,13.702524736788789,13.81849377242627,13.923510666899286,14.0192830135843,14.107436355026534,14.189515364037218,14.266985024790802,14.341231813922194,14.41356488162398,14.485217232743663,14.55734690788089,14.631038164484677,14.707302657950649,14.787080622718246,14.871242053367988,14.960587885718672,15.055851177924616,15.157698291572888,15.266730072780533,15.383483033291805,15.508430531575394,15.641983953921653,15.784493895539832,15.936251341655305,16.097488848606808,16.268381724943644,16.449049212522944,16.639555667606874,16.839911741959874,17.05007556394588,17.269953919625568,17.499403433853562,17.738231751375686,17.986198717926168,18.24301756132491,18.508356072574653,18.781837786958285,19.063043165135994,19.351510774242563,19.646738468984548,19.94818457273755,20.255269058643393,20.567374730707414,20.88384840489564,21.20400209023206,21.527114169895825,21.852430582318476,22.1791660022812,22.50650502201202,22.833603332283086,23.159588903507817,23.483563166838227,23.804602195262067,24.121757884700123,24.43405913510341,24.74051303155038,25.040106025344222,25.33180511511002,25.614559027892014,25.88729940025084,26.148941959360727,26.39838770410676,26.634524086182083,26.85622619118515,27.062357919716938,27.25177316847817,27.4233170113666,27.575826880574134,27.708133747684183,27.81906330476881,27.90743714548598,27.972073946176792,28.011790646962716,28.025403632842817,28.011729914790976,27.969588310853126,27.897800627244486,27.7951928394468,27.660596273305508,27.492848786127084,27.290795947776118,27.053292221772715,26.7792021463896,26.46740151574936,26.116778560921745,25.726235131020793,25.294687874302184,24.82106941926037,24.3043295557258,23.743436415962293,23.137377655764055,22.485161635553055],\"type\":\"scatter\"}],                        {\"template\":{\"data\":{\"histogram2dcontour\":[{\"type\":\"histogram2dcontour\",\"colorbar\":{\"outlinewidth\":0,\"ticks\":\"\"},\"colorscale\":[[0.0,\"#0d0887\"],[0.1111111111111111,\"#46039f\"],[0.2222222222222222,\"#7201a8\"],[0.3333333333333333,\"#9c179e\"],[0.4444444444444444,\"#bd3786\"],[0.5555555555555556,\"#d8576b\"],[0.6666666666666666,\"#ed7953\"],[0.7777777777777778,\"#fb9f3a\"],[0.8888888888888888,\"#fdca26\"],[1.0,\"#f0f921\"]]}],\"choropleth\":[{\"type\":\"choropleth\",\"colorbar\":{\"outlinewidth\":0,\"ticks\":\"\"}}],\"histogram2d\":[{\"type\":\"histogram2d\",\"colorbar\":{\"outlinewidth\":0,\"ticks\":\"\"},\"colorscale\":[[0.0,\"#0d0887\"],[0.1111111111111111,\"#46039f\"],[0.2222222222222222,\"#7201a8\"],[0.3333333333333333,\"#9c179e\"],[0.4444444444444444,\"#bd3786\"],[0.5555555555555556,\"#d8576b\"],[0.6666666666666666,\"#ed7953\"],[0.7777777777777778,\"#fb9f3a\"],[0.8888888888888888,\"#fdca26\"],[1.0,\"#f0f921\"]]}],\"heatmap\":[{\"type\":\"heatmap\",\"colorbar\":{\"outlinewidth\":0,\"ticks\":\"\"},\"colorscale\":[[0.0,\"#0d0887\"],[0.1111111111111111,\"#46039f\"],[0.2222222222222222,\"#7201a8\"],[0.3333333333333333,\"#9c179e\"],[0.4444444444444444,\"#bd3786\"],[0.5555555555555556,\"#d8576b\"],[0.6666666666666666,\"#ed7953\"],[0.7777777777777778,\"#fb9f3a\"],[0.8888888888888888,\"#fdca26\"],[1.0,\"#f0f921\"]]}],\"heatmapgl\":[{\"type\":\"heatmapgl\",\"colorbar\":{\"outlinewidth\":0,\"ticks\":\"\"},\"colorscale\":[[0.0,\"#0d0887\"],[0.1111111111111111,\"#46039f\"],[0.2222222222222222,\"#7201a8\"],[0.3333333333333333,\"#9c179e\"],[0.4444444444444444,\"#bd3786\"],[0.5555555555555556,\"#d8576b\"],[0.6666666666666666,\"#ed7953\"],[0.7777777777777778,\"#fb9f3a\"],[0.8888888888888888,\"#fdca26\"],[1.0,\"#f0f921\"]]}],\"contourcarpet\":[{\"type\":\"contourcarpet\",\"colorbar\":{\"outlinewidth\":0,\"ticks\":\"\"}}],\"contour\":[{\"type\":\"contour\",\"colorbar\":{\"outlinewidth\":0,\"ticks\":\"\"},\"colorscale\":[[0.0,\"#0d0887\"],[0.1111111111111111,\"#46039f\"],[0.2222222222222222,\"#7201a8\"],[0.3333333333333333,\"#9c179e\"],[0.4444444444444444,\"#bd3786\"],[0.5555555555555556,\"#d8576b\"],[0.6666666666666666,\"#ed7953\"],[0.7777777777777778,\"#fb9f3a\"],[0.8888888888888888,\"#fdca26\"],[1.0,\"#f0f921\"]]}],\"surface\":[{\"type\":\"surface\",\"colorbar\":{\"outlinewidth\":0,\"ticks\":\"\"},\"colorscale\":[[0.0,\"#0d0887\"],[0.1111111111111111,\"#46039f\"],[0.2222222222222222,\"#7201a8\"],[0.3333333333333333,\"#9c179e\"],[0.4444444444444444,\"#bd3786\"],[0.5555555555555556,\"#d8576b\"],[0.6666666666666666,\"#ed7953\"],[0.7777777777777778,\"#fb9f3a\"],[0.8888888888888888,\"#fdca26\"],[1.0,\"#f0f921\"]]}],\"mesh3d\":[{\"type\":\"mesh3d\",\"colorbar\":{\"outlinewidth\":0,\"ticks\":\"\"}}],\"scatter\":[{\"fillpattern\":{\"fillmode\":\"overlay\",\"size\":10,\"solidity\":0.2},\"type\":\"scatter\"}],\"parcoords\":[{\"type\":\"parcoords\",\"line\":{\"colorbar\":{\"outlinewidth\":0,\"ticks\":\"\"}}}],\"scatterpolargl\":[{\"type\":\"scatterpolargl\",\"marker\":{\"colorbar\":{\"outlinewidth\":0,\"ticks\":\"\"}}}],\"bar\":[{\"error_x\":{\"color\":\"#2a3f5f\"},\"error_y\":{\"color\":\"#2a3f5f\"},\"marker\":{\"line\":{\"color\":\"#E5ECF6\",\"width\":0.5},\"pattern\":{\"fillmode\":\"overlay\",\"size\":10,\"solidity\":0.2}},\"type\":\"bar\"}],\"scattergeo\":[{\"type\":\"scattergeo\",\"marker\":{\"colorbar\":{\"outlinewidth\":0,\"ticks\":\"\"}}}],\"scatterpolar\":[{\"type\":\"scatterpolar\",\"marker\":{\"colorbar\":{\"outlinewidth\":0,\"ticks\":\"\"}}}],\"histogram\":[{\"marker\":{\"pattern\":{\"fillmode\":\"overlay\",\"size\":10,\"solidity\":0.2}},\"type\":\"histogram\"}],\"scattergl\":[{\"type\":\"scattergl\",\"marker\":{\"colorbar\":{\"outlinewidth\":0,\"ticks\":\"\"}}}],\"scatter3d\":[{\"type\":\"scatter3d\",\"line\":{\"colorbar\":{\"outlinewidth\":0,\"ticks\":\"\"}},\"marker\":{\"colorbar\":{\"outlinewidth\":0,\"ticks\":\"\"}}}],\"scattermapbox\":[{\"type\":\"scattermapbox\",\"marker\":{\"colorbar\":{\"outlinewidth\":0,\"ticks\":\"\"}}}],\"scatterternary\":[{\"type\":\"scatterternary\",\"marker\":{\"colorbar\":{\"outlinewidth\":0,\"ticks\":\"\"}}}],\"scattercarpet\":[{\"type\":\"scattercarpet\",\"marker\":{\"colorbar\":{\"outlinewidth\":0,\"ticks\":\"\"}}}],\"carpet\":[{\"aaxis\":{\"endlinecolor\":\"#2a3f5f\",\"gridcolor\":\"white\",\"linecolor\":\"white\",\"minorgridcolor\":\"white\",\"startlinecolor\":\"#2a3f5f\"},\"baxis\":{\"endlinecolor\":\"#2a3f5f\",\"gridcolor\":\"white\",\"linecolor\":\"white\",\"minorgridcolor\":\"white\",\"startlinecolor\":\"#2a3f5f\"},\"type\":\"carpet\"}],\"table\":[{\"cells\":{\"fill\":{\"color\":\"#EBF0F8\"},\"line\":{\"color\":\"white\"}},\"header\":{\"fill\":{\"color\":\"#C8D4E3\"},\"line\":{\"color\":\"white\"}},\"type\":\"table\"}],\"barpolar\":[{\"marker\":{\"line\":{\"color\":\"#E5ECF6\",\"width\":0.5},\"pattern\":{\"fillmode\":\"overlay\",\"size\":10,\"solidity\":0.2}},\"type\":\"barpolar\"}],\"pie\":[{\"automargin\":true,\"type\":\"pie\"}]},\"layout\":{\"autotypenumbers\":\"strict\",\"colorway\":[\"#636efa\",\"#EF553B\",\"#00cc96\",\"#ab63fa\",\"#FFA15A\",\"#19d3f3\",\"#FF6692\",\"#B6E880\",\"#FF97FF\",\"#FECB52\"],\"font\":{\"color\":\"#2a3f5f\"},\"hovermode\":\"closest\",\"hoverlabel\":{\"align\":\"left\"},\"paper_bgcolor\":\"white\",\"plot_bgcolor\":\"#E5ECF6\",\"polar\":{\"bgcolor\":\"#E5ECF6\",\"angularaxis\":{\"gridcolor\":\"white\",\"linecolor\":\"white\",\"ticks\":\"\"},\"radialaxis\":{\"gridcolor\":\"white\",\"linecolor\":\"white\",\"ticks\":\"\"}},\"ternary\":{\"bgcolor\":\"#E5ECF6\",\"aaxis\":{\"gridcolor\":\"white\",\"linecolor\":\"white\",\"ticks\":\"\"},\"baxis\":{\"gridcolor\":\"white\",\"linecolor\":\"white\",\"ticks\":\"\"},\"caxis\":{\"gridcolor\":\"white\",\"linecolor\":\"white\",\"ticks\":\"\"}},\"coloraxis\":{\"colorbar\":{\"outlinewidth\":0,\"ticks\":\"\"}},\"colorscale\":{\"sequential\":[[0.0,\"#0d0887\"],[0.1111111111111111,\"#46039f\"],[0.2222222222222222,\"#7201a8\"],[0.3333333333333333,\"#9c179e\"],[0.4444444444444444,\"#bd3786\"],[0.5555555555555556,\"#d8576b\"],[0.6666666666666666,\"#ed7953\"],[0.7777777777777778,\"#fb9f3a\"],[0.8888888888888888,\"#fdca26\"],[1.0,\"#f0f921\"]],\"sequentialminus\":[[0.0,\"#0d0887\"],[0.1111111111111111,\"#46039f\"],[0.2222222222222222,\"#7201a8\"],[0.3333333333333333,\"#9c179e\"],[0.4444444444444444,\"#bd3786\"],[0.5555555555555556,\"#d8576b\"],[0.6666666666666666,\"#ed7953\"],[0.7777777777777778,\"#fb9f3a\"],[0.8888888888888888,\"#fdca26\"],[1.0,\"#f0f921\"]],\"diverging\":[[0,\"#8e0152\"],[0.1,\"#c51b7d\"],[0.2,\"#de77ae\"],[0.3,\"#f1b6da\"],[0.4,\"#fde0ef\"],[0.5,\"#f7f7f7\"],[0.6,\"#e6f5d0\"],[0.7,\"#b8e186\"],[0.8,\"#7fbc41\"],[0.9,\"#4d9221\"],[1,\"#276419\"]]},\"xaxis\":{\"gridcolor\":\"white\",\"linecolor\":\"white\",\"ticks\":\"\",\"title\":{\"standoff\":15},\"zerolinecolor\":\"white\",\"automargin\":true,\"zerolinewidth\":2},\"yaxis\":{\"gridcolor\":\"white\",\"linecolor\":\"white\",\"ticks\":\"\",\"title\":{\"standoff\":15},\"zerolinecolor\":\"white\",\"automargin\":true,\"zerolinewidth\":2},\"scene\":{\"xaxis\":{\"backgroundcolor\":\"#E5ECF6\",\"gridcolor\":\"white\",\"linecolor\":\"white\",\"showbackground\":true,\"ticks\":\"\",\"zerolinecolor\":\"white\",\"gridwidth\":2},\"yaxis\":{\"backgroundcolor\":\"#E5ECF6\",\"gridcolor\":\"white\",\"linecolor\":\"white\",\"showbackground\":true,\"ticks\":\"\",\"zerolinecolor\":\"white\",\"gridwidth\":2},\"zaxis\":{\"backgroundcolor\":\"#E5ECF6\",\"gridcolor\":\"white\",\"linecolor\":\"white\",\"showbackground\":true,\"ticks\":\"\",\"zerolinecolor\":\"white\",\"gridwidth\":2}},\"shapedefaults\":{\"line\":{\"color\":\"#2a3f5f\"}},\"annotationdefaults\":{\"arrowcolor\":\"#2a3f5f\",\"arrowhead\":0,\"arrowwidth\":1},\"geo\":{\"bgcolor\":\"white\",\"landcolor\":\"#E5ECF6\",\"subunitcolor\":\"white\",\"showland\":true,\"showlakes\":true,\"lakecolor\":\"white\"},\"title\":{\"x\":0.05},\"mapbox\":{\"style\":\"light\"}}},\"title\":{\"text\":\"Resultados de 5CV con modelo sklearn\"},\"xaxis\":{\"title\":{\"text\":\"MinTemp\"}},\"yaxis\":{\"title\":{\"text\":\"MaxTemp\"}}},                        {\"responsive\": true}                    ).then(function(){\n",
              "                            \n",
              "var gd = document.getElementById('8ddf192d-1250-45c4-ba2f-8044e1c2b2a8');\n",
              "var x = new MutationObserver(function (mutations, observer) {{\n",
              "        var display = window.getComputedStyle(gd).display;\n",
              "        if (!display || display === 'none') {{\n",
              "            console.log([gd, 'removed!']);\n",
              "            Plotly.purge(gd);\n",
              "            observer.disconnect();\n",
              "        }}\n",
              "}});\n",
              "\n",
              "// Listen for the removal of the full notebook cells\n",
              "var notebookContainer = gd.closest('#notebook-container');\n",
              "if (notebookContainer) {{\n",
              "    x.observe(notebookContainer, {childList: true});\n",
              "}}\n",
              "\n",
              "// Listen for the clearing of the current output cell\n",
              "var outputEl = gd.closest('.output');\n",
              "if (outputEl) {{\n",
              "    x.observe(outputEl, {childList: true});\n",
              "}}\n",
              "\n",
              "                        })                };                            </script>        </div>\n",
              "</body>\n",
              "</html>"
            ]
          },
          "metadata": {}
        }
      ]
    },
    {
      "cell_type": "markdown",
      "source": [
        "Para el caso 2 solo debe cambiar la cantidad de variables de entrada y usar los mismos códigos anteriores. 😄"
      ],
      "metadata": {
        "id": "wJqVJWDL-Fkw"
      }
    }
  ]
}