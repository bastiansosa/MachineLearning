{
 "cells": [
  {
   "cell_type": "markdown",
   "metadata": {
    "id": "AHp3M9ZmrIxj"
   },
   "source": [
    "# Machine Learning para problemas de regresión\n",
    "\n",
    "* En este Notebook vamos a repasar algunos de los ***Algoritmos de Aprendizaje de Regresión*** más tradicionales. Luego, vamos a ***resolver un problema de regresión usando*** la implementación de algunos de estos algoritmos con la ***librería de scikit-learn***. También haremos un primer acercamiento a la ***librería de TensorFlow***, y los aspectos básicos para implementar una red neuronal artificial.\n",
    "\n",
    "\n",
    "* Vamos a tratar los siguientes puntos:\n",
    "<span></span><br>\n",
    "    1. [Regresión](#M1)\n",
    "<span></span><br>\n",
    "    2. [Algoritmos de ML para regresión](#M2)\n",
    "<span></span><br>\n",
    "      2.1. [Regresión Lineal con Mínimos Cuadrados](#M21)\n",
    "      <span></span><br>\n",
    "      2.2. [Regresión Lineal con Gradiente Descendente](#M22)\n",
    "      <span></span><br>\n",
    "      2.3. [Redes Neuronales Artificiales](#M23)\n",
    "    3. [Ejemplo: Predicción de la eficiencia de combustible](#M3)\n",
    "<span></span><br>\n",
    "\n",
    "\n",
    "<hr>\n",
    "\n",
    "## <a name=\"M1\">1. Regresión</a>\n",
    "\n",
    "* En un problema de *regresión*, el objetivo es predecir una *variable continua*, como un precio o una probabilidad. A diferencia de un problema de clasificación, en que el objetivo es seleccionar una clase entre una lista de clases posibles (p.ej.: en una imagen con una manzana o una naranja, reconocer qué fruta está presente en la imagen).\n",
    "\n",
    "* Lo que se pretende hacer es ***modelar la relación*** que existe ***entre*** una ***variable dependiente 'Y'*** y ***una o más variables independientes 'X'***:\n",
    "\n",
    "    <span style=\"font-size:20px\">$$y = \\beta_0 + X \\cdot \\beta_1$$</span>\n",
    "\n",
    "\n",
    "* Donde ***$\\beta_1$ y $\\beta_0$*** son dos constantes (coeficientes o parámetros del modelo lineal) que definen, respectivamente, ***la pendiente y el término independiente*** (u ordenada en el origen).\n",
    "\n",
    "\n",
    "<hr>\n",
    "\n",
    "## <a name=\"M2\">2. Algoritmos de ML para regresión</a>\n",
    "\n",
    "### <a name=\"M21\">2.1. Regresión Lineal con Mínimos Cuadrados</a>\n",
    "* La regresión lineal la podemos imaginar como un problema que consiste en ***obtener la línea Naranja ($y = \\beta_0 + X \\cdot \\beta_1$) que mejor se ajusta a los puntos Azules dados*** en la imagen.\n",
    "\n",
    "\n",
    "<img src=\"https://github.com/RicardoMoya/Deep_Machine_Learning_With_Python/blob/master/imgs/3_01_01_01_rls.png?raw=1\" style=\"width: 500px;\"/>\n",
    "\n",
    "\n",
    "* Para obtener esta línea naranja, podemos usar ***métodos como el de los mínimos cuadrados***, que busca minimizar la distancia vertical de todos los puntos rojos a la línea azul.\n",
    "\n",
    "\n",
    "* El calcular por ***mínimos cuadrados*** la relación entre las variables dependientes (Y) e independientes (X) es ***muy costoso computacionalmente*** y por tanto si lo tenemos que hacer para muchos datos, el tiempo que se necesita para obtener el resultado puede ser \"infinito\".\n",
    "\n",
    "\n",
    "### <a name=\"M22\">2.2. Regresión Lineal con Gradiente Descendente</a>\n",
    "* El objetivo del ***Machine Learning*** es el de poder dar esta relación (modelo o hipótesis) en un ***tiempo razonable***,  utilizando ***técnicas y algoritmos que permitan obtener la mejor aproximación posible***.\n",
    "\n",
    "\n",
    "* Una de las técnicas utilizadas para obtener la relación entre X e Y es la del ***gradiente descendente***.\n",
    "\n",
    "\n",
    "* Dada la hipótesis $y = \\beta_0 + X \\cdot \\beta_1$, el objetivo es el de ***calcular los parámetros $\\beta_0$ y $\\beta_1$ que mejor ajusten la recta a los datos de entrenamiento***.\n",
    "\n",
    "\n",
    "* Para obtener estos parámetros y poder ajustar correctamente la recta necesitamos ***definir una función de perdida (o función de coste)*** que nos diga cual es nuestro ***error para los datos de entrenamiento***, dado un par de valores concretos de $\\beta_0$ y $\\beta_1$.\n",
    "\n",
    "\n",
    "* El ***error*** (error para un ejemplo concreto) y la ***función de perdida*** (el error de todos los ejemplos del conjunto de datos de entrenamiento) suelen ser los siguientes para los problemas de regresión:\n",
    "<span></span><br>\n",
    "    - **<span style=\"color:red\">Error:</span>**<br><br>\n",
    "    <span style=\"font-size:20px\">$$error(x^{(i)},y^{(i)},\\beta_0,\\beta_1) = (\\beta_0 + \\beta_1 \\cdot x^{(i)}) - y^{(i)}$$</span>\n",
    "<span></span><br>\n",
    "    o definiendo: $h(x) = \\beta_0 + \\beta_1 \\cdot x$, definimos el error como:<br><br>\n",
    "    <span style=\"font-size:20px\">$$error(h(x^{(i)}), y^{(i)}) = h(x^{(i)}) - y^{(i)}$$</span>\n",
    "<span></span><br>\n",
    "    - **<span style=\"color:red\">Función de Perdida:</span>**<br><br>\n",
    "    <span style=\"font-size:20px\">$$función\\;perdida = E(parámetros) = \\frac{1}{2N} \\sum_{i=1}^{N} error(h(x^{(i)}), y^{(i)})^2$$</span>\n",
    "    \n",
    "\n",
    "* Por tanto el objetivo de la Regresión Lineal es el de ***encontrar los parámetros $\\beta_0$ y $\\beta_1$ que minimicen la función de perdida***:\n",
    "<span></span><br><br>\n",
    "<img src=\"https://github.com/RicardoMoya/Deep_Machine_Learning_With_Python/blob/master/imgs/3_01_01_02_rls.png?raw=1\" style=\"width: 700px;\"/>\n",
    "\n",
    "<span></span><br><br>\n",
    "* El objetivo es el de encontrar el mínimo de esta función para $\\beta_0$ y $\\beta_1$:\n",
    "<span></span><br>\n",
    "    <span style=\"font-size:20px\">$$\\underset{\\beta_0,\\beta_1}{min} \\: E(\\beta_0,\\beta_1) = \\frac{1}{2N} \\sum_{i=1}^{N} ((\\beta_0 + \\beta_1 \\cdot x^{(i)}) - y^{(i)})^2$$</span>\n",
    "<span></span><br>  \n",
    "\n",
    "\n",
    "* La técnica del gradiente descendente consiste en ***derivar de forma parcial la función de perdida para cada uno de los parámetros ($\\beta_0$ y $\\beta_1$) y moverse una determinada cantidad (α) en el sentido contrario a la pendiente de la derivada***, con el objetivo de encontrar los parámetros ($\\beta_0$ y $\\beta_1$) que minimicen la función de perdida:\n",
    "<span></span><br>\n",
    "  <span style=\"font-size:20px\">$$\\Theta^{new}_{j} := \\Theta^{old}_{j} - \\alpha  \\frac{\\partial }{\\partial \\Theta_j}E(\\Theta_0,...,\\Theta_j)$$</span>\n",
    "    \n",
    "    \n",
    "* Para el caso de una ***regresión lineal simple del estilo $y = \\beta_0 + X \\cdot \\beta_1$*** tenemos que encontrar los ***mejores valores de $\\beta_0$ y $\\beta_1$*** que minimicen la función de perdida.\n",
    "\n",
    "\n",
    "* Para ello ***necesitamos tener un modelo o hipótesis inicial*** que podemos generar de diferentes maneras (por ejemplo de forma aleatoria) y ***tener unos valores iniciales de $\\beta_0$ y $\\beta_1$ que vayamos ajustando en función del error cometido***.\n",
    "\n",
    "\n",
    "* La ***forma de ajustar estos valores de $\\beta_0$ y $\\beta_1$ seria derivando de manera parcial la función de perdida respecto a $\\beta_0$ y $\\beta_1$***, quedando esta actualización de la siguiente forma:\n",
    "<span></span><br>  \n",
    "    <span style=\"font-size:20px\">$$\\beta_1^{new} := \\beta_1^{old} - \\alpha  \\frac{1}{N}\\sum_{i=1}^{N} ((\\beta_0^{old} + \\beta_1^{old} \\cdot x^{(i)}) - y^{(i)}) \\cdot x^{(i)}$$</span>\n",
    "<span></span><br>   \n",
    "    <span style=\"font-size:20px\">$$\\beta_0^{new} := \\beta_0^{old} - \\alpha  \\frac{1}{N}\\sum_{i=1}^{N} ((\\beta_0^{old} + \\beta_1^{old} \\cdot x^{(i)}) - y^{(i)})$$</span>\n",
    "\n",
    "\n",
    "* Cada vez que actualizamos los parámetros $\\beta_0$ y $\\beta_1$ lo hacemos tras haber visto el error cometido por cada uno de los elementos de nuestro Dataset (o conjunto de entrenamiento). ***El recorrer todos los elementos del Dataset, ver el valor de la función de perdida y actualizar los parámetros, se conoce como <span style=\"color:red\">'Epoch'</span>***.\n",
    "\n",
    "\n",
    "* La actualización de los parámetros $\\beta_0$ y $\\beta_1$ se hace en cada Epoch, realizando tantos Epochs como sean necesarios hasta que lleguemos a una ***condición de parada*** como por ejemplo:\n",
    "\n",
    "    - Haber realizado 'N' Epochs\n",
    "    - El valor de la función de perdida entre una iteración y otra sea el mismo.\n",
    "    - El valor de la función de perdida entre una iteración y otra tengan una diferencia inferior a un umbral definido.\n",
    "    - El valor de los parámetros 'a' y 'b' entre una iteración y otra tengan una diferencia inferior a un umbral definido.\n",
    "    - Etc.\n",
    "    \n",
    "    \n",
    "* El hiperparámetro **<span style=\"color:red\">$\\alpha$</span>** se conoce como **<span style=\"color:red\">'Learning Rate'</span>** y nos indica la cantidad (α) en el que el gradiente descentente tiene que moverse en el sentido contrario a la pendiente de la derivada. En otras palabras, nos ***indicar 'cuanto' se ajusta el modelo o hipótesis en cada uno de los 'Epochs'***.\n",
    "\n",
    "\n",
    "* El hiperparámetro ***$\\alpha$</span> es un valor \"constante\" que debe de asignarse previo a la ejecución***. Por simplicidad en este curso lo consideraremos como constante, pero existen técnicas (como el recocido simulado entre otras) que optimizan el valor de $\\alpha$ para cada epoch.\n",
    "\n",
    "### <a name=\"M23\">2.3. Redes Neuronales Artificiales</a>\n",
    "\n",
    "* Una red neuronal artificial está definida por la composición de neuronas artificiales interconectadas.\n",
    "\n",
    "* Una neurona es una unidad de cómputo que toma inputs tales como $x_1$, $x_2$, o $x_3$ (y opcionalmente un intercepto $+1$), y calcula:\n",
    "$$ h_{W,b}(x)=f(W^Tx)=f(\\Sigma_{i=1}^3W_ix_i+b) $$\n",
    "donde $f:R↦R$ corresponde a la función de activación.\n",
    "\n"
   ]
  },
  {
   "cell_type": "markdown",
   "metadata": {
    "id": "T_TYJ_NXCwI-"
   },
   "source": [
    "![neuron.png](data:image/png;base64,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)"
   ]
  },
  {
   "cell_type": "markdown",
   "metadata": {
    "id": "NkjRfcLWDtCJ"
   },
   "source": [
    "* Algunas de las funciones de activación más comúnmente utilizadas son:\n",
    "  * Función sigmoide.\n",
    "  * Función Tangente Hiperbólica (*tanh*)\n",
    "  * Rectified Linear Unit (*ReLU*)"
   ]
  },
  {
   "cell_type": "markdown",
   "metadata": {
    "id": "tBTS1EipEFJd"
   },
   "source": [
    "![activ-functions.png](data:image/png;base64,iVBORw0KGgoAAAANSUhEUgAAAjAAAAGkCAIAAACgjIjwAAAACXBIWXMAAA3XAAAN1wFCKJt4AAAAB3RJTUUH3QkXAzkUtLJPmAAAACJ0RVh0Q3JlYXRpb24gVGltZQAyMi1TZXAtMjAxMyAyMDo1NzoyMAFKYiAAAAAkdEVYdFNvZnR3YXJlAE1BVExBQiwgVGhlIE1hdGhXb3JrcywgSW5jLjxY3RgAABFCSURBVHic7d3bdqLMGoZR/Eff/y27DhzNotmJyub9ijkPeiTG2MQgj1VU9PF8PjsAuNp/V28AAHSdIAEQQpAAiCBIAEQQJAAiCBIAEQQJgAiCBEAEQQIggiABEEGQAIggSNT2eDw+utrG6+/1vaPbGfnl1oY3O/oAivpz9QbA9x6Px/P5fP278Vt+eTXh31+J+NDXMvZCyVRnhESDRkOQ1wfDf7t/xxOjj99+7/Rqw+t8OlKZ3ZKlW9t983Ycq8GPjJCoqh8YjQZJ04+3j6I2fu/6fze68PcfcPZmd9m8fTcYfiRItOzTg+yPB+W33z4ci7y98voVvtjUlW9RIxIIEoX9MtfUjy1Gg4ND56/SjvuvH7/L2zDuSZAoaX2eapebvcmZFVN25LCogZatR+XTFXpH+yiBu/TyJtGlCiMkWtNPQ3X/zkRtac/oe5fO+S/9Fz9u8PBmt2xef/nXm2fKjihBTw8BuDNTdgBEECQAIggSABEECYAIggRABEECIIIgARChkSD5g3OA6loIkhoBNKB8kKJeiwyAr7X8WnZGTgAjyc/gawfp7fAo+a7vKgzvbOEu8jfSFv4ufwu7+KfphafsSvz6Adio/Ahp+LE+AdRVOEifvtUNwA0VOjyW2dB1s/d4oV8DwAnCj4qFR0hDG+/i8BN695T88ADO1EiQtnP4i+IpAtArvMoOgJYIEkBris49CBJAa4qemxAkACIIEgARBAmACIIE0IKiCxmGBAmgBUUXMgwJ0vW+eF7TwFMhgBFBAiDC7V46aOqS0UY/uH797/0rHvYbM7zC8/l8XT4aks9eCFCUIF18QH/Fpq/RqEOjj99eCNxKYw9/U3ZBlnas2ctb2guB7zR2HDBCymK1AnBbghRkNCN37cYAnMyUHQARBClCv17u8Ve/sg5gqOEjgym76w1PS04/nv3q0rcAzWv4IW+EBEAEQQIggiABEEGQANI1vJBhSJAA0jW8kGGowCq76euNTr+0dAUAqkgP0tLrjfZECKAN6VN2egNwE+kjpJeVN/5ZmdDr/p3T0zagkF3eWqLWaogaQVp645/hpyb0gJbscviafVfPWOlTdgDcRHqQ1nseXvuv7ftzzd5aq3cdUFd6kO5p35lG85ZACennkIbvwjBd/z371V+sjxtGp6x+uebsxO7sAvfhO1MMz6WNPp3+d+u3trLxwFV2WchQV3qQurmj53FvvrD91na85lJaRl+aXr7UqtH3vr01IMSda9SZsouysi8uLS/8bve9+U4PZBKk6/VvFHv1hgBcSZAiPJ9P71kO3JwgXW9Lh05YCA5cwuOxV2BRQ/OGyxNWvrRlr11fdvjprQEncE63J0gRVl4SaWWR4ezSho2LEj0GgDSm7KIZxwD3YYQUbfe//AWIJUjpdAjac/NXZFhiyg7gbGo0S5AAiCBIAEQQJAAiCBLAGfwVx1uCBHAGCxneEiQAIggSABEEqap+Pno4Mf3469MbeXvLAEfzSg3lrbxn+V63DHzHKzJ8xAhpPA447dPR5cNxyXSUM7pw+C1L/769tdmNmd3g/mbXt2rpwulWwU2o0UeMkNbe+uHQT4f6p1HD51MrF75edHX0vhLT52Lrt/ZRIWa/fcumTj8GmGWEFGH7wXrHw/pHN7XxyktXUyPgLSOkOIXerXx9TQTARwQpTqGFCdMbH03THfdfQywT1F8rP2X36ULnQvYdf0y/ccc7rcn7H76jRl+rPUJq77T57FvELr1v7Nsfef3Whl89aFPb+KUA52jneLG+xmzpEq7lNwJnCn/E1R4hvfTP95e+9JL8awA4Qq3p9BaCNP0LmNGXAA4VO/KYzhJdtSVblF/UAHC5zBqVUztI4bUHYLvaQQKgGbXPIS2th15hUAWQqXaQumNekA3grdiFDHWZsgP4hhrtTpAAiCBIAEQQJAAiCBLAVpbpHkqQALaykOFQggRABEECIIIgARBBkADWWMhwGkECWGMhw2kECYAIggRABEECIIIgAYxZyHAJQQIYs5DhEoIEQARBAiCCIAEQQZAAus5ChgCCBNB1FjIEECQAIggSABEECYAIf67egPf6M43TGd7RSUhTwMBHHo+H40aO9CANd5fZXcfOBHzNASRK+pSd3QXgJtJHSL2lkfXKhF7375yetgF3U+uPq2oEaalGwwtN6AGMjI6B4X1Kn7LrnHUEdhV+UL6z9CCt18iOBXzKE9xY6UEC4CYKnEOaLkzoh03P53N9UQMAVaQH6e1aBh0CaIMpO+AWnHLOJ0jALZhNySdIAEQQJAAiCBIAEQQJaJaFDLUIEtAsCxlqESQAIggSABEECYAIggQ0xUKGugQJaIqFDHUJEgARBAmACIIEQARBAsqzkKENggSUZyFDGwQJgAiCBEAEQQIggiABJVnI0B5BAkqykKE9ggRABEECIMKfqzfgV/08svE7QGm1R0iPx+P5lzOc0DwP87bVDpJREdyKh3zbyk/ZvbyGSrOX9x/blYG7qTWmbCFISzXqRAi4t9ExMLxPtafsutUaAVBI7SCpETQv/Ek9O6odJKB5nnTeR/lzSJYtALShdpAUCKAZpuwAiCBIQBwLGe5JkIA4ZuPvSZAAiCBIAEQQJAAiCBIQwUIGBAmIYCEDggRABEECIIIgARBBkIDLWMjAkCABl7GQgSFBAiCCIAEQQZAAiCBIwKksZGCJIAGnspCBJYIEQARBAiCCIAEQQZCAw1nIwBZ/jv4PpjuiU5pwNx71bHFgkF4pmu6IS5cDcGdHBenxeCwl53X5yhUAuKGjgvQ2Nh/VaKleo/lAhQOo69hzSNPZuU8HRm/PhYoQZDILwqcOX2X3fD5/WWDzfD7t01CRRy6fOnyVXTdo0hE7aF+7t3N6Hh7A3dRacH9GkLrBQoYjbvZldn5AhIA7Gx0Dw/t0bJBG94U8ALDkqHNIbzu8S6jDaw934yHJLw5c9u0PY+FuPK75xYFTdkvnjX7fZfvTRcMlfB4JAKUd/koNu3Ri5VyUDgG04di/QzKhDMBGh59D8mrf0DavyMBejj2HZE+F5nmMs5djp+zsqQBs5B1jAYggSABEECTgYxbQcgRBAj7m9DBHECQAIggSABEECYAIggRsYiEDRxMkYBMLGTiaIAEQQZAAiCBIAEQQJGCRhQycSZCARRYycCZBAiCCIAEQQZAAiCBIwD8sZOAqggT8w0IGriJIAERoIUhmGAAa8OfqDfiJFAE0o/YI6fl8mu+G33luR4LaI6S3hg8z6YIlN3906HGIxoN084cZ3MHvOalyoFj6SYfbXzqujQcJqGvjsTU/J0tTNes/4PSaW37S9euE50qQgItteeIf4rsxytIPsv0HDLwrjiBIcFOPx+P8w9zsAT3haPt2w/Yao7BCkOCmzjlujg70Vx2s306avd0wmTlBC0Gyo0CUy1e3HjFpxglaCBJwudMitOUsjswUJUjAlw6N0PSczfazOBQlSHAjuyxk2H7e5Yvb7E1vXIqaJ0hwI78c0/fq0CiKxj30BAl448dmrC+0kyJ6ggTM+2VIdPlCOyoSJGDsoyHRbLdEiC8IEjTuo4UMW1IU8reutEeQoHEfDXS2pEiBOIggwd3NZsZEHOcTJLivUYqsROBaggR3NEzREX/oCl8QJGjQ+kKG0Vd1iBCCBA2aNsZ0HPkECVo2nI675B35YDtBgjaNzhKpEfkECRqxdGZIiqhCkKCwpXerG35VjahCkKCeLQu1DYwoR5Cgko2DHjWiov+u3gBgzfSVTNWIVhkhQaLvXj3BSSNKEyQI8mmHhoMhAyOqEyS43tevJqdGtKRAkFYeq94ojDb8uOuqEW1ID9LbGQmPQ2rZ/aW11YhmpAcJ2nDQWzyoES0pH6T1x7lXOOZaR3Soj5Aa8db6a3mkqR2k4aPRhB5pDgqGGrHd0jvTZ/KHsbCP1ytqDy85LhhqRJNqj5A8LLnc+e//bbenVbWDBFc5v0P9/6tGtCo9SK+3uew/fn3QPyZnvwqHuuTleV77vBrRtpb3b49edhGyI4VsBqWF70XpIyS4StTgO/w4ArsQJPhHVIde1IibECTousgOvagR9yFI0HV5Heq8uRH3I0jcS61Xk8rfQtiRIHELsTNyS8zUcUOCRMvKdQjuTJBoymhgUbRDhkfckyBRXq3TQussZODOBImSWorQSGM/DmwnSNTT6oxWqz8XbCRI5FoaBjV51FYjECSyNDwXt0KNoBMkcjifDzcnSJztVhNxWxgewYsgcaxhfl4cfIfUCHqCxJ6m026OtivUCIYEie8Z/fxCjWBEkNhkdPS0AAHYnSAxNh33dJP2SNGPDI9gSpBuavZlsI17zqFGMEuQ2rdlxLNyIftSI1giSFXNZqZnnVsmNYIVgpRFZoDbKh+kzLcEnV2TtkRmbsLwCNbVDtLwEb7Xo317PFauaU0aI2oEb9UO0nZHjFEcX9hIjWCL/67egGM9/np9+hwYftpNiuVTn+71qRpxoce/rt6cN2o/VNan7BwISGA/JEf43tj4CAmuFf74hyiCBEdRI/iIIMEh1Ag+VXuV3fP5zPw7JG5OjeALtYPU6RBAK0zZwc4Mj+A7ggR7UiP4miDBbtQIfiFIsA81gh8JEgARBAl2YHgEvxMk+JUawS4ECX6iRrAXQYLvqRHsSJDgS2oE+xIkACIIEnzD8Ah2J0jwMTWCIwgSfEaN4CCCBB9QIziOIMFWagSHEiTYRI3gaIIE76kRnECQ4A01gnMIEqxRIziNIAEQQZBgkeERnEmQYJ4awckECWaoEZzvz9Ub8N7j8Xh9MD1A9F9augJ8QY3gEulBGh4aZg8TDhzsS43gKqbs4P/UCC6UPkJ6a2VCr/t3Ts+BhhWvXcVOQmNG5zXC1Q7S8PBhQo+vGRjRqtGOHd6nrCAZ0HA+NYIQWUH69LjgUMKP7EKQw6IG7kuNIErWCGnq+XxOly30x5HZr8IWagRp0oPUzZVmeIljCl9QIwhUIEiwI8u7IZYgcSMGRpDMogbuQo0gnCBxC2oE+UzZ0TgnjaAKQaJlBkZQiCDRJgMjKEeQaJCBEVQkSDTFwAjqEiQaIUVQnSDRAnN00ABBojYDI2iGIFGVFEFjBIl6pAiaJEiU4b2voG2CRAGGRHAHgkQuQyK4FUEikSER3JAgEcSQCO5MkLhYH6FOh+DeBIkLiBAwJUicRISAdYLEUYYF6kQIeEeQrpT/kqDbt3CUn+6sAuXfh12FjbSFv8vfwnyCxGem4XnxUAR+1EKQPDHZy2xszLwB56gdpKVn6zf39d0yjY3YA6epHaTXsXLl+JtfrCO2UEKAilp4/rv0LD6/RgAnSz7m1x4hrUu+3wEYqRQkf1kJ0LBKQRIhgIb9d/UGAEDXCRIAIVpYZQdAA4yQAIggSABEqLTK7gvJr3yT/3bd+VvYZf+KX9yNv8u/D/O3sJf8u245SMmv1DDcJzL3jxJbePUmvOdu/F2J+zB8C3vhv+5mp+zCd4vkbXspsYX5G5kv/24M37yuwha+hB8Vu7ZHSPlez1bCd5H8nZibCN8VSzycw7U5QgrfcXuvJ6fJg+gq9yTNy98Vwx/O+Xdg18YIafQad4H3e/6r8M1uYdQ9mX8fcpyoXbGiKndgC0GafVu54ceX/yby3/iu4hZyE2m74lT+FnZ5R8VZLQRpZHhHx97vAKepclRsMEglDOeaY3cOs2S/K/GLzhe+K/ot7yU3lQDcSpur7AAoR5AAiCBIAEQQJAAiCBIAEQQJgAiCBEAEQQIggiABEEGQAIggSABE8OKqcJTwlwSFNIIERxm+1eG1WwIlmLKDYyW//QxEESQ4kBrBdoIEQARBgqMYHsFHLGqAA3lna9jOMzgAIpiyAyCCIAEQQZAAiCBIAEQQJAAiCBIAEQQJgAiCBECE/wFnW4jrGbRDjAAAAABJRU5ErkJggg==)"
   ]
  },
  {
   "cell_type": "markdown",
   "metadata": {
    "id": "O8cG1EE0Ct9A"
   },
   "source": [
    "* Podemos notar, por tanto, que si uno tiene una serie de neuronas operando en paralelo (lo que sería equivalente a una **red neuronal superficial**) y no consideramos **ninguna función de activación** en especial, estaremos desarrollando básicamente una **regresión lineal**.\n",
    "\n",
    "* En el próximo ejemplo, tendremos esto en consideración para implementar tanto la regresión lineal como una serie de redes neuronales artificiales, utilizando la librería **TensorFlow**, diseñada para la implementación de modelos de Deep Learning.\n",
    "\n",
    "\n",
    "<hr>\n",
    "\n",
    "## <a name=\"M3\">3. Ejemplo: Predicción de la eficiencia de combustible </a>\n",
    "\n",
    "* Este tutorial usa la base de datos [Auto MPG](https://archive.ics.uci.edu/ml/datasets/auto+mpg) y demuestra como construir un modelo de regresión lineal para intentar predecir la eficiencia de combustible de automóviles de fines de los 70s y principios de los 80s. Para hacer esto, se utilizarán descripciones de muchos automóviles de ese período de tiempo para entrenar el modelo. Esta descripción incluye atributos tales como las cilindradas, el desplazamiento, los caballos de de fuerza y el peso.\n",
    "\n",
    "* Para resolver este problema de Regresión, vamos a utilizar la librería **TensorFlow**. Este será nuestro primer acercamiento a esta librería que, junto con **PyTorch**, son las principales para el desarrollo de modelos de Deep Learning.\n",
    "\n",
    "* Para resolver este problema vamos a realizar los siguientes pasos:\n",
    "<span></span><br>\n",
    "    3.1. [Carga de datos](#M31)\n",
    "<span></span><br>\n",
    "    3.2. [Pre-procesamiento de los datos](#M32)\n",
    "<span></span><br>\n",
    "    3.3. [Partición de los datos](#M33)\n",
    "<span></span><br>\n",
    "    3.4. [Visualización de los datos](#M34)\n",
    "<span></span><br>\n",
    "    3.5. [Normalización de los datos](#M35)\n",
    "<span></span><br>\n",
    "    3.6. [Resolución con regresión lineal uni-variable](#M36)\n",
    "<span></span><br>\n",
    "    3.7. [Evaluación con red neuronal artificial uni-variable](#M37)\n",
    "\n",
    "\n",
    "* En primer lugar vamos a importar las librería necesarias:"
   ]
  },
  {
   "cell_type": "code",
   "execution_count": null,
   "metadata": {
    "id": "1rRo8oNqZ-Rj"
   },
   "outputs": [],
   "source": [
    "import matplotlib.pyplot as plt\n",
    "import numpy as np\n",
    "import pandas as pd\n",
    "import seaborn as sns\n",
    "\n",
    "# Make NumPy printouts easier to read.\n",
    "np.set_printoptions(precision=3, suppress=True)"
   ]
  },
  {
   "cell_type": "code",
   "execution_count": null,
   "metadata": {
    "colab": {
     "base_uri": "https://localhost:8080/"
    },
    "executionInfo": {
     "elapsed": 15381,
     "status": "ok",
     "timestamp": 1724342881670,
     "user": {
      "displayName": "Juan Pablo Meneses Casanova",
      "userId": "14128096026203214905"
     },
     "user_tz": 240
    },
    "id": "9xQKvCJ85kCQ",
    "outputId": "838def22-8464-4955-b2d3-c6fb2b972c18"
   },
   "outputs": [
    {
     "name": "stdout",
     "output_type": "stream",
     "text": [
      "2.17.0\n"
     ]
    }
   ],
   "source": [
    "import tensorflow as tf\n",
    "\n",
    "from tensorflow import keras\n",
    "from tensorflow.keras import layers\n",
    "\n",
    "print(tf.__version__)"
   ]
  },
  {
   "cell_type": "markdown",
   "metadata": {
    "id": "F_72b0LCNbjx"
   },
   "source": [
    "<hr>\n",
    "\n",
    "\n",
    "### <a name=\"M31\">3.1. Carga de datos</a>\n",
    "\n",
    "* La base de datos *Auto MPG* se encuentra disponible en el repositorio [UCI Machine Learning Repository](https://archive.ics.uci.edu/ml/).\n"
   ]
  },
  {
   "cell_type": "code",
   "execution_count": null,
   "metadata": {
    "id": "CiX2FI4gZtTt"
   },
   "outputs": [],
   "source": [
    "url = 'http://archive.ics.uci.edu/ml/machine-learning-databases/auto-mpg/auto-mpg.data'\n",
    "column_names = ['MPG', 'Cylinders', 'Displacement', 'Horsepower', 'Weight',\n",
    "                'Acceleration', 'Model Year', 'Origin']\n",
    "\n",
    "raw_dataset = pd.read_csv(url, names=column_names,\n",
    "                          na_values='?', comment='\\t',\n",
    "                          sep=' ', skipinitialspace=True)"
   ]
  },
  {
   "cell_type": "code",
   "execution_count": null,
   "metadata": {
    "colab": {
     "base_uri": "https://localhost:8080/",
     "height": 206
    },
    "executionInfo": {
     "elapsed": 352,
     "status": "ok",
     "timestamp": 1724342925896,
     "user": {
      "displayName": "Juan Pablo Meneses Casanova",
      "userId": "14128096026203214905"
     },
     "user_tz": 240
    },
    "id": "2oY3pMPagJrO",
    "outputId": "706cc152-6226-47eb-c8fa-0e9d7db6cb24"
   },
   "outputs": [
    {
     "data": {
      "application/vnd.google.colaboratory.intrinsic+json": {
       "summary": "{\n  \"name\": \"dataset\",\n  \"rows\": 5,\n  \"fields\": [\n    {\n      \"column\": \"MPG\",\n      \"properties\": {\n        \"dtype\": \"number\",\n        \"std\": 6.8044103344816005,\n        \"min\": 27.0,\n        \"max\": 44.0,\n        \"num_unique_values\": 5,\n        \"samples\": [\n          44.0,\n          31.0,\n          32.0\n        ],\n        \"semantic_type\": \"\",\n        \"description\": \"\"\n      }\n    },\n    {\n      \"column\": \"Cylinders\",\n      \"properties\": {\n        \"dtype\": \"number\",\n        \"std\": 0,\n        \"min\": 4,\n        \"max\": 4,\n        \"num_unique_values\": 1,\n        \"samples\": [\n          4\n        ],\n        \"semantic_type\": \"\",\n        \"description\": \"\"\n      }\n    },\n    {\n      \"column\": \"Displacement\",\n      \"properties\": {\n        \"dtype\": \"number\",\n        \"std\": 16.813684902483452,\n        \"min\": 97.0,\n        \"max\": 140.0,\n        \"num_unique_values\": 5,\n        \"samples\": [\n          97.0\n        ],\n        \"semantic_type\": \"\",\n        \"description\": \"\"\n      }\n    },\n    {\n      \"column\": \"Horsepower\",\n      \"properties\": {\n        \"dtype\": \"number\",\n        \"std\": 13.992855319769443,\n        \"min\": 52.0,\n        \"max\": 86.0,\n        \"num_unique_values\": 5,\n        \"samples\": [\n          52.0\n        ],\n        \"semantic_type\": \"\",\n        \"description\": \"\"\n      }\n    },\n    {\n      \"column\": \"Weight\",\n      \"properties\": {\n        \"dtype\": \"number\",\n        \"std\": 285.62650437240586,\n        \"min\": 2130.0,\n        \"max\": 2790.0,\n        \"num_unique_values\": 5,\n        \"samples\": [\n          2130.0\n        ],\n        \"semantic_type\": \"\",\n        \"description\": \"\"\n      }\n    },\n    {\n      \"column\": \"Acceleration\",\n      \"properties\": {\n        \"dtype\": \"number\",\n        \"std\": 4.81123684721507,\n        \"min\": 11.6,\n        \"max\": 24.6,\n        \"num_unique_values\": 5,\n        \"samples\": [\n          24.6\n        ],\n        \"semantic_type\": \"\",\n        \"description\": \"\"\n      }\n    },\n    {\n      \"column\": \"Model Year\",\n      \"properties\": {\n        \"dtype\": \"number\",\n        \"std\": 0,\n        \"min\": 82,\n        \"max\": 82,\n        \"num_unique_values\": 1,\n        \"samples\": [\n          82\n        ],\n        \"semantic_type\": \"\",\n        \"description\": \"\"\n      }\n    },\n    {\n      \"column\": \"Origin\",\n      \"properties\": {\n        \"dtype\": \"number\",\n        \"std\": 0,\n        \"min\": 1,\n        \"max\": 2,\n        \"num_unique_values\": 2,\n        \"samples\": [\n          2\n        ],\n        \"semantic_type\": \"\",\n        \"description\": \"\"\n      }\n    }\n  ]\n}",
       "type": "dataframe"
      },
      "text/html": [
       "\n",
       "  <div id=\"df-7c729b1d-8036-4e1c-848f-47199590e76f\" class=\"colab-df-container\">\n",
       "    <div>\n",
       "<style scoped>\n",
       "    .dataframe tbody tr th:only-of-type {\n",
       "        vertical-align: middle;\n",
       "    }\n",
       "\n",
       "    .dataframe tbody tr th {\n",
       "        vertical-align: top;\n",
       "    }\n",
       "\n",
       "    .dataframe thead th {\n",
       "        text-align: right;\n",
       "    }\n",
       "</style>\n",
       "<table border=\"1\" class=\"dataframe\">\n",
       "  <thead>\n",
       "    <tr style=\"text-align: right;\">\n",
       "      <th></th>\n",
       "      <th>MPG</th>\n",
       "      <th>Cylinders</th>\n",
       "      <th>Displacement</th>\n",
       "      <th>Horsepower</th>\n",
       "      <th>Weight</th>\n",
       "      <th>Acceleration</th>\n",
       "      <th>Model Year</th>\n",
       "      <th>Origin</th>\n",
       "    </tr>\n",
       "  </thead>\n",
       "  <tbody>\n",
       "    <tr>\n",
       "      <th>393</th>\n",
       "      <td>27.0</td>\n",
       "      <td>4</td>\n",
       "      <td>140.0</td>\n",
       "      <td>86.0</td>\n",
       "      <td>2790.0</td>\n",
       "      <td>15.6</td>\n",
       "      <td>82</td>\n",
       "      <td>1</td>\n",
       "    </tr>\n",
       "    <tr>\n",
       "      <th>394</th>\n",
       "      <td>44.0</td>\n",
       "      <td>4</td>\n",
       "      <td>97.0</td>\n",
       "      <td>52.0</td>\n",
       "      <td>2130.0</td>\n",
       "      <td>24.6</td>\n",
       "      <td>82</td>\n",
       "      <td>2</td>\n",
       "    </tr>\n",
       "    <tr>\n",
       "      <th>395</th>\n",
       "      <td>32.0</td>\n",
       "      <td>4</td>\n",
       "      <td>135.0</td>\n",
       "      <td>84.0</td>\n",
       "      <td>2295.0</td>\n",
       "      <td>11.6</td>\n",
       "      <td>82</td>\n",
       "      <td>1</td>\n",
       "    </tr>\n",
       "    <tr>\n",
       "      <th>396</th>\n",
       "      <td>28.0</td>\n",
       "      <td>4</td>\n",
       "      <td>120.0</td>\n",
       "      <td>79.0</td>\n",
       "      <td>2625.0</td>\n",
       "      <td>18.6</td>\n",
       "      <td>82</td>\n",
       "      <td>1</td>\n",
       "    </tr>\n",
       "    <tr>\n",
       "      <th>397</th>\n",
       "      <td>31.0</td>\n",
       "      <td>4</td>\n",
       "      <td>119.0</td>\n",
       "      <td>82.0</td>\n",
       "      <td>2720.0</td>\n",
       "      <td>19.4</td>\n",
       "      <td>82</td>\n",
       "      <td>1</td>\n",
       "    </tr>\n",
       "  </tbody>\n",
       "</table>\n",
       "</div>\n",
       "    <div class=\"colab-df-buttons\">\n",
       "\n",
       "  <div class=\"colab-df-container\">\n",
       "    <button class=\"colab-df-convert\" onclick=\"convertToInteractive('df-7c729b1d-8036-4e1c-848f-47199590e76f')\"\n",
       "            title=\"Convert this dataframe to an interactive table.\"\n",
       "            style=\"display:none;\">\n",
       "\n",
       "  <svg xmlns=\"http://www.w3.org/2000/svg\" height=\"24px\" viewBox=\"0 -960 960 960\">\n",
       "    <path d=\"M120-120v-720h720v720H120Zm60-500h600v-160H180v160Zm220 220h160v-160H400v160Zm0 220h160v-160H400v160ZM180-400h160v-160H180v160Zm440 0h160v-160H620v160ZM180-180h160v-160H180v160Zm440 0h160v-160H620v160Z\"/>\n",
       "  </svg>\n",
       "    </button>\n",
       "\n",
       "  <style>\n",
       "    .colab-df-container {\n",
       "      display:flex;\n",
       "      gap: 12px;\n",
       "    }\n",
       "\n",
       "    .colab-df-convert {\n",
       "      background-color: #E8F0FE;\n",
       "      border: none;\n",
       "      border-radius: 50%;\n",
       "      cursor: pointer;\n",
       "      display: none;\n",
       "      fill: #1967D2;\n",
       "      height: 32px;\n",
       "      padding: 0 0 0 0;\n",
       "      width: 32px;\n",
       "    }\n",
       "\n",
       "    .colab-df-convert:hover {\n",
       "      background-color: #E2EBFA;\n",
       "      box-shadow: 0px 1px 2px rgba(60, 64, 67, 0.3), 0px 1px 3px 1px rgba(60, 64, 67, 0.15);\n",
       "      fill: #174EA6;\n",
       "    }\n",
       "\n",
       "    .colab-df-buttons div {\n",
       "      margin-bottom: 4px;\n",
       "    }\n",
       "\n",
       "    [theme=dark] .colab-df-convert {\n",
       "      background-color: #3B4455;\n",
       "      fill: #D2E3FC;\n",
       "    }\n",
       "\n",
       "    [theme=dark] .colab-df-convert:hover {\n",
       "      background-color: #434B5C;\n",
       "      box-shadow: 0px 1px 3px 1px rgba(0, 0, 0, 0.15);\n",
       "      filter: drop-shadow(0px 1px 2px rgba(0, 0, 0, 0.3));\n",
       "      fill: #FFFFFF;\n",
       "    }\n",
       "  </style>\n",
       "\n",
       "    <script>\n",
       "      const buttonEl =\n",
       "        document.querySelector('#df-7c729b1d-8036-4e1c-848f-47199590e76f button.colab-df-convert');\n",
       "      buttonEl.style.display =\n",
       "        google.colab.kernel.accessAllowed ? 'block' : 'none';\n",
       "\n",
       "      async function convertToInteractive(key) {\n",
       "        const element = document.querySelector('#df-7c729b1d-8036-4e1c-848f-47199590e76f');\n",
       "        const dataTable =\n",
       "          await google.colab.kernel.invokeFunction('convertToInteractive',\n",
       "                                                    [key], {});\n",
       "        if (!dataTable) return;\n",
       "\n",
       "        const docLinkHtml = 'Like what you see? Visit the ' +\n",
       "          '<a target=\"_blank\" href=https://colab.research.google.com/notebooks/data_table.ipynb>data table notebook</a>'\n",
       "          + ' to learn more about interactive tables.';\n",
       "        element.innerHTML = '';\n",
       "        dataTable['output_type'] = 'display_data';\n",
       "        await google.colab.output.renderOutput(dataTable, element);\n",
       "        const docLink = document.createElement('div');\n",
       "        docLink.innerHTML = docLinkHtml;\n",
       "        element.appendChild(docLink);\n",
       "      }\n",
       "    </script>\n",
       "  </div>\n",
       "\n",
       "\n",
       "<div id=\"df-29c263b4-fb89-4d62-9b89-0dcc387f9f34\">\n",
       "  <button class=\"colab-df-quickchart\" onclick=\"quickchart('df-29c263b4-fb89-4d62-9b89-0dcc387f9f34')\"\n",
       "            title=\"Suggest charts\"\n",
       "            style=\"display:none;\">\n",
       "\n",
       "<svg xmlns=\"http://www.w3.org/2000/svg\" height=\"24px\"viewBox=\"0 0 24 24\"\n",
       "     width=\"24px\">\n",
       "    <g>\n",
       "        <path d=\"M19 3H5c-1.1 0-2 .9-2 2v14c0 1.1.9 2 2 2h14c1.1 0 2-.9 2-2V5c0-1.1-.9-2-2-2zM9 17H7v-7h2v7zm4 0h-2V7h2v10zm4 0h-2v-4h2v4z\"/>\n",
       "    </g>\n",
       "</svg>\n",
       "  </button>\n",
       "\n",
       "<style>\n",
       "  .colab-df-quickchart {\n",
       "      --bg-color: #E8F0FE;\n",
       "      --fill-color: #1967D2;\n",
       "      --hover-bg-color: #E2EBFA;\n",
       "      --hover-fill-color: #174EA6;\n",
       "      --disabled-fill-color: #AAA;\n",
       "      --disabled-bg-color: #DDD;\n",
       "  }\n",
       "\n",
       "  [theme=dark] .colab-df-quickchart {\n",
       "      --bg-color: #3B4455;\n",
       "      --fill-color: #D2E3FC;\n",
       "      --hover-bg-color: #434B5C;\n",
       "      --hover-fill-color: #FFFFFF;\n",
       "      --disabled-bg-color: #3B4455;\n",
       "      --disabled-fill-color: #666;\n",
       "  }\n",
       "\n",
       "  .colab-df-quickchart {\n",
       "    background-color: var(--bg-color);\n",
       "    border: none;\n",
       "    border-radius: 50%;\n",
       "    cursor: pointer;\n",
       "    display: none;\n",
       "    fill: var(--fill-color);\n",
       "    height: 32px;\n",
       "    padding: 0;\n",
       "    width: 32px;\n",
       "  }\n",
       "\n",
       "  .colab-df-quickchart:hover {\n",
       "    background-color: var(--hover-bg-color);\n",
       "    box-shadow: 0 1px 2px rgba(60, 64, 67, 0.3), 0 1px 3px 1px rgba(60, 64, 67, 0.15);\n",
       "    fill: var(--button-hover-fill-color);\n",
       "  }\n",
       "\n",
       "  .colab-df-quickchart-complete:disabled,\n",
       "  .colab-df-quickchart-complete:disabled:hover {\n",
       "    background-color: var(--disabled-bg-color);\n",
       "    fill: var(--disabled-fill-color);\n",
       "    box-shadow: none;\n",
       "  }\n",
       "\n",
       "  .colab-df-spinner {\n",
       "    border: 2px solid var(--fill-color);\n",
       "    border-color: transparent;\n",
       "    border-bottom-color: var(--fill-color);\n",
       "    animation:\n",
       "      spin 1s steps(1) infinite;\n",
       "  }\n",
       "\n",
       "  @keyframes spin {\n",
       "    0% {\n",
       "      border-color: transparent;\n",
       "      border-bottom-color: var(--fill-color);\n",
       "      border-left-color: var(--fill-color);\n",
       "    }\n",
       "    20% {\n",
       "      border-color: transparent;\n",
       "      border-left-color: var(--fill-color);\n",
       "      border-top-color: var(--fill-color);\n",
       "    }\n",
       "    30% {\n",
       "      border-color: transparent;\n",
       "      border-left-color: var(--fill-color);\n",
       "      border-top-color: var(--fill-color);\n",
       "      border-right-color: var(--fill-color);\n",
       "    }\n",
       "    40% {\n",
       "      border-color: transparent;\n",
       "      border-right-color: var(--fill-color);\n",
       "      border-top-color: var(--fill-color);\n",
       "    }\n",
       "    60% {\n",
       "      border-color: transparent;\n",
       "      border-right-color: var(--fill-color);\n",
       "    }\n",
       "    80% {\n",
       "      border-color: transparent;\n",
       "      border-right-color: var(--fill-color);\n",
       "      border-bottom-color: var(--fill-color);\n",
       "    }\n",
       "    90% {\n",
       "      border-color: transparent;\n",
       "      border-bottom-color: var(--fill-color);\n",
       "    }\n",
       "  }\n",
       "</style>\n",
       "\n",
       "  <script>\n",
       "    async function quickchart(key) {\n",
       "      const quickchartButtonEl =\n",
       "        document.querySelector('#' + key + ' button');\n",
       "      quickchartButtonEl.disabled = true;  // To prevent multiple clicks.\n",
       "      quickchartButtonEl.classList.add('colab-df-spinner');\n",
       "      try {\n",
       "        const charts = await google.colab.kernel.invokeFunction(\n",
       "            'suggestCharts', [key], {});\n",
       "      } catch (error) {\n",
       "        console.error('Error during call to suggestCharts:', error);\n",
       "      }\n",
       "      quickchartButtonEl.classList.remove('colab-df-spinner');\n",
       "      quickchartButtonEl.classList.add('colab-df-quickchart-complete');\n",
       "    }\n",
       "    (() => {\n",
       "      let quickchartButtonEl =\n",
       "        document.querySelector('#df-29c263b4-fb89-4d62-9b89-0dcc387f9f34 button');\n",
       "      quickchartButtonEl.style.display =\n",
       "        google.colab.kernel.accessAllowed ? 'block' : 'none';\n",
       "    })();\n",
       "  </script>\n",
       "</div>\n",
       "\n",
       "    </div>\n",
       "  </div>\n"
      ],
      "text/plain": [
       "      MPG  Cylinders  Displacement  Horsepower  Weight  Acceleration  \\\n",
       "393  27.0          4         140.0        86.0  2790.0          15.6   \n",
       "394  44.0          4          97.0        52.0  2130.0          24.6   \n",
       "395  32.0          4         135.0        84.0  2295.0          11.6   \n",
       "396  28.0          4         120.0        79.0  2625.0          18.6   \n",
       "397  31.0          4         119.0        82.0  2720.0          19.4   \n",
       "\n",
       "     Model Year  Origin  \n",
       "393          82       1  \n",
       "394          82       2  \n",
       "395          82       1  \n",
       "396          82       1  \n",
       "397          82       1  "
      ]
     },
     "execution_count": 4,
     "metadata": {},
     "output_type": "execute_result"
    }
   ],
   "source": [
    "dataset = raw_dataset.copy()\n",
    "dataset.tail()"
   ]
  },
  {
   "cell_type": "markdown",
   "metadata": {
    "id": "3MWuJTKEDM-f"
   },
   "source": [
    "<hr>\n",
    "\n",
    "\n",
    "### <a name=\"M32\">3.2. Pre-procesamiento de los datos</a>\n",
    "\n",
    "* **Limpieza de la base de datos:** Podemos observar que la base de datos contiene algunos valores indeterminados"
   ]
  },
  {
   "cell_type": "code",
   "execution_count": null,
   "metadata": {
    "colab": {
     "base_uri": "https://localhost:8080/",
     "height": 334
    },
    "executionInfo": {
     "elapsed": 320,
     "status": "ok",
     "timestamp": 1724343022527,
     "user": {
      "displayName": "Juan Pablo Meneses Casanova",
      "userId": "14128096026203214905"
     },
     "user_tz": 240
    },
    "id": "JEJHhN65a2VV",
    "outputId": "0a58851c-3ec0-4e58-b3c2-602115d03e36"
   },
   "outputs": [
    {
     "data": {
      "text/html": [
       "<div>\n",
       "<style scoped>\n",
       "    .dataframe tbody tr th:only-of-type {\n",
       "        vertical-align: middle;\n",
       "    }\n",
       "\n",
       "    .dataframe tbody tr th {\n",
       "        vertical-align: top;\n",
       "    }\n",
       "\n",
       "    .dataframe thead th {\n",
       "        text-align: right;\n",
       "    }\n",
       "</style>\n",
       "<table border=\"1\" class=\"dataframe\">\n",
       "  <thead>\n",
       "    <tr style=\"text-align: right;\">\n",
       "      <th></th>\n",
       "      <th>0</th>\n",
       "    </tr>\n",
       "  </thead>\n",
       "  <tbody>\n",
       "    <tr>\n",
       "      <th>MPG</th>\n",
       "      <td>0</td>\n",
       "    </tr>\n",
       "    <tr>\n",
       "      <th>Cylinders</th>\n",
       "      <td>0</td>\n",
       "    </tr>\n",
       "    <tr>\n",
       "      <th>Displacement</th>\n",
       "      <td>0</td>\n",
       "    </tr>\n",
       "    <tr>\n",
       "      <th>Horsepower</th>\n",
       "      <td>6</td>\n",
       "    </tr>\n",
       "    <tr>\n",
       "      <th>Weight</th>\n",
       "      <td>0</td>\n",
       "    </tr>\n",
       "    <tr>\n",
       "      <th>Acceleration</th>\n",
       "      <td>0</td>\n",
       "    </tr>\n",
       "    <tr>\n",
       "      <th>Model Year</th>\n",
       "      <td>0</td>\n",
       "    </tr>\n",
       "    <tr>\n",
       "      <th>Origin</th>\n",
       "      <td>0</td>\n",
       "    </tr>\n",
       "  </tbody>\n",
       "</table>\n",
       "</div><br><label><b>dtype:</b> int64</label>"
      ],
      "text/plain": [
       "MPG             0\n",
       "Cylinders       0\n",
       "Displacement    0\n",
       "Horsepower      6\n",
       "Weight          0\n",
       "Acceleration    0\n",
       "Model Year      0\n",
       "Origin          0\n",
       "dtype: int64"
      ]
     },
     "execution_count": 5,
     "metadata": {},
     "output_type": "execute_result"
    }
   ],
   "source": [
    "dataset.isna().sum()"
   ]
  },
  {
   "cell_type": "markdown",
   "metadata": {
    "id": "9UPN0KBHa_WI"
   },
   "source": [
    "* Por simplicidad, procedemos a eliminar las filas con estos valores indeterminados."
   ]
  },
  {
   "cell_type": "code",
   "execution_count": null,
   "metadata": {
    "id": "4ZUDosChC1UN"
   },
   "outputs": [],
   "source": [
    "dataset = dataset.dropna()"
   ]
  },
  {
   "cell_type": "markdown",
   "metadata": {
    "id": "8XKitwaH4v8h"
   },
   "source": [
    "* La columna `\"Origin\"` (que se refiere al país de fabricación), no es numérica. Por lo tanto, el paso siguiente es aplicar codificación *one hot* en esta columna usando [pd.get_dummies](https://pandas.pydata.org/docs/reference/api/pandas.get_dummies.html)."
   ]
  },
  {
   "cell_type": "code",
   "execution_count": null,
   "metadata": {
    "id": "gWNTD2QjBWFJ"
   },
   "outputs": [],
   "source": [
    "dataset['Origin'] = dataset['Origin'].map({1: 'USA', 2: 'Europe', 3: 'Japan'})"
   ]
  },
  {
   "cell_type": "code",
   "execution_count": null,
   "metadata": {
    "colab": {
     "base_uri": "https://localhost:8080/",
     "height": 206
    },
    "executionInfo": {
     "elapsed": 8,
     "status": "ok",
     "timestamp": 1724343052967,
     "user": {
      "displayName": "Juan Pablo Meneses Casanova",
      "userId": "14128096026203214905"
     },
     "user_tz": 240
    },
    "id": "ulXz4J7PAUzk",
    "outputId": "a4a97d34-15cb-4573-fa8e-c5d930a9fb33"
   },
   "outputs": [
    {
     "data": {
      "application/vnd.google.colaboratory.intrinsic+json": {
       "summary": "{\n  \"name\": \"dataset\",\n  \"rows\": 5,\n  \"fields\": [\n    {\n      \"column\": \"MPG\",\n      \"properties\": {\n        \"dtype\": \"number\",\n        \"std\": 6.8044103344816005,\n        \"min\": 27.0,\n        \"max\": 44.0,\n        \"num_unique_values\": 5,\n        \"samples\": [\n          44.0,\n          31.0,\n          32.0\n        ],\n        \"semantic_type\": \"\",\n        \"description\": \"\"\n      }\n    },\n    {\n      \"column\": \"Cylinders\",\n      \"properties\": {\n        \"dtype\": \"number\",\n        \"std\": 0,\n        \"min\": 4,\n        \"max\": 4,\n        \"num_unique_values\": 1,\n        \"samples\": [\n          4\n        ],\n        \"semantic_type\": \"\",\n        \"description\": \"\"\n      }\n    },\n    {\n      \"column\": \"Displacement\",\n      \"properties\": {\n        \"dtype\": \"number\",\n        \"std\": 16.813684902483452,\n        \"min\": 97.0,\n        \"max\": 140.0,\n        \"num_unique_values\": 5,\n        \"samples\": [\n          97.0\n        ],\n        \"semantic_type\": \"\",\n        \"description\": \"\"\n      }\n    },\n    {\n      \"column\": \"Horsepower\",\n      \"properties\": {\n        \"dtype\": \"number\",\n        \"std\": 13.992855319769443,\n        \"min\": 52.0,\n        \"max\": 86.0,\n        \"num_unique_values\": 5,\n        \"samples\": [\n          52.0\n        ],\n        \"semantic_type\": \"\",\n        \"description\": \"\"\n      }\n    },\n    {\n      \"column\": \"Weight\",\n      \"properties\": {\n        \"dtype\": \"number\",\n        \"std\": 285.62650437240586,\n        \"min\": 2130.0,\n        \"max\": 2790.0,\n        \"num_unique_values\": 5,\n        \"samples\": [\n          2130.0\n        ],\n        \"semantic_type\": \"\",\n        \"description\": \"\"\n      }\n    },\n    {\n      \"column\": \"Acceleration\",\n      \"properties\": {\n        \"dtype\": \"number\",\n        \"std\": 4.81123684721507,\n        \"min\": 11.6,\n        \"max\": 24.6,\n        \"num_unique_values\": 5,\n        \"samples\": [\n          24.6\n        ],\n        \"semantic_type\": \"\",\n        \"description\": \"\"\n      }\n    },\n    {\n      \"column\": \"Model Year\",\n      \"properties\": {\n        \"dtype\": \"number\",\n        \"std\": 0,\n        \"min\": 82,\n        \"max\": 82,\n        \"num_unique_values\": 1,\n        \"samples\": [\n          82\n        ],\n        \"semantic_type\": \"\",\n        \"description\": \"\"\n      }\n    },\n    {\n      \"column\": \"Europe\",\n      \"properties\": {\n        \"dtype\": \"boolean\",\n        \"num_unique_values\": 2,\n        \"samples\": [\n          true\n        ],\n        \"semantic_type\": \"\",\n        \"description\": \"\"\n      }\n    },\n    {\n      \"column\": \"Japan\",\n      \"properties\": {\n        \"dtype\": \"boolean\",\n        \"num_unique_values\": 1,\n        \"samples\": [\n          false\n        ],\n        \"semantic_type\": \"\",\n        \"description\": \"\"\n      }\n    },\n    {\n      \"column\": \"USA\",\n      \"properties\": {\n        \"dtype\": \"boolean\",\n        \"num_unique_values\": 2,\n        \"samples\": [\n          false\n        ],\n        \"semantic_type\": \"\",\n        \"description\": \"\"\n      }\n    }\n  ]\n}",
       "type": "dataframe"
      },
      "text/html": [
       "\n",
       "  <div id=\"df-db8313ed-ae07-4f30-903d-e0d69fe4f26d\" class=\"colab-df-container\">\n",
       "    <div>\n",
       "<style scoped>\n",
       "    .dataframe tbody tr th:only-of-type {\n",
       "        vertical-align: middle;\n",
       "    }\n",
       "\n",
       "    .dataframe tbody tr th {\n",
       "        vertical-align: top;\n",
       "    }\n",
       "\n",
       "    .dataframe thead th {\n",
       "        text-align: right;\n",
       "    }\n",
       "</style>\n",
       "<table border=\"1\" class=\"dataframe\">\n",
       "  <thead>\n",
       "    <tr style=\"text-align: right;\">\n",
       "      <th></th>\n",
       "      <th>MPG</th>\n",
       "      <th>Cylinders</th>\n",
       "      <th>Displacement</th>\n",
       "      <th>Horsepower</th>\n",
       "      <th>Weight</th>\n",
       "      <th>Acceleration</th>\n",
       "      <th>Model Year</th>\n",
       "      <th>Europe</th>\n",
       "      <th>Japan</th>\n",
       "      <th>USA</th>\n",
       "    </tr>\n",
       "  </thead>\n",
       "  <tbody>\n",
       "    <tr>\n",
       "      <th>393</th>\n",
       "      <td>27.0</td>\n",
       "      <td>4</td>\n",
       "      <td>140.0</td>\n",
       "      <td>86.0</td>\n",
       "      <td>2790.0</td>\n",
       "      <td>15.6</td>\n",
       "      <td>82</td>\n",
       "      <td>False</td>\n",
       "      <td>False</td>\n",
       "      <td>True</td>\n",
       "    </tr>\n",
       "    <tr>\n",
       "      <th>394</th>\n",
       "      <td>44.0</td>\n",
       "      <td>4</td>\n",
       "      <td>97.0</td>\n",
       "      <td>52.0</td>\n",
       "      <td>2130.0</td>\n",
       "      <td>24.6</td>\n",
       "      <td>82</td>\n",
       "      <td>True</td>\n",
       "      <td>False</td>\n",
       "      <td>False</td>\n",
       "    </tr>\n",
       "    <tr>\n",
       "      <th>395</th>\n",
       "      <td>32.0</td>\n",
       "      <td>4</td>\n",
       "      <td>135.0</td>\n",
       "      <td>84.0</td>\n",
       "      <td>2295.0</td>\n",
       "      <td>11.6</td>\n",
       "      <td>82</td>\n",
       "      <td>False</td>\n",
       "      <td>False</td>\n",
       "      <td>True</td>\n",
       "    </tr>\n",
       "    <tr>\n",
       "      <th>396</th>\n",
       "      <td>28.0</td>\n",
       "      <td>4</td>\n",
       "      <td>120.0</td>\n",
       "      <td>79.0</td>\n",
       "      <td>2625.0</td>\n",
       "      <td>18.6</td>\n",
       "      <td>82</td>\n",
       "      <td>False</td>\n",
       "      <td>False</td>\n",
       "      <td>True</td>\n",
       "    </tr>\n",
       "    <tr>\n",
       "      <th>397</th>\n",
       "      <td>31.0</td>\n",
       "      <td>4</td>\n",
       "      <td>119.0</td>\n",
       "      <td>82.0</td>\n",
       "      <td>2720.0</td>\n",
       "      <td>19.4</td>\n",
       "      <td>82</td>\n",
       "      <td>False</td>\n",
       "      <td>False</td>\n",
       "      <td>True</td>\n",
       "    </tr>\n",
       "  </tbody>\n",
       "</table>\n",
       "</div>\n",
       "    <div class=\"colab-df-buttons\">\n",
       "\n",
       "  <div class=\"colab-df-container\">\n",
       "    <button class=\"colab-df-convert\" onclick=\"convertToInteractive('df-db8313ed-ae07-4f30-903d-e0d69fe4f26d')\"\n",
       "            title=\"Convert this dataframe to an interactive table.\"\n",
       "            style=\"display:none;\">\n",
       "\n",
       "  <svg xmlns=\"http://www.w3.org/2000/svg\" height=\"24px\" viewBox=\"0 -960 960 960\">\n",
       "    <path d=\"M120-120v-720h720v720H120Zm60-500h600v-160H180v160Zm220 220h160v-160H400v160Zm0 220h160v-160H400v160ZM180-400h160v-160H180v160Zm440 0h160v-160H620v160ZM180-180h160v-160H180v160Zm440 0h160v-160H620v160Z\"/>\n",
       "  </svg>\n",
       "    </button>\n",
       "\n",
       "  <style>\n",
       "    .colab-df-container {\n",
       "      display:flex;\n",
       "      gap: 12px;\n",
       "    }\n",
       "\n",
       "    .colab-df-convert {\n",
       "      background-color: #E8F0FE;\n",
       "      border: none;\n",
       "      border-radius: 50%;\n",
       "      cursor: pointer;\n",
       "      display: none;\n",
       "      fill: #1967D2;\n",
       "      height: 32px;\n",
       "      padding: 0 0 0 0;\n",
       "      width: 32px;\n",
       "    }\n",
       "\n",
       "    .colab-df-convert:hover {\n",
       "      background-color: #E2EBFA;\n",
       "      box-shadow: 0px 1px 2px rgba(60, 64, 67, 0.3), 0px 1px 3px 1px rgba(60, 64, 67, 0.15);\n",
       "      fill: #174EA6;\n",
       "    }\n",
       "\n",
       "    .colab-df-buttons div {\n",
       "      margin-bottom: 4px;\n",
       "    }\n",
       "\n",
       "    [theme=dark] .colab-df-convert {\n",
       "      background-color: #3B4455;\n",
       "      fill: #D2E3FC;\n",
       "    }\n",
       "\n",
       "    [theme=dark] .colab-df-convert:hover {\n",
       "      background-color: #434B5C;\n",
       "      box-shadow: 0px 1px 3px 1px rgba(0, 0, 0, 0.15);\n",
       "      filter: drop-shadow(0px 1px 2px rgba(0, 0, 0, 0.3));\n",
       "      fill: #FFFFFF;\n",
       "    }\n",
       "  </style>\n",
       "\n",
       "    <script>\n",
       "      const buttonEl =\n",
       "        document.querySelector('#df-db8313ed-ae07-4f30-903d-e0d69fe4f26d button.colab-df-convert');\n",
       "      buttonEl.style.display =\n",
       "        google.colab.kernel.accessAllowed ? 'block' : 'none';\n",
       "\n",
       "      async function convertToInteractive(key) {\n",
       "        const element = document.querySelector('#df-db8313ed-ae07-4f30-903d-e0d69fe4f26d');\n",
       "        const dataTable =\n",
       "          await google.colab.kernel.invokeFunction('convertToInteractive',\n",
       "                                                    [key], {});\n",
       "        if (!dataTable) return;\n",
       "\n",
       "        const docLinkHtml = 'Like what you see? Visit the ' +\n",
       "          '<a target=\"_blank\" href=https://colab.research.google.com/notebooks/data_table.ipynb>data table notebook</a>'\n",
       "          + ' to learn more about interactive tables.';\n",
       "        element.innerHTML = '';\n",
       "        dataTable['output_type'] = 'display_data';\n",
       "        await google.colab.output.renderOutput(dataTable, element);\n",
       "        const docLink = document.createElement('div');\n",
       "        docLink.innerHTML = docLinkHtml;\n",
       "        element.appendChild(docLink);\n",
       "      }\n",
       "    </script>\n",
       "  </div>\n",
       "\n",
       "\n",
       "<div id=\"df-bc39bb3e-f001-4981-8afb-4f0750b9a107\">\n",
       "  <button class=\"colab-df-quickchart\" onclick=\"quickchart('df-bc39bb3e-f001-4981-8afb-4f0750b9a107')\"\n",
       "            title=\"Suggest charts\"\n",
       "            style=\"display:none;\">\n",
       "\n",
       "<svg xmlns=\"http://www.w3.org/2000/svg\" height=\"24px\"viewBox=\"0 0 24 24\"\n",
       "     width=\"24px\">\n",
       "    <g>\n",
       "        <path d=\"M19 3H5c-1.1 0-2 .9-2 2v14c0 1.1.9 2 2 2h14c1.1 0 2-.9 2-2V5c0-1.1-.9-2-2-2zM9 17H7v-7h2v7zm4 0h-2V7h2v10zm4 0h-2v-4h2v4z\"/>\n",
       "    </g>\n",
       "</svg>\n",
       "  </button>\n",
       "\n",
       "<style>\n",
       "  .colab-df-quickchart {\n",
       "      --bg-color: #E8F0FE;\n",
       "      --fill-color: #1967D2;\n",
       "      --hover-bg-color: #E2EBFA;\n",
       "      --hover-fill-color: #174EA6;\n",
       "      --disabled-fill-color: #AAA;\n",
       "      --disabled-bg-color: #DDD;\n",
       "  }\n",
       "\n",
       "  [theme=dark] .colab-df-quickchart {\n",
       "      --bg-color: #3B4455;\n",
       "      --fill-color: #D2E3FC;\n",
       "      --hover-bg-color: #434B5C;\n",
       "      --hover-fill-color: #FFFFFF;\n",
       "      --disabled-bg-color: #3B4455;\n",
       "      --disabled-fill-color: #666;\n",
       "  }\n",
       "\n",
       "  .colab-df-quickchart {\n",
       "    background-color: var(--bg-color);\n",
       "    border: none;\n",
       "    border-radius: 50%;\n",
       "    cursor: pointer;\n",
       "    display: none;\n",
       "    fill: var(--fill-color);\n",
       "    height: 32px;\n",
       "    padding: 0;\n",
       "    width: 32px;\n",
       "  }\n",
       "\n",
       "  .colab-df-quickchart:hover {\n",
       "    background-color: var(--hover-bg-color);\n",
       "    box-shadow: 0 1px 2px rgba(60, 64, 67, 0.3), 0 1px 3px 1px rgba(60, 64, 67, 0.15);\n",
       "    fill: var(--button-hover-fill-color);\n",
       "  }\n",
       "\n",
       "  .colab-df-quickchart-complete:disabled,\n",
       "  .colab-df-quickchart-complete:disabled:hover {\n",
       "    background-color: var(--disabled-bg-color);\n",
       "    fill: var(--disabled-fill-color);\n",
       "    box-shadow: none;\n",
       "  }\n",
       "\n",
       "  .colab-df-spinner {\n",
       "    border: 2px solid var(--fill-color);\n",
       "    border-color: transparent;\n",
       "    border-bottom-color: var(--fill-color);\n",
       "    animation:\n",
       "      spin 1s steps(1) infinite;\n",
       "  }\n",
       "\n",
       "  @keyframes spin {\n",
       "    0% {\n",
       "      border-color: transparent;\n",
       "      border-bottom-color: var(--fill-color);\n",
       "      border-left-color: var(--fill-color);\n",
       "    }\n",
       "    20% {\n",
       "      border-color: transparent;\n",
       "      border-left-color: var(--fill-color);\n",
       "      border-top-color: var(--fill-color);\n",
       "    }\n",
       "    30% {\n",
       "      border-color: transparent;\n",
       "      border-left-color: var(--fill-color);\n",
       "      border-top-color: var(--fill-color);\n",
       "      border-right-color: var(--fill-color);\n",
       "    }\n",
       "    40% {\n",
       "      border-color: transparent;\n",
       "      border-right-color: var(--fill-color);\n",
       "      border-top-color: var(--fill-color);\n",
       "    }\n",
       "    60% {\n",
       "      border-color: transparent;\n",
       "      border-right-color: var(--fill-color);\n",
       "    }\n",
       "    80% {\n",
       "      border-color: transparent;\n",
       "      border-right-color: var(--fill-color);\n",
       "      border-bottom-color: var(--fill-color);\n",
       "    }\n",
       "    90% {\n",
       "      border-color: transparent;\n",
       "      border-bottom-color: var(--fill-color);\n",
       "    }\n",
       "  }\n",
       "</style>\n",
       "\n",
       "  <script>\n",
       "    async function quickchart(key) {\n",
       "      const quickchartButtonEl =\n",
       "        document.querySelector('#' + key + ' button');\n",
       "      quickchartButtonEl.disabled = true;  // To prevent multiple clicks.\n",
       "      quickchartButtonEl.classList.add('colab-df-spinner');\n",
       "      try {\n",
       "        const charts = await google.colab.kernel.invokeFunction(\n",
       "            'suggestCharts', [key], {});\n",
       "      } catch (error) {\n",
       "        console.error('Error during call to suggestCharts:', error);\n",
       "      }\n",
       "      quickchartButtonEl.classList.remove('colab-df-spinner');\n",
       "      quickchartButtonEl.classList.add('colab-df-quickchart-complete');\n",
       "    }\n",
       "    (() => {\n",
       "      let quickchartButtonEl =\n",
       "        document.querySelector('#df-bc39bb3e-f001-4981-8afb-4f0750b9a107 button');\n",
       "      quickchartButtonEl.style.display =\n",
       "        google.colab.kernel.accessAllowed ? 'block' : 'none';\n",
       "    })();\n",
       "  </script>\n",
       "</div>\n",
       "\n",
       "    </div>\n",
       "  </div>\n"
      ],
      "text/plain": [
       "      MPG  Cylinders  Displacement  Horsepower  Weight  Acceleration  \\\n",
       "393  27.0          4         140.0        86.0  2790.0          15.6   \n",
       "394  44.0          4          97.0        52.0  2130.0          24.6   \n",
       "395  32.0          4         135.0        84.0  2295.0          11.6   \n",
       "396  28.0          4         120.0        79.0  2625.0          18.6   \n",
       "397  31.0          4         119.0        82.0  2720.0          19.4   \n",
       "\n",
       "     Model Year  Europe  Japan    USA  \n",
       "393          82   False  False   True  \n",
       "394          82    True  False  False  \n",
       "395          82   False  False   True  \n",
       "396          82   False  False   True  \n",
       "397          82   False  False   True  "
      ]
     },
     "execution_count": 8,
     "metadata": {},
     "output_type": "execute_result"
    }
   ],
   "source": [
    "dataset = pd.get_dummies(dataset, columns=['Origin'], prefix='', prefix_sep='')\n",
    "dataset.tail()"
   ]
  },
  {
   "cell_type": "markdown",
   "metadata": {
    "id": "Cuym4yvk76vU"
   },
   "source": [
    "<hr>\n",
    "\n",
    "\n",
    "### <a name=\"M33\">3.3. Partición de los datos</a>\n",
    "\n",
    "* Particionamos los datos para, una vez ajustado nuestro modelo de regresión usando el set de entrenamiento, utilizar el set de testeo para evaluar el modelo resultante."
   ]
  },
  {
   "cell_type": "code",
   "execution_count": null,
   "metadata": {
    "id": "qn-IGhUE7_1H"
   },
   "outputs": [],
   "source": [
    "train_dataset = dataset.sample(frac=0.8, random_state=0)\n",
    "test_dataset = dataset.drop(train_dataset.index)"
   ]
  },
  {
   "cell_type": "markdown",
   "metadata": {
    "id": "Db7Auq1yXUvh"
   },
   "source": [
    "* De igual forma, se separan el valor objetivo o etiqueta de las características. Esta etiqueta es el valor que se usará para entrenar el modelo predictivo."
   ]
  },
  {
   "cell_type": "code",
   "execution_count": null,
   "metadata": {
    "id": "t2sluJdCW7jN"
   },
   "outputs": [],
   "source": [
    "train_features = train_dataset.copy()\n",
    "test_features = test_dataset.copy()\n",
    "\n",
    "train_labels = train_features.pop('MPG')\n",
    "test_labels = test_features.pop('MPG')"
   ]
  },
  {
   "cell_type": "markdown",
   "metadata": {
    "id": "J4ubs136WLNp"
   },
   "source": [
    "<hr>\n",
    "\n",
    "\n",
    "### <a name=\"M34\">3.4. Visualización de los datos</a>\n",
    "\n",
    "* Aquí revisamos la distribución conjunta de unos pocos pares de columnas del set de entrenamiento. La fila superior sugiere que la eficiencia de combustible (MPG) es una función de todos los otros parámetros. Las otras filas indican la correlación entre los parámetros restantes."
   ]
  },
  {
   "cell_type": "code",
   "execution_count": null,
   "metadata": {
    "colab": {
     "base_uri": "https://localhost:8080/",
     "height": 937
    },
    "executionInfo": {
     "elapsed": 7780,
     "status": "ok",
     "timestamp": 1724343162763,
     "user": {
      "displayName": "Juan Pablo Meneses Casanova",
      "userId": "14128096026203214905"
     },
     "user_tz": 240
    },
    "id": "oRKO_x8gWKv-",
    "outputId": "4ecc8312-b01f-484b-a041-e0dae4489821"
   },
   "outputs": [
    {
     "data": {
      "text/plain": [
       "<seaborn.axisgrid.PairGrid at 0x783b886e8ee0>"
      ]
     },
     "execution_count": 11,
     "metadata": {},
     "output_type": "execute_result"
    },
    {
     "data": {
      "image/png": "[encoded data removed]",
      "text/plain": [
       "<Figure size 1000x1000 with 20 Axes>"
      ]
     },
     "metadata": {},
     "output_type": "display_data"
    }
   ],
   "source": [
    "sns.pairplot(train_dataset[['MPG', 'Cylinders', 'Displacement', 'Weight']], diag_kind='kde')"
   ]
  },
  {
   "cell_type": "markdown",
   "metadata": {
    "id": "gavKO_6DWRMP"
   },
   "source": [
    "* Podemos observar también las estadísticas globales. Notamos que cada característica cubre rangos de valores bastante diferentes."
   ]
  },
  {
   "cell_type": "markdown",
   "metadata": {
    "id": "mRklxK5s388r"
   },
   "source": [
    "<hr>\n",
    "\n",
    "\n",
    "### <a name=\"M35\">3.5. Normalización de los datos</a>\n",
    "\n",
    "* En la tabla de estadísticas, es fácil notar lo diferentes que son los valores para cada cararcterística:"
   ]
  },
  {
   "cell_type": "code",
   "execution_count": null,
   "metadata": {
    "colab": {
     "base_uri": "https://localhost:8080/",
     "height": 268
    },
    "executionInfo": {
     "elapsed": 298,
     "status": "ok",
     "timestamp": 1724343273589,
     "user": {
      "displayName": "Juan Pablo Meneses Casanova",
      "userId": "14128096026203214905"
     },
     "user_tz": 240
    },
    "id": "yi2FzC3T21jR",
    "outputId": "2ff5c9b5-90c0-49bc-e4c7-df3990492956"
   },
   "outputs": [
    {
     "data": {
      "application/vnd.google.colaboratory.intrinsic+json": {
       "summary": "{\n  \"name\": \"train_dataset\",\n  \"rows\": 7,\n  \"fields\": [\n    {\n      \"column\": \"count\",\n      \"properties\": {\n        \"dtype\": \"number\",\n        \"std\": 0.0,\n        \"min\": 314.0,\n        \"max\": 314.0,\n        \"num_unique_values\": 1,\n        \"samples\": [\n          314.0\n        ],\n        \"semantic_type\": \"\",\n        \"description\": \"\"\n      }\n    },\n    {\n      \"column\": \"mean\",\n      \"properties\": {\n        \"dtype\": \"number\",\n        \"std\": 1105.7051185970897,\n        \"min\": 5.477707006369426,\n        \"max\": 2990.251592356688,\n        \"num_unique_values\": 7,\n        \"samples\": [\n          23.31050955414013\n        ],\n        \"semantic_type\": \"\",\n        \"description\": \"\"\n      }\n    },\n    {\n      \"column\": \"std\",\n      \"properties\": {\n        \"dtype\": \"number\",\n        \"std\": 311.20547986714973,\n        \"min\": 1.6997875727498173,\n        \"max\": 843.8985961905663,\n        \"num_unique_values\": 7,\n        \"samples\": [\n          7.72865199891648\n        ],\n        \"semantic_type\": \"\",\n        \"description\": \"\"\n      }\n    },\n    {\n      \"column\": \"min\",\n      \"properties\": {\n        \"dtype\": \"number\",\n        \"std\": 611.0058451906518,\n        \"min\": 3.0,\n        \"max\": 1649.0,\n        \"num_unique_values\": 7,\n        \"samples\": [\n          10.0\n        ],\n        \"semantic_type\": \"\",\n        \"description\": \"\"\n      }\n    },\n    {\n      \"column\": \"25%\",\n      \"properties\": {\n        \"dtype\": \"number\",\n        \"std\": 835.5146177940989,\n        \"min\": 4.0,\n        \"max\": 2256.5,\n        \"num_unique_values\": 7,\n        \"samples\": [\n          17.0\n        ],\n        \"semantic_type\": \"\",\n        \"description\": \"\"\n      }\n    },\n    {\n      \"column\": \"50%\",\n      \"properties\": {\n        \"dtype\": \"number\",\n        \"std\": 1045.2371113999059,\n        \"min\": 4.0,\n        \"max\": 2822.5,\n        \"num_unique_values\": 7,\n        \"samples\": [\n          22.0\n        ],\n        \"semantic_type\": \"\",\n        \"description\": \"\"\n      }\n    },\n    {\n      \"column\": \"75%\",\n      \"properties\": {\n        \"dtype\": \"number\",\n        \"std\": 1333.5181897897007,\n        \"min\": 8.0,\n        \"max\": 3608.0,\n        \"num_unique_values\": 7,\n        \"samples\": [\n          28.95\n        ],\n        \"semantic_type\": \"\",\n        \"description\": \"\"\n      }\n    },\n    {\n      \"column\": \"max\",\n      \"properties\": {\n        \"dtype\": \"number\",\n        \"std\": 1896.3035863037785,\n        \"min\": 8.0,\n        \"max\": 5140.0,\n        \"num_unique_values\": 7,\n        \"samples\": [\n          46.6\n        ],\n        \"semantic_type\": \"\",\n        \"description\": \"\"\n      }\n    }\n  ]\n}",
       "type": "dataframe"
      },
      "text/html": [
       "\n",
       "  <div id=\"df-2bfd062e-f3c7-4a37-98e5-30dc8f2996bc\" class=\"colab-df-container\">\n",
       "    <div>\n",
       "<style scoped>\n",
       "    .dataframe tbody tr th:only-of-type {\n",
       "        vertical-align: middle;\n",
       "    }\n",
       "\n",
       "    .dataframe tbody tr th {\n",
       "        vertical-align: top;\n",
       "    }\n",
       "\n",
       "    .dataframe thead th {\n",
       "        text-align: right;\n",
       "    }\n",
       "</style>\n",
       "<table border=\"1\" class=\"dataframe\">\n",
       "  <thead>\n",
       "    <tr style=\"text-align: right;\">\n",
       "      <th></th>\n",
       "      <th>count</th>\n",
       "      <th>mean</th>\n",
       "      <th>std</th>\n",
       "      <th>min</th>\n",
       "      <th>25%</th>\n",
       "      <th>50%</th>\n",
       "      <th>75%</th>\n",
       "      <th>max</th>\n",
       "    </tr>\n",
       "  </thead>\n",
       "  <tbody>\n",
       "    <tr>\n",
       "      <th>MPG</th>\n",
       "      <td>314.0</td>\n",
       "      <td>23.310510</td>\n",
       "      <td>7.728652</td>\n",
       "      <td>10.0</td>\n",
       "      <td>17.00</td>\n",
       "      <td>22.0</td>\n",
       "      <td>28.95</td>\n",
       "      <td>46.6</td>\n",
       "    </tr>\n",
       "    <tr>\n",
       "      <th>Cylinders</th>\n",
       "      <td>314.0</td>\n",
       "      <td>5.477707</td>\n",
       "      <td>1.699788</td>\n",
       "      <td>3.0</td>\n",
       "      <td>4.00</td>\n",
       "      <td>4.0</td>\n",
       "      <td>8.00</td>\n",
       "      <td>8.0</td>\n",
       "    </tr>\n",
       "    <tr>\n",
       "      <th>Displacement</th>\n",
       "      <td>314.0</td>\n",
       "      <td>195.318471</td>\n",
       "      <td>104.331589</td>\n",
       "      <td>68.0</td>\n",
       "      <td>105.50</td>\n",
       "      <td>151.0</td>\n",
       "      <td>265.75</td>\n",
       "      <td>455.0</td>\n",
       "    </tr>\n",
       "    <tr>\n",
       "      <th>Horsepower</th>\n",
       "      <td>314.0</td>\n",
       "      <td>104.869427</td>\n",
       "      <td>38.096214</td>\n",
       "      <td>46.0</td>\n",
       "      <td>76.25</td>\n",
       "      <td>94.5</td>\n",
       "      <td>128.00</td>\n",
       "      <td>225.0</td>\n",
       "    </tr>\n",
       "    <tr>\n",
       "      <th>Weight</th>\n",
       "      <td>314.0</td>\n",
       "      <td>2990.251592</td>\n",
       "      <td>843.898596</td>\n",
       "      <td>1649.0</td>\n",
       "      <td>2256.50</td>\n",
       "      <td>2822.5</td>\n",
       "      <td>3608.00</td>\n",
       "      <td>5140.0</td>\n",
       "    </tr>\n",
       "    <tr>\n",
       "      <th>Acceleration</th>\n",
       "      <td>314.0</td>\n",
       "      <td>15.559236</td>\n",
       "      <td>2.789230</td>\n",
       "      <td>8.0</td>\n",
       "      <td>13.80</td>\n",
       "      <td>15.5</td>\n",
       "      <td>17.20</td>\n",
       "      <td>24.8</td>\n",
       "    </tr>\n",
       "    <tr>\n",
       "      <th>Model Year</th>\n",
       "      <td>314.0</td>\n",
       "      <td>75.898089</td>\n",
       "      <td>3.675642</td>\n",
       "      <td>70.0</td>\n",
       "      <td>73.00</td>\n",
       "      <td>76.0</td>\n",
       "      <td>79.00</td>\n",
       "      <td>82.0</td>\n",
       "    </tr>\n",
       "  </tbody>\n",
       "</table>\n",
       "</div>\n",
       "    <div class=\"colab-df-buttons\">\n",
       "\n",
       "  <div class=\"colab-df-container\">\n",
       "    <button class=\"colab-df-convert\" onclick=\"convertToInteractive('df-2bfd062e-f3c7-4a37-98e5-30dc8f2996bc')\"\n",
       "            title=\"Convert this dataframe to an interactive table.\"\n",
       "            style=\"display:none;\">\n",
       "\n",
       "  <svg xmlns=\"http://www.w3.org/2000/svg\" height=\"24px\" viewBox=\"0 -960 960 960\">\n",
       "    <path d=\"M120-120v-720h720v720H120Zm60-500h600v-160H180v160Zm220 220h160v-160H400v160Zm0 220h160v-160H400v160ZM180-400h160v-160H180v160Zm440 0h160v-160H620v160ZM180-180h160v-160H180v160Zm440 0h160v-160H620v160Z\"/>\n",
       "  </svg>\n",
       "    </button>\n",
       "\n",
       "  <style>\n",
       "    .colab-df-container {\n",
       "      display:flex;\n",
       "      gap: 12px;\n",
       "    }\n",
       "\n",
       "    .colab-df-convert {\n",
       "      background-color: #E8F0FE;\n",
       "      border: none;\n",
       "      border-radius: 50%;\n",
       "      cursor: pointer;\n",
       "      display: none;\n",
       "      fill: #1967D2;\n",
       "      height: 32px;\n",
       "      padding: 0 0 0 0;\n",
       "      width: 32px;\n",
       "    }\n",
       "\n",
       "    .colab-df-convert:hover {\n",
       "      background-color: #E2EBFA;\n",
       "      box-shadow: 0px 1px 2px rgba(60, 64, 67, 0.3), 0px 1px 3px 1px rgba(60, 64, 67, 0.15);\n",
       "      fill: #174EA6;\n",
       "    }\n",
       "\n",
       "    .colab-df-buttons div {\n",
       "      margin-bottom: 4px;\n",
       "    }\n",
       "\n",
       "    [theme=dark] .colab-df-convert {\n",
       "      background-color: #3B4455;\n",
       "      fill: #D2E3FC;\n",
       "    }\n",
       "\n",
       "    [theme=dark] .colab-df-convert:hover {\n",
       "      background-color: #434B5C;\n",
       "      box-shadow: 0px 1px 3px 1px rgba(0, 0, 0, 0.15);\n",
       "      filter: drop-shadow(0px 1px 2px rgba(0, 0, 0, 0.3));\n",
       "      fill: #FFFFFF;\n",
       "    }\n",
       "  </style>\n",
       "\n",
       "    <script>\n",
       "      const buttonEl =\n",
       "        document.querySelector('#df-2bfd062e-f3c7-4a37-98e5-30dc8f2996bc button.colab-df-convert');\n",
       "      buttonEl.style.display =\n",
       "        google.colab.kernel.accessAllowed ? 'block' : 'none';\n",
       "\n",
       "      async function convertToInteractive(key) {\n",
       "        const element = document.querySelector('#df-2bfd062e-f3c7-4a37-98e5-30dc8f2996bc');\n",
       "        const dataTable =\n",
       "          await google.colab.kernel.invokeFunction('convertToInteractive',\n",
       "                                                    [key], {});\n",
       "        if (!dataTable) return;\n",
       "\n",
       "        const docLinkHtml = 'Like what you see? Visit the ' +\n",
       "          '<a target=\"_blank\" href=https://colab.research.google.com/notebooks/data_table.ipynb>data table notebook</a>'\n",
       "          + ' to learn more about interactive tables.';\n",
       "        element.innerHTML = '';\n",
       "        dataTable['output_type'] = 'display_data';\n",
       "        await google.colab.output.renderOutput(dataTable, element);\n",
       "        const docLink = document.createElement('div');\n",
       "        docLink.innerHTML = docLinkHtml;\n",
       "        element.appendChild(docLink);\n",
       "      }\n",
       "    </script>\n",
       "  </div>\n",
       "\n",
       "\n",
       "<div id=\"df-556090c3-0ef3-4125-adfe-41a97e00ec87\">\n",
       "  <button class=\"colab-df-quickchart\" onclick=\"quickchart('df-556090c3-0ef3-4125-adfe-41a97e00ec87')\"\n",
       "            title=\"Suggest charts\"\n",
       "            style=\"display:none;\">\n",
       "\n",
       "<svg xmlns=\"http://www.w3.org/2000/svg\" height=\"24px\"viewBox=\"0 0 24 24\"\n",
       "     width=\"24px\">\n",
       "    <g>\n",
       "        <path d=\"M19 3H5c-1.1 0-2 .9-2 2v14c0 1.1.9 2 2 2h14c1.1 0 2-.9 2-2V5c0-1.1-.9-2-2-2zM9 17H7v-7h2v7zm4 0h-2V7h2v10zm4 0h-2v-4h2v4z\"/>\n",
       "    </g>\n",
       "</svg>\n",
       "  </button>\n",
       "\n",
       "<style>\n",
       "  .colab-df-quickchart {\n",
       "      --bg-color: #E8F0FE;\n",
       "      --fill-color: #1967D2;\n",
       "      --hover-bg-color: #E2EBFA;\n",
       "      --hover-fill-color: #174EA6;\n",
       "      --disabled-fill-color: #AAA;\n",
       "      --disabled-bg-color: #DDD;\n",
       "  }\n",
       "\n",
       "  [theme=dark] .colab-df-quickchart {\n",
       "      --bg-color: #3B4455;\n",
       "      --fill-color: #D2E3FC;\n",
       "      --hover-bg-color: #434B5C;\n",
       "      --hover-fill-color: #FFFFFF;\n",
       "      --disabled-bg-color: #3B4455;\n",
       "      --disabled-fill-color: #666;\n",
       "  }\n",
       "\n",
       "  .colab-df-quickchart {\n",
       "    background-color: var(--bg-color);\n",
       "    border: none;\n",
       "    border-radius: 50%;\n",
       "    cursor: pointer;\n",
       "    display: none;\n",
       "    fill: var(--fill-color);\n",
       "    height: 32px;\n",
       "    padding: 0;\n",
       "    width: 32px;\n",
       "  }\n",
       "\n",
       "  .colab-df-quickchart:hover {\n",
       "    background-color: var(--hover-bg-color);\n",
       "    box-shadow: 0 1px 2px rgba(60, 64, 67, 0.3), 0 1px 3px 1px rgba(60, 64, 67, 0.15);\n",
       "    fill: var(--button-hover-fill-color);\n",
       "  }\n",
       "\n",
       "  .colab-df-quickchart-complete:disabled,\n",
       "  .colab-df-quickchart-complete:disabled:hover {\n",
       "    background-color: var(--disabled-bg-color);\n",
       "    fill: var(--disabled-fill-color);\n",
       "    box-shadow: none;\n",
       "  }\n",
       "\n",
       "  .colab-df-spinner {\n",
       "    border: 2px solid var(--fill-color);\n",
       "    border-color: transparent;\n",
       "    border-bottom-color: var(--fill-color);\n",
       "    animation:\n",
       "      spin 1s steps(1) infinite;\n",
       "  }\n",
       "\n",
       "  @keyframes spin {\n",
       "    0% {\n",
       "      border-color: transparent;\n",
       "      border-bottom-color: var(--fill-color);\n",
       "      border-left-color: var(--fill-color);\n",
       "    }\n",
       "    20% {\n",
       "      border-color: transparent;\n",
       "      border-left-color: var(--fill-color);\n",
       "      border-top-color: var(--fill-color);\n",
       "    }\n",
       "    30% {\n",
       "      border-color: transparent;\n",
       "      border-left-color: var(--fill-color);\n",
       "      border-top-color: var(--fill-color);\n",
       "      border-right-color: var(--fill-color);\n",
       "    }\n",
       "    40% {\n",
       "      border-color: transparent;\n",
       "      border-right-color: var(--fill-color);\n",
       "      border-top-color: var(--fill-color);\n",
       "    }\n",
       "    60% {\n",
       "      border-color: transparent;\n",
       "      border-right-color: var(--fill-color);\n",
       "    }\n",
       "    80% {\n",
       "      border-color: transparent;\n",
       "      border-right-color: var(--fill-color);\n",
       "      border-bottom-color: var(--fill-color);\n",
       "    }\n",
       "    90% {\n",
       "      border-color: transparent;\n",
       "      border-bottom-color: var(--fill-color);\n",
       "    }\n",
       "  }\n",
       "</style>\n",
       "\n",
       "  <script>\n",
       "    async function quickchart(key) {\n",
       "      const quickchartButtonEl =\n",
       "        document.querySelector('#' + key + ' button');\n",
       "      quickchartButtonEl.disabled = true;  // To prevent multiple clicks.\n",
       "      quickchartButtonEl.classList.add('colab-df-spinner');\n",
       "      try {\n",
       "        const charts = await google.colab.kernel.invokeFunction(\n",
       "            'suggestCharts', [key], {});\n",
       "      } catch (error) {\n",
       "        console.error('Error during call to suggestCharts:', error);\n",
       "      }\n",
       "      quickchartButtonEl.classList.remove('colab-df-spinner');\n",
       "      quickchartButtonEl.classList.add('colab-df-quickchart-complete');\n",
       "    }\n",
       "    (() => {\n",
       "      let quickchartButtonEl =\n",
       "        document.querySelector('#df-556090c3-0ef3-4125-adfe-41a97e00ec87 button');\n",
       "      quickchartButtonEl.style.display =\n",
       "        google.colab.kernel.accessAllowed ? 'block' : 'none';\n",
       "    })();\n",
       "  </script>\n",
       "</div>\n",
       "\n",
       "    </div>\n",
       "  </div>\n"
      ],
      "text/plain": [
       "              count         mean         std     min      25%     50%  \\\n",
       "MPG           314.0    23.310510    7.728652    10.0    17.00    22.0   \n",
       "Cylinders     314.0     5.477707    1.699788     3.0     4.00     4.0   \n",
       "Displacement  314.0   195.318471  104.331589    68.0   105.50   151.0   \n",
       "Horsepower    314.0   104.869427   38.096214    46.0    76.25    94.5   \n",
       "Weight        314.0  2990.251592  843.898596  1649.0  2256.50  2822.5   \n",
       "Acceleration  314.0    15.559236    2.789230     8.0    13.80    15.5   \n",
       "Model Year    314.0    75.898089    3.675642    70.0    73.00    76.0   \n",
       "\n",
       "                  75%     max  \n",
       "MPG             28.95    46.6  \n",
       "Cylinders        8.00     8.0  \n",
       "Displacement   265.75   455.0  \n",
       "Horsepower     128.00   225.0  \n",
       "Weight        3608.00  5140.0  \n",
       "Acceleration    17.20    24.8  \n",
       "Model Year      79.00    82.0  "
      ]
     },
     "execution_count": 12,
     "metadata": {},
     "output_type": "execute_result"
    }
   ],
   "source": [
    "train_dataset.describe().transpose()"
   ]
  },
  {
   "cell_type": "markdown",
   "metadata": {
    "id": "-ywmerQ6dSox"
   },
   "source": [
    "* Una buena práctica es normalizar las características. Una razón para hacer esto es que las carácterísticas son multiplicadas por pesos del modelo. Por tanto, la escala de los outputs y la escala de los gradientes es afectada por la escala de los inputs.\n",
    "\n",
    "* Un modelo *podría* converger sin normalización de las características, pero la normalización hace al entrenamiento más estable.\n",
    "\n",
    "* La capa de Keras `tf.keras.layers.Normalization` es una forma limpia y simple de agregar normalización de características a nuestro modelo.\n",
    "\n",
    "* Para esto, en primer lugar, creamos la capa:"
   ]
  },
  {
   "cell_type": "code",
   "execution_count": null,
   "metadata": {
    "id": "JlC5ooJrgjQF"
   },
   "outputs": [],
   "source": [
    "normalizer = tf.keras.layers.Normalization(axis=-1)"
   ]
  },
  {
   "cell_type": "markdown",
   "metadata": {
    "id": "XYA2Ap6nVOha"
   },
   "source": [
    "* Luego, ajustamos el estado de la capa de pre-procesamiento a los datos mediante el uso de `Normalization.adapt`:"
   ]
  },
  {
   "cell_type": "code",
   "execution_count": null,
   "metadata": {
    "id": "CrBbbjbwV91f"
   },
   "outputs": [],
   "source": [
    "normalizer.adapt(np.array(train_features))"
   ]
  },
  {
   "cell_type": "markdown",
   "metadata": {
    "id": "oZccMR5yV9YV"
   },
   "source": [
    "* Calculamos la media y la variance, y las guardamos en la capa:"
   ]
  },
  {
   "cell_type": "code",
   "execution_count": null,
   "metadata": {
    "colab": {
     "base_uri": "https://localhost:8080/"
    },
    "executionInfo": {
     "elapsed": 329,
     "status": "ok",
     "timestamp": 1724343450059,
     "user": {
      "displayName": "Juan Pablo Meneses Casanova",
      "userId": "14128096026203214905"
     },
     "user_tz": 240
    },
    "id": "GGn-ukwxSPtx",
    "outputId": "936e025d-33c2-43f1-da6d-b545e6411fd2"
   },
   "outputs": [
    {
     "name": "stdout",
     "output_type": "stream",
     "text": [
      "[[   5.478  195.318  104.869 2990.252   15.559   75.898    0.178    0.197\n",
      "     0.624]]\n"
     ]
    }
   ],
   "source": [
    "print(normalizer.mean.numpy())"
   ]
  },
  {
   "cell_type": "markdown",
   "metadata": {
    "id": "oGWKaF9GSRuN"
   },
   "source": [
    "* De este modo, cuando llamamos a la capa de normalización, esta retorna las características de entrada normalizadas de forma independiente:"
   ]
  },
  {
   "cell_type": "code",
   "execution_count": null,
   "metadata": {
    "colab": {
     "base_uri": "https://localhost:8080/"
    },
    "executionInfo": {
     "elapsed": 302,
     "status": "ok",
     "timestamp": 1724343506680,
     "user": {
      "displayName": "Juan Pablo Meneses Casanova",
      "userId": "14128096026203214905"
     },
     "user_tz": 240
    },
    "id": "2l7zFL_XWIRu",
    "outputId": "416877eb-b1e3-4c6d-f755-c680b1f4dfb4"
   },
   "outputs": [
    {
     "name": "stdout",
     "output_type": "stream",
     "text": [
      "First example: [[4 90.0 75.0 2125.0 14.5 74 False False True]]\n",
      "\n",
      "Normalized: [[-0.87 -1.01 -0.79 -1.03 -0.38 -0.52 -0.47 -0.5   0.78]]\n"
     ]
    }
   ],
   "source": [
    "first = np.array(train_features[:1])\n",
    "\n",
    "with np.printoptions(precision=2, suppress=True):\n",
    "  print('First example:', first)\n",
    "  print()\n",
    "  print('Normalized:', normalizer(first.astype('float32')).numpy())"
   ]
  },
  {
   "cell_type": "markdown",
   "metadata": {
    "id": "lFby9n0tnHkw"
   },
   "source": [
    "<hr>\n",
    "\n",
    "\n",
    "### <a name=\"M36\">3.6. Resolución con regresión lineal uni-variable</a>\n",
    "\n",
    "* Comenzamos con una regresión lineal uni-variable para predecir `'MPG'` usando solo la característica `'Horsepower'` (caballos de fuerza).\n",
    "\n",
    "* Para entrenar un modelo con `tf.keras`, típicamente es necesario definir en primer lugar la arquitectura del modelo. Para esto, creamos un objeto `tf.keras.Sequential`, que crea un modelo [mediante la descripción de una serie de pasos u operaciones](https://www.tensorflow.org/guide/keras/sequential_model).\n",
    "\n",
    "* En nuestra regresión lineal uni-variable, hay dos pasos dentro del modelo:\n",
    "\n",
    "  - Normalizar la características de entrada, `'Horsepower'`, usando la capa de normalización `tf.keras.layers.Normalization`.\n",
    "  - Aplicar una transofmración lineal del tipo $y = mx+b$ para producir un output usando una capa lineal (`tf.keras.layers.Dense`).\n",
    "\n",
    "* El número de _inputs_ puede ser definido ya sea usando el argumento `input_shape`, o bien de forma automática cuando el modelo es ejecutado por primera vez.\n",
    "\n",
    "* Primero, creamos un arreglo NumPy compuesto por los valores de la característica `'Horsepower'`. Luego, instanciamos la capa `tf.keras.layers.Normalization` y ajustamos su estado a los datos:"
   ]
  },
  {
   "cell_type": "code",
   "execution_count": null,
   "metadata": {
    "colab": {
     "base_uri": "https://localhost:8080/"
    },
    "executionInfo": {
     "elapsed": 1135,
     "status": "ok",
     "timestamp": 1724343675696,
     "user": {
      "displayName": "Juan Pablo Meneses Casanova",
      "userId": "14128096026203214905"
     },
     "user_tz": 240
    },
    "id": "1gJAy0fKs1TS",
    "outputId": "9c8bb27f-8086-4a07-ae58-e46e76400a6f"
   },
   "outputs": [
    {
     "name": "stderr",
     "output_type": "stream",
     "text": [
      "/usr/local/lib/python3.10/dist-packages/keras/src/layers/preprocessing/tf_data_layer.py:19: UserWarning: Do not pass an `input_shape`/`input_dim` argument to a layer. When using Sequential models, prefer using an `Input(shape)` object as the first layer in the model instead.\n",
      "  super().__init__(**kwargs)\n"
     ]
    }
   ],
   "source": [
    "horsepower = np.array(train_features['Horsepower'])\n",
    "\n",
    "horsepower_normalizer = layers.Normalization(input_shape=[1,], axis=None)\n",
    "horsepower_normalizer.adapt(horsepower)"
   ]
  },
  {
   "cell_type": "markdown",
   "metadata": {
    "id": "4NVlHJY2TWlC"
   },
   "source": [
    "* Luego, construimos el modelo Keras Sequential. Este modelo debiera ser capaz de predecir `'MPG'` usando `'Horsepower'`:"
   ]
  },
  {
   "cell_type": "code",
   "execution_count": null,
   "metadata": {
    "colab": {
     "base_uri": "https://localhost:8080/",
     "height": 199
    },
    "executionInfo": {
     "elapsed": 783,
     "status": "ok",
     "timestamp": 1724343713578,
     "user": {
      "displayName": "Juan Pablo Meneses Casanova",
      "userId": "14128096026203214905"
     },
     "user_tz": 240
    },
    "id": "c0sXM7qLlKfZ",
    "outputId": "cb2a88e6-82d6-4ab9-f8fc-de4fa4423368"
   },
   "outputs": [
    {
     "data": {
      "text/html": [
       "<pre style=\"white-space:pre;overflow-x:auto;line-height:normal;font-family:Menlo,'DejaVu Sans Mono',consolas,'Courier New',monospace\"><span style=\"font-weight: bold\">Model: \"sequential\"</span>\n",
       "</pre>\n"
      ],
      "text/plain": [
       "\u001b[1mModel: \"sequential\"\u001b[0m\n"
      ]
     },
     "metadata": {},
     "output_type": "display_data"
    },
    {
     "data": {
      "text/html": [
       "<pre style=\"white-space:pre;overflow-x:auto;line-height:normal;font-family:Menlo,'DejaVu Sans Mono',consolas,'Courier New',monospace\">┏━━━━━━━━━━━━━━━━━━━━━━━━━━━━━━━━━━━━━━┳━━━━━━━━━━━━━━━━━━━━━━━━━━━━━┳━━━━━━━━━━━━━━━━━┓\n",
       "┃<span style=\"font-weight: bold\"> Layer (type)                         </span>┃<span style=\"font-weight: bold\"> Output Shape                </span>┃<span style=\"font-weight: bold\">         Param # </span>┃\n",
       "┡━━━━━━━━━━━━━━━━━━━━━━━━━━━━━━━━━━━━━━╇━━━━━━━━━━━━━━━━━━━━━━━━━━━━━╇━━━━━━━━━━━━━━━━━┩\n",
       "│ normalization_1 (<span style=\"color: #0087ff; text-decoration-color: #0087ff\">Normalization</span>)      │ (<span style=\"color: #00d7ff; text-decoration-color: #00d7ff\">None</span>, <span style=\"color: #00af00; text-decoration-color: #00af00\">1</span>)                   │               <span style=\"color: #00af00; text-decoration-color: #00af00\">3</span> │\n",
       "├──────────────────────────────────────┼─────────────────────────────┼─────────────────┤\n",
       "│ dense (<span style=\"color: #0087ff; text-decoration-color: #0087ff\">Dense</span>)                        │ (<span style=\"color: #00d7ff; text-decoration-color: #00d7ff\">None</span>, <span style=\"color: #00af00; text-decoration-color: #00af00\">1</span>)                   │               <span style=\"color: #00af00; text-decoration-color: #00af00\">2</span> │\n",
       "└──────────────────────────────────────┴─────────────────────────────┴─────────────────┘\n",
       "</pre>\n"
      ],
      "text/plain": [
       "┏━━━━━━━━━━━━━━━━━━━━━━━━━━━━━━━━━━━━━━┳━━━━━━━━━━━━━━━━━━━━━━━━━━━━━┳━━━━━━━━━━━━━━━━━┓\n",
       "┃\u001b[1m \u001b[0m\u001b[1mLayer (type)                        \u001b[0m\u001b[1m \u001b[0m┃\u001b[1m \u001b[0m\u001b[1mOutput Shape               \u001b[0m\u001b[1m \u001b[0m┃\u001b[1m \u001b[0m\u001b[1m        Param #\u001b[0m\u001b[1m \u001b[0m┃\n",
       "┡━━━━━━━━━━━━━━━━━━━━━━━━━━━━━━━━━━━━━━╇━━━━━━━━━━━━━━━━━━━━━━━━━━━━━╇━━━━━━━━━━━━━━━━━┩\n",
       "│ normalization_1 (\u001b[38;5;33mNormalization\u001b[0m)      │ (\u001b[38;5;45mNone\u001b[0m, \u001b[38;5;34m1\u001b[0m)                   │               \u001b[38;5;34m3\u001b[0m │\n",
       "├──────────────────────────────────────┼─────────────────────────────┼─────────────────┤\n",
       "│ dense (\u001b[38;5;33mDense\u001b[0m)                        │ (\u001b[38;5;45mNone\u001b[0m, \u001b[38;5;34m1\u001b[0m)                   │               \u001b[38;5;34m2\u001b[0m │\n",
       "└──────────────────────────────────────┴─────────────────────────────┴─────────────────┘\n"
      ]
     },
     "metadata": {},
     "output_type": "display_data"
    },
    {
     "data": {
      "text/html": [
       "<pre style=\"white-space:pre;overflow-x:auto;line-height:normal;font-family:Menlo,'DejaVu Sans Mono',consolas,'Courier New',monospace\"><span style=\"font-weight: bold\"> Total params: </span><span style=\"color: #00af00; text-decoration-color: #00af00\">5</span> (24.00 B)\n",
       "</pre>\n"
      ],
      "text/plain": [
       "\u001b[1m Total params: \u001b[0m\u001b[38;5;34m5\u001b[0m (24.00 B)\n"
      ]
     },
     "metadata": {},
     "output_type": "display_data"
    },
    {
     "data": {
      "text/html": [
       "<pre style=\"white-space:pre;overflow-x:auto;line-height:normal;font-family:Menlo,'DejaVu Sans Mono',consolas,'Courier New',monospace\"><span style=\"font-weight: bold\"> Trainable params: </span><span style=\"color: #00af00; text-decoration-color: #00af00\">2</span> (8.00 B)\n",
       "</pre>\n"
      ],
      "text/plain": [
       "\u001b[1m Trainable params: \u001b[0m\u001b[38;5;34m2\u001b[0m (8.00 B)\n"
      ]
     },
     "metadata": {},
     "output_type": "display_data"
    },
    {
     "data": {
      "text/html": [
       "<pre style=\"white-space:pre;overflow-x:auto;line-height:normal;font-family:Menlo,'DejaVu Sans Mono',consolas,'Courier New',monospace\"><span style=\"font-weight: bold\"> Non-trainable params: </span><span style=\"color: #00af00; text-decoration-color: #00af00\">3</span> (16.00 B)\n",
       "</pre>\n"
      ],
      "text/plain": [
       "\u001b[1m Non-trainable params: \u001b[0m\u001b[38;5;34m3\u001b[0m (16.00 B)\n"
      ]
     },
     "metadata": {},
     "output_type": "display_data"
    }
   ],
   "source": [
    "horsepower_model = tf.keras.Sequential([\n",
    "    horsepower_normalizer,\n",
    "    layers.Dense(units=1)\n",
    "])\n",
    "\n",
    "horsepower_model.summary()"
   ]
  },
  {
   "cell_type": "markdown",
   "metadata": {
    "id": "eObQu9fDnXGL"
   },
   "source": [
    "* Ejecutamos el modelo no entrenado en los primeros 10 valores de 'Horsepower'. El output no será bueno, pero veremos que tiene la forma esperada `(10, 1)`:"
   ]
  },
  {
   "cell_type": "code",
   "execution_count": null,
   "metadata": {
    "colab": {
     "base_uri": "https://localhost:8080/"
    },
    "executionInfo": {
     "elapsed": 798,
     "status": "ok",
     "timestamp": 1724343996968,
     "user": {
      "displayName": "Juan Pablo Meneses Casanova",
      "userId": "14128096026203214905"
     },
     "user_tz": 240
    },
    "id": "UfV1HS6bns-s",
    "outputId": "a74d38ef-e745-4894-8928-f26cf937756d"
   },
   "outputs": [
    {
     "name": "stdout",
     "output_type": "stream",
     "text": [
      "\u001b[1m1/1\u001b[0m \u001b[32m━━━━━━━━━━━━━━━━━━━━\u001b[0m\u001b[37m\u001b[0m \u001b[1m0s\u001b[0m 181ms/step\n"
     ]
    },
    {
     "data": {
      "text/plain": [
       "array([[-0.368],\n",
       "       [-0.208],\n",
       "       [ 0.678],\n",
       "       [-0.515],\n",
       "       [-0.466],\n",
       "       [-0.183],\n",
       "       [-0.552],\n",
       "       [-0.466],\n",
       "       [-0.121],\n",
       "       [-0.208]], dtype=float32)"
      ]
     },
     "execution_count": 19,
     "metadata": {},
     "output_type": "execute_result"
    }
   ],
   "source": [
    "horsepower_model.predict(horsepower[:10])"
   ]
  },
  {
   "cell_type": "markdown",
   "metadata": {
    "id": "CSkanJlmmFBX"
   },
   "source": [
    "* Una vez que el modelo es construido, configuramos el proceso de entrenamiento usando el método de Keras `Model.compile`. Los argumentos más importantes para compilar son la función de pérdida (`loss`) y el optimizador (`optimizer`), ya que estos definen que será optimizado (p.ej.: el error absoluto medio [`mean_absolute_error`]) y cómo (p.ej.: usando el optimizador *Adaptive moment estimation* [`tf.keras.optimizers.Adam`])."
   ]
  },
  {
   "cell_type": "code",
   "execution_count": null,
   "metadata": {
    "id": "JxA_3lpOm-SK"
   },
   "outputs": [],
   "source": [
    "horsepower_model.compile(\n",
    "    optimizer=tf.keras.optimizers.SGD(learning_rate=0.1),\n",
    "    loss='mean_squared_error')"
   ]
  },
  {
   "cell_type": "markdown",
   "metadata": {
    "id": "Z3q1I9TwnRSC"
   },
   "source": [
    "* Usamos la función de Keras `Model.fit` para ejecutar el entrenamiento por 100 épocas:"
   ]
  },
  {
   "cell_type": "code",
   "execution_count": null,
   "metadata": {
    "colab": {
     "base_uri": "https://localhost:8080/"
    },
    "executionInfo": {
     "elapsed": 18881,
     "status": "ok",
     "timestamp": 1724344335956,
     "user": {
      "displayName": "Juan Pablo Meneses Casanova",
      "userId": "14128096026203214905"
     },
     "user_tz": 240
    },
    "id": "-iSrNy59nRAp",
    "outputId": "11005acd-9356-4627-cda8-c9d17fd7c6b3"
   },
   "outputs": [
    {
     "name": "stdout",
     "output_type": "stream",
     "text": [
      "Epoch 1/100\n",
      "\u001b[1m8/8\u001b[0m \u001b[32m━━━━━━━━━━━━━━━━━━━━\u001b[0m\u001b[37m\u001b[0m \u001b[1m3s\u001b[0m 273ms/step - loss: 360.2541 - val_loss: 45.0171\n",
      "Epoch 2/100\n",
      "\u001b[1m8/8\u001b[0m \u001b[32m━━━━━━━━━━━━━━━━━━━━\u001b[0m\u001b[37m\u001b[0m \u001b[1m0s\u001b[0m 35ms/step - loss: 38.9554 - val_loss: 24.9685\n",
      "Epoch 3/100\n",
      "\u001b[1m8/8\u001b[0m \u001b[32m━━━━━━━━━━━━━━━━━━━━\u001b[0m\u001b[37m\u001b[0m \u001b[1m1s\u001b[0m 32ms/step - loss: 24.2958 - val_loss: 23.7445\n",
      "Epoch 4/100\n",
      "\u001b[1m8/8\u001b[0m \u001b[32m━━━━━━━━━━━━━━━━━━━━\u001b[0m\u001b[37m\u001b[0m \u001b[1m1s\u001b[0m 73ms/step - loss: 25.8560 - val_loss: 23.5906\n",
      "Epoch 5/100\n",
      "\u001b[1m8/8\u001b[0m \u001b[32m━━━━━━━━━━━━━━━━━━━━\u001b[0m\u001b[37m\u001b[0m \u001b[1m1s\u001b[0m 6ms/step - loss: 22.5152 - val_loss: 23.7057\n",
      "Epoch 6/100\n",
      "\u001b[1m8/8\u001b[0m \u001b[32m━━━━━━━━━━━━━━━━━━━━\u001b[0m\u001b[37m\u001b[0m \u001b[1m0s\u001b[0m 6ms/step - loss: 25.0549 - val_loss: 24.0479\n",
      "Epoch 7/100\n",
      "\u001b[1m8/8\u001b[0m \u001b[32m━━━━━━━━━━━━━━━━━━━━\u001b[0m\u001b[37m\u001b[0m \u001b[1m0s\u001b[0m 9ms/step - loss: 25.7153 - val_loss: 24.0193\n",
      "Epoch 8/100\n",
      "\u001b[1m8/8\u001b[0m \u001b[32m━━━━━━━━━━━━━━━━━━━━\u001b[0m\u001b[37m\u001b[0m \u001b[1m0s\u001b[0m 6ms/step - loss: 24.4314 - val_loss: 24.1427\n",
      "Epoch 9/100\n",
      "\u001b[1m8/8\u001b[0m \u001b[32m━━━━━━━━━━━━━━━━━━━━\u001b[0m\u001b[37m\u001b[0m \u001b[1m0s\u001b[0m 9ms/step - loss: 24.7530 - val_loss: 24.0405\n",
      "Epoch 10/100\n",
      "\u001b[1m8/8\u001b[0m \u001b[32m━━━━━━━━━━━━━━━━━━━━\u001b[0m\u001b[37m\u001b[0m \u001b[1m0s\u001b[0m 6ms/step - loss: 23.8194 - val_loss: 24.1381\n",
      "Epoch 11/100\n",
      "\u001b[1m8/8\u001b[0m \u001b[32m━━━━━━━━━━━━━━━━━━━━\u001b[0m\u001b[37m\u001b[0m \u001b[1m0s\u001b[0m 8ms/step - loss: 23.5474 - val_loss: 24.1601\n",
      "Epoch 12/100\n",
      "\u001b[1m8/8\u001b[0m \u001b[32m━━━━━━━━━━━━━━━━━━━━\u001b[0m\u001b[37m\u001b[0m \u001b[1m0s\u001b[0m 7ms/step - loss: 26.2798 - val_loss: 23.8217\n",
      "Epoch 13/100\n",
      "\u001b[1m8/8\u001b[0m \u001b[32m━━━━━━━━━━━━━━━━━━━━\u001b[0m\u001b[37m\u001b[0m \u001b[1m0s\u001b[0m 8ms/step - loss: 24.2193 - val_loss: 23.8649\n",
      "Epoch 14/100\n",
      "\u001b[1m8/8\u001b[0m \u001b[32m━━━━━━━━━━━━━━━━━━━━\u001b[0m\u001b[37m\u001b[0m \u001b[1m0s\u001b[0m 11ms/step - loss: 26.9740 - val_loss: 23.7314\n",
      "Epoch 15/100\n",
      "\u001b[1m8/8\u001b[0m \u001b[32m━━━━━━━━━━━━━━━━━━━━\u001b[0m\u001b[37m\u001b[0m \u001b[1m0s\u001b[0m 7ms/step - loss: 28.4572 - val_loss: 23.7155\n",
      "Epoch 16/100\n",
      "\u001b[1m8/8\u001b[0m \u001b[32m━━━━━━━━━━━━━━━━━━━━\u001b[0m\u001b[37m\u001b[0m \u001b[1m0s\u001b[0m 7ms/step - loss: 26.1586 - val_loss: 23.8925\n",
      "Epoch 17/100\n",
      "\u001b[1m8/8\u001b[0m \u001b[32m━━━━━━━━━━━━━━━━━━━━\u001b[0m\u001b[37m\u001b[0m \u001b[1m0s\u001b[0m 7ms/step - loss: 25.2949 - val_loss: 23.7576\n",
      "Epoch 18/100\n",
      "\u001b[1m8/8\u001b[0m \u001b[32m━━━━━━━━━━━━━━━━━━━━\u001b[0m\u001b[37m\u001b[0m \u001b[1m0s\u001b[0m 9ms/step - loss: 23.9616 - val_loss: 23.8396\n",
      "Epoch 19/100\n",
      "\u001b[1m8/8\u001b[0m \u001b[32m━━━━━━━━━━━━━━━━━━━━\u001b[0m\u001b[37m\u001b[0m \u001b[1m0s\u001b[0m 9ms/step - loss: 25.5782 - val_loss: 23.7171\n",
      "Epoch 20/100\n",
      "\u001b[1m8/8\u001b[0m \u001b[32m━━━━━━━━━━━━━━━━━━━━\u001b[0m\u001b[37m\u001b[0m \u001b[1m0s\u001b[0m 7ms/step - loss: 25.2403 - val_loss: 23.8154\n",
      "Epoch 21/100\n",
      "\u001b[1m8/8\u001b[0m \u001b[32m━━━━━━━━━━━━━━━━━━━━\u001b[0m\u001b[37m\u001b[0m \u001b[1m0s\u001b[0m 12ms/step - loss: 25.9772 - val_loss: 24.0616\n",
      "Epoch 22/100\n",
      "\u001b[1m8/8\u001b[0m \u001b[32m━━━━━━━━━━━━━━━━━━━━\u001b[0m\u001b[37m\u001b[0m \u001b[1m0s\u001b[0m 9ms/step - loss: 23.6362 - val_loss: 24.0840\n",
      "Epoch 23/100\n",
      "\u001b[1m8/8\u001b[0m \u001b[32m━━━━━━━━━━━━━━━━━━━━\u001b[0m\u001b[37m\u001b[0m \u001b[1m0s\u001b[0m 7ms/step - loss: 25.3275 - val_loss: 23.7335\n",
      "Epoch 24/100\n",
      "\u001b[1m8/8\u001b[0m \u001b[32m━━━━━━━━━━━━━━━━━━━━\u001b[0m\u001b[37m\u001b[0m \u001b[1m0s\u001b[0m 9ms/step - loss: 22.8981 - val_loss: 23.7523\n",
      "Epoch 25/100\n",
      "\u001b[1m8/8\u001b[0m \u001b[32m━━━━━━━━━━━━━━━━━━━━\u001b[0m\u001b[37m\u001b[0m \u001b[1m0s\u001b[0m 6ms/step - loss: 24.3199 - val_loss: 23.8578\n",
      "Epoch 26/100\n",
      "\u001b[1m8/8\u001b[0m \u001b[32m━━━━━━━━━━━━━━━━━━━━\u001b[0m\u001b[37m\u001b[0m \u001b[1m0s\u001b[0m 7ms/step - loss: 25.7192 - val_loss: 23.9908\n",
      "Epoch 27/100\n",
      "\u001b[1m8/8\u001b[0m \u001b[32m━━━━━━━━━━━━━━━━━━━━\u001b[0m\u001b[37m\u001b[0m \u001b[1m0s\u001b[0m 9ms/step - loss: 24.2370 - val_loss: 23.9319\n",
      "Epoch 28/100\n",
      "\u001b[1m8/8\u001b[0m \u001b[32m━━━━━━━━━━━━━━━━━━━━\u001b[0m\u001b[37m\u001b[0m \u001b[1m0s\u001b[0m 6ms/step - loss: 24.9978 - val_loss: 24.0098\n",
      "Epoch 29/100\n",
      "\u001b[1m8/8\u001b[0m \u001b[32m━━━━━━━━━━━━━━━━━━━━\u001b[0m\u001b[37m\u001b[0m \u001b[1m0s\u001b[0m 9ms/step - loss: 23.4759 - val_loss: 23.6941\n",
      "Epoch 30/100\n",
      "\u001b[1m8/8\u001b[0m \u001b[32m━━━━━━━━━━━━━━━━━━━━\u001b[0m\u001b[37m\u001b[0m \u001b[1m0s\u001b[0m 12ms/step - loss: 27.3412 - val_loss: 23.8429\n",
      "Epoch 31/100\n",
      "\u001b[1m8/8\u001b[0m \u001b[32m━━━━━━━━━━━━━━━━━━━━\u001b[0m\u001b[37m\u001b[0m \u001b[1m0s\u001b[0m 6ms/step - loss: 25.0393 - val_loss: 23.9407\n",
      "Epoch 32/100\n",
      "\u001b[1m8/8\u001b[0m \u001b[32m━━━━━━━━━━━━━━━━━━━━\u001b[0m\u001b[37m\u001b[0m \u001b[1m0s\u001b[0m 7ms/step - loss: 23.2511 - val_loss: 23.9103\n",
      "Epoch 33/100\n",
      "\u001b[1m8/8\u001b[0m \u001b[32m━━━━━━━━━━━━━━━━━━━━\u001b[0m\u001b[37m\u001b[0m \u001b[1m0s\u001b[0m 9ms/step - loss: 26.4842 - val_loss: 23.8444\n",
      "Epoch 34/100\n",
      "\u001b[1m8/8\u001b[0m \u001b[32m━━━━━━━━━━━━━━━━━━━━\u001b[0m\u001b[37m\u001b[0m \u001b[1m0s\u001b[0m 7ms/step - loss: 27.6952 - val_loss: 23.6576\n",
      "Epoch 35/100\n",
      "\u001b[1m8/8\u001b[0m \u001b[32m━━━━━━━━━━━━━━━━━━━━\u001b[0m\u001b[37m\u001b[0m \u001b[1m0s\u001b[0m 7ms/step - loss: 26.8312 - val_loss: 23.8632\n",
      "Epoch 36/100\n",
      "\u001b[1m8/8\u001b[0m \u001b[32m━━━━━━━━━━━━━━━━━━━━\u001b[0m\u001b[37m\u001b[0m \u001b[1m0s\u001b[0m 9ms/step - loss: 24.1812 - val_loss: 23.6633\n",
      "Epoch 37/100\n",
      "\u001b[1m8/8\u001b[0m \u001b[32m━━━━━━━━━━━━━━━━━━━━\u001b[0m\u001b[37m\u001b[0m \u001b[1m0s\u001b[0m 9ms/step - loss: 26.4379 - val_loss: 23.9644\n",
      "Epoch 38/100\n",
      "\u001b[1m8/8\u001b[0m \u001b[32m━━━━━━━━━━━━━━━━━━━━\u001b[0m\u001b[37m\u001b[0m \u001b[1m0s\u001b[0m 6ms/step - loss: 26.0572 - val_loss: 24.0303\n",
      "Epoch 39/100\n",
      "\u001b[1m8/8\u001b[0m \u001b[32m━━━━━━━━━━━━━━━━━━━━\u001b[0m\u001b[37m\u001b[0m \u001b[1m0s\u001b[0m 6ms/step - loss: 25.0196 - val_loss: 23.8181\n",
      "Epoch 40/100\n",
      "\u001b[1m8/8\u001b[0m \u001b[32m━━━━━━━━━━━━━━━━━━━━\u001b[0m\u001b[37m\u001b[0m \u001b[1m0s\u001b[0m 7ms/step - loss: 26.5780 - val_loss: 23.8424\n",
      "Epoch 41/100\n",
      "\u001b[1m8/8\u001b[0m \u001b[32m━━━━━━━━━━━━━━━━━━━━\u001b[0m\u001b[37m\u001b[0m \u001b[1m0s\u001b[0m 7ms/step - loss: 24.7557 - val_loss: 23.7439\n",
      "Epoch 42/100\n",
      "\u001b[1m8/8\u001b[0m \u001b[32m━━━━━━━━━━━━━━━━━━━━\u001b[0m\u001b[37m\u001b[0m \u001b[1m0s\u001b[0m 9ms/step - loss: 22.5910 - val_loss: 23.6644\n",
      "Epoch 43/100\n",
      "\u001b[1m8/8\u001b[0m \u001b[32m━━━━━━━━━━━━━━━━━━━━\u001b[0m\u001b[37m\u001b[0m \u001b[1m0s\u001b[0m 7ms/step - loss: 26.3071 - val_loss: 23.9128\n",
      "Epoch 44/100\n",
      "\u001b[1m8/8\u001b[0m \u001b[32m━━━━━━━━━━━━━━━━━━━━\u001b[0m\u001b[37m\u001b[0m \u001b[1m0s\u001b[0m 9ms/step - loss: 24.3013 - val_loss: 23.7679\n",
      "Epoch 45/100\n",
      "\u001b[1m8/8\u001b[0m \u001b[32m━━━━━━━━━━━━━━━━━━━━\u001b[0m\u001b[37m\u001b[0m \u001b[1m0s\u001b[0m 11ms/step - loss: 23.3770 - val_loss: 23.8162\n",
      "Epoch 46/100\n",
      "\u001b[1m8/8\u001b[0m \u001b[32m━━━━━━━━━━━━━━━━━━━━\u001b[0m\u001b[37m\u001b[0m \u001b[1m0s\u001b[0m 9ms/step - loss: 25.8353 - val_loss: 23.8990\n",
      "Epoch 47/100\n",
      "\u001b[1m8/8\u001b[0m \u001b[32m━━━━━━━━━━━━━━━━━━━━\u001b[0m\u001b[37m\u001b[0m \u001b[1m0s\u001b[0m 9ms/step - loss: 27.2558 - val_loss: 24.0402\n",
      "Epoch 48/100\n",
      "\u001b[1m8/8\u001b[0m \u001b[32m━━━━━━━━━━━━━━━━━━━━\u001b[0m\u001b[37m\u001b[0m \u001b[1m0s\u001b[0m 6ms/step - loss: 28.6952 - val_loss: 23.8485\n",
      "Epoch 49/100\n",
      "\u001b[1m8/8\u001b[0m \u001b[32m━━━━━━━━━━━━━━━━━━━━\u001b[0m\u001b[37m\u001b[0m \u001b[1m0s\u001b[0m 6ms/step - loss: 24.4719 - val_loss: 23.7383\n",
      "Epoch 50/100\n",
      "\u001b[1m8/8\u001b[0m \u001b[32m━━━━━━━━━━━━━━━━━━━━\u001b[0m\u001b[37m\u001b[0m \u001b[1m0s\u001b[0m 10ms/step - loss: 25.2004 - val_loss: 23.8171\n",
      "Epoch 51/100\n",
      "\u001b[1m8/8\u001b[0m \u001b[32m━━━━━━━━━━━━━━━━━━━━\u001b[0m\u001b[37m\u001b[0m \u001b[1m0s\u001b[0m 7ms/step - loss: 23.8439 - val_loss: 23.9014\n",
      "Epoch 52/100\n",
      "\u001b[1m8/8\u001b[0m \u001b[32m━━━━━━━━━━━━━━━━━━━━\u001b[0m\u001b[37m\u001b[0m \u001b[1m0s\u001b[0m 9ms/step - loss: 27.5845 - val_loss: 23.8218\n",
      "Epoch 53/100\n",
      "\u001b[1m8/8\u001b[0m \u001b[32m━━━━━━━━━━━━━━━━━━━━\u001b[0m\u001b[37m\u001b[0m \u001b[1m0s\u001b[0m 8ms/step - loss: 26.2448 - val_loss: 24.1443\n",
      "Epoch 54/100\n",
      "\u001b[1m8/8\u001b[0m \u001b[32m━━━━━━━━━━━━━━━━━━━━\u001b[0m\u001b[37m\u001b[0m \u001b[1m0s\u001b[0m 9ms/step - loss: 26.5346 - val_loss: 24.0292\n",
      "Epoch 55/100\n",
      "\u001b[1m8/8\u001b[0m \u001b[32m━━━━━━━━━━━━━━━━━━━━\u001b[0m\u001b[37m\u001b[0m \u001b[1m0s\u001b[0m 11ms/step - loss: 25.3358 - val_loss: 23.9972\n",
      "Epoch 56/100\n",
      "\u001b[1m8/8\u001b[0m \u001b[32m━━━━━━━━━━━━━━━━━━━━\u001b[0m\u001b[37m\u001b[0m \u001b[1m0s\u001b[0m 9ms/step - loss: 25.8372 - val_loss: 24.0377\n",
      "Epoch 57/100\n",
      "\u001b[1m8/8\u001b[0m \u001b[32m━━━━━━━━━━━━━━━━━━━━\u001b[0m\u001b[37m\u001b[0m \u001b[1m0s\u001b[0m 7ms/step - loss: 21.8957 - val_loss: 23.7081\n",
      "Epoch 58/100\n",
      "\u001b[1m8/8\u001b[0m \u001b[32m━━━━━━━━━━━━━━━━━━━━\u001b[0m\u001b[37m\u001b[0m \u001b[1m0s\u001b[0m 7ms/step - loss: 23.3482 - val_loss: 23.9332\n",
      "Epoch 59/100\n",
      "\u001b[1m8/8\u001b[0m \u001b[32m━━━━━━━━━━━━━━━━━━━━\u001b[0m\u001b[37m\u001b[0m \u001b[1m0s\u001b[0m 9ms/step - loss: 26.8507 - val_loss: 24.0112\n",
      "Epoch 60/100\n",
      "\u001b[1m8/8\u001b[0m \u001b[32m━━━━━━━━━━━━━━━━━━━━\u001b[0m\u001b[37m\u001b[0m \u001b[1m0s\u001b[0m 7ms/step - loss: 23.8958 - val_loss: 23.7600\n",
      "Epoch 61/100\n",
      "\u001b[1m8/8\u001b[0m \u001b[32m━━━━━━━━━━━━━━━━━━━━\u001b[0m\u001b[37m\u001b[0m \u001b[1m0s\u001b[0m 11ms/step - loss: 24.5220 - val_loss: 23.8834\n",
      "Epoch 62/100\n",
      "\u001b[1m8/8\u001b[0m \u001b[32m━━━━━━━━━━━━━━━━━━━━\u001b[0m\u001b[37m\u001b[0m \u001b[1m0s\u001b[0m 9ms/step - loss: 25.8779 - val_loss: 24.2287\n",
      "Epoch 63/100\n",
      "\u001b[1m8/8\u001b[0m \u001b[32m━━━━━━━━━━━━━━━━━━━━\u001b[0m\u001b[37m\u001b[0m \u001b[1m0s\u001b[0m 10ms/step - loss: 24.8044 - val_loss: 23.8215\n",
      "Epoch 64/100\n",
      "\u001b[1m8/8\u001b[0m \u001b[32m━━━━━━━━━━━━━━━━━━━━\u001b[0m\u001b[37m\u001b[0m \u001b[1m0s\u001b[0m 7ms/step - loss: 25.0684 - val_loss: 23.9473\n",
      "Epoch 65/100\n",
      "\u001b[1m8/8\u001b[0m \u001b[32m━━━━━━━━━━━━━━━━━━━━\u001b[0m\u001b[37m\u001b[0m \u001b[1m0s\u001b[0m 7ms/step - loss: 25.9253 - val_loss: 23.6959\n",
      "Epoch 66/100\n",
      "\u001b[1m8/8\u001b[0m \u001b[32m━━━━━━━━━━━━━━━━━━━━\u001b[0m\u001b[37m\u001b[0m \u001b[1m0s\u001b[0m 6ms/step - loss: 26.6223 - val_loss: 23.9433\n",
      "Epoch 67/100\n",
      "\u001b[1m8/8\u001b[0m \u001b[32m━━━━━━━━━━━━━━━━━━━━\u001b[0m\u001b[37m\u001b[0m \u001b[1m0s\u001b[0m 7ms/step - loss: 24.3152 - val_loss: 23.8538\n",
      "Epoch 68/100\n",
      "\u001b[1m8/8\u001b[0m \u001b[32m━━━━━━━━━━━━━━━━━━━━\u001b[0m\u001b[37m\u001b[0m \u001b[1m0s\u001b[0m 6ms/step - loss: 25.6742 - val_loss: 23.7528\n",
      "Epoch 69/100\n",
      "\u001b[1m8/8\u001b[0m \u001b[32m━━━━━━━━━━━━━━━━━━━━\u001b[0m\u001b[37m\u001b[0m \u001b[1m0s\u001b[0m 8ms/step - loss: 23.6627 - val_loss: 24.1521\n",
      "Epoch 70/100\n",
      "\u001b[1m8/8\u001b[0m \u001b[32m━━━━━━━━━━━━━━━━━━━━\u001b[0m\u001b[37m\u001b[0m \u001b[1m0s\u001b[0m 9ms/step - loss: 23.3420 - val_loss: 23.9746\n",
      "Epoch 71/100\n",
      "\u001b[1m8/8\u001b[0m \u001b[32m━━━━━━━━━━━━━━━━━━━━\u001b[0m\u001b[37m\u001b[0m \u001b[1m0s\u001b[0m 6ms/step - loss: 23.3356 - val_loss: 24.0038\n",
      "Epoch 72/100\n",
      "\u001b[1m8/8\u001b[0m \u001b[32m━━━━━━━━━━━━━━━━━━━━\u001b[0m\u001b[37m\u001b[0m \u001b[1m0s\u001b[0m 8ms/step - loss: 22.1159 - val_loss: 23.8249\n",
      "Epoch 73/100\n",
      "\u001b[1m8/8\u001b[0m \u001b[32m━━━━━━━━━━━━━━━━━━━━\u001b[0m\u001b[37m\u001b[0m \u001b[1m0s\u001b[0m 7ms/step - loss: 23.6349 - val_loss: 23.7321\n",
      "Epoch 74/100\n",
      "\u001b[1m8/8\u001b[0m \u001b[32m━━━━━━━━━━━━━━━━━━━━\u001b[0m\u001b[37m\u001b[0m \u001b[1m0s\u001b[0m 9ms/step - loss: 26.0566 - val_loss: 23.7242\n",
      "Epoch 75/100\n",
      "\u001b[1m8/8\u001b[0m \u001b[32m━━━━━━━━━━━━━━━━━━━━\u001b[0m\u001b[37m\u001b[0m \u001b[1m0s\u001b[0m 7ms/step - loss: 24.2276 - val_loss: 23.8071\n",
      "Epoch 76/100\n",
      "\u001b[1m8/8\u001b[0m \u001b[32m━━━━━━━━━━━━━━━━━━━━\u001b[0m\u001b[37m\u001b[0m \u001b[1m0s\u001b[0m 9ms/step - loss: 22.4309 - val_loss: 23.9935\n",
      "Epoch 77/100\n",
      "\u001b[1m8/8\u001b[0m \u001b[32m━━━━━━━━━━━━━━━━━━━━\u001b[0m\u001b[37m\u001b[0m \u001b[1m0s\u001b[0m 9ms/step - loss: 26.2424 - val_loss: 23.8597\n",
      "Epoch 78/100\n",
      "\u001b[1m8/8\u001b[0m \u001b[32m━━━━━━━━━━━━━━━━━━━━\u001b[0m\u001b[37m\u001b[0m \u001b[1m0s\u001b[0m 8ms/step - loss: 27.1913 - val_loss: 24.2366\n",
      "Epoch 79/100\n",
      "\u001b[1m8/8\u001b[0m \u001b[32m━━━━━━━━━━━━━━━━━━━━\u001b[0m\u001b[37m\u001b[0m \u001b[1m0s\u001b[0m 7ms/step - loss: 26.9138 - val_loss: 23.9761\n",
      "Epoch 80/100\n",
      "\u001b[1m8/8\u001b[0m \u001b[32m━━━━━━━━━━━━━━━━━━━━\u001b[0m\u001b[37m\u001b[0m \u001b[1m0s\u001b[0m 6ms/step - loss: 27.7772 - val_loss: 24.2143\n",
      "Epoch 81/100\n",
      "\u001b[1m8/8\u001b[0m \u001b[32m━━━━━━━━━━━━━━━━━━━━\u001b[0m\u001b[37m\u001b[0m \u001b[1m0s\u001b[0m 10ms/step - loss: 28.7281 - val_loss: 24.2515\n",
      "Epoch 82/100\n",
      "\u001b[1m8/8\u001b[0m \u001b[32m━━━━━━━━━━━━━━━━━━━━\u001b[0m\u001b[37m\u001b[0m \u001b[1m0s\u001b[0m 11ms/step - loss: 24.1248 - val_loss: 23.9953\n",
      "Epoch 83/100\n",
      "\u001b[1m8/8\u001b[0m \u001b[32m━━━━━━━━━━━━━━━━━━━━\u001b[0m\u001b[37m\u001b[0m \u001b[1m0s\u001b[0m 13ms/step - loss: 24.7585 - val_loss: 23.8997\n",
      "Epoch 84/100\n",
      "\u001b[1m8/8\u001b[0m \u001b[32m━━━━━━━━━━━━━━━━━━━━\u001b[0m\u001b[37m\u001b[0m \u001b[1m0s\u001b[0m 13ms/step - loss: 26.0524 - val_loss: 23.9800\n",
      "Epoch 85/100\n",
      "\u001b[1m8/8\u001b[0m \u001b[32m━━━━━━━━━━━━━━━━━━━━\u001b[0m\u001b[37m\u001b[0m \u001b[1m0s\u001b[0m 17ms/step - loss: 23.6946 - val_loss: 23.8194\n",
      "Epoch 86/100\n",
      "\u001b[1m8/8\u001b[0m \u001b[32m━━━━━━━━━━━━━━━━━━━━\u001b[0m\u001b[37m\u001b[0m \u001b[1m0s\u001b[0m 10ms/step - loss: 25.0934 - val_loss: 23.7156\n",
      "Epoch 87/100\n",
      "\u001b[1m8/8\u001b[0m \u001b[32m━━━━━━━━━━━━━━━━━━━━\u001b[0m\u001b[37m\u001b[0m \u001b[1m0s\u001b[0m 12ms/step - loss: 24.6870 - val_loss: 23.9214\n",
      "Epoch 88/100\n",
      "\u001b[1m8/8\u001b[0m \u001b[32m━━━━━━━━━━━━━━━━━━━━\u001b[0m\u001b[37m\u001b[0m \u001b[1m0s\u001b[0m 11ms/step - loss: 22.6374 - val_loss: 23.9425\n",
      "Epoch 89/100\n",
      "\u001b[1m8/8\u001b[0m \u001b[32m━━━━━━━━━━━━━━━━━━━━\u001b[0m\u001b[37m\u001b[0m \u001b[1m0s\u001b[0m 12ms/step - loss: 26.4984 - val_loss: 24.0992\n",
      "Epoch 90/100\n",
      "\u001b[1m8/8\u001b[0m \u001b[32m━━━━━━━━━━━━━━━━━━━━\u001b[0m\u001b[37m\u001b[0m \u001b[1m0s\u001b[0m 13ms/step - loss: 25.9982 - val_loss: 23.6744\n",
      "Epoch 91/100\n",
      "\u001b[1m8/8\u001b[0m \u001b[32m━━━━━━━━━━━━━━━━━━━━\u001b[0m\u001b[37m\u001b[0m \u001b[1m0s\u001b[0m 12ms/step - loss: 24.8698 - val_loss: 23.7587\n",
      "Epoch 92/100\n",
      "\u001b[1m8/8\u001b[0m \u001b[32m━━━━━━━━━━━━━━━━━━━━\u001b[0m\u001b[37m\u001b[0m \u001b[1m0s\u001b[0m 13ms/step - loss: 25.7931 - val_loss: 23.9382\n",
      "Epoch 93/100\n",
      "\u001b[1m8/8\u001b[0m \u001b[32m━━━━━━━━━━━━━━━━━━━━\u001b[0m\u001b[37m\u001b[0m \u001b[1m0s\u001b[0m 16ms/step - loss: 25.9044 - val_loss: 23.8691\n",
      "Epoch 94/100\n",
      "\u001b[1m8/8\u001b[0m \u001b[32m━━━━━━━━━━━━━━━━━━━━\u001b[0m\u001b[37m\u001b[0m \u001b[1m0s\u001b[0m 13ms/step - loss: 24.0195 - val_loss: 23.8584\n",
      "Epoch 95/100\n",
      "\u001b[1m8/8\u001b[0m \u001b[32m━━━━━━━━━━━━━━━━━━━━\u001b[0m\u001b[37m\u001b[0m \u001b[1m0s\u001b[0m 15ms/step - loss: 24.6532 - val_loss: 23.9459\n",
      "Epoch 96/100\n",
      "\u001b[1m8/8\u001b[0m \u001b[32m━━━━━━━━━━━━━━━━━━━━\u001b[0m\u001b[37m\u001b[0m \u001b[1m0s\u001b[0m 13ms/step - loss: 25.9848 - val_loss: 23.7692\n",
      "Epoch 97/100\n",
      "\u001b[1m8/8\u001b[0m \u001b[32m━━━━━━━━━━━━━━━━━━━━\u001b[0m\u001b[37m\u001b[0m \u001b[1m0s\u001b[0m 12ms/step - loss: 23.3417 - val_loss: 23.8185\n",
      "Epoch 98/100\n",
      "\u001b[1m8/8\u001b[0m \u001b[32m━━━━━━━━━━━━━━━━━━━━\u001b[0m\u001b[37m\u001b[0m \u001b[1m0s\u001b[0m 9ms/step - loss: 24.0207 - val_loss: 24.1125\n",
      "Epoch 99/100\n",
      "\u001b[1m8/8\u001b[0m \u001b[32m━━━━━━━━━━━━━━━━━━━━\u001b[0m\u001b[37m\u001b[0m \u001b[1m0s\u001b[0m 7ms/step - loss: 25.3067 - val_loss: 24.0636\n",
      "Epoch 100/100\n",
      "\u001b[1m8/8\u001b[0m \u001b[32m━━━━━━━━━━━━━━━━━━━━\u001b[0m\u001b[37m\u001b[0m \u001b[1m0s\u001b[0m 8ms/step - loss: 24.9873 - val_loss: 23.8094\n",
      "CPU times: user 10.3 s, sys: 441 ms, total: 10.7 s\n",
      "Wall time: 18.5 s\n"
     ]
    }
   ],
   "source": [
    "%%time\n",
    "history = horsepower_model.fit(\n",
    "    train_features['Horsepower'],\n",
    "    train_labels,\n",
    "    epochs=100,\n",
    "    # Suppress logging.\n",
    "    verbose=1,\n",
    "    # Calculate validation results on 20% of the training data.\n",
    "    validation_split = 0.2)"
   ]
  },
  {
   "cell_type": "markdown",
   "metadata": {
    "id": "tQm3pc0FYPQB"
   },
   "source": [
    "* Visualizamos el progreso del entrenamiento usando las estadísticas guardadas en el objeto `history`:"
   ]
  },
  {
   "cell_type": "code",
   "execution_count": null,
   "metadata": {
    "colab": {
     "base_uri": "https://localhost:8080/",
     "height": 206
    },
    "executionInfo": {
     "elapsed": 299,
     "status": "ok",
     "timestamp": 1724344405662,
     "user": {
      "displayName": "Juan Pablo Meneses Casanova",
      "userId": "14128096026203214905"
     },
     "user_tz": 240
    },
    "id": "YCAwD_y4AdC3",
    "outputId": "a233c76c-10ca-44e6-c514-f9c9e4441a84"
   },
   "outputs": [
    {
     "data": {
      "application/vnd.google.colaboratory.intrinsic+json": {
       "summary": "{\n  \"name\": \"hist\",\n  \"rows\": 5,\n  \"fields\": [\n    {\n      \"column\": \"loss\",\n      \"properties\": {\n        \"dtype\": \"number\",\n        \"std\": 0.07300315255441227,\n        \"min\": 25.082828521728516,\n        \"max\": 25.266828536987305,\n        \"num_unique_values\": 5,\n        \"samples\": [\n          25.222206115722656,\n          25.266828536987305,\n          25.082828521728516\n        ],\n        \"semantic_type\": \"\",\n        \"description\": \"\"\n      }\n    },\n    {\n      \"column\": \"val_loss\",\n      \"properties\": {\n        \"dtype\": \"number\",\n        \"std\": 0.160293409044683,\n        \"min\": 23.769248962402344,\n        \"max\": 24.112451553344727,\n        \"num_unique_values\": 5,\n        \"samples\": [\n          23.818471908569336,\n          23.809370040893555,\n          24.112451553344727\n        ],\n        \"semantic_type\": \"\",\n        \"description\": \"\"\n      }\n    },\n    {\n      \"column\": \"epoch\",\n      \"properties\": {\n        \"dtype\": \"number\",\n        \"std\": 1,\n        \"min\": 95,\n        \"max\": 99,\n        \"num_unique_values\": 5,\n        \"samples\": [\n          96,\n          99,\n          97\n        ],\n        \"semantic_type\": \"\",\n        \"description\": \"\"\n      }\n    }\n  ]\n}",
       "type": "dataframe"
      },
      "text/html": [
       "\n",
       "  <div id=\"df-4d00b35d-3066-49c6-9bf8-5e9471878bfe\" class=\"colab-df-container\">\n",
       "    <div>\n",
       "<style scoped>\n",
       "    .dataframe tbody tr th:only-of-type {\n",
       "        vertical-align: middle;\n",
       "    }\n",
       "\n",
       "    .dataframe tbody tr th {\n",
       "        vertical-align: top;\n",
       "    }\n",
       "\n",
       "    .dataframe thead th {\n",
       "        text-align: right;\n",
       "    }\n",
       "</style>\n",
       "<table border=\"1\" class=\"dataframe\">\n",
       "  <thead>\n",
       "    <tr style=\"text-align: right;\">\n",
       "      <th></th>\n",
       "      <th>loss</th>\n",
       "      <th>val_loss</th>\n",
       "      <th>epoch</th>\n",
       "    </tr>\n",
       "  </thead>\n",
       "  <tbody>\n",
       "    <tr>\n",
       "      <th>95</th>\n",
       "      <td>25.239372</td>\n",
       "      <td>23.769249</td>\n",
       "      <td>95</td>\n",
       "    </tr>\n",
       "    <tr>\n",
       "      <th>96</th>\n",
       "      <td>25.222206</td>\n",
       "      <td>23.818472</td>\n",
       "      <td>96</td>\n",
       "    </tr>\n",
       "    <tr>\n",
       "      <th>97</th>\n",
       "      <td>25.082829</td>\n",
       "      <td>24.112452</td>\n",
       "      <td>97</td>\n",
       "    </tr>\n",
       "    <tr>\n",
       "      <th>98</th>\n",
       "      <td>25.165545</td>\n",
       "      <td>24.063562</td>\n",
       "      <td>98</td>\n",
       "    </tr>\n",
       "    <tr>\n",
       "      <th>99</th>\n",
       "      <td>25.266829</td>\n",
       "      <td>23.809370</td>\n",
       "      <td>99</td>\n",
       "    </tr>\n",
       "  </tbody>\n",
       "</table>\n",
       "</div>\n",
       "    <div class=\"colab-df-buttons\">\n",
       "\n",
       "  <div class=\"colab-df-container\">\n",
       "    <button class=\"colab-df-convert\" onclick=\"convertToInteractive('df-4d00b35d-3066-49c6-9bf8-5e9471878bfe')\"\n",
       "            title=\"Convert this dataframe to an interactive table.\"\n",
       "            style=\"display:none;\">\n",
       "\n",
       "  <svg xmlns=\"http://www.w3.org/2000/svg\" height=\"24px\" viewBox=\"0 -960 960 960\">\n",
       "    <path d=\"M120-120v-720h720v720H120Zm60-500h600v-160H180v160Zm220 220h160v-160H400v160Zm0 220h160v-160H400v160ZM180-400h160v-160H180v160Zm440 0h160v-160H620v160ZM180-180h160v-160H180v160Zm440 0h160v-160H620v160Z\"/>\n",
       "  </svg>\n",
       "    </button>\n",
       "\n",
       "  <style>\n",
       "    .colab-df-container {\n",
       "      display:flex;\n",
       "      gap: 12px;\n",
       "    }\n",
       "\n",
       "    .colab-df-convert {\n",
       "      background-color: #E8F0FE;\n",
       "      border: none;\n",
       "      border-radius: 50%;\n",
       "      cursor: pointer;\n",
       "      display: none;\n",
       "      fill: #1967D2;\n",
       "      height: 32px;\n",
       "      padding: 0 0 0 0;\n",
       "      width: 32px;\n",
       "    }\n",
       "\n",
       "    .colab-df-convert:hover {\n",
       "      background-color: #E2EBFA;\n",
       "      box-shadow: 0px 1px 2px rgba(60, 64, 67, 0.3), 0px 1px 3px 1px rgba(60, 64, 67, 0.15);\n",
       "      fill: #174EA6;\n",
       "    }\n",
       "\n",
       "    .colab-df-buttons div {\n",
       "      margin-bottom: 4px;\n",
       "    }\n",
       "\n",
       "    [theme=dark] .colab-df-convert {\n",
       "      background-color: #3B4455;\n",
       "      fill: #D2E3FC;\n",
       "    }\n",
       "\n",
       "    [theme=dark] .colab-df-convert:hover {\n",
       "      background-color: #434B5C;\n",
       "      box-shadow: 0px 1px 3px 1px rgba(0, 0, 0, 0.15);\n",
       "      filter: drop-shadow(0px 1px 2px rgba(0, 0, 0, 0.3));\n",
       "      fill: #FFFFFF;\n",
       "    }\n",
       "  </style>\n",
       "\n",
       "    <script>\n",
       "      const buttonEl =\n",
       "        document.querySelector('#df-4d00b35d-3066-49c6-9bf8-5e9471878bfe button.colab-df-convert');\n",
       "      buttonEl.style.display =\n",
       "        google.colab.kernel.accessAllowed ? 'block' : 'none';\n",
       "\n",
       "      async function convertToInteractive(key) {\n",
       "        const element = document.querySelector('#df-4d00b35d-3066-49c6-9bf8-5e9471878bfe');\n",
       "        const dataTable =\n",
       "          await google.colab.kernel.invokeFunction('convertToInteractive',\n",
       "                                                    [key], {});\n",
       "        if (!dataTable) return;\n",
       "\n",
       "        const docLinkHtml = 'Like what you see? Visit the ' +\n",
       "          '<a target=\"_blank\" href=https://colab.research.google.com/notebooks/data_table.ipynb>data table notebook</a>'\n",
       "          + ' to learn more about interactive tables.';\n",
       "        element.innerHTML = '';\n",
       "        dataTable['output_type'] = 'display_data';\n",
       "        await google.colab.output.renderOutput(dataTable, element);\n",
       "        const docLink = document.createElement('div');\n",
       "        docLink.innerHTML = docLinkHtml;\n",
       "        element.appendChild(docLink);\n",
       "      }\n",
       "    </script>\n",
       "  </div>\n",
       "\n",
       "\n",
       "<div id=\"df-b8c5cc0b-3ad7-4535-b60c-5f7b612828ec\">\n",
       "  <button class=\"colab-df-quickchart\" onclick=\"quickchart('df-b8c5cc0b-3ad7-4535-b60c-5f7b612828ec')\"\n",
       "            title=\"Suggest charts\"\n",
       "            style=\"display:none;\">\n",
       "\n",
       "<svg xmlns=\"http://www.w3.org/2000/svg\" height=\"24px\"viewBox=\"0 0 24 24\"\n",
       "     width=\"24px\">\n",
       "    <g>\n",
       "        <path d=\"M19 3H5c-1.1 0-2 .9-2 2v14c0 1.1.9 2 2 2h14c1.1 0 2-.9 2-2V5c0-1.1-.9-2-2-2zM9 17H7v-7h2v7zm4 0h-2V7h2v10zm4 0h-2v-4h2v4z\"/>\n",
       "    </g>\n",
       "</svg>\n",
       "  </button>\n",
       "\n",
       "<style>\n",
       "  .colab-df-quickchart {\n",
       "      --bg-color: #E8F0FE;\n",
       "      --fill-color: #1967D2;\n",
       "      --hover-bg-color: #E2EBFA;\n",
       "      --hover-fill-color: #174EA6;\n",
       "      --disabled-fill-color: #AAA;\n",
       "      --disabled-bg-color: #DDD;\n",
       "  }\n",
       "\n",
       "  [theme=dark] .colab-df-quickchart {\n",
       "      --bg-color: #3B4455;\n",
       "      --fill-color: #D2E3FC;\n",
       "      --hover-bg-color: #434B5C;\n",
       "      --hover-fill-color: #FFFFFF;\n",
       "      --disabled-bg-color: #3B4455;\n",
       "      --disabled-fill-color: #666;\n",
       "  }\n",
       "\n",
       "  .colab-df-quickchart {\n",
       "    background-color: var(--bg-color);\n",
       "    border: none;\n",
       "    border-radius: 50%;\n",
       "    cursor: pointer;\n",
       "    display: none;\n",
       "    fill: var(--fill-color);\n",
       "    height: 32px;\n",
       "    padding: 0;\n",
       "    width: 32px;\n",
       "  }\n",
       "\n",
       "  .colab-df-quickchart:hover {\n",
       "    background-color: var(--hover-bg-color);\n",
       "    box-shadow: 0 1px 2px rgba(60, 64, 67, 0.3), 0 1px 3px 1px rgba(60, 64, 67, 0.15);\n",
       "    fill: var(--button-hover-fill-color);\n",
       "  }\n",
       "\n",
       "  .colab-df-quickchart-complete:disabled,\n",
       "  .colab-df-quickchart-complete:disabled:hover {\n",
       "    background-color: var(--disabled-bg-color);\n",
       "    fill: var(--disabled-fill-color);\n",
       "    box-shadow: none;\n",
       "  }\n",
       "\n",
       "  .colab-df-spinner {\n",
       "    border: 2px solid var(--fill-color);\n",
       "    border-color: transparent;\n",
       "    border-bottom-color: var(--fill-color);\n",
       "    animation:\n",
       "      spin 1s steps(1) infinite;\n",
       "  }\n",
       "\n",
       "  @keyframes spin {\n",
       "    0% {\n",
       "      border-color: transparent;\n",
       "      border-bottom-color: var(--fill-color);\n",
       "      border-left-color: var(--fill-color);\n",
       "    }\n",
       "    20% {\n",
       "      border-color: transparent;\n",
       "      border-left-color: var(--fill-color);\n",
       "      border-top-color: var(--fill-color);\n",
       "    }\n",
       "    30% {\n",
       "      border-color: transparent;\n",
       "      border-left-color: var(--fill-color);\n",
       "      border-top-color: var(--fill-color);\n",
       "      border-right-color: var(--fill-color);\n",
       "    }\n",
       "    40% {\n",
       "      border-color: transparent;\n",
       "      border-right-color: var(--fill-color);\n",
       "      border-top-color: var(--fill-color);\n",
       "    }\n",
       "    60% {\n",
       "      border-color: transparent;\n",
       "      border-right-color: var(--fill-color);\n",
       "    }\n",
       "    80% {\n",
       "      border-color: transparent;\n",
       "      border-right-color: var(--fill-color);\n",
       "      border-bottom-color: var(--fill-color);\n",
       "    }\n",
       "    90% {\n",
       "      border-color: transparent;\n",
       "      border-bottom-color: var(--fill-color);\n",
       "    }\n",
       "  }\n",
       "</style>\n",
       "\n",
       "  <script>\n",
       "    async function quickchart(key) {\n",
       "      const quickchartButtonEl =\n",
       "        document.querySelector('#' + key + ' button');\n",
       "      quickchartButtonEl.disabled = true;  // To prevent multiple clicks.\n",
       "      quickchartButtonEl.classList.add('colab-df-spinner');\n",
       "      try {\n",
       "        const charts = await google.colab.kernel.invokeFunction(\n",
       "            'suggestCharts', [key], {});\n",
       "      } catch (error) {\n",
       "        console.error('Error during call to suggestCharts:', error);\n",
       "      }\n",
       "      quickchartButtonEl.classList.remove('colab-df-spinner');\n",
       "      quickchartButtonEl.classList.add('colab-df-quickchart-complete');\n",
       "    }\n",
       "    (() => {\n",
       "      let quickchartButtonEl =\n",
       "        document.querySelector('#df-b8c5cc0b-3ad7-4535-b60c-5f7b612828ec button');\n",
       "      quickchartButtonEl.style.display =\n",
       "        google.colab.kernel.accessAllowed ? 'block' : 'none';\n",
       "    })();\n",
       "  </script>\n",
       "</div>\n",
       "\n",
       "    </div>\n",
       "  </div>\n"
      ],
      "text/plain": [
       "         loss   val_loss  epoch\n",
       "95  25.239372  23.769249     95\n",
       "96  25.222206  23.818472     96\n",
       "97  25.082829  24.112452     97\n",
       "98  25.165545  24.063562     98\n",
       "99  25.266829  23.809370     99"
      ]
     },
     "execution_count": 24,
     "metadata": {},
     "output_type": "execute_result"
    }
   ],
   "source": [
    "hist = pd.DataFrame(history.history)\n",
    "hist['epoch'] = history.epoch\n",
    "hist.tail()"
   ]
  },
  {
   "cell_type": "code",
   "execution_count": null,
   "metadata": {
    "id": "9E54UoZunqhc"
   },
   "outputs": [],
   "source": [
    "def plot_loss(history,y_max=100):\n",
    "  plt.plot(history.history['loss'], label='loss')\n",
    "  plt.plot(history.history['val_loss'], label='val_loss')\n",
    "  plt.ylim([0, y_max])\n",
    "  plt.xlabel('Epoch')\n",
    "  plt.ylabel('Error [MPG]')\n",
    "  plt.legend()\n",
    "  plt.grid(True)"
   ]
  },
  {
   "cell_type": "code",
   "execution_count": null,
   "metadata": {
    "colab": {
     "base_uri": "https://localhost:8080/",
     "height": 455
    },
    "executionInfo": {
     "elapsed": 1204,
     "status": "ok",
     "timestamp": 1724344467570,
     "user": {
      "displayName": "Juan Pablo Meneses Casanova",
      "userId": "14128096026203214905"
     },
     "user_tz": 240
    },
    "id": "yYsQYrIZyqjz",
    "outputId": "398fca48-4941-4be9-bd76-b15b9b95901b"
   },
   "outputs": [
    {
     "data": {
      "image/png": "[encoded data removed]",
      "text/plain": [
       "<Figure size 640x480 with 1 Axes>"
      ]
     },
     "metadata": {},
     "output_type": "display_data"
    }
   ],
   "source": [
    "plot_loss(history)"
   ]
  },
  {
   "cell_type": "markdown",
   "metadata": {
    "id": "CMNrt8X2ebXd"
   },
   "source": [
    "* Recolectamos los resultados obtenidos en el subset de testeo para más tarde:"
   ]
  },
  {
   "cell_type": "code",
   "execution_count": null,
   "metadata": {
    "id": "kDZ8EvNYrDtx"
   },
   "outputs": [],
   "source": [
    "test_results = {}\n",
    "\n",
    "test_results['horsepower_model'] = horsepower_model.evaluate(\n",
    "    test_features['Horsepower'],\n",
    "    test_labels, verbose=0)"
   ]
  },
  {
   "cell_type": "markdown",
   "metadata": {
    "id": "F0qutYAKwoda"
   },
   "source": [
    "* Ya que esta es una regresión uni-variable, es fácil ver las predicciones del modelo como una función del input:"
   ]
  },
  {
   "cell_type": "code",
   "execution_count": null,
   "metadata": {
    "colab": {
     "base_uri": "https://localhost:8080/"
    },
    "executionInfo": {
     "elapsed": 301,
     "status": "ok",
     "timestamp": 1724344657214,
     "user": {
      "displayName": "Juan Pablo Meneses Casanova",
      "userId": "14128096026203214905"
     },
     "user_tz": 240
    },
    "id": "xDS2JEtOn9Jn",
    "outputId": "bf78cf39-6549-4754-888b-0faf97bacab0"
   },
   "outputs": [
    {
     "name": "stdout",
     "output_type": "stream",
     "text": [
      "\u001b[1m8/8\u001b[0m \u001b[32m━━━━━━━━━━━━━━━━━━━━\u001b[0m\u001b[37m\u001b[0m \u001b[1m0s\u001b[0m 6ms/step \n"
     ]
    }
   ],
   "source": [
    "x = tf.linspace(0.0, 250, 251)\n",
    "y = horsepower_model.predict(x)"
   ]
  },
  {
   "cell_type": "code",
   "execution_count": null,
   "metadata": {
    "id": "rttFCTU8czsI"
   },
   "outputs": [],
   "source": [
    "def plot_horsepower(x, y):\n",
    "  plt.scatter(train_features['Horsepower'], train_labels, label='Data')\n",
    "  plt.plot(x, y, color='k', label='Predictions')\n",
    "  plt.xlabel('Horsepower')\n",
    "  plt.ylabel('MPG')\n",
    "  plt.legend()"
   ]
  },
  {
   "cell_type": "code",
   "execution_count": null,
   "metadata": {
    "colab": {
     "base_uri": "https://localhost:8080/",
     "height": 449
    },
    "executionInfo": {
     "elapsed": 471,
     "status": "ok",
     "timestamp": 1724344658685,
     "user": {
      "displayName": "Juan Pablo Meneses Casanova",
      "userId": "14128096026203214905"
     },
     "user_tz": 240
    },
    "id": "7l9ZiAOEUNBL",
    "outputId": "7659e6b4-a2f3-4773-a273-24d8650c6184"
   },
   "outputs": [
    {
     "data": {
      "image/png": "[encoded data removed]",
      "text/plain": [
       "<Figure size 640x480 with 1 Axes>"
      ]
     },
     "metadata": {},
     "output_type": "display_data"
    }
   ],
   "source": [
    "plot_horsepower(x, y)"
   ]
  },
  {
   "cell_type": "markdown",
   "metadata": {
    "id": "SmjdzxKzEu1-"
   },
   "source": [
    "<hr>\n",
    "\n",
    "\n",
    "### <a name=\"M38\">3.8. Resolución con red neuronal artificial uni-variable</a>\n",
    "\n",
    "* En esta sección implementaremos versiones uni-variable y multi-variable de redes neuronales artificiales para la predicción de la eficiencia del combustible.\n",
    "\n",
    "* El código es básicamente lo mismo, excepto que es expandido para incluir algunas capas \"escondidas\" y no lineales. Por \"escondidas\", hacemos referencia a operadores que no están directamente conectados con los inputs ni con los outputs.\n",
    "\n",
    "* Estas redes neuronales contendrán algunas capas más que el modelo lineal:\n",
    "\n",
    "  * La capa de normalización, al igual que en el modelo anterior (`horsepower_normalizer` para modelo uni-variable y `normalizer` para modelo multi-variable).\n",
    "  * Dos capas `Dense` escondidas y no lineales, con una función de activación ReLU (`relu`).\n",
    "  * Una capa lineal `Dense` con un único output.\n",
    "\n",
    "* Ambos modelos usarán el mismo procedimiento de entrenamiento que las regresiones lineales anteriores, por lo que el método `compile` está incluido en la función `build_and_compile_model`."
   ]
  },
  {
   "cell_type": "code",
   "execution_count": null,
   "metadata": {
    "id": "c26juK7ZG8j-"
   },
   "outputs": [],
   "source": [
    "def build_and_compile_model(norm):\n",
    "  model = keras.Sequential([\n",
    "      norm,\n",
    "      layers.Dense(64, activation='relu'),\n",
    "      layers.Dense(64, activation='relu'),\n",
    "      layers.Dense(1)\n",
    "  ])\n",
    "\n",
    "  model.compile(loss='mean_absolute_error',\n",
    "                optimizer=tf.keras.optimizers.Adam(0.001))\n",
    "  return model"
   ]
  },
  {
   "cell_type": "markdown",
   "metadata": {
    "id": "6c51caebbc0d"
   },
   "source": [
    "* Podemos ver, en primer lugar, tras compilar la versión uni-variable, que este modelo tiene más parámetros de entrenamiento que los modelos lineales:"
   ]
  },
  {
   "cell_type": "code",
   "execution_count": null,
   "metadata": {
    "colab": {
     "base_uri": "https://localhost:8080/",
     "height": 265
    },
    "executionInfo": {
     "elapsed": 332,
     "status": "ok",
     "timestamp": 1724344881080,
     "user": {
      "displayName": "Juan Pablo Meneses Casanova",
      "userId": "14128096026203214905"
     },
     "user_tz": 240
    },
    "id": "cGbPb-PHGbhs",
    "outputId": "eb37d590-0d80-41de-e65a-68c834747fe9"
   },
   "outputs": [
    {
     "data": {
      "text/html": [
       "<pre style=\"white-space:pre;overflow-x:auto;line-height:normal;font-family:Menlo,'DejaVu Sans Mono',consolas,'Courier New',monospace\"><span style=\"font-weight: bold\">Model: \"sequential_1\"</span>\n",
       "</pre>\n"
      ],
      "text/plain": [
       "\u001b[1mModel: \"sequential_1\"\u001b[0m\n"
      ]
     },
     "metadata": {},
     "output_type": "display_data"
    },
    {
     "data": {
      "text/html": [
       "<pre style=\"white-space:pre;overflow-x:auto;line-height:normal;font-family:Menlo,'DejaVu Sans Mono',consolas,'Courier New',monospace\">┏━━━━━━━━━━━━━━━━━━━━━━━━━━━━━━━━━━━━━━┳━━━━━━━━━━━━━━━━━━━━━━━━━━━━━┳━━━━━━━━━━━━━━━━━┓\n",
       "┃<span style=\"font-weight: bold\"> Layer (type)                         </span>┃<span style=\"font-weight: bold\"> Output Shape                </span>┃<span style=\"font-weight: bold\">         Param # </span>┃\n",
       "┡━━━━━━━━━━━━━━━━━━━━━━━━━━━━━━━━━━━━━━╇━━━━━━━━━━━━━━━━━━━━━━━━━━━━━╇━━━━━━━━━━━━━━━━━┩\n",
       "│ normalization_1 (<span style=\"color: #0087ff; text-decoration-color: #0087ff\">Normalization</span>)      │ (<span style=\"color: #00d7ff; text-decoration-color: #00d7ff\">None</span>, <span style=\"color: #00af00; text-decoration-color: #00af00\">1</span>)                   │               <span style=\"color: #00af00; text-decoration-color: #00af00\">3</span> │\n",
       "├──────────────────────────────────────┼─────────────────────────────┼─────────────────┤\n",
       "│ dense_1 (<span style=\"color: #0087ff; text-decoration-color: #0087ff\">Dense</span>)                      │ (<span style=\"color: #00d7ff; text-decoration-color: #00d7ff\">None</span>, <span style=\"color: #00af00; text-decoration-color: #00af00\">64</span>)                  │             <span style=\"color: #00af00; text-decoration-color: #00af00\">128</span> │\n",
       "├──────────────────────────────────────┼─────────────────────────────┼─────────────────┤\n",
       "│ dense_2 (<span style=\"color: #0087ff; text-decoration-color: #0087ff\">Dense</span>)                      │ (<span style=\"color: #00d7ff; text-decoration-color: #00d7ff\">None</span>, <span style=\"color: #00af00; text-decoration-color: #00af00\">64</span>)                  │           <span style=\"color: #00af00; text-decoration-color: #00af00\">4,160</span> │\n",
       "├──────────────────────────────────────┼─────────────────────────────┼─────────────────┤\n",
       "│ dense_3 (<span style=\"color: #0087ff; text-decoration-color: #0087ff\">Dense</span>)                      │ (<span style=\"color: #00d7ff; text-decoration-color: #00d7ff\">None</span>, <span style=\"color: #00af00; text-decoration-color: #00af00\">1</span>)                   │              <span style=\"color: #00af00; text-decoration-color: #00af00\">65</span> │\n",
       "└──────────────────────────────────────┴─────────────────────────────┴─────────────────┘\n",
       "</pre>\n"
      ],
      "text/plain": [
       "┏━━━━━━━━━━━━━━━━━━━━━━━━━━━━━━━━━━━━━━┳━━━━━━━━━━━━━━━━━━━━━━━━━━━━━┳━━━━━━━━━━━━━━━━━┓\n",
       "┃\u001b[1m \u001b[0m\u001b[1mLayer (type)                        \u001b[0m\u001b[1m \u001b[0m┃\u001b[1m \u001b[0m\u001b[1mOutput Shape               \u001b[0m\u001b[1m \u001b[0m┃\u001b[1m \u001b[0m\u001b[1m        Param #\u001b[0m\u001b[1m \u001b[0m┃\n",
       "┡━━━━━━━━━━━━━━━━━━━━━━━━━━━━━━━━━━━━━━╇━━━━━━━━━━━━━━━━━━━━━━━━━━━━━╇━━━━━━━━━━━━━━━━━┩\n",
       "│ normalization_1 (\u001b[38;5;33mNormalization\u001b[0m)      │ (\u001b[38;5;45mNone\u001b[0m, \u001b[38;5;34m1\u001b[0m)                   │               \u001b[38;5;34m3\u001b[0m │\n",
       "├──────────────────────────────────────┼─────────────────────────────┼─────────────────┤\n",
       "│ dense_1 (\u001b[38;5;33mDense\u001b[0m)                      │ (\u001b[38;5;45mNone\u001b[0m, \u001b[38;5;34m64\u001b[0m)                  │             \u001b[38;5;34m128\u001b[0m │\n",
       "├──────────────────────────────────────┼─────────────────────────────┼─────────────────┤\n",
       "│ dense_2 (\u001b[38;5;33mDense\u001b[0m)                      │ (\u001b[38;5;45mNone\u001b[0m, \u001b[38;5;34m64\u001b[0m)                  │           \u001b[38;5;34m4,160\u001b[0m │\n",
       "├──────────────────────────────────────┼─────────────────────────────┼─────────────────┤\n",
       "│ dense_3 (\u001b[38;5;33mDense\u001b[0m)                      │ (\u001b[38;5;45mNone\u001b[0m, \u001b[38;5;34m1\u001b[0m)                   │              \u001b[38;5;34m65\u001b[0m │\n",
       "└──────────────────────────────────────┴─────────────────────────────┴─────────────────┘\n"
      ]
     },
     "metadata": {},
     "output_type": "display_data"
    },
    {
     "data": {
      "text/html": [
       "<pre style=\"white-space:pre;overflow-x:auto;line-height:normal;font-family:Menlo,'DejaVu Sans Mono',consolas,'Courier New',monospace\"><span style=\"font-weight: bold\"> Total params: </span><span style=\"color: #00af00; text-decoration-color: #00af00\">4,356</span> (17.02 KB)\n",
       "</pre>\n"
      ],
      "text/plain": [
       "\u001b[1m Total params: \u001b[0m\u001b[38;5;34m4,356\u001b[0m (17.02 KB)\n"
      ]
     },
     "metadata": {},
     "output_type": "display_data"
    },
    {
     "data": {
      "text/html": [
       "<pre style=\"white-space:pre;overflow-x:auto;line-height:normal;font-family:Menlo,'DejaVu Sans Mono',consolas,'Courier New',monospace\"><span style=\"font-weight: bold\"> Trainable params: </span><span style=\"color: #00af00; text-decoration-color: #00af00\">4,353</span> (17.00 KB)\n",
       "</pre>\n"
      ],
      "text/plain": [
       "\u001b[1m Trainable params: \u001b[0m\u001b[38;5;34m4,353\u001b[0m (17.00 KB)\n"
      ]
     },
     "metadata": {},
     "output_type": "display_data"
    },
    {
     "data": {
      "text/html": [
       "<pre style=\"white-space:pre;overflow-x:auto;line-height:normal;font-family:Menlo,'DejaVu Sans Mono',consolas,'Courier New',monospace\"><span style=\"font-weight: bold\"> Non-trainable params: </span><span style=\"color: #00af00; text-decoration-color: #00af00\">3</span> (16.00 B)\n",
       "</pre>\n"
      ],
      "text/plain": [
       "\u001b[1m Non-trainable params: \u001b[0m\u001b[38;5;34m3\u001b[0m (16.00 B)\n"
      ]
     },
     "metadata": {},
     "output_type": "display_data"
    }
   ],
   "source": [
    "dnn_horsepower_model = build_and_compile_model(horsepower_normalizer)\n",
    "\n",
    "dnn_horsepower_model.summary()"
   ]
  },
  {
   "cell_type": "markdown",
   "metadata": {
    "id": "0-qWCsh6DlyH"
   },
   "source": [
    "* Entrenamos el modelo uni-variable con la función de Keras `Model.fit`:"
   ]
  },
  {
   "cell_type": "code",
   "execution_count": null,
   "metadata": {
    "colab": {
     "base_uri": "https://localhost:8080/"
    },
    "executionInfo": {
     "elapsed": 11780,
     "status": "ok",
     "timestamp": 1724345079459,
     "user": {
      "displayName": "Juan Pablo Meneses Casanova",
      "userId": "14128096026203214905"
     },
     "user_tz": 240
    },
    "id": "sD7qHCmNIOY0",
    "outputId": "e76526a7-f048-4339-e25c-31eba7abf350"
   },
   "outputs": [
    {
     "name": "stdout",
     "output_type": "stream",
     "text": [
      "CPU times: user 8.78 s, sys: 340 ms, total: 9.12 s\n",
      "Wall time: 11.4 s\n"
     ]
    }
   ],
   "source": [
    "%%time\n",
    "history = dnn_horsepower_model.fit(\n",
    "    train_features['Horsepower'],\n",
    "    train_labels,\n",
    "    validation_split=0.2,\n",
    "    verbose=0, epochs=100)"
   ]
  },
  {
   "cell_type": "markdown",
   "metadata": {
    "id": "dArGGxHxcKjN"
   },
   "source": [
    "* Y notamos que este modelo converge levemente mejor que el modelo lineal uni-variable `horsepower_model`:"
   ]
  },
  {
   "cell_type": "code",
   "execution_count": null,
   "metadata": {
    "colab": {
     "base_uri": "https://localhost:8080/",
     "height": 455
    },
    "executionInfo": {
     "elapsed": 1555,
     "status": "ok",
     "timestamp": 1724345138838,
     "user": {
      "displayName": "Juan Pablo Meneses Casanova",
      "userId": "14128096026203214905"
     },
     "user_tz": 240
    },
    "id": "NcF6UWjdCU8T",
    "outputId": "9aea7dd5-253b-4d13-da66-10bd9fccead6"
   },
   "outputs": [
    {
     "data": {
      "image/png": "[encoded data removed]",
      "text/plain": [
       "<Figure size 640x480 with 1 Axes>"
      ]
     },
     "metadata": {},
     "output_type": "display_data"
    }
   ],
   "source": [
    "plot_loss(history, y_max=30)"
   ]
  },
  {
   "cell_type": "markdown",
   "metadata": {
    "id": "TG1snlpR2QCK"
   },
   "source": [
    "* Si graficamos las predicciones como una función de la característica `'Horsepower'`, notamos que este modelo aprovecha la no-linealidad otorgada por las capas no lineales y la función de activación:"
   ]
  },
  {
   "cell_type": "code",
   "execution_count": null,
   "metadata": {
    "colab": {
     "base_uri": "https://localhost:8080/"
    },
    "executionInfo": {
     "elapsed": 760,
     "status": "ok",
     "timestamp": 1724345215704,
     "user": {
      "displayName": "Juan Pablo Meneses Casanova",
      "userId": "14128096026203214905"
     },
     "user_tz": 240
    },
    "id": "hPF53Rem14NS",
    "outputId": "07943744-7db2-47a1-95e5-b7aa1cd92e04"
   },
   "outputs": [
    {
     "name": "stdout",
     "output_type": "stream",
     "text": [
      "\u001b[1m8/8\u001b[0m \u001b[32m━━━━━━━━━━━━━━━━━━━━\u001b[0m\u001b[37m\u001b[0m \u001b[1m0s\u001b[0m 11ms/step\n"
     ]
    }
   ],
   "source": [
    "x = tf.linspace(0.0, 250, 251)\n",
    "y = dnn_horsepower_model.predict(x)"
   ]
  },
  {
   "cell_type": "code",
   "execution_count": null,
   "metadata": {
    "colab": {
     "base_uri": "https://localhost:8080/",
     "height": 449
    },
    "executionInfo": {
     "elapsed": 464,
     "status": "ok",
     "timestamp": 1724345217405,
     "user": {
      "displayName": "Juan Pablo Meneses Casanova",
      "userId": "14128096026203214905"
     },
     "user_tz": 240
    },
    "id": "rsf9rD8I17Wq",
    "outputId": "045c63d6-1d11-4860-fdac-b07f2efebac1"
   },
   "outputs": [
    {
     "data": {
      "image/png": "[encoded data removed]",
      "text/plain": [
       "<Figure size 640x480 with 1 Axes>"
      ]
     },
     "metadata": {},
     "output_type": "display_data"
    }
   ],
   "source": [
    "plot_horsepower(x, y)"
   ]
  },
  {
   "cell_type": "markdown",
   "metadata": {
    "id": "WxCJKIUpe4io"
   },
   "source": [
    "* Guardamos los resultados para analizarlos más tarde:"
   ]
  },
  {
   "cell_type": "code",
   "execution_count": null,
   "metadata": {
    "id": "bJjM0dU52XtN"
   },
   "outputs": [],
   "source": [
    "test_results['dnn_horsepower_model'] = dnn_horsepower_model.evaluate(\n",
    "    test_features['Horsepower'], test_labels,\n",
    "    verbose=0)"
   ]
  }
 ],
 "metadata": {
  "colab": {
   "collapsed_sections": [
    "SmjdzxKzEu1-"
   ],
   "provenance": [],
   "toc_visible": true
  },
  "kernelspec": {
   "display_name": "Python 3",
   "name": "python3"
  }
 },
 "nbformat": 4,
 "nbformat_minor": 0
}
